{
  "cells": [
    {
      "cell_type": "markdown",
      "metadata": {
        "id": "4Ei81_Y2j3cg"
      },
      "source": [
        "# Symbolic representation"
      ]
    },
    {
      "cell_type": "markdown",
      "metadata": {
        "id": "-hAn_rDVj7Fh"
      },
      "source": [
        "## Example of WordNet"
      ]
    },
    {
      "cell_type": "code",
      "execution_count": 1,
      "metadata": {
        "colab": {
          "base_uri": "https://localhost:8080/"
        },
        "id": "fZR0rq1HMRmu",
        "outputId": "c6d6953c-9d65-4729-b369-27e66f971896"
      },
      "outputs": [
        {
          "name": "stderr",
          "output_type": "stream",
          "text": [
            "[nltk_data] Downloading package wordnet to\n",
            "[nltk_data]     C:\\Users\\Renan\\AppData\\Roaming\\nltk_data...\n",
            "[nltk_data] Downloading package omw-1.4 to\n",
            "[nltk_data]     C:\\Users\\Renan\\AppData\\Roaming\\nltk_data...\n"
          ]
        }
      ],
      "source": [
        "import nltk\n",
        "# download wordnet\n",
        "nltk.download('wordnet')\n",
        "nltk.download('omw-1.4')\n",
        "from nltk.corpus import wordnet\n",
        "from textblob import Word\n",
        "import networkx as nx\n",
        "import matplotlib.pyplot as plt\n",
        "\n",
        "import pandas as pd\n",
        "import numpy as np\n",
        "from numpy.linalg import norm"
      ]
    },
    {
      "cell_type": "code",
      "execution_count": 2,
      "metadata": {
        "colab": {
          "base_uri": "https://localhost:8080/"
        },
        "id": "f_suyAguaCFN",
        "outputId": "4cdf46da-85fd-45fe-fc41-423fbc13b7ee"
      },
      "outputs": [
        {
          "name": "stdout",
          "output_type": "stream",
          "text": [
            "cat.n.01  :  feline mammal usually having thick soft fur and no ability to roar: domestic cats; wildcats\n",
            "guy.n.01  :  an informal term for a youth or man\n",
            "cat.n.03  :  a spiteful woman gossip\n",
            "kat.n.01  :  the leaves of the shrub Catha edulis which are chewed like tobacco or used to make tea; has the effect of a euphoric stimulant\n",
            "cat-o'-nine-tails.n.01  :  a whip with nine knotted cords\n",
            "caterpillar.n.02  :  a large tracked vehicle that is propelled by two endless metal belts; frequently used for moving earth in construction and farm work\n",
            "big_cat.n.01  :  any of several large cats typically able to roar and living in the wild\n",
            "computerized_tomography.n.01  :  a method of examining body organs by scanning them with X rays and using a computer to construct a series of cross-sectional scans along a single axis\n",
            "cat.v.01  :  beat with a cat-o'-nine-tails\n",
            "vomit.v.01  :  eject the contents of the stomach through the mouth\n"
          ]
        }
      ],
      "source": [
        "# definition of word\n",
        "for l in wordnet.synsets('cat'):\n",
        "  print(l.name(), ' : ' ,wordnet.synset(l.name()).definition())"
      ]
    },
    {
      "cell_type": "code",
      "execution_count": 17,
      "metadata": {
        "colab": {
          "base_uri": "https://localhost:8080/"
        },
        "id": "8SEAgpW-U0bH",
        "outputId": "a72b54ef-8035-466d-9a9a-8ac83dbcb393"
      },
      "outputs": [
        {
          "name": "stdout",
          "output_type": "stream",
          "text": [
            "parent of word : [Synset('feline.n.01')]\n",
            "children of word : [Synset('domestic_cat.n.01'), Synset('wildcat.n.03')]\n"
          ]
        }
      ],
      "source": [
        "# hyper and pyponym\n",
        "print(\"parent of word :\", wordnet.synset('cat.n.01').hypernyms())\n",
        "print(\"children of word :\", wordnet.synset('cat.n.01').hyponyms())"
      ]
    },
    {
      "cell_type": "code",
      "execution_count": 18,
      "metadata": {
        "colab": {
          "base_uri": "https://localhost:8080/",
          "height": 373
        },
        "id": "SMW7hXa1PKsK",
        "outputId": "c889276e-9bb3-464b-df38-876d3350ec86"
      },
      "outputs": [
        {
          "name": "stdout",
          "output_type": "stream",
          "text": [
            "Synset('feline.n.01')\n",
            "Synset('domestic_cat.n.01')\n",
            "Synset('wildcat.n.03')\n"
          ]
        },
        {
          "data": {
            "image/png": "[encoded data removed]",
            "text/plain": [
              "<Figure size 432x288 with 1 Axes>"
            ]
          },
          "metadata": {},
          "output_type": "display_data"
        }
      ],
      "source": [
        "# visualization\n",
        "G=nx.Graph()\n",
        "word = Word(\"cat\")\n",
        "w=word.synsets[0]\n",
        "\n",
        "G.add_node(w.name())\n",
        "for h in w.hypernyms():\n",
        "      print (h)\n",
        "      G.add_node(h.name())\n",
        "      G.add_edge(w.name(),h.name())\n",
        "  \n",
        "for h in w.hyponyms():\n",
        "      print (h)\n",
        "      G.add_node(h.name())\n",
        "      G.add_edge(w.name(),h.name())\n",
        "\n",
        "# print (G.nodes(data=True))\n",
        "plt.show()\n",
        "nx.draw(G, width=2, with_labels=True)"
      ]
    },
    {
      "cell_type": "code",
      "execution_count": 23,
      "metadata": {
        "colab": {
          "base_uri": "https://localhost:8080/"
        },
        "id": "Z0zsKOxFeUgP",
        "outputId": "4023abec-5e26-46b0-d492-7d2525234ad0"
      },
      "outputs": [
        {
          "name": "stdout",
          "output_type": "stream",
          "text": [
            "synonyms of run =  {'hunt', 'ply', 'die_hard', 'lam', 'bunk', 'flow', 'rivulet', 'running', 'rill', 'tend', 'trial', 'streamlet', 'endure', 'execute', 'runnel', 'escape', 'carry', 'extend', 'take_to_the_woods', 'hunt_down', 'pass', 'run_away', 'tally', 'guide', 'unravel', 'feed', 'be_given', 'race', 'break_away', 'course', 'scat', 'black_market', 'turn_tail', 'lean', 'bleed', 'track_down', 'discharge', 'operate', 'footrace', 'go', 'run_for', 'play', 'head_for_the_hills', 'scarper', 'range', 'function', 'incline', 'consort', 'melt', 'draw', 'prevail', 'hightail_it', 'ladder', 'running_game', 'fly_the_coop', 'test', 'running_play', 'run', 'outpouring', 'streak', 'campaign', 'lead', 'work', 'persist', 'ravel', 'political_campaign', 'foot_race', 'melt_down', 'move'}\n",
            "antonyms of run =  {'malfunction', 'idle'}\n"
          ]
        }
      ],
      "source": [
        "## synonym and antonym\n",
        "word_use = 'run'\n",
        "#Creating a list \n",
        "synonyms = []\n",
        "antonyms = []\n",
        "for syn in wordnet.synsets(word_use):\n",
        "    for lm in syn.lemmas():\n",
        "             synonyms.append(lm.name())#adding into synonyms\n",
        "print('synonyms of {} = '.format(word_use),set(synonyms))\n",
        "\n",
        "\n",
        "for ant in wordnet.synsets(word_use):\n",
        "    for lm in ant.lemmas():\n",
        "        if lm.antonyms():\n",
        "            antonyms.append(lm.antonyms()[0].name()) #adding into antonyms\n",
        "print('antonyms of {} = '.format(word_use),set(antonyms))"
      ]
    },
    {
      "cell_type": "code",
      "execution_count": 29,
      "metadata": {
        "colab": {
          "base_uri": "https://localhost:8080/"
        },
        "id": "84gsMOP8MTFj",
        "outputId": "6b2729b9-50f2-47ce-ef49-564192e1ad44"
      },
      "outputs": [
        {
          "name": "stdout",
          "output_type": "stream",
          "text": [
            "Similarity between domestic cat and wildcat :  0.9333333333333333\n",
            "Similarity between domestic cat and lemon :  0.38095238095238093\n",
            "Similarity between wildcat and cook :  0.2962962962962963\n"
          ]
        }
      ],
      "source": [
        "## Wu-palmer similarity \n",
        "# compare similarity #1\n",
        "  # make sense if they are close together\n",
        "dcat  = wordnet.synset('domestic_cat.n.01')\n",
        "wcat  = wordnet.synset('wildcat.n.03')\n",
        "lemon = wordnet.synset('lemon.n.01')\n",
        "print('Similarity between domestic cat and wildcat : ' , dcat.wup_similarity(wcat))\n",
        "print('Similarity between domestic cat and lemon : ' , dcat.wup_similarity(lemon))\n",
        "print('Similarity between wildcat and cook : ' , wcat.wup_similarity(lemon))"
      ]
    },
    {
      "cell_type": "code",
      "execution_count": 32,
      "metadata": {
        "colab": {
          "base_uri": "https://localhost:8080/"
        },
        "id": "4pVb1WZQMdJn",
        "outputId": "da258b94-8fdc-41ce-8d71-c0504584ae78"
      },
      "outputs": [
        {
          "name": "stdout",
          "output_type": "stream",
          "text": [
            "Similarity between increase and increment :  0.2222222222222222\n",
            "It doesn't make sense\n"
          ]
        }
      ],
      "source": [
        "# compare similarity #2\n",
        "  # doesn't make sense if they are far, even they are similar\n",
        "x1 = wordnet.synset('increase.n.01')\n",
        "x2 = wordnet.synset('increment.n.01')\n",
        "print('Similarity between increase and increment : ' , x1.wup_similarity(x2))\n",
        "print(\"It doesn't make sense\")"
      ]
    },
    {
      "cell_type": "markdown",
      "metadata": {
        "id": "0Nfp0qDKjuMg"
      },
      "source": [
        "## Example of one-hot encoding"
      ]
    },
    {
      "cell_type": "code",
      "execution_count": 33,
      "metadata": {
        "colab": {
          "base_uri": "https://localhost:8080/"
        },
        "id": "6JhUqxZrkL1r",
        "outputId": "77e88664-3471-4da3-ca87-acc68ab65779"
      },
      "outputs": [
        {
          "name": "stdout",
          "output_type": "stream",
          "text": [
            "0    domestic_cat\n",
            "1         wildcat\n",
            "2           lemon\n",
            "dtype: object\n"
          ]
        }
      ],
      "source": [
        "# create vocabulary\n",
        "vocab = pd.Series(['domestic_cat','wildcat','lemon'])\n",
        "print(vocab)"
      ]
    },
    {
      "cell_type": "code",
      "execution_count": 34,
      "metadata": {
        "colab": {
          "base_uri": "https://localhost:8080/"
        },
        "id": "yhZvrZ_ZkOA1",
        "outputId": "f1a9e852-aed8-4a7c-e0b2-abc66bc5bbf1"
      },
      "outputs": [
        {
          "name": "stdout",
          "output_type": "stream",
          "text": [
            "              0  1  2\n",
            "domestic_cat  1  0  0\n",
            "lemon         0  0  1\n",
            "wildcat       0  1  0\n"
          ]
        }
      ],
      "source": [
        "metric = pd.get_dummies(vocab).astype(int).T\n",
        "print(metric)"
      ]
    },
    {
      "cell_type": "code",
      "execution_count": 35,
      "metadata": {
        "id": "a5e61GVykOpW"
      },
      "outputs": [],
      "source": [
        "dcat = metric.loc['domestic_cat',:].values\n",
        "wcat = metric.loc['wildcat',:].values\n",
        "lemon = metric.loc['lemon',:].values"
      ]
    },
    {
      "cell_type": "markdown",
      "metadata": {
        "id": "AjGXY4phkTm5"
      },
      "source": [
        "![image.png](data:image/png;base64,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)"
      ]
    },
    {
      "cell_type": "code",
      "execution_count": 43,
      "metadata": {
        "colab": {
          "base_uri": "https://localhost:8080/"
        },
        "id": "OVoLw2yLkWRS",
        "outputId": "99521185-6acc-4522-dd26-38ad17bc54ea"
      },
      "outputs": [
        {
          "name": "stdout",
          "output_type": "stream",
          "text": [
            "Cosine Similarity between domestic cat and wildcat: 0.0\n",
            "Cosine Similarity between domestic cat and lemon: 0.0\n",
            "Cosine Similarity between wildcat and lemon: 0.0\n",
            "\n",
            "Similarity can not be computed correctly by one-hot encoding\n"
          ]
        }
      ],
      "source": [
        "# compute cosine similarity\n",
        "dcat_wcat_cosine = np.dot(dcat,wcat)/(norm(dcat)*norm(wcat))\n",
        "print(\"Cosine Similarity between domestic cat and wildcat:\", dcat_wcat_cosine)\n",
        "\n",
        "dcat_lem_cosine = np.dot(dcat,lemon)/(norm(dcat)*norm(lemon))\n",
        "print(\"Cosine Similarity between domestic cat and lemon:\", dcat_lem_cosine)\n",
        "\n",
        "wcat_lem_cosine = np.dot(wcat,lemon)/(norm(wcat)*norm(lemon))\n",
        "print(\"Cosine Similarity between wildcat and lemon:\", wcat_lem_cosine)\n",
        "print('')\n",
        "print(\"Similarity can not be computed correctly by one-hot encoding\")"
      ]
    },
    {
      "cell_type": "markdown",
      "metadata": {
        "id": "W1k35dUGGyw8"
      },
      "source": [
        "# Sparse representation"
      ]
    },
    {
      "cell_type": "markdown",
      "metadata": {
        "id": "IwD6Z5k9ShWt"
      },
      "source": [
        "## Term-Document matrix"
      ]
    },
    {
      "cell_type": "code",
      "execution_count": 44,
      "metadata": {
        "colab": {
          "base_uri": "https://localhost:8080/"
        },
        "id": "gRkvvz12UMYq",
        "outputId": "7cb8cc8c-e172-42fc-baff-e8c9d95baf3c"
      },
      "outputs": [
        {
          "name": "stderr",
          "output_type": "stream",
          "text": [
            "[nltk_data] Downloading package gutenberg to\n",
            "[nltk_data]     C:\\Users\\Renan\\AppData\\Roaming\\nltk_data...\n",
            "[nltk_data]   Package gutenberg is already up-to-date!\n"
          ]
        }
      ],
      "source": [
        "# download corpus of documents\n",
        "import nltk\n",
        "nltk.download('gutenberg')\n",
        "from nltk.corpus import gutenberg\n",
        "from sklearn.feature_extraction.text import CountVectorizer, TfidfVectorizer"
      ]
    },
    {
      "cell_type": "code",
      "execution_count": 45,
      "metadata": {
        "colab": {
          "base_uri": "https://localhost:8080/"
        },
        "id": "ghXCE9876L4M",
        "outputId": "cdf216a5-17cc-403b-e754-00c6824fe7b8"
      },
      "outputs": [
        {
          "name": "stdout",
          "output_type": "stream",
          "text": [
            "['austen-emma.txt', 'austen-persuasion.txt', 'austen-sense.txt', 'bible-kjv.txt', 'blake-poems.txt', 'bryant-stories.txt', 'burgess-busterbrown.txt', 'carroll-alice.txt', 'chesterton-ball.txt', 'chesterton-brown.txt', 'chesterton-thursday.txt', 'edgeworth-parents.txt', 'melville-moby_dick.txt', 'milton-paradise.txt', 'shakespeare-caesar.txt', 'shakespeare-hamlet.txt', 'shakespeare-macbeth.txt', 'whitman-leaves.txt']\n"
          ]
        }
      ],
      "source": [
        "files = nltk.corpus.gutenberg.fileids()\n",
        "print(files)"
      ]
    },
    {
      "cell_type": "code",
      "execution_count": 46,
      "metadata": {
        "id": "u18QV_FZ6OYt"
      },
      "outputs": [],
      "source": [
        "# dowload sample documents\n",
        "caesar = gutenberg.raw('shakespeare-caesar.txt')\n",
        "hamlet = gutenberg.raw('shakespeare-hamlet.txt')\n",
        "leaves = gutenberg.raw('melville-moby_dick.txt')"
      ]
    },
    {
      "cell_type": "code",
      "execution_count": 47,
      "metadata": {
        "colab": {
          "base_uri": "https://localhost:8080/",
          "height": 143
        },
        "id": "QNRQkMgC76bM",
        "outputId": "5fc95947-6bf9-40e2-c19b-3ba8058ff557"
      },
      "outputs": [
        {
          "data": {
            "text/html": [
              "<div>\n",
              "<style scoped>\n",
              "    .dataframe tbody tr th:only-of-type {\n",
              "        vertical-align: middle;\n",
              "    }\n",
              "\n",
              "    .dataframe tbody tr th {\n",
              "        vertical-align: top;\n",
              "    }\n",
              "\n",
              "    .dataframe thead th {\n",
              "        text-align: right;\n",
              "    }\n",
              "</style>\n",
              "<table border=\"1\" class=\"dataframe\">\n",
              "  <thead>\n",
              "    <tr style=\"text-align: right;\">\n",
              "      <th></th>\n",
              "      <th>text</th>\n",
              "      <th>type</th>\n",
              "    </tr>\n",
              "  </thead>\n",
              "  <tbody>\n",
              "    <tr>\n",
              "      <th>0</th>\n",
              "      <td>[The Tragedie of Julius Caesar by William Shak...</td>\n",
              "      <td>caesar</td>\n",
              "    </tr>\n",
              "    <tr>\n",
              "      <th>1</th>\n",
              "      <td>[The Tragedie of Hamlet by William Shakespeare...</td>\n",
              "      <td>hamlet</td>\n",
              "    </tr>\n",
              "    <tr>\n",
              "      <th>2</th>\n",
              "      <td>[Moby Dick by Herman Melville 1851]\\r\\n\\r\\n\\r\\...</td>\n",
              "      <td>moby_dick</td>\n",
              "    </tr>\n",
              "  </tbody>\n",
              "</table>\n",
              "</div>"
            ],
            "text/plain": [
              "                                                text       type\n",
              "0  [The Tragedie of Julius Caesar by William Shak...     caesar\n",
              "1  [The Tragedie of Hamlet by William Shakespeare...     hamlet\n",
              "2  [Moby Dick by Herman Melville 1851]\\r\\n\\r\\n\\r\\...  moby_dick"
            ]
          },
          "execution_count": 47,
          "metadata": {},
          "output_type": "execute_result"
        }
      ],
      "source": [
        "data_termdoc = pd.DataFrame([[caesar],[hamlet],[leaves]], columns = ['text'])\n",
        "data_termdoc['type'] = pd.Series(['caesar','hamlet','moby_dick'])\n",
        "data_termdoc"
      ]
    },
    {
      "cell_type": "code",
      "execution_count": 48,
      "metadata": {
        "id": "6Is_lakL7yV3"
      },
      "outputs": [],
      "source": [
        "# Count Vectorizer\n",
        "vect = CountVectorizer(token_pattern=\"[^\\W\\d_]+\")\n",
        "vects = vect.fit_transform(data_termdoc.text)"
      ]
    },
    {
      "cell_type": "code",
      "execution_count": 49,
      "metadata": {
        "id": "1xdY2qJV7yV4"
      },
      "outputs": [],
      "source": [
        "# create term-document matrix\n",
        "td = pd.DataFrame(vects.todense())\n",
        "td.columns = vect.get_feature_names_out()\n",
        "\n",
        "term_document_matrix = td.T\n",
        "term_document_matrix.columns = [i for i in data_termdoc['type']]"
      ]
    },
    {
      "cell_type": "code",
      "execution_count": 51,
      "metadata": {},
      "outputs": [
        {
          "data": {
            "text/html": [
              "<div>\n",
              "<style scoped>\n",
              "    .dataframe tbody tr th:only-of-type {\n",
              "        vertical-align: middle;\n",
              "    }\n",
              "\n",
              "    .dataframe tbody tr th {\n",
              "        vertical-align: top;\n",
              "    }\n",
              "\n",
              "    .dataframe thead th {\n",
              "        text-align: right;\n",
              "    }\n",
              "</style>\n",
              "<table border=\"1\" class=\"dataframe\">\n",
              "  <thead>\n",
              "    <tr style=\"text-align: right;\">\n",
              "      <th></th>\n",
              "      <th>caesar</th>\n",
              "      <th>hamlet</th>\n",
              "      <th>moby_dick</th>\n",
              "    </tr>\n",
              "  </thead>\n",
              "  <tbody>\n",
              "    <tr>\n",
              "      <th>a</th>\n",
              "      <td>267</td>\n",
              "      <td>511</td>\n",
              "      <td>4736</td>\n",
              "    </tr>\n",
              "    <tr>\n",
              "      <th>aback</th>\n",
              "      <td>0</td>\n",
              "      <td>0</td>\n",
              "      <td>2</td>\n",
              "    </tr>\n",
              "    <tr>\n",
              "      <th>abaft</th>\n",
              "      <td>0</td>\n",
              "      <td>0</td>\n",
              "      <td>2</td>\n",
              "    </tr>\n",
              "    <tr>\n",
              "      <th>abandon</th>\n",
              "      <td>0</td>\n",
              "      <td>0</td>\n",
              "      <td>3</td>\n",
              "    </tr>\n",
              "    <tr>\n",
              "      <th>abandoned</th>\n",
              "      <td>0</td>\n",
              "      <td>0</td>\n",
              "      <td>7</td>\n",
              "    </tr>\n",
              "    <tr>\n",
              "      <th>...</th>\n",
              "      <td>...</td>\n",
              "      <td>...</td>\n",
              "      <td>...</td>\n",
              "    </tr>\n",
              "    <tr>\n",
              "      <th>zone</th>\n",
              "      <td>0</td>\n",
              "      <td>1</td>\n",
              "      <td>5</td>\n",
              "    </tr>\n",
              "    <tr>\n",
              "      <th>zoned</th>\n",
              "      <td>0</td>\n",
              "      <td>0</td>\n",
              "      <td>2</td>\n",
              "    </tr>\n",
              "    <tr>\n",
              "      <th>zones</th>\n",
              "      <td>0</td>\n",
              "      <td>0</td>\n",
              "      <td>3</td>\n",
              "    </tr>\n",
              "    <tr>\n",
              "      <th>zoology</th>\n",
              "      <td>0</td>\n",
              "      <td>0</td>\n",
              "      <td>2</td>\n",
              "    </tr>\n",
              "    <tr>\n",
              "      <th>zoroaster</th>\n",
              "      <td>0</td>\n",
              "      <td>0</td>\n",
              "      <td>1</td>\n",
              "    </tr>\n",
              "  </tbody>\n",
              "</table>\n",
              "<p>20412 rows × 3 columns</p>\n",
              "</div>"
            ],
            "text/plain": [
              "           caesar  hamlet  moby_dick\n",
              "a             267     511       4736\n",
              "aback           0       0          2\n",
              "abaft           0       0          2\n",
              "abandon         0       0          3\n",
              "abandoned       0       0          7\n",
              "...           ...     ...        ...\n",
              "zone            0       1          5\n",
              "zoned           0       0          2\n",
              "zones           0       0          3\n",
              "zoology         0       0          2\n",
              "zoroaster       0       0          1\n",
              "\n",
              "[20412 rows x 3 columns]"
            ]
          },
          "execution_count": 51,
          "metadata": {},
          "output_type": "execute_result"
        }
      ],
      "source": [
        "term_document_matrix"
      ]
    },
    {
      "cell_type": "code",
      "execution_count": 53,
      "metadata": {
        "colab": {
          "base_uri": "https://localhost:8080/"
        },
        "id": "NslQZ5KO7yV4",
        "outputId": "0e67f3cb-506b-4d0d-cdf3-a717f0febbab"
      },
      "outputs": [
        {
          "name": "stdout",
          "output_type": "stream",
          "text": [
            "      caesar  hamlet  moby_dick\n",
            "the      579     993      14431\n",
            "and      627     863       6430\n",
            "of       354     610       6609\n",
            "to       446     685       4625\n",
            "a        267     511       4736\n",
            "in       225     400       4172\n",
            "that     289     377       3085\n",
            "i        533     574       2127\n",
            "it       198     419       2522\n",
            "his      157     285       2530\n"
          ]
        }
      ],
      "source": [
        "# Print the first 10 rows\n",
        "term_document_matrix['total_count'] = term_document_matrix.sum(axis = 1)\n",
        "term_document_matrix = term_document_matrix.sort_values(by = 'total_count', ascending = False)\n",
        "print(term_document_matrix.drop(columns = ['total_count']).head(10))"
      ]
    },
    {
      "cell_type": "code",
      "execution_count": 54,
      "metadata": {
        "id": "1SsXo29v9J-s"
      },
      "outputs": [],
      "source": [
        "# create document represetnation\n",
        "caesar = term_document_matrix['caesar'].values\n",
        "hamlet = term_document_matrix['hamlet'].values\n",
        "moby_dick = term_document_matrix['moby_dick'].values"
      ]
    },
    {
      "cell_type": "code",
      "execution_count": 56,
      "metadata": {
        "colab": {
          "base_uri": "https://localhost:8080/"
        },
        "id": "HKLDWs_Q9J-s",
        "outputId": "e916e587-505f-42ad-d110-4f9424bacfd0"
      },
      "outputs": [
        {
          "name": "stdout",
          "output_type": "stream",
          "text": [
            "Cosine Similarity between caesar and hamlet: 0.9294852371467272\n",
            "Cosine Similarity between caesar and moby_dick: 0.7850428119783942\n",
            "Cosine Similarity between hamlet and moby_dick: 0.8416829903062351\n"
          ]
        }
      ],
      "source": [
        "# compute cosine similarity\n",
        "x1 = np.dot(caesar,hamlet)/(norm(caesar)*norm(hamlet))\n",
        "print(\"Cosine Similarity between caesar and hamlet:\", x1)\n",
        "x2 = np.dot(caesar,moby_dick)/(norm(caesar)*norm(moby_dick))\n",
        "print(\"Cosine Similarity between caesar and moby_dick:\", x2)\n",
        "x3 = np.dot(hamlet,moby_dick)/(norm(hamlet)*norm(moby_dick))\n",
        "print(\"Cosine Similarity between hamlet and moby_dick:\", x3)"
      ]
    },
    {
      "cell_type": "code",
      "execution_count": 57,
      "metadata": {
        "colab": {
          "base_uri": "https://localhost:8080/"
        },
        "id": "mfiEbaTYDYzR",
        "outputId": "40a35448-7e4b-417c-81f5-96edd045da69"
      },
      "outputs": [
        {
          "name": "stdout",
          "output_type": "stream",
          "text": [
            "word representation of whale :  [[   0    2 1226]]\n",
            "document matrix of moby_dick size of: 20412\n"
          ]
        },
        {
          "data": {
            "text/plain": [
              "array([14431,  6430,  6609, ...,     1,     1,     1], dtype=int64)"
            ]
          },
          "execution_count": 57,
          "metadata": {},
          "output_type": "execute_result"
        }
      ],
      "source": [
        "# how does word embedding look like?\n",
        "i = 'whale'\n",
        "print('word representation of {} : '.format(i), term_document_matrix[['caesar','hamlet','moby_dick']].loc[[i]].values)\n",
        "print('document matrix of moby_dick size of:', len(moby_dick))\n",
        "moby_dick"
      ]
    },
    {
      "cell_type": "markdown",
      "metadata": {
        "id": "iXdpG6vqH8ow"
      },
      "source": [
        "## Word co-occurrence"
      ]
    },
    {
      "cell_type": "code",
      "execution_count": 58,
      "metadata": {
        "id": "4DGdb7lUQu26"
      },
      "outputs": [],
      "source": [
        "from collections import defaultdict"
      ]
    },
    {
      "cell_type": "code",
      "execution_count": 59,
      "metadata": {
        "id": "b50nVySPQt8z"
      },
      "outputs": [],
      "source": [
        "def co_occurrence(sentences, window_size):\n",
        "    d = defaultdict(int)\n",
        "    vocab = set()\n",
        "    for text in sentences:\n",
        "        # preprocessing (use tokenizer instead)\n",
        "        text = text.lower().split()\n",
        "        # iterate over sentences\n",
        "        for i in range(len(text)):\n",
        "            token = text[i]\n",
        "            vocab.add(token)  # add to vocab\n",
        "            next_token = text[i+1 : i+1+window_size]\n",
        "            for t in next_token:\n",
        "                key = tuple( sorted([t, token]) )\n",
        "                d[key] += 1\n",
        "    \n",
        "    # formulate the dictionary into dataframe\n",
        "    vocab = sorted(vocab) # sort vocab\n",
        "    df = pd.DataFrame(data=np.zeros((len(vocab), len(vocab)), dtype=np.int16),\n",
        "                      index=vocab,\n",
        "                      columns=vocab)\n",
        "    for key, value in d.items():\n",
        "        df.at[key[0], key[1]] = value\n",
        "        df.at[key[1], key[0]] = value\n",
        "    return df"
      ]
    },
    {
      "cell_type": "code",
      "execution_count": 66,
      "metadata": {
        "colab": {
          "base_uri": "https://localhost:8080/",
          "height": 488
        },
        "id": "welHLg4kNwGX",
        "outputId": "5a34a2e0-1256-4990-eeab-4fe9a3c1809d"
      },
      "outputs": [
        {
          "data": {
            "text/html": [
              "<div>\n",
              "<style scoped>\n",
              "    .dataframe tbody tr th:only-of-type {\n",
              "        vertical-align: middle;\n",
              "    }\n",
              "\n",
              "    .dataframe tbody tr th {\n",
              "        vertical-align: top;\n",
              "    }\n",
              "\n",
              "    .dataframe thead th {\n",
              "        text-align: right;\n",
              "    }\n",
              "</style>\n",
              "<table border=\"1\" class=\"dataframe\">\n",
              "  <thead>\n",
              "    <tr style=\"text-align: right;\">\n",
              "      <th></th>\n",
              "      <th>black</th>\n",
              "      <th>cat</th>\n",
              "      <th>fast</th>\n",
              "      <th>hat</th>\n",
              "      <th>in</th>\n",
              "      <th>is</th>\n",
              "      <th>no</th>\n",
              "      <th>on</th>\n",
              "      <th>run</th>\n",
              "      <th>the</th>\n",
              "      <th>wears</th>\n",
              "      <th>when</th>\n",
              "      <th>wore</th>\n",
              "      <th>worn</th>\n",
              "    </tr>\n",
              "  </thead>\n",
              "  <tbody>\n",
              "    <tr>\n",
              "      <th>black</th>\n",
              "      <td>0</td>\n",
              "      <td>0</td>\n",
              "      <td>0</td>\n",
              "      <td>3</td>\n",
              "      <td>1</td>\n",
              "      <td>1</td>\n",
              "      <td>0</td>\n",
              "      <td>0</td>\n",
              "      <td>1</td>\n",
              "      <td>3</td>\n",
              "      <td>0</td>\n",
              "      <td>0</td>\n",
              "      <td>1</td>\n",
              "      <td>0</td>\n",
              "    </tr>\n",
              "    <tr>\n",
              "      <th>cat</th>\n",
              "      <td>0</td>\n",
              "      <td>0</td>\n",
              "      <td>3</td>\n",
              "      <td>0</td>\n",
              "      <td>1</td>\n",
              "      <td>0</td>\n",
              "      <td>1</td>\n",
              "      <td>0</td>\n",
              "      <td>2</td>\n",
              "      <td>4</td>\n",
              "      <td>1</td>\n",
              "      <td>0</td>\n",
              "      <td>0</td>\n",
              "      <td>0</td>\n",
              "    </tr>\n",
              "    <tr>\n",
              "      <th>fast</th>\n",
              "      <td>0</td>\n",
              "      <td>3</td>\n",
              "      <td>0</td>\n",
              "      <td>1</td>\n",
              "      <td>0</td>\n",
              "      <td>0</td>\n",
              "      <td>0</td>\n",
              "      <td>1</td>\n",
              "      <td>3</td>\n",
              "      <td>2</td>\n",
              "      <td>1</td>\n",
              "      <td>1</td>\n",
              "      <td>1</td>\n",
              "      <td>0</td>\n",
              "    </tr>\n",
              "    <tr>\n",
              "      <th>hat</th>\n",
              "      <td>3</td>\n",
              "      <td>0</td>\n",
              "      <td>1</td>\n",
              "      <td>0</td>\n",
              "      <td>0</td>\n",
              "      <td>1</td>\n",
              "      <td>1</td>\n",
              "      <td>0</td>\n",
              "      <td>1</td>\n",
              "      <td>3</td>\n",
              "      <td>1</td>\n",
              "      <td>0</td>\n",
              "      <td>0</td>\n",
              "      <td>1</td>\n",
              "    </tr>\n",
              "    <tr>\n",
              "      <th>in</th>\n",
              "      <td>1</td>\n",
              "      <td>1</td>\n",
              "      <td>0</td>\n",
              "      <td>0</td>\n",
              "      <td>0</td>\n",
              "      <td>0</td>\n",
              "      <td>0</td>\n",
              "      <td>0</td>\n",
              "      <td>0</td>\n",
              "      <td>2</td>\n",
              "      <td>0</td>\n",
              "      <td>0</td>\n",
              "      <td>0</td>\n",
              "      <td>0</td>\n",
              "    </tr>\n",
              "    <tr>\n",
              "      <th>is</th>\n",
              "      <td>1</td>\n",
              "      <td>0</td>\n",
              "      <td>0</td>\n",
              "      <td>1</td>\n",
              "      <td>0</td>\n",
              "      <td>0</td>\n",
              "      <td>0</td>\n",
              "      <td>1</td>\n",
              "      <td>0</td>\n",
              "      <td>0</td>\n",
              "      <td>0</td>\n",
              "      <td>0</td>\n",
              "      <td>0</td>\n",
              "      <td>1</td>\n",
              "    </tr>\n",
              "    <tr>\n",
              "      <th>no</th>\n",
              "      <td>0</td>\n",
              "      <td>1</td>\n",
              "      <td>0</td>\n",
              "      <td>1</td>\n",
              "      <td>0</td>\n",
              "      <td>0</td>\n",
              "      <td>0</td>\n",
              "      <td>0</td>\n",
              "      <td>0</td>\n",
              "      <td>0</td>\n",
              "      <td>1</td>\n",
              "      <td>0</td>\n",
              "      <td>0</td>\n",
              "      <td>0</td>\n",
              "    </tr>\n",
              "    <tr>\n",
              "      <th>on</th>\n",
              "      <td>0</td>\n",
              "      <td>0</td>\n",
              "      <td>1</td>\n",
              "      <td>0</td>\n",
              "      <td>0</td>\n",
              "      <td>1</td>\n",
              "      <td>0</td>\n",
              "      <td>0</td>\n",
              "      <td>0</td>\n",
              "      <td>1</td>\n",
              "      <td>0</td>\n",
              "      <td>0</td>\n",
              "      <td>0</td>\n",
              "      <td>1</td>\n",
              "    </tr>\n",
              "    <tr>\n",
              "      <th>run</th>\n",
              "      <td>1</td>\n",
              "      <td>2</td>\n",
              "      <td>3</td>\n",
              "      <td>1</td>\n",
              "      <td>0</td>\n",
              "      <td>0</td>\n",
              "      <td>0</td>\n",
              "      <td>0</td>\n",
              "      <td>0</td>\n",
              "      <td>2</td>\n",
              "      <td>0</td>\n",
              "      <td>1</td>\n",
              "      <td>0</td>\n",
              "      <td>0</td>\n",
              "    </tr>\n",
              "    <tr>\n",
              "      <th>the</th>\n",
              "      <td>3</td>\n",
              "      <td>4</td>\n",
              "      <td>2</td>\n",
              "      <td>3</td>\n",
              "      <td>2</td>\n",
              "      <td>0</td>\n",
              "      <td>0</td>\n",
              "      <td>1</td>\n",
              "      <td>2</td>\n",
              "      <td>0</td>\n",
              "      <td>0</td>\n",
              "      <td>1</td>\n",
              "      <td>1</td>\n",
              "      <td>1</td>\n",
              "    </tr>\n",
              "    <tr>\n",
              "      <th>wears</th>\n",
              "      <td>0</td>\n",
              "      <td>1</td>\n",
              "      <td>1</td>\n",
              "      <td>1</td>\n",
              "      <td>0</td>\n",
              "      <td>0</td>\n",
              "      <td>1</td>\n",
              "      <td>0</td>\n",
              "      <td>0</td>\n",
              "      <td>0</td>\n",
              "      <td>0</td>\n",
              "      <td>0</td>\n",
              "      <td>0</td>\n",
              "      <td>0</td>\n",
              "    </tr>\n",
              "    <tr>\n",
              "      <th>when</th>\n",
              "      <td>0</td>\n",
              "      <td>0</td>\n",
              "      <td>1</td>\n",
              "      <td>0</td>\n",
              "      <td>0</td>\n",
              "      <td>0</td>\n",
              "      <td>0</td>\n",
              "      <td>0</td>\n",
              "      <td>1</td>\n",
              "      <td>1</td>\n",
              "      <td>0</td>\n",
              "      <td>0</td>\n",
              "      <td>1</td>\n",
              "      <td>0</td>\n",
              "    </tr>\n",
              "    <tr>\n",
              "      <th>wore</th>\n",
              "      <td>1</td>\n",
              "      <td>0</td>\n",
              "      <td>1</td>\n",
              "      <td>0</td>\n",
              "      <td>0</td>\n",
              "      <td>0</td>\n",
              "      <td>0</td>\n",
              "      <td>0</td>\n",
              "      <td>0</td>\n",
              "      <td>1</td>\n",
              "      <td>0</td>\n",
              "      <td>1</td>\n",
              "      <td>0</td>\n",
              "      <td>0</td>\n",
              "    </tr>\n",
              "    <tr>\n",
              "      <th>worn</th>\n",
              "      <td>0</td>\n",
              "      <td>0</td>\n",
              "      <td>0</td>\n",
              "      <td>1</td>\n",
              "      <td>0</td>\n",
              "      <td>1</td>\n",
              "      <td>0</td>\n",
              "      <td>1</td>\n",
              "      <td>0</td>\n",
              "      <td>1</td>\n",
              "      <td>0</td>\n",
              "      <td>0</td>\n",
              "      <td>0</td>\n",
              "      <td>0</td>\n",
              "    </tr>\n",
              "  </tbody>\n",
              "</table>\n",
              "</div>"
            ],
            "text/plain": [
              "       black  cat  fast  hat  in  is  no  on  run  the  wears  when  wore  \\\n",
              "black      0    0     0    3   1   1   0   0    1    3      0     0     1   \n",
              "cat        0    0     3    0   1   0   1   0    2    4      1     0     0   \n",
              "fast       0    3     0    1   0   0   0   1    3    2      1     1     1   \n",
              "hat        3    0     1    0   0   1   1   0    1    3      1     0     0   \n",
              "in         1    1     0    0   0   0   0   0    0    2      0     0     0   \n",
              "is         1    0     0    1   0   0   0   1    0    0      0     0     0   \n",
              "no         0    1     0    1   0   0   0   0    0    0      1     0     0   \n",
              "on         0    0     1    0   0   1   0   0    0    1      0     0     0   \n",
              "run        1    2     3    1   0   0   0   0    0    2      0     1     0   \n",
              "the        3    4     2    3   2   0   0   1    2    0      0     1     1   \n",
              "wears      0    1     1    1   0   0   1   0    0    0      0     0     0   \n",
              "when       0    0     1    0   0   0   0   0    1    1      0     0     1   \n",
              "wore       1    0     1    0   0   0   0   0    0    1      0     1     0   \n",
              "worn       0    0     0    1   0   1   0   1    0    1      0     0     0   \n",
              "\n",
              "       worn  \n",
              "black     0  \n",
              "cat       0  \n",
              "fast      0  \n",
              "hat       1  \n",
              "in        0  \n",
              "is        1  \n",
              "no        0  \n",
              "on        1  \n",
              "run       0  \n",
              "the       1  \n",
              "wears     0  \n",
              "when      0  \n",
              "wore      0  \n",
              "worn      0  "
            ]
          },
          "execution_count": 66,
          "metadata": {},
          "output_type": "execute_result"
        }
      ],
      "source": [
        "sentences = [\"The fast cat wears no hat\", \n",
        "             \"The cat in the black hat run fast\",\n",
        "             \"The black hat is worn on the fast run cat\",\n",
        "             \"The cat run fast when wore the black hat\"]\n",
        "\n",
        "df = co_occurrence(sentences, 2) \n",
        "df"
      ]
    },
    {
      "cell_type": "markdown",
      "metadata": {
        "id": "l5DrH9FcvGrZ"
      },
      "source": [
        "## TF-IDF"
      ]
    },
    {
      "cell_type": "code",
      "execution_count": 68,
      "metadata": {
        "colab": {
          "base_uri": "https://localhost:8080/"
        },
        "id": "OjqWChxMvJyo",
        "outputId": "aa6a1f27-d28e-4e42-8ad9-9c8b073fef36"
      },
      "outputs": [
        {
          "name": "stderr",
          "output_type": "stream",
          "text": [
            "[nltk_data] Downloading package gutenberg to\n",
            "[nltk_data]     C:\\Users\\Renan\\AppData\\Roaming\\nltk_data...\n",
            "[nltk_data]   Package gutenberg is already up-to-date!\n"
          ]
        }
      ],
      "source": [
        "# download corpus of documents\n",
        "import nltk\n",
        "nltk.download('gutenberg')\n",
        "from nltk.corpus import gutenberg\n",
        "from sklearn.feature_extraction.text import TfidfVectorizer"
      ]
    },
    {
      "cell_type": "code",
      "execution_count": 69,
      "metadata": {
        "id": "t6WNTzgJvN6_"
      },
      "outputs": [],
      "source": [
        "# dowload sample documents\n",
        "caesar = gutenberg.raw('shakespeare-caesar.txt')\n",
        "hamlet = gutenberg.raw('shakespeare-hamlet.txt')\n",
        "leaves = gutenberg.raw('melville-moby_dick.txt')"
      ]
    },
    {
      "cell_type": "code",
      "execution_count": 70,
      "metadata": {
        "id": "-PaPNXC9vRbH"
      },
      "outputs": [],
      "source": [
        "# Count Vectorizer\n",
        "vect = TfidfVectorizer()  \n",
        "vects = vect.fit_transform(data_termdoc.text)"
      ]
    },
    {
      "cell_type": "code",
      "execution_count": 71,
      "metadata": {
        "id": "6iDbaWCQvTYt"
      },
      "outputs": [],
      "source": [
        "# create term-document matrix\n",
        "td = pd.DataFrame(vects.todense())\n",
        "td.columns = vect.get_feature_names_out()\n",
        "\n",
        "term_document_matrix = td.T\n",
        "term_document_matrix.columns = [i for i in data_termdoc['type']]"
      ]
    },
    {
      "cell_type": "code",
      "execution_count": 72,
      "metadata": {
        "colab": {
          "base_uri": "https://localhost:8080/"
        },
        "id": "fJ7z_ayRvVfO",
        "outputId": "8eb00cfa-2d63-4d33-9390-2e838669b0f6"
      },
      "outputs": [
        {
          "name": "stdout",
          "output_type": "stream",
          "text": [
            "        caesar    hamlet  moby_dick\n",
            "the   0.362201  0.421295   0.699773\n",
            "and   0.392228  0.366140   0.311797\n",
            "of    0.221449  0.258801   0.320477\n",
            "to    0.279001  0.290621   0.224271\n",
            "in    0.140752  0.169706   0.202304\n",
            "you   0.244595  0.223587   0.043351\n",
            "that  0.180788  0.159948   0.149595\n",
            "it    0.123862  0.177767   0.122294\n",
            "is    0.158268  0.139159   0.083647\n",
            "my    0.130743  0.212981   0.028561\n"
          ]
        }
      ],
      "source": [
        "# Print the first 10 rows\n",
        "term_document_matrix['total_count'] = term_document_matrix.sum(axis=1)\n",
        "term_document_matrix = term_document_matrix.sort_values(by ='total_count',ascending=False)\n",
        "print(term_document_matrix.drop(columns=['total_count']).head(10))"
      ]
    },
    {
      "cell_type": "code",
      "execution_count": 73,
      "metadata": {
        "id": "GCtcFezFvXrw"
      },
      "outputs": [],
      "source": [
        "# create document represetnation\n",
        "caesar = term_document_matrix['caesar'].values\n",
        "hamlet = term_document_matrix['hamlet'].values\n",
        "moby_dick = term_document_matrix['moby_dick'].values"
      ]
    },
    {
      "cell_type": "code",
      "execution_count": 74,
      "metadata": {
        "colab": {
          "base_uri": "https://localhost:8080/"
        },
        "id": "OA-KcCuSvgwi",
        "outputId": "12925ab8-778e-4ba7-c8d9-1fd9af750d7c"
      },
      "outputs": [
        {
          "name": "stdout",
          "output_type": "stream",
          "text": [
            "Cosine Similarity between caesar and hamlet: 0.8884863499054041\n",
            "Cosine Similarity between caesar and moby_dick: 0.7650553779904834\n",
            "Cosine Similarity between hamlet and moby_dick: 0.8158917741877356\n"
          ]
        }
      ],
      "source": [
        "# compute cosine similarity\n",
        "x1 = np.dot(caesar,hamlet)/(norm(caesar)*norm(hamlet))\n",
        "print(\"Cosine Similarity between caesar and hamlet:\", x1)\n",
        "x2 = np.dot(caesar,moby_dick)/(norm(caesar)*norm(moby_dick))\n",
        "print(\"Cosine Similarity between caesar and moby_dick:\", x2)\n",
        "x3 = np.dot(hamlet,moby_dick)/(norm(hamlet)*norm(moby_dick))\n",
        "print(\"Cosine Similarity between hamlet and moby_dick:\", x3)"
      ]
    },
    {
      "cell_type": "code",
      "execution_count": 80,
      "metadata": {
        "colab": {
          "base_uri": "https://localhost:8080/"
        },
        "id": "-XqFOp2XvcFf",
        "outputId": "bf15e2b5-e60e-4790-c9ec-77a6f7c95cad"
      },
      "outputs": [
        {
          "name": "stdout",
          "output_type": "stream",
          "text": [
            "word representation of whale :  [[0.         0.00109264 0.07655262]]\n",
            "document matrix of moby_dick size of: 20573\n"
          ]
        },
        {
          "data": {
            "text/plain": [
              "array([6.99773264e-01, 3.11796971e-01, 3.20476855e-01, ...,\n",
              "       8.21023580e-05, 8.21023580e-05, 8.21023580e-05])"
            ]
          },
          "execution_count": 80,
          "metadata": {},
          "output_type": "execute_result"
        }
      ],
      "source": [
        "# how does wor embedding look like?\n",
        "i = 'whale'\n",
        "print('word representation of {} : '.format(i), term_document_matrix[['caesar','hamlet','moby_dick']].loc[[i]].values)\n",
        "print('document matrix of moby_dick size of:', len(moby_dick))\n",
        "moby_dick"
      ]
    },
    {
      "cell_type": "markdown",
      "metadata": {
        "id": "mwq9X6TWqqdo"
      },
      "source": [
        "# dense"
      ]
    },
    {
      "cell_type": "markdown",
      "metadata": {
        "id": "HrzJI14vqvAk"
      },
      "source": [
        "## SVD"
      ]
    },
    {
      "cell_type": "code",
      "execution_count": 81,
      "metadata": {
        "id": "XbTeAlc-w_Xw"
      },
      "outputs": [],
      "source": [
        "from sklearn.decomposition import TruncatedSVD"
      ]
    },
    {
      "cell_type": "code",
      "execution_count": 82,
      "metadata": {
        "colab": {
          "base_uri": "https://localhost:8080/",
          "height": 441
        },
        "id": "Wjnxxb49qt88",
        "outputId": "286a970f-418a-4e6b-e572-2b65bcc58a7a"
      },
      "outputs": [
        {
          "name": "stdout",
          "output_type": "stream",
          "text": [
            "(20573, 4)\n"
          ]
        },
        {
          "data": {
            "text/html": [
              "<div>\n",
              "<style scoped>\n",
              "    .dataframe tbody tr th:only-of-type {\n",
              "        vertical-align: middle;\n",
              "    }\n",
              "\n",
              "    .dataframe tbody tr th {\n",
              "        vertical-align: top;\n",
              "    }\n",
              "\n",
              "    .dataframe thead th {\n",
              "        text-align: right;\n",
              "    }\n",
              "</style>\n",
              "<table border=\"1\" class=\"dataframe\">\n",
              "  <thead>\n",
              "    <tr style=\"text-align: right;\">\n",
              "      <th></th>\n",
              "      <th>caesar</th>\n",
              "      <th>hamlet</th>\n",
              "      <th>moby_dick</th>\n",
              "      <th>total_count</th>\n",
              "    </tr>\n",
              "  </thead>\n",
              "  <tbody>\n",
              "    <tr>\n",
              "      <th>the</th>\n",
              "      <td>0.362201</td>\n",
              "      <td>0.421295</td>\n",
              "      <td>0.699773</td>\n",
              "      <td>1.483269</td>\n",
              "    </tr>\n",
              "    <tr>\n",
              "      <th>and</th>\n",
              "      <td>0.392228</td>\n",
              "      <td>0.366140</td>\n",
              "      <td>0.311797</td>\n",
              "      <td>1.070166</td>\n",
              "    </tr>\n",
              "    <tr>\n",
              "      <th>of</th>\n",
              "      <td>0.221449</td>\n",
              "      <td>0.258801</td>\n",
              "      <td>0.320477</td>\n",
              "      <td>0.800728</td>\n",
              "    </tr>\n",
              "    <tr>\n",
              "      <th>to</th>\n",
              "      <td>0.279001</td>\n",
              "      <td>0.290621</td>\n",
              "      <td>0.224271</td>\n",
              "      <td>0.793893</td>\n",
              "    </tr>\n",
              "    <tr>\n",
              "      <th>in</th>\n",
              "      <td>0.140752</td>\n",
              "      <td>0.169706</td>\n",
              "      <td>0.202304</td>\n",
              "      <td>0.512762</td>\n",
              "    </tr>\n",
              "    <tr>\n",
              "      <th>...</th>\n",
              "      <td>...</td>\n",
              "      <td>...</td>\n",
              "      <td>...</td>\n",
              "      <td>...</td>\n",
              "    </tr>\n",
              "    <tr>\n",
              "      <th>ravens</th>\n",
              "      <td>0.000000</td>\n",
              "      <td>0.000000</td>\n",
              "      <td>0.000082</td>\n",
              "      <td>0.000082</td>\n",
              "    </tr>\n",
              "    <tr>\n",
              "      <th>ravenous</th>\n",
              "      <td>0.000000</td>\n",
              "      <td>0.000000</td>\n",
              "      <td>0.000082</td>\n",
              "      <td>0.000082</td>\n",
              "    </tr>\n",
              "    <tr>\n",
              "      <th>ravening</th>\n",
              "      <td>0.000000</td>\n",
              "      <td>0.000000</td>\n",
              "      <td>0.000082</td>\n",
              "      <td>0.000082</td>\n",
              "    </tr>\n",
              "    <tr>\n",
              "      <th>raved</th>\n",
              "      <td>0.000000</td>\n",
              "      <td>0.000000</td>\n",
              "      <td>0.000082</td>\n",
              "      <td>0.000082</td>\n",
              "    </tr>\n",
              "    <tr>\n",
              "      <th>zoroaster</th>\n",
              "      <td>0.000000</td>\n",
              "      <td>0.000000</td>\n",
              "      <td>0.000082</td>\n",
              "      <td>0.000082</td>\n",
              "    </tr>\n",
              "  </tbody>\n",
              "</table>\n",
              "<p>20573 rows × 4 columns</p>\n",
              "</div>"
            ],
            "text/plain": [
              "             caesar    hamlet  moby_dick  total_count\n",
              "the        0.362201  0.421295   0.699773     1.483269\n",
              "and        0.392228  0.366140   0.311797     1.070166\n",
              "of         0.221449  0.258801   0.320477     0.800728\n",
              "to         0.279001  0.290621   0.224271     0.793893\n",
              "in         0.140752  0.169706   0.202304     0.512762\n",
              "...             ...       ...        ...          ...\n",
              "ravens     0.000000  0.000000   0.000082     0.000082\n",
              "ravenous   0.000000  0.000000   0.000082     0.000082\n",
              "ravening   0.000000  0.000000   0.000082     0.000082\n",
              "raved      0.000000  0.000000   0.000082     0.000082\n",
              "zoroaster  0.000000  0.000000   0.000082     0.000082\n",
              "\n",
              "[20573 rows x 4 columns]"
            ]
          },
          "execution_count": 82,
          "metadata": {},
          "output_type": "execute_result"
        }
      ],
      "source": [
        "print(term_document_matrix.shape)\n",
        "term_document_matrix"
      ]
    },
    {
      "cell_type": "code",
      "execution_count": 78,
      "metadata": {
        "id": "7IyT-UCHrS79"
      },
      "outputs": [],
      "source": [
        "svd = TruncatedSVD(n_components=2)\n",
        "svd.fit(term_document_matrix)\n",
        "svd_mat = svd.transform(term_document_matrix)\n",
        "svd_matrix = pd.DataFrame(svd_mat)\n",
        "svd_matrix.index = vect.get_feature_names_out()"
      ]
    },
    {
      "cell_type": "code",
      "execution_count": 79,
      "metadata": {
        "colab": {
          "base_uri": "https://localhost:8080/",
          "height": 441
        },
        "id": "Fi71lUr0xPrj",
        "outputId": "640a2d30-40e1-45ec-8e3a-2707a8a32a6c"
      },
      "outputs": [
        {
          "name": "stdout",
          "output_type": "stream",
          "text": [
            "(20573, 2)\n"
          ]
        },
        {
          "data": {
            "text/html": [
              "<div>\n",
              "<style scoped>\n",
              "    .dataframe tbody tr th:only-of-type {\n",
              "        vertical-align: middle;\n",
              "    }\n",
              "\n",
              "    .dataframe tbody tr th {\n",
              "        vertical-align: top;\n",
              "    }\n",
              "\n",
              "    .dataframe thead th {\n",
              "        text-align: right;\n",
              "    }\n",
              "</style>\n",
              "<table border=\"1\" class=\"dataframe\">\n",
              "  <thead>\n",
              "    <tr style=\"text-align: right;\">\n",
              "      <th></th>\n",
              "      <th>0</th>\n",
              "      <th>1</th>\n",
              "    </tr>\n",
              "  </thead>\n",
              "  <tbody>\n",
              "    <tr>\n",
              "      <th>000</th>\n",
              "      <td>1.710571</td>\n",
              "      <td>0.268122</td>\n",
              "    </tr>\n",
              "    <tr>\n",
              "      <th>10</th>\n",
              "      <td>1.236080</td>\n",
              "      <td>-0.047947</td>\n",
              "    </tr>\n",
              "    <tr>\n",
              "      <th>100</th>\n",
              "      <td>0.924075</td>\n",
              "      <td>0.077008</td>\n",
              "    </tr>\n",
              "    <tr>\n",
              "      <th>101</th>\n",
              "      <td>0.917139</td>\n",
              "      <td>-0.039326</td>\n",
              "    </tr>\n",
              "    <tr>\n",
              "      <th>102</th>\n",
              "      <td>0.591796</td>\n",
              "      <td>0.046577</td>\n",
              "    </tr>\n",
              "    <tr>\n",
              "      <th>...</th>\n",
              "      <td>...</td>\n",
              "      <td>...</td>\n",
              "    </tr>\n",
              "    <tr>\n",
              "      <th>zone</th>\n",
              "      <td>0.000094</td>\n",
              "      <td>0.000066</td>\n",
              "    </tr>\n",
              "    <tr>\n",
              "      <th>zoned</th>\n",
              "      <td>0.000094</td>\n",
              "      <td>0.000066</td>\n",
              "    </tr>\n",
              "    <tr>\n",
              "      <th>zones</th>\n",
              "      <td>0.000094</td>\n",
              "      <td>0.000066</td>\n",
              "    </tr>\n",
              "    <tr>\n",
              "      <th>zoology</th>\n",
              "      <td>0.000094</td>\n",
              "      <td>0.000066</td>\n",
              "    </tr>\n",
              "    <tr>\n",
              "      <th>zoroaster</th>\n",
              "      <td>0.000094</td>\n",
              "      <td>0.000066</td>\n",
              "    </tr>\n",
              "  </tbody>\n",
              "</table>\n",
              "<p>20573 rows × 2 columns</p>\n",
              "</div>"
            ],
            "text/plain": [
              "                  0         1\n",
              "000        1.710571  0.268122\n",
              "10         1.236080 -0.047947\n",
              "100        0.924075  0.077008\n",
              "101        0.917139 -0.039326\n",
              "102        0.591796  0.046577\n",
              "...             ...       ...\n",
              "zone       0.000094  0.000066\n",
              "zoned      0.000094  0.000066\n",
              "zones      0.000094  0.000066\n",
              "zoology    0.000094  0.000066\n",
              "zoroaster  0.000094  0.000066\n",
              "\n",
              "[20573 rows x 2 columns]"
            ]
          },
          "execution_count": 79,
          "metadata": {},
          "output_type": "execute_result"
        }
      ],
      "source": [
        "print(svd_matrix.shape)\n",
        "svd_matrix"
      ]
    }
  ],
  "metadata": {
    "accelerator": "GPU",
    "colab": {
      "provenance": []
    },
    "gpuClass": "standard",
    "kernelspec": {
      "display_name": "Python 3",
      "name": "python3"
    },
    "language_info": {
      "codemirror_mode": {
        "name": "ipython",
        "version": 3
      },
      "file_extension": ".py",
      "mimetype": "text/x-python",
      "name": "python",
      "nbconvert_exporter": "python",
      "pygments_lexer": "ipython3",
      "version": "3.9.2"
    }
  },
  "nbformat": 4,
  "nbformat_minor": 0
}
