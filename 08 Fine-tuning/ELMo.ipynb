{
  "nbformat": 4,
  "nbformat_minor": 0,
  "metadata": {
    "colab": {
      "provenance": [],
      "toc_visible": true
    },
    "kernelspec": {
      "name": "python3",
      "display_name": "Python 3"
    },
    "language_info": {
      "name": "python"
    },
    "accelerator": "GPU",
    "gpuClass": "standard"
  },
  "cells": [
    {
      "cell_type": "markdown",
      "source": [
        "# Sentiment analysis using ELMo as feature extractor"
      ],
      "metadata": {
        "id": "_yqaVJ9YjHBP"
      }
    },
    {
      "cell_type": "markdown",
      "source": [
        "## import dependency"
      ],
      "metadata": {
        "id": "otJjxPStjOS2"
      }
    },
    {
      "cell_type": "code",
      "source": [
        "import pandas as pd\n",
        "import numpy as np\n",
        "import spacy\n",
        "from tqdm import tqdm\n",
        "import re\n",
        "import time\n",
        "import pickle\n",
        "from sklearn.model_selection import train_test_split\n",
        "import tensorflow_hub as hub\n",
        "import tensorflow as tf\n",
        "from sklearn.linear_model import LogisticRegression\n",
        "from sklearn.metrics import f1_score, accuracy_score\n",
        "from sklearn.preprocessing import LabelEncoder"
      ],
      "metadata": {
        "id": "ycP3BxkIjLP8"
      },
      "execution_count": null,
      "outputs": []
    },
    {
      "cell_type": "code",
      "source": [
        "tf.__version__"
      ],
      "metadata": {
        "colab": {
          "base_uri": "https://localhost:8080/",
          "height": 36
        },
        "id": "VJ8FxLKISsi6",
        "outputId": "6903a198-dddc-4aec-8d49-3b981355810d"
      },
      "execution_count": null,
      "outputs": [
        {
          "output_type": "execute_result",
          "data": {
            "text/plain": [
              "'2.12.0'"
            ],
            "application/vnd.google.colaboratory.intrinsic+json": {
              "type": "string"
            }
          },
          "metadata": {},
          "execution_count": 2
        }
      ]
    },
    {
      "cell_type": "markdown",
      "source": [
        "## import dataset\n",
        "we going to use sentiment data from US airline for sentiment analysis\n",
        "\n",
        "https://www.kaggle.com/datasets/crowdflower/twitter-airline-sentiment"
      ],
      "metadata": {
        "id": "-YrHciAQlx4l"
      }
    },
    {
      "cell_type": "code",
      "source": [
        "# import dataset\n",
        "df = pd.read_csv(r'https://raw.githubusercontent.com/satyajeetkrjha/kaggle-Twitter-US-Airline-Sentiment-/master/Tweets.csv')[['text','airline_sentiment']]\n",
        "df.columns = ['text','airline_sentiment']\n",
        "len(df)"
      ],
      "metadata": {
        "colab": {
          "base_uri": "https://localhost:8080/"
        },
        "id": "u5eUwxU5jkFr",
        "outputId": "e4d56613-1b51-4238-a93d-4f30302364a4"
      },
      "execution_count": null,
      "outputs": [
        {
          "output_type": "execute_result",
          "data": {
            "text/plain": [
              "14640"
            ]
          },
          "metadata": {},
          "execution_count": 3
        }
      ]
    },
    {
      "cell_type": "code",
      "source": [
        "df = df.head(1000)"
      ],
      "metadata": {
        "id": "wWXjj1qjYBGH"
      },
      "execution_count": null,
      "outputs": []
    },
    {
      "cell_type": "code",
      "source": [
        "labelencoder = LabelEncoder()\n",
        "df['label'] = labelencoder.fit_transform(df['airline_sentiment'])"
      ],
      "metadata": {
        "colab": {
          "base_uri": "https://localhost:8080/"
        },
        "id": "tDO9nDXHdHwA",
        "outputId": "acd0c7e3-2831-4e3f-b084-c42e5d9d7282"
      },
      "execution_count": null,
      "outputs": [
        {
          "output_type": "stream",
          "name": "stderr",
          "text": [
            "<ipython-input-5-20cf4e5bbea9>:2: SettingWithCopyWarning: \n",
            "A value is trying to be set on a copy of a slice from a DataFrame.\n",
            "Try using .loc[row_indexer,col_indexer] = value instead\n",
            "\n",
            "See the caveats in the documentation: https://pandas.pydata.org/pandas-docs/stable/user_guide/indexing.html#returning-a-view-versus-a-copy\n",
            "  df['label'] = labelencoder.fit_transform(df['airline_sentiment'])\n"
          ]
        }
      ]
    },
    {
      "cell_type": "markdown",
      "source": [
        "## data preprocessing\n",
        "only minor preprocessing is required to help the model learn faster for task specific"
      ],
      "metadata": {
        "id": "rmm_4OsSl7Ug"
      }
    },
    {
      "cell_type": "code",
      "source": [
        "# remove URL's from train and test\n",
        "df['clean_text'] = df['text'].apply(lambda x: re.sub(r'http\\S+', '', x))\n",
        "\n",
        "# remove punctuation marks\n",
        "punctuation = '@'\n",
        "df['clean_text'] = df['clean_text'].apply(lambda x: ''.join(ch for ch in x if ch not in set(punctuation)))\n",
        "\n",
        "# convert text to lowercase\n",
        "df['clean_text'] = df['clean_text'].str.lower()\n",
        "\n",
        "# remove whitespaces\n",
        "df['clean_text'] = df['clean_text'].apply(lambda x:' '.join(x.split()))"
      ],
      "metadata": {
        "colab": {
          "base_uri": "https://localhost:8080/"
        },
        "id": "teDLmPtylgGa",
        "outputId": "90a6ae6e-8fd7-49b4-e7ef-dd8b5510df65"
      },
      "execution_count": null,
      "outputs": [
        {
          "output_type": "stream",
          "name": "stderr",
          "text": [
            "<ipython-input-6-ae4eb8fc8d4c>:2: SettingWithCopyWarning: \n",
            "A value is trying to be set on a copy of a slice from a DataFrame.\n",
            "Try using .loc[row_indexer,col_indexer] = value instead\n",
            "\n",
            "See the caveats in the documentation: https://pandas.pydata.org/pandas-docs/stable/user_guide/indexing.html#returning-a-view-versus-a-copy\n",
            "  df['clean_text'] = df['text'].apply(lambda x: re.sub(r'http\\S+', '', x))\n",
            "<ipython-input-6-ae4eb8fc8d4c>:6: SettingWithCopyWarning: \n",
            "A value is trying to be set on a copy of a slice from a DataFrame.\n",
            "Try using .loc[row_indexer,col_indexer] = value instead\n",
            "\n",
            "See the caveats in the documentation: https://pandas.pydata.org/pandas-docs/stable/user_guide/indexing.html#returning-a-view-versus-a-copy\n",
            "  df['clean_text'] = df['clean_text'].apply(lambda x: ''.join(ch for ch in x if ch not in set(punctuation)))\n",
            "<ipython-input-6-ae4eb8fc8d4c>:9: SettingWithCopyWarning: \n",
            "A value is trying to be set on a copy of a slice from a DataFrame.\n",
            "Try using .loc[row_indexer,col_indexer] = value instead\n",
            "\n",
            "See the caveats in the documentation: https://pandas.pydata.org/pandas-docs/stable/user_guide/indexing.html#returning-a-view-versus-a-copy\n",
            "  df['clean_text'] = df['clean_text'].str.lower()\n",
            "<ipython-input-6-ae4eb8fc8d4c>:12: SettingWithCopyWarning: \n",
            "A value is trying to be set on a copy of a slice from a DataFrame.\n",
            "Try using .loc[row_indexer,col_indexer] = value instead\n",
            "\n",
            "See the caveats in the documentation: https://pandas.pydata.org/pandas-docs/stable/user_guide/indexing.html#returning-a-view-versus-a-copy\n",
            "  df['clean_text'] = df['clean_text'].apply(lambda x:' '.join(x.split()))\n"
          ]
        }
      ]
    },
    {
      "cell_type": "code",
      "source": [
        "df.head(10)"
      ],
      "metadata": {
        "colab": {
          "base_uri": "https://localhost:8080/",
          "height": 362
        },
        "id": "0-JGQ39Wlnff",
        "outputId": "50737f23-e710-43e8-84ef-659d9959d52c"
      },
      "execution_count": null,
      "outputs": [
        {
          "output_type": "execute_result",
          "data": {
            "text/plain": [
              "                                                text airline_sentiment  label  \\\n",
              "0                @VirginAmerica What @dhepburn said.           neutral      1   \n",
              "1  @VirginAmerica plus you've added commercials t...          positive      2   \n",
              "2  @VirginAmerica I didn't today... Must mean I n...           neutral      1   \n",
              "3  @VirginAmerica it's really aggressive to blast...          negative      0   \n",
              "4  @VirginAmerica and it's a really big bad thing...          negative      0   \n",
              "5  @VirginAmerica seriously would pay $30 a fligh...          negative      0   \n",
              "6  @VirginAmerica yes, nearly every time I fly VX...          positive      2   \n",
              "7  @VirginAmerica Really missed a prime opportuni...           neutral      1   \n",
              "8    @virginamerica Well, I didn't…but NOW I DO! :-D          positive      2   \n",
              "9  @VirginAmerica it was amazing, and arrived an ...          positive      2   \n",
              "\n",
              "                                          clean_text  \n",
              "0                  virginamerica what dhepburn said.  \n",
              "1  virginamerica plus you've added commercials to...  \n",
              "2  virginamerica i didn't today... must mean i ne...  \n",
              "3  virginamerica it's really aggressive to blast ...  \n",
              "4  virginamerica and it's a really big bad thing ...  \n",
              "5  virginamerica seriously would pay $30 a flight...  \n",
              "6  virginamerica yes, nearly every time i fly vx ...  \n",
              "7  virginamerica really missed a prime opportunit...  \n",
              "8     virginamerica well, i didn't…but now i do! :-d  \n",
              "9  virginamerica it was amazing, and arrived an h...  "
            ],
            "text/html": [
              "\n",
              "  <div id=\"df-b562d8ac-6fb6-4d77-905e-0f81e882d523\">\n",
              "    <div class=\"colab-df-container\">\n",
              "      <div>\n",
              "<style scoped>\n",
              "    .dataframe tbody tr th:only-of-type {\n",
              "        vertical-align: middle;\n",
              "    }\n",
              "\n",
              "    .dataframe tbody tr th {\n",
              "        vertical-align: top;\n",
              "    }\n",
              "\n",
              "    .dataframe thead th {\n",
              "        text-align: right;\n",
              "    }\n",
              "</style>\n",
              "<table border=\"1\" class=\"dataframe\">\n",
              "  <thead>\n",
              "    <tr style=\"text-align: right;\">\n",
              "      <th></th>\n",
              "      <th>text</th>\n",
              "      <th>airline_sentiment</th>\n",
              "      <th>label</th>\n",
              "      <th>clean_text</th>\n",
              "    </tr>\n",
              "  </thead>\n",
              "  <tbody>\n",
              "    <tr>\n",
              "      <th>0</th>\n",
              "      <td>@VirginAmerica What @dhepburn said.</td>\n",
              "      <td>neutral</td>\n",
              "      <td>1</td>\n",
              "      <td>virginamerica what dhepburn said.</td>\n",
              "    </tr>\n",
              "    <tr>\n",
              "      <th>1</th>\n",
              "      <td>@VirginAmerica plus you've added commercials t...</td>\n",
              "      <td>positive</td>\n",
              "      <td>2</td>\n",
              "      <td>virginamerica plus you've added commercials to...</td>\n",
              "    </tr>\n",
              "    <tr>\n",
              "      <th>2</th>\n",
              "      <td>@VirginAmerica I didn't today... Must mean I n...</td>\n",
              "      <td>neutral</td>\n",
              "      <td>1</td>\n",
              "      <td>virginamerica i didn't today... must mean i ne...</td>\n",
              "    </tr>\n",
              "    <tr>\n",
              "      <th>3</th>\n",
              "      <td>@VirginAmerica it's really aggressive to blast...</td>\n",
              "      <td>negative</td>\n",
              "      <td>0</td>\n",
              "      <td>virginamerica it's really aggressive to blast ...</td>\n",
              "    </tr>\n",
              "    <tr>\n",
              "      <th>4</th>\n",
              "      <td>@VirginAmerica and it's a really big bad thing...</td>\n",
              "      <td>negative</td>\n",
              "      <td>0</td>\n",
              "      <td>virginamerica and it's a really big bad thing ...</td>\n",
              "    </tr>\n",
              "    <tr>\n",
              "      <th>5</th>\n",
              "      <td>@VirginAmerica seriously would pay $30 a fligh...</td>\n",
              "      <td>negative</td>\n",
              "      <td>0</td>\n",
              "      <td>virginamerica seriously would pay $30 a flight...</td>\n",
              "    </tr>\n",
              "    <tr>\n",
              "      <th>6</th>\n",
              "      <td>@VirginAmerica yes, nearly every time I fly VX...</td>\n",
              "      <td>positive</td>\n",
              "      <td>2</td>\n",
              "      <td>virginamerica yes, nearly every time i fly vx ...</td>\n",
              "    </tr>\n",
              "    <tr>\n",
              "      <th>7</th>\n",
              "      <td>@VirginAmerica Really missed a prime opportuni...</td>\n",
              "      <td>neutral</td>\n",
              "      <td>1</td>\n",
              "      <td>virginamerica really missed a prime opportunit...</td>\n",
              "    </tr>\n",
              "    <tr>\n",
              "      <th>8</th>\n",
              "      <td>@virginamerica Well, I didn't…but NOW I DO! :-D</td>\n",
              "      <td>positive</td>\n",
              "      <td>2</td>\n",
              "      <td>virginamerica well, i didn't…but now i do! :-d</td>\n",
              "    </tr>\n",
              "    <tr>\n",
              "      <th>9</th>\n",
              "      <td>@VirginAmerica it was amazing, and arrived an ...</td>\n",
              "      <td>positive</td>\n",
              "      <td>2</td>\n",
              "      <td>virginamerica it was amazing, and arrived an h...</td>\n",
              "    </tr>\n",
              "  </tbody>\n",
              "</table>\n",
              "</div>\n",
              "      <button class=\"colab-df-convert\" onclick=\"convertToInteractive('df-b562d8ac-6fb6-4d77-905e-0f81e882d523')\"\n",
              "              title=\"Convert this dataframe to an interactive table.\"\n",
              "              style=\"display:none;\">\n",
              "        \n",
              "  <svg xmlns=\"http://www.w3.org/2000/svg\" height=\"24px\"viewBox=\"0 0 24 24\"\n",
              "       width=\"24px\">\n",
              "    <path d=\"M0 0h24v24H0V0z\" fill=\"none\"/>\n",
              "    <path d=\"M18.56 5.44l.94 2.06.94-2.06 2.06-.94-2.06-.94-.94-2.06-.94 2.06-2.06.94zm-11 1L8.5 8.5l.94-2.06 2.06-.94-2.06-.94L8.5 2.5l-.94 2.06-2.06.94zm10 10l.94 2.06.94-2.06 2.06-.94-2.06-.94-.94-2.06-.94 2.06-2.06.94z\"/><path d=\"M17.41 7.96l-1.37-1.37c-.4-.4-.92-.59-1.43-.59-.52 0-1.04.2-1.43.59L10.3 9.45l-7.72 7.72c-.78.78-.78 2.05 0 2.83L4 21.41c.39.39.9.59 1.41.59.51 0 1.02-.2 1.41-.59l7.78-7.78 2.81-2.81c.8-.78.8-2.07 0-2.86zM5.41 20L4 18.59l7.72-7.72 1.47 1.35L5.41 20z\"/>\n",
              "  </svg>\n",
              "      </button>\n",
              "      \n",
              "  <style>\n",
              "    .colab-df-container {\n",
              "      display:flex;\n",
              "      flex-wrap:wrap;\n",
              "      gap: 12px;\n",
              "    }\n",
              "\n",
              "    .colab-df-convert {\n",
              "      background-color: #E8F0FE;\n",
              "      border: none;\n",
              "      border-radius: 50%;\n",
              "      cursor: pointer;\n",
              "      display: none;\n",
              "      fill: #1967D2;\n",
              "      height: 32px;\n",
              "      padding: 0 0 0 0;\n",
              "      width: 32px;\n",
              "    }\n",
              "\n",
              "    .colab-df-convert:hover {\n",
              "      background-color: #E2EBFA;\n",
              "      box-shadow: 0px 1px 2px rgba(60, 64, 67, 0.3), 0px 1px 3px 1px rgba(60, 64, 67, 0.15);\n",
              "      fill: #174EA6;\n",
              "    }\n",
              "\n",
              "    [theme=dark] .colab-df-convert {\n",
              "      background-color: #3B4455;\n",
              "      fill: #D2E3FC;\n",
              "    }\n",
              "\n",
              "    [theme=dark] .colab-df-convert:hover {\n",
              "      background-color: #434B5C;\n",
              "      box-shadow: 0px 1px 3px 1px rgba(0, 0, 0, 0.15);\n",
              "      filter: drop-shadow(0px 1px 2px rgba(0, 0, 0, 0.3));\n",
              "      fill: #FFFFFF;\n",
              "    }\n",
              "  </style>\n",
              "\n",
              "      <script>\n",
              "        const buttonEl =\n",
              "          document.querySelector('#df-b562d8ac-6fb6-4d77-905e-0f81e882d523 button.colab-df-convert');\n",
              "        buttonEl.style.display =\n",
              "          google.colab.kernel.accessAllowed ? 'block' : 'none';\n",
              "\n",
              "        async function convertToInteractive(key) {\n",
              "          const element = document.querySelector('#df-b562d8ac-6fb6-4d77-905e-0f81e882d523');\n",
              "          const dataTable =\n",
              "            await google.colab.kernel.invokeFunction('convertToInteractive',\n",
              "                                                     [key], {});\n",
              "          if (!dataTable) return;\n",
              "\n",
              "          const docLinkHtml = 'Like what you see? Visit the ' +\n",
              "            '<a target=\"_blank\" href=https://colab.research.google.com/notebooks/data_table.ipynb>data table notebook</a>'\n",
              "            + ' to learn more about interactive tables.';\n",
              "          element.innerHTML = '';\n",
              "          dataTable['output_type'] = 'display_data';\n",
              "          await google.colab.output.renderOutput(dataTable, element);\n",
              "          const docLink = document.createElement('div');\n",
              "          docLink.innerHTML = docLinkHtml;\n",
              "          element.appendChild(docLink);\n",
              "        }\n",
              "      </script>\n",
              "    </div>\n",
              "  </div>\n",
              "  "
            ]
          },
          "metadata": {},
          "execution_count": 7
        }
      ]
    },
    {
      "cell_type": "markdown",
      "source": [
        "## pre-trained loading"
      ],
      "metadata": {
        "id": "yZ6DNBl41xgn"
      }
    },
    {
      "cell_type": "code",
      "source": [
        "elmo = hub.load(\"https://tfhub.dev/google/elmo/3\")"
      ],
      "metadata": {
        "id": "2y0DgS6KlJXF"
      },
      "execution_count": null,
      "outputs": []
    },
    {
      "cell_type": "code",
      "source": [
        "# test extract feature from the 1st document\n",
        "x = df['clean_text'].head().tolist()\n",
        "\n",
        "# Extract ELMo features \n",
        "embeddings = elmo.signatures[\"default\"](tf.constant(x))[\"elmo\"]\n",
        "embeddings.shape"
      ],
      "metadata": {
        "colab": {
          "base_uri": "https://localhost:8080/"
        },
        "id": "O_XI7G2AmTIE",
        "outputId": "b26f48a9-6276-491f-ca88-5af9983fb76c"
      },
      "execution_count": null,
      "outputs": [
        {
          "output_type": "execute_result",
          "data": {
            "text/plain": [
              "TensorShape([5, 17, 1024])"
            ]
          },
          "metadata": {},
          "execution_count": 10
        }
      ]
    },
    {
      "cell_type": "code",
      "source": [
        "# print the 1st document and its embedding matrix\n",
        "x[0], embeddings[0]"
      ],
      "metadata": {
        "colab": {
          "base_uri": "https://localhost:8080/"
        },
        "id": "zZ8s8S205jaj",
        "outputId": "658b9336-11f7-435a-d50b-f778cbb51c59"
      },
      "execution_count": null,
      "outputs": [
        {
          "output_type": "execute_result",
          "data": {
            "text/plain": [
              "('virginamerica what dhepburn said.',\n",
              " <tf.Tensor: shape=(17, 1024), dtype=float32, numpy=\n",
              " array([[ 0.2328333 , -0.2434732 ,  0.40921795, ...,  0.3118505 ,\n",
              "          0.2960112 , -0.1535493 ],\n",
              "        [ 0.60510397,  0.08181188,  0.2538871 , ...,  0.30966172,\n",
              "          0.06107214,  0.18624276],\n",
              "        [ 0.22881086, -0.11599298,  0.03148502, ..., -0.01174149,\n",
              "          0.28047734,  0.08254117],\n",
              "        ...,\n",
              "        [-0.0284084 , -0.04353216,  0.04130162, ...,  0.02583168,\n",
              "         -0.01429836, -0.01650422],\n",
              "        [-0.0284084 , -0.04353216,  0.04130162, ...,  0.02583168,\n",
              "         -0.01429836, -0.01650422],\n",
              "        [-0.0284084 , -0.04353216,  0.04130162, ...,  0.02583168,\n",
              "         -0.01429836, -0.01650422]], dtype=float32)>)"
            ]
          },
          "metadata": {},
          "execution_count": 11
        }
      ]
    },
    {
      "cell_type": "markdown",
      "source": [
        "## feature extraction"
      ],
      "metadata": {
        "id": "ktmRg0i02Ooe"
      }
    },
    {
      "cell_type": "code",
      "source": [
        "elmo_data = elmo.signatures[\"default\"](tf.constant(df['clean_text']))[\"elmo\"]"
      ],
      "metadata": {
        "id": "TzXID0EYNBix"
      },
      "execution_count": null,
      "outputs": []
    },
    {
      "cell_type": "code",
      "source": [
        "# elmo_train.shape,elmo_test.shape\n",
        "elmo_data.shape"
      ],
      "metadata": {
        "colab": {
          "base_uri": "https://localhost:8080/"
        },
        "id": "IZqETaHXfH1b",
        "outputId": "ab8ce438-1106-4451-81f1-206d54a0171c"
      },
      "execution_count": null,
      "outputs": [
        {
          "output_type": "execute_result",
          "data": {
            "text/plain": [
              "TensorShape([1000, 32, 1024])"
            ]
          },
          "metadata": {},
          "execution_count": 13
        }
      ]
    },
    {
      "cell_type": "markdown",
      "source": [],
      "metadata": {
        "id": "JqTgYMrvt_Pv"
      }
    },
    {
      "cell_type": "code",
      "source": [
        "# elmo_train_new = tf.reshape(elmo_train, [len(elmo_train),-1])\n",
        "# elmo_test_new = tf.reshape(elmo_test, [len(elmo_test),-1])\n",
        "elmo_data_new = tf.reshape(elmo_data, [len(elmo_data),-1])"
      ],
      "metadata": {
        "id": "0npINqjefrzT"
      },
      "execution_count": null,
      "outputs": []
    },
    {
      "cell_type": "code",
      "source": [
        "# split train test\n",
        "elmo_train_new, elmo_test_new, y_train, y_test = train_test_split(elmo_data_new.numpy(), df['label'].values, test_size=0.20, random_state=42)"
      ],
      "metadata": {
        "id": "rfwLn3VQr5kx"
      },
      "execution_count": null,
      "outputs": []
    },
    {
      "cell_type": "code",
      "source": [
        "# elmo_train_new.shape,elmo_test_new.shape\n",
        "elmo_train_new.shape, elmo_test_new.shape"
      ],
      "metadata": {
        "colab": {
          "base_uri": "https://localhost:8080/"
        },
        "id": "vYJYVzEztU00",
        "outputId": "51f74909-7687-488e-a81f-1130bbc1963f"
      },
      "execution_count": null,
      "outputs": [
        {
          "output_type": "execute_result",
          "data": {
            "text/plain": [
              "((800, 32768), (200, 32768))"
            ]
          },
          "metadata": {},
          "execution_count": 25
        }
      ]
    },
    {
      "cell_type": "markdown",
      "source": [
        "## save and load embedding"
      ],
      "metadata": {
        "id": "4k52mwQW2iEO"
      }
    },
    {
      "cell_type": "code",
      "source": [
        "# save elmo_train_new\n",
        "pickle_out = open(\"elmo_train.pickle\",\"wb\")\n",
        "pickle.dump(elmo_train_new, pickle_out)\n",
        "pickle_out.close()\n",
        "\n",
        "# save elmo_test_new\n",
        "pickle_out = open(\"elmo_test.pickle\",\"wb\")\n",
        "pickle.dump(elmo_test_new, pickle_out)\n",
        "pickle_out.close()"
      ],
      "metadata": {
        "id": "Thp00D-YXvC1"
      },
      "execution_count": null,
      "outputs": []
    },
    {
      "cell_type": "code",
      "source": [
        "# load elmo_train_new\n",
        "pickle_in = open(\"elmo_train.pickle\", \"rb\")\n",
        "elmo_train_new = pickle.load(pickle_in)\n",
        "\n",
        "# load elmo_train_new\n",
        "pickle_in = open(\"elmo_test.pickle\", \"rb\")\n",
        "elmo_test_new = pickle.load(pickle_in)"
      ],
      "metadata": {
        "id": "6SCfH-eTYTGF"
      },
      "execution_count": null,
      "outputs": []
    },
    {
      "cell_type": "markdown",
      "source": [
        "## modeling using LR"
      ],
      "metadata": {
        "id": "rrECiRoo2ps_"
      }
    },
    {
      "cell_type": "code",
      "source": [
        "clf = LogisticRegression(random_state=0).fit(elmo_train_new, y_train)"
      ],
      "metadata": {
        "colab": {
          "base_uri": "https://localhost:8080/"
        },
        "id": "5NgxvjniYb2W",
        "outputId": "332cb017-3711-40a8-8c04-831c7b303c08"
      },
      "execution_count": null,
      "outputs": [
        {
          "output_type": "stream",
          "name": "stderr",
          "text": [
            "/usr/local/lib/python3.9/dist-packages/sklearn/linear_model/_logistic.py:458: ConvergenceWarning: lbfgs failed to converge (status=1):\n",
            "STOP: TOTAL NO. of ITERATIONS REACHED LIMIT.\n",
            "\n",
            "Increase the number of iterations (max_iter) or scale the data as shown in:\n",
            "    https://scikit-learn.org/stable/modules/preprocessing.html\n",
            "Please also refer to the documentation for alternative solver options:\n",
            "    https://scikit-learn.org/stable/modules/linear_model.html#logistic-regression\n",
            "  n_iter_i = _check_optimize_result(\n"
          ]
        }
      ]
    },
    {
      "cell_type": "code",
      "source": [
        "preds_test = clf.predict(elmo_test_new)"
      ],
      "metadata": {
        "id": "AJNODk-heaAg"
      },
      "execution_count": null,
      "outputs": []
    },
    {
      "cell_type": "markdown",
      "source": [
        "## evaluate model"
      ],
      "metadata": {
        "id": "0JfFxhtK2xz_"
      }
    },
    {
      "cell_type": "code",
      "source": [
        "f1_score(y_test, preds_test,average='macro')"
      ],
      "metadata": {
        "colab": {
          "base_uri": "https://localhost:8080/"
        },
        "id": "m_EtgwIncD0s",
        "outputId": "d9060cbb-5061-445e-a662-ad326c03872c"
      },
      "execution_count": null,
      "outputs": [
        {
          "output_type": "execute_result",
          "data": {
            "text/plain": [
              "0.6137936471217681"
            ]
          },
          "metadata": {},
          "execution_count": 24
        }
      ]
    },
    {
      "cell_type": "code",
      "source": [
        "accuracy_score(y_test, preds_test)"
      ],
      "metadata": {
        "colab": {
          "base_uri": "https://localhost:8080/"
        },
        "id": "432C8sCNhh53",
        "outputId": "3f618116-724a-414b-9077-f730c8034118"
      },
      "execution_count": null,
      "outputs": [
        {
          "output_type": "execute_result",
          "data": {
            "text/plain": [
              "0.695"
            ]
          },
          "metadata": {},
          "execution_count": 22
        }
      ]
    }
  ]
}