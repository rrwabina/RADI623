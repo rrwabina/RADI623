{
  "cells": [
    {
      "cell_type": "markdown",
      "metadata": {
        "id": "EfZuyit3r0Bk"
      },
      "source": [
        "# ULM-FiT for sentiment analysis\n"
      ]
    },
    {
      "cell_type": "markdown",
      "metadata": {
        "id": "gJ_bF2J5BDdi"
      },
      "source": [
        "## import dependency"
      ]
    },
    {
      "cell_type": "code",
      "execution_count": 1,
      "metadata": {
        "id": "4ffpJ23OmIEG"
      },
      "outputs": [],
      "source": [
        "import pandas as pd\n",
        "import numpy as np\n",
        "from tqdm import tqdm\n",
        "from fastai.text.all import *"
      ]
    },
    {
      "cell_type": "markdown",
      "metadata": {
        "id": "jW8IvimDBMS_"
      },
      "source": [
        "## import dataset\n",
        "we going to use sentiment data from US airline for sentiment analysis\n",
        "\n",
        "https://www.kaggle.com/datasets/crowdflower/twitter-airline-sentiment"
      ]
    },
    {
      "cell_type": "code",
      "execution_count": null,
      "metadata": {
        "colab": {
          "base_uri": "https://localhost:8080/"
        },
        "id": "acjrKQ6cYE5z",
        "outputId": "d4d8537a-c3bd-4625-c84e-54a34a715742"
      },
      "outputs": [
        {
          "data": {
            "text/plain": [
              "14640"
            ]
          },
          "execution_count": 2,
          "metadata": {},
          "output_type": "execute_result"
        }
      ],
      "source": [
        "# import dataset\n",
        "df = pd.read_csv(r'https://raw.githubusercontent.com/satyajeetkrjha/kaggle-Twitter-US-Airline-Sentiment-/master/Tweets.csv')[['text','airline_sentiment']]\n",
        "df.columns = ['text','label']\n",
        "len(df)"
      ]
    },
    {
      "cell_type": "code",
      "execution_count": null,
      "metadata": {
        "colab": {
          "base_uri": "https://localhost:8080/"
        },
        "id": "-2pLdDE4YL7S",
        "outputId": "4a9aca93-c3a2-4f38-ae72-c6e2d2e9dc50"
      },
      "outputs": [
        {
          "data": {
            "text/plain": [
              "14640"
            ]
          },
          "execution_count": 3,
          "metadata": {},
          "output_type": "execute_result"
        }
      ],
      "source": [
        "df = df[df['label'].notna()]\n",
        "len(df)"
      ]
    },
    {
      "cell_type": "code",
      "execution_count": null,
      "metadata": {
        "colab": {
          "base_uri": "https://localhost:8080/",
          "height": 17
        },
        "id": "TSptKE-tY5xY",
        "outputId": "5fb1f56d-fb32-4c17-a4d8-de9aca1addac"
      },
      "outputs": [
        {
          "data": {
            "text/html": [
              "\n",
              "<style>\n",
              "    /* Turns off some styling */\n",
              "    progress {\n",
              "        /* gets rid of default border in Firefox and Opera. */\n",
              "        border: none;\n",
              "        /* Needs to be in here for Safari polyfill so background images work as expected. */\n",
              "        background-size: auto;\n",
              "    }\n",
              "    progress:not([value]), progress:not([value])::-webkit-progress-bar {\n",
              "        background: repeating-linear-gradient(45deg, #7e7e7e, #7e7e7e 10px, #5c5c5c 10px, #5c5c5c 20px);\n",
              "    }\n",
              "    .progress-bar-interrupted, .progress-bar-interrupted::-webkit-progress-bar {\n",
              "        background: #F44336;\n",
              "    }\n",
              "</style>\n"
            ],
            "text/plain": [
              "<IPython.core.display.HTML object>"
            ]
          },
          "metadata": {},
          "output_type": "display_data"
        },
        {
          "data": {
            "text/html": [],
            "text/plain": [
              "<IPython.core.display.HTML object>"
            ]
          },
          "metadata": {},
          "output_type": "display_data"
        }
      ],
      "source": [
        "# create fastai dataset\n",
        "data_lm = TextDataLoaders.from_df(df)"
      ]
    },
    {
      "cell_type": "code",
      "execution_count": null,
      "metadata": {
        "colab": {
          "base_uri": "https://localhost:8080/"
        },
        "id": "pBaHfBWCZbXt",
        "outputId": "443b809b-cb55-47e1-fff5-0b57b18d0e5a"
      },
      "outputs": [
        {
          "data": {
            "text/html": [
              "<table border=\"1\" class=\"dataframe\">\n",
              "  <thead>\n",
              "    <tr style=\"text-align: right;\">\n",
              "      <th></th>\n",
              "      <th>text</th>\n",
              "      <th>category</th>\n",
              "    </tr>\n",
              "  </thead>\n",
              "  <tbody>\n",
              "    <tr>\n",
              "      <th>0</th>\n",
              "      <td>xxbos @united xxmaj hi have a question re future xxmaj flight xxmaj booking xxmaj problems . xxup dub - jac 29 / 9 xxup jac - lax 8 / 10 xxup lax - dub 13 / 10 . xxmaj i 'm * g. xxmaj what is checked bag allowance for xxup jac - lax ?</td>\n",
              "      <td>neutral</td>\n",
              "    </tr>\n",
              "    <tr>\n",
              "      <th>1</th>\n",
              "      <td>xxbos @usairways xxup xxunk u xxup us xxup airways xxup with xxup yo xxup shitty xxup chicken xxup xxunk xxup sandwich xxup that xxup so xxup xxunk xxup and u xxup xxunk xxup make xxup me xxup wait xxup in a 6 xxup hr xxup layover xxup xxunk u xxup and</td>\n",
              "      <td>negative</td>\n",
              "    </tr>\n",
              "    <tr>\n",
              "      <th>2</th>\n",
              "      <td>xxbos @virginamerica xxmaj many xxmaj thanks for the xxmaj follow . \\n▁ # xxunk # xxunk # xxup usa # xxmaj xxunk \\n xxmaj looking for xxmaj any xxmaj help 😍 \\n 💗 🇬 🇧 💗 🇺 🇸 💗 \\n 🎀 xxunk 🎀 http : / / t.co / xxunk</td>\n",
              "      <td>neutral</td>\n",
              "    </tr>\n",
              "    <tr>\n",
              "      <th>3</th>\n",
              "      <td>xxbos @usairways 4 segments , 4 / 4 delayed . xxmaj gnv &gt; xxup ctl . xxup ctl &gt; xxup jan . xxup jan &gt; xxup ctl . xxup ctl &gt; xxup gnv . xxmaj my year off from flying with you guys was the way to go .</td>\n",
              "      <td>negative</td>\n",
              "    </tr>\n",
              "    <tr>\n",
              "      <th>4</th>\n",
              "      <td>xxbos @americanair xxmaj hi . i have xxup koa - lax - phl - ord booked as a 1 - way xxunk xxunk . xxmaj if i called to xxunk it to xxup koa - lax - phx - ord would i have to pay any fees</td>\n",
              "      <td>neutral</td>\n",
              "    </tr>\n",
              "  </tbody>\n",
              "</table>"
            ],
            "text/plain": [
              "<IPython.core.display.HTML object>"
            ]
          },
          "metadata": {},
          "output_type": "display_data"
        }
      ],
      "source": [
        "# show top 5 samples\n",
        "data_lm.show_batch(max_n=5)"
      ]
    },
    {
      "cell_type": "markdown",
      "metadata": {
        "id": "w71nnPiPb_2p"
      },
      "source": [
        "## fine-tuning pre-trained model"
      ]
    },
    {
      "cell_type": "code",
      "execution_count": null,
      "metadata": {
        "id": "-_xZ9vFWjdpp"
      },
      "outputs": [],
      "source": [
        "# feed dataloader from fastai \n",
        "# select the pre-trained model, --> AWD_LSTM is a based model for UMLFiT\n",
        "# set dropout at 0.5\n",
        "# use accuracy as a monitoring metric\n",
        "# apply mix precision to reduce training time --> to_fp16()\n",
        "## set model configuation\n",
        "learn = text_classifier_learner(data_lm, AWD_LSTM, drop_mult=0.5, metrics=accuracy).to_fp16()"
      ]
    },
    {
      "cell_type": "markdown",
      "metadata": {
        "id": "-ex0fsGhepuZ"
      },
      "source": [
        "![image.png](data:image/png;base64,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)"
      ]
    },
    {
      "cell_type": "markdown",
      "metadata": {
        "id": "Tjv3uSQeetF-"
      },
      "source": [
        "we will perform C, fine-tuning model by task specific, which is the sentiment analysis"
      ]
    },
    {
      "cell_type": "code",
      "execution_count": null,
      "metadata": {
        "colab": {
          "base_uri": "https://localhost:8080/",
          "height": 238
        },
        "id": "4AYmauLKjiq-",
        "outputId": "17d1d97f-5301-44e2-cddd-80cc1895dd08"
      },
      "outputs": [
        {
          "data": {
            "text/html": [
              "\n",
              "<style>\n",
              "    /* Turns off some styling */\n",
              "    progress {\n",
              "        /* gets rid of default border in Firefox and Opera. */\n",
              "        border: none;\n",
              "        /* Needs to be in here for Safari polyfill so background images work as expected. */\n",
              "        background-size: auto;\n",
              "    }\n",
              "    progress:not([value]), progress:not([value])::-webkit-progress-bar {\n",
              "        background: repeating-linear-gradient(45deg, #7e7e7e, #7e7e7e 10px, #5c5c5c 10px, #5c5c5c 20px);\n",
              "    }\n",
              "    .progress-bar-interrupted, .progress-bar-interrupted::-webkit-progress-bar {\n",
              "        background: #F44336;\n",
              "    }\n",
              "</style>\n"
            ],
            "text/plain": [
              "<IPython.core.display.HTML object>"
            ]
          },
          "metadata": {},
          "output_type": "display_data"
        },
        {
          "data": {
            "text/html": [
              "<table border=\"1\" class=\"dataframe\">\n",
              "  <thead>\n",
              "    <tr style=\"text-align: left;\">\n",
              "      <th>epoch</th>\n",
              "      <th>train_loss</th>\n",
              "      <th>valid_loss</th>\n",
              "      <th>accuracy</th>\n",
              "      <th>time</th>\n",
              "    </tr>\n",
              "  </thead>\n",
              "  <tbody>\n",
              "    <tr>\n",
              "      <td>0</td>\n",
              "      <td>0.816099</td>\n",
              "      <td>0.676112</td>\n",
              "      <td>0.724727</td>\n",
              "      <td>00:18</td>\n",
              "    </tr>\n",
              "  </tbody>\n",
              "</table>"
            ],
            "text/plain": [
              "<IPython.core.display.HTML object>"
            ]
          },
          "metadata": {},
          "output_type": "display_data"
        },
        {
          "data": {
            "text/html": [
              "\n",
              "<style>\n",
              "    /* Turns off some styling */\n",
              "    progress {\n",
              "        /* gets rid of default border in Firefox and Opera. */\n",
              "        border: none;\n",
              "        /* Needs to be in here for Safari polyfill so background images work as expected. */\n",
              "        background-size: auto;\n",
              "    }\n",
              "    progress:not([value]), progress:not([value])::-webkit-progress-bar {\n",
              "        background: repeating-linear-gradient(45deg, #7e7e7e, #7e7e7e 10px, #5c5c5c 10px, #5c5c5c 20px);\n",
              "    }\n",
              "    .progress-bar-interrupted, .progress-bar-interrupted::-webkit-progress-bar {\n",
              "        background: #F44336;\n",
              "    }\n",
              "</style>\n"
            ],
            "text/plain": [
              "<IPython.core.display.HTML object>"
            ]
          },
          "metadata": {},
          "output_type": "display_data"
        },
        {
          "data": {
            "text/html": [
              "<table border=\"1\" class=\"dataframe\">\n",
              "  <thead>\n",
              "    <tr style=\"text-align: left;\">\n",
              "      <th>epoch</th>\n",
              "      <th>train_loss</th>\n",
              "      <th>valid_loss</th>\n",
              "      <th>accuracy</th>\n",
              "      <th>time</th>\n",
              "    </tr>\n",
              "  </thead>\n",
              "  <tbody>\n",
              "    <tr>\n",
              "      <td>0</td>\n",
              "      <td>0.661463</td>\n",
              "      <td>0.561227</td>\n",
              "      <td>0.766052</td>\n",
              "      <td>00:19</td>\n",
              "    </tr>\n",
              "    <tr>\n",
              "      <td>1</td>\n",
              "      <td>0.590536</td>\n",
              "      <td>0.496913</td>\n",
              "      <td>0.797814</td>\n",
              "      <td>00:19</td>\n",
              "    </tr>\n",
              "    <tr>\n",
              "      <td>2</td>\n",
              "      <td>0.503170</td>\n",
              "      <td>0.487878</td>\n",
              "      <td>0.809426</td>\n",
              "      <td>00:20</td>\n",
              "    </tr>\n",
              "    <tr>\n",
              "      <td>3</td>\n",
              "      <td>0.377850</td>\n",
              "      <td>0.488516</td>\n",
              "      <td>0.815915</td>\n",
              "      <td>00:20</td>\n",
              "    </tr>\n",
              "  </tbody>\n",
              "</table>"
            ],
            "text/plain": [
              "<IPython.core.display.HTML object>"
            ]
          },
          "metadata": {},
          "output_type": "display_data"
        }
      ],
      "source": [
        "# fine-tuning pre-trained model for 4 epochs with learning rate of 1e-2\n",
        "  # learning rate must be lower as 1e-5 to 1e-6, with larger number of epochs\n",
        "learn.fine_tune(4, 1e-2)"
      ]
    },
    {
      "cell_type": "code",
      "execution_count": null,
      "metadata": {
        "colab": {
          "base_uri": "https://localhost:8080/",
          "height": 470
        },
        "id": "H-FAsvvSjvgC",
        "outputId": "5a335530-705f-48c0-9d3b-df34347b25b6"
      },
      "outputs": [
        {
          "data": {
            "text/html": [
              "\n",
              "<style>\n",
              "    /* Turns off some styling */\n",
              "    progress {\n",
              "        /* gets rid of default border in Firefox and Opera. */\n",
              "        border: none;\n",
              "        /* Needs to be in here for Safari polyfill so background images work as expected. */\n",
              "        background-size: auto;\n",
              "    }\n",
              "    progress:not([value]), progress:not([value])::-webkit-progress-bar {\n",
              "        background: repeating-linear-gradient(45deg, #7e7e7e, #7e7e7e 10px, #5c5c5c 10px, #5c5c5c 20px);\n",
              "    }\n",
              "    .progress-bar-interrupted, .progress-bar-interrupted::-webkit-progress-bar {\n",
              "        background: #F44336;\n",
              "    }\n",
              "</style>\n"
            ],
            "text/plain": [
              "<IPython.core.display.HTML object>"
            ]
          },
          "metadata": {},
          "output_type": "display_data"
        },
        {
          "data": {
            "text/html": [],
            "text/plain": [
              "<IPython.core.display.HTML object>"
            ]
          },
          "metadata": {},
          "output_type": "display_data"
        },
        {
          "data": {
            "text/html": [
              "<table border=\"1\" class=\"dataframe\">\n",
              "  <thead>\n",
              "    <tr style=\"text-align: right;\">\n",
              "      <th></th>\n",
              "      <th>text</th>\n",
              "      <th>category</th>\n",
              "      <th>category_</th>\n",
              "    </tr>\n",
              "  </thead>\n",
              "  <tbody>\n",
              "    <tr>\n",
              "      <th>0</th>\n",
              "      <td>xxbos @usairways e xxrep 4 y ! xxmaj cancelled xxmaj flightlations , xxmaj flight xxmaj booking xxmaj problemss , reflight xxmaj booking xxmaj problemss , but y' all got me on the same flight out tonight ( not tomorrow ) &amp; &amp; the xxup fc upgrade . xxmaj thx !</td>\n",
              "      <td>positive</td>\n",
              "      <td>negative</td>\n",
              "    </tr>\n",
              "    <tr>\n",
              "      <th>1</th>\n",
              "      <td>xxbos @united xxmaj hi , xxmaj i m flying xxup sfo - lax - xxunk - xxunk . xxmaj my connecting time in xxup lax is xxunk m. xxmaj is it enough time ? xxmaj do i have to collect my bag and xxunk on xxup xxunk ?</td>\n",
              "      <td>neutral</td>\n",
              "      <td>neutral</td>\n",
              "    </tr>\n",
              "    <tr>\n",
              "      <th>2</th>\n",
              "      <td>xxbos .@americanair ( 2 / 3 ) … i sat on the runway for 4 xxup more xxup hrs b4 takeoff ( 10 hrs xxmaj late xxmaj flight , xxunk xxup am ) . xxmaj pilot xxunk stated it was a comp / mech issue .</td>\n",
              "      <td>negative</td>\n",
              "      <td>negative</td>\n",
              "    </tr>\n",
              "    <tr>\n",
              "      <th>3</th>\n",
              "      <td>xxbos @united xxmaj this is xxup not a local xxup united number for xxmaj xxunk xxunk xxunk xxrep 4 5 8 xxrep 3 0 . xxmaj what is your local xxmaj united xxmaj airlines here in xxmaj xxunk xxmaj xxunk ( xxup xxunk ) ?</td>\n",
              "      <td>neutral</td>\n",
              "      <td>negative</td>\n",
              "    </tr>\n",
              "    <tr>\n",
              "      <th>4</th>\n",
              "      <td>xxbos @usairways xxup you xxup are xxup amazing xxrep 3 ! xxup you xxup are xxup the xxup best xxrep 3 ! xxup follow xxup me xxup please xxup and i xxup follow xxup you xxup back ;) xxrep 3 🙏 ✌ ️ 😉 )</td>\n",
              "      <td>positive</td>\n",
              "      <td>positive</td>\n",
              "    </tr>\n",
              "    <tr>\n",
              "      <th>5</th>\n",
              "      <td>xxbos @usairways i need help . xxmaj in air on # xxunk to xxup clt from xxup phl . xxmaj conf : xxup xxunk xxmaj need confirmed on # xxunk to xxup bna at 10:30 . xxmaj been bumped all day , need home</td>\n",
              "      <td>negative</td>\n",
              "      <td>negative</td>\n",
              "    </tr>\n",
              "    <tr>\n",
              "      <th>6</th>\n",
              "      <td>xxbos @southwestair no delay . i pay $ xxrep 3 7 xxunk for xxup bs xxup a1 ticket . xxmaj you boarded flight early . xxmaj i 'm last to board . xxmaj now have middle seat . xxmaj wasted xxrep 4 $ !</td>\n",
              "      <td>negative</td>\n",
              "      <td>negative</td>\n",
              "    </tr>\n",
              "    <tr>\n",
              "      <th>7</th>\n",
              "      <td>xxbos @united xxmaj waiting for xxunk xxup ewr - ord , delayed 47 mins . xxmaj might miss xxunk xxup ord - xxunk at 6 pm xxup ct . xxmaj any room on xxunk xxup ord - xxunk in case i miss xxunk ?</td>\n",
              "      <td>negative</td>\n",
              "      <td>negative</td>\n",
              "    </tr>\n",
              "    <tr>\n",
              "      <th>8</th>\n",
              "      <td>xxbos @americanair xxmaj as i already have a booked flight that i ca n't use &amp; &amp; ca n't change w / o a $ 200 fee , xxmaj flight xxmaj booking xxmaj problems a different type of ticket … 1 / 2</td>\n",
              "      <td>negative</td>\n",
              "      <td>negative</td>\n",
              "    </tr>\n",
              "  </tbody>\n",
              "</table>"
            ],
            "text/plain": [
              "<IPython.core.display.HTML object>"
            ]
          },
          "metadata": {},
          "output_type": "display_data"
        }
      ],
      "source": [
        "# print a precdiction results\n",
        "learn.show_results()"
      ]
    },
    {
      "cell_type": "code",
      "execution_count": null,
      "metadata": {
        "colab": {
          "base_uri": "https://localhost:8080/",
          "height": 35
        },
        "id": "1-8beH92jzrb",
        "outputId": "bd42f98d-fa98-4483-9146-e5f00084e0e0"
      },
      "outputs": [
        {
          "data": {
            "text/html": [
              "\n",
              "<style>\n",
              "    /* Turns off some styling */\n",
              "    progress {\n",
              "        /* gets rid of default border in Firefox and Opera. */\n",
              "        border: none;\n",
              "        /* Needs to be in here for Safari polyfill so background images work as expected. */\n",
              "        background-size: auto;\n",
              "    }\n",
              "    progress:not([value]), progress:not([value])::-webkit-progress-bar {\n",
              "        background: repeating-linear-gradient(45deg, #7e7e7e, #7e7e7e 10px, #5c5c5c 10px, #5c5c5c 20px);\n",
              "    }\n",
              "    .progress-bar-interrupted, .progress-bar-interrupted::-webkit-progress-bar {\n",
              "        background: #F44336;\n",
              "    }\n",
              "</style>\n"
            ],
            "text/plain": [
              "<IPython.core.display.HTML object>"
            ]
          },
          "metadata": {},
          "output_type": "display_data"
        },
        {
          "data": {
            "text/html": [],
            "text/plain": [
              "<IPython.core.display.HTML object>"
            ]
          },
          "metadata": {},
          "output_type": "display_data"
        },
        {
          "data": {
            "text/plain": [
              "('negative', tensor(0), tensor([0.4532, 0.1383, 0.4085]))"
            ]
          },
          "execution_count": 9,
          "metadata": {},
          "output_type": "execute_result"
        }
      ],
      "source": [
        "# test a model with new sentence\n",
        "learn.predict(\"I really liked that movie!\")"
      ]
    },
    {
      "cell_type": "code",
      "execution_count": null,
      "metadata": {
        "colab": {
          "base_uri": "https://localhost:8080/",
          "height": 35
        },
        "id": "N7bax8Adf6Qt",
        "outputId": "5788d71c-acb3-499d-d733-4aa792709c57"
      },
      "outputs": [
        {
          "data": {
            "text/html": [
              "\n",
              "<style>\n",
              "    /* Turns off some styling */\n",
              "    progress {\n",
              "        /* gets rid of default border in Firefox and Opera. */\n",
              "        border: none;\n",
              "        /* Needs to be in here for Safari polyfill so background images work as expected. */\n",
              "        background-size: auto;\n",
              "    }\n",
              "    progress:not([value]), progress:not([value])::-webkit-progress-bar {\n",
              "        background: repeating-linear-gradient(45deg, #7e7e7e, #7e7e7e 10px, #5c5c5c 10px, #5c5c5c 20px);\n",
              "    }\n",
              "    .progress-bar-interrupted, .progress-bar-interrupted::-webkit-progress-bar {\n",
              "        background: #F44336;\n",
              "    }\n",
              "</style>\n"
            ],
            "text/plain": [
              "<IPython.core.display.HTML object>"
            ]
          },
          "metadata": {},
          "output_type": "display_data"
        },
        {
          "data": {
            "text/html": [],
            "text/plain": [
              "<IPython.core.display.HTML object>"
            ]
          },
          "metadata": {},
          "output_type": "display_data"
        },
        {
          "data": {
            "text/plain": [
              "('negative', tensor(0), tensor([0.8756, 0.1128, 0.0117]))"
            ]
          },
          "execution_count": 10,
          "metadata": {},
          "output_type": "execute_result"
        }
      ],
      "source": [
        "learn.predict(\"I do not like that movie!\")"
      ]
    },
    {
      "cell_type": "markdown",
      "metadata": {
        "id": "eW5VTABngJ2-"
      },
      "source": [
        "## save and load fine-tuned model"
      ]
    },
    {
      "cell_type": "code",
      "execution_count": null,
      "metadata": {
        "id": "VAmd_AG9k5Sg"
      },
      "outputs": [],
      "source": [
        "# save learner\n",
        "# save into /models/awd_lstm_fully_trained_export\n",
        "learn.export('awd_lstm_fully_trained_export')"
      ]
    },
    {
      "cell_type": "code",
      "execution_count": null,
      "metadata": {
        "id": "8UT8tGBjnd1J"
      },
      "outputs": [],
      "source": [
        "def get_learner_for_inference(export_model_path: str):\n",
        "    learn = load_learner(export_model_path).to_fp16()\n",
        "    # ensure learner is loaded on gpu cuda\n",
        "    learn.dls.cuda()\n",
        "    print(f'Learner stored on {learn.dls.device.type}')\n",
        "    return learn"
      ]
    },
    {
      "cell_type": "code",
      "execution_count": null,
      "metadata": {
        "colab": {
          "base_uri": "https://localhost:8080/"
        },
        "id": "wCWBHxd_ntCX",
        "outputId": "54e1cbe4-648f-4cb2-d84b-b6111e30c411"
      },
      "outputs": [
        {
          "name": "stdout",
          "output_type": "stream",
          "text": [
            "Learner stored on cuda\n"
          ]
        }
      ],
      "source": [
        "learn = get_learner_for_inference('/content/awd_lstm_fully_trained_export')"
      ]
    },
    {
      "cell_type": "markdown",
      "metadata": {
        "id": "5SI-7zMzgc3X"
      },
      "source": [
        "## model evaluation"
      ]
    },
    {
      "cell_type": "markdown",
      "metadata": {
        "id": "YZw-IyzkgkMY"
      },
      "source": [
        "we only evaluate the model for task specific not for LM"
      ]
    },
    {
      "cell_type": "code",
      "execution_count": null,
      "metadata": {
        "id": "0AnUk1Edvt66"
      },
      "outputs": [],
      "source": [
        "# to save time only select first 200 samples for evaluation purpose\n",
        "y_true = df['label'].head(200)"
      ]
    },
    {
      "cell_type": "code",
      "execution_count": null,
      "metadata": {
        "colab": {
          "base_uri": "https://localhost:8080/",
          "height": 17
        },
        "id": "akMF6PghdMif",
        "outputId": "ade1c455-148b-43cb-e5dd-dfaaaa8321f2"
      },
      "outputs": [
        {
          "data": {
            "text/html": [
              "\n",
              "<style>\n",
              "    /* Turns off some styling */\n",
              "    progress {\n",
              "        /* gets rid of default border in Firefox and Opera. */\n",
              "        border: none;\n",
              "        /* Needs to be in here for Safari polyfill so background images work as expected. */\n",
              "        background-size: auto;\n",
              "    }\n",
              "    progress:not([value]), progress:not([value])::-webkit-progress-bar {\n",
              "        background: repeating-linear-gradient(45deg, #7e7e7e, #7e7e7e 10px, #5c5c5c 10px, #5c5c5c 20px);\n",
              "    }\n",
              "    .progress-bar-interrupted, .progress-bar-interrupted::-webkit-progress-bar {\n",
              "        background: #F44336;\n",
              "    }\n",
              "</style>\n"
            ],
            "text/plain": [
              "<IPython.core.display.HTML object>"
            ]
          },
          "metadata": {},
          "output_type": "display_data"
        },
        {
          "data": {
            "text/html": [],
            "text/plain": [
              "<IPython.core.display.HTML object>"
            ]
          },
          "metadata": {},
          "output_type": "display_data"
        },
        {
          "data": {
            "text/html": [
              "\n",
              "<style>\n",
              "    /* Turns off some styling */\n",
              "    progress {\n",
              "        /* gets rid of default border in Firefox and Opera. */\n",
              "        border: none;\n",
              "        /* Needs to be in here for Safari polyfill so background images work as expected. */\n",
              "        background-size: auto;\n",
              "    }\n",
              "    progress:not([value]), progress:not([value])::-webkit-progress-bar {\n",
              "        background: repeating-linear-gradient(45deg, #7e7e7e, #7e7e7e 10px, #5c5c5c 10px, #5c5c5c 20px);\n",
              "    }\n",
              "    .progress-bar-interrupted, .progress-bar-interrupted::-webkit-progress-bar {\n",
              "        background: #F44336;\n",
              "    }\n",
              "</style>\n"
            ],
            "text/plain": [
              "<IPython.core.display.HTML object>"
            ]
          },
          "metadata": {},
          "output_type": "display_data"
        },
        {
          "data": {
            "text/html": [],
            "text/plain": [
              "<IPython.core.display.HTML object>"
            ]
          },
          "metadata": {},
          "output_type": "display_data"
        },
        {
          "data": {
            "text/html": [
              "\n",
              "<style>\n",
              "    /* Turns off some styling */\n",
              "    progress {\n",
              "        /* gets rid of default border in Firefox and Opera. */\n",
              "        border: none;\n",
              "        /* Needs to be in here for Safari polyfill so background images work as expected. */\n",
              "        background-size: auto;\n",
              "    }\n",
              "    progress:not([value]), progress:not([value])::-webkit-progress-bar {\n",
              "        background: repeating-linear-gradient(45deg, #7e7e7e, #7e7e7e 10px, #5c5c5c 10px, #5c5c5c 20px);\n",
              "    }\n",
              "    .progress-bar-interrupted, .progress-bar-interrupted::-webkit-progress-bar {\n",
              "        background: #F44336;\n",
              "    }\n",
              "</style>\n"
            ],
            "text/plain": [
              "<IPython.core.display.HTML object>"
            ]
          },
          "metadata": {},
          "output_type": "display_data"
        },
        {
          "data": {
            "text/html": [],
            "text/plain": [
              "<IPython.core.display.HTML object>"
            ]
          },
          "metadata": {},
          "output_type": "display_data"
        },
        {
          "data": {
            "text/html": [
              "\n",
              "<style>\n",
              "    /* Turns off some styling */\n",
              "    progress {\n",
              "        /* gets rid of default border in Firefox and Opera. */\n",
              "        border: none;\n",
              "        /* Needs to be in here for Safari polyfill so background images work as expected. */\n",
              "        background-size: auto;\n",
              "    }\n",
              "    progress:not([value]), progress:not([value])::-webkit-progress-bar {\n",
              "        background: repeating-linear-gradient(45deg, #7e7e7e, #7e7e7e 10px, #5c5c5c 10px, #5c5c5c 20px);\n",
              "    }\n",
              "    .progress-bar-interrupted, .progress-bar-interrupted::-webkit-progress-bar {\n",
              "        background: #F44336;\n",
              "    }\n",
              "</style>\n"
            ],
            "text/plain": [
              "<IPython.core.display.HTML object>"
            ]
          },
          "metadata": {},
          "output_type": "display_data"
        },
        {
          "data": {
            "text/html": [],
            "text/plain": [
              "<IPython.core.display.HTML object>"
            ]
          },
          "metadata": {},
          "output_type": "display_data"
        },
        {
          "data": {
            "text/html": [
              "\n",
              "<style>\n",
              "    /* Turns off some styling */\n",
              "    progress {\n",
              "        /* gets rid of default border in Firefox and Opera. */\n",
              "        border: none;\n",
              "        /* Needs to be in here for Safari polyfill so background images work as expected. */\n",
              "        background-size: auto;\n",
              "    }\n",
              "    progress:not([value]), progress:not([value])::-webkit-progress-bar {\n",
              "        background: repeating-linear-gradient(45deg, #7e7e7e, #7e7e7e 10px, #5c5c5c 10px, #5c5c5c 20px);\n",
              "    }\n",
              "    .progress-bar-interrupted, .progress-bar-interrupted::-webkit-progress-bar {\n",
              "        background: #F44336;\n",
              "    }\n",
              "</style>\n"
            ],
            "text/plain": [
              "<IPython.core.display.HTML object>"
            ]
          },
          "metadata": {},
          "output_type": "display_data"
        },
        {
          "data": {
            "text/html": [],
            "text/plain": [
              "<IPython.core.display.HTML object>"
            ]
          },
          "metadata": {},
          "output_type": "display_data"
        },
        {
          "data": {
            "text/html": [
              "\n",
              "<style>\n",
              "    /* Turns off some styling */\n",
              "    progress {\n",
              "        /* gets rid of default border in Firefox and Opera. */\n",
              "        border: none;\n",
              "        /* Needs to be in here for Safari polyfill so background images work as expected. */\n",
              "        background-size: auto;\n",
              "    }\n",
              "    progress:not([value]), progress:not([value])::-webkit-progress-bar {\n",
              "        background: repeating-linear-gradient(45deg, #7e7e7e, #7e7e7e 10px, #5c5c5c 10px, #5c5c5c 20px);\n",
              "    }\n",
              "    .progress-bar-interrupted, .progress-bar-interrupted::-webkit-progress-bar {\n",
              "        background: #F44336;\n",
              "    }\n",
              "</style>\n"
            ],
            "text/plain": [
              "<IPython.core.display.HTML object>"
            ]
          },
          "metadata": {},
          "output_type": "display_data"
        },
        {
          "data": {
            "text/html": [],
            "text/plain": [
              "<IPython.core.display.HTML object>"
            ]
          },
          "metadata": {},
          "output_type": "display_data"
        },
        {
          "data": {
            "text/html": [
              "\n",
              "<style>\n",
              "    /* Turns off some styling */\n",
              "    progress {\n",
              "        /* gets rid of default border in Firefox and Opera. */\n",
              "        border: none;\n",
              "        /* Needs to be in here for Safari polyfill so background images work as expected. */\n",
              "        background-size: auto;\n",
              "    }\n",
              "    progress:not([value]), progress:not([value])::-webkit-progress-bar {\n",
              "        background: repeating-linear-gradient(45deg, #7e7e7e, #7e7e7e 10px, #5c5c5c 10px, #5c5c5c 20px);\n",
              "    }\n",
              "    .progress-bar-interrupted, .progress-bar-interrupted::-webkit-progress-bar {\n",
              "        background: #F44336;\n",
              "    }\n",
              "</style>\n"
            ],
            "text/plain": [
              "<IPython.core.display.HTML object>"
            ]
          },
          "metadata": {},
          "output_type": "display_data"
        },
        {
          "data": {
            "text/html": [],
            "text/plain": [
              "<IPython.core.display.HTML object>"
            ]
          },
          "metadata": {},
          "output_type": "display_data"
        },
        {
          "data": {
            "text/html": [
              "\n",
              "<style>\n",
              "    /* Turns off some styling */\n",
              "    progress {\n",
              "        /* gets rid of default border in Firefox and Opera. */\n",
              "        border: none;\n",
              "        /* Needs to be in here for Safari polyfill so background images work as expected. */\n",
              "        background-size: auto;\n",
              "    }\n",
              "    progress:not([value]), progress:not([value])::-webkit-progress-bar {\n",
              "        background: repeating-linear-gradient(45deg, #7e7e7e, #7e7e7e 10px, #5c5c5c 10px, #5c5c5c 20px);\n",
              "    }\n",
              "    .progress-bar-interrupted, .progress-bar-interrupted::-webkit-progress-bar {\n",
              "        background: #F44336;\n",
              "    }\n",
              "</style>\n"
            ],
            "text/plain": [
              "<IPython.core.display.HTML object>"
            ]
          },
          "metadata": {},
          "output_type": "display_data"
        },
        {
          "data": {
            "text/html": [],
            "text/plain": [
              "<IPython.core.display.HTML object>"
            ]
          },
          "metadata": {},
          "output_type": "display_data"
        },
        {
          "data": {
            "text/html": [
              "\n",
              "<style>\n",
              "    /* Turns off some styling */\n",
              "    progress {\n",
              "        /* gets rid of default border in Firefox and Opera. */\n",
              "        border: none;\n",
              "        /* Needs to be in here for Safari polyfill so background images work as expected. */\n",
              "        background-size: auto;\n",
              "    }\n",
              "    progress:not([value]), progress:not([value])::-webkit-progress-bar {\n",
              "        background: repeating-linear-gradient(45deg, #7e7e7e, #7e7e7e 10px, #5c5c5c 10px, #5c5c5c 20px);\n",
              "    }\n",
              "    .progress-bar-interrupted, .progress-bar-interrupted::-webkit-progress-bar {\n",
              "        background: #F44336;\n",
              "    }\n",
              "</style>\n"
            ],
            "text/plain": [
              "<IPython.core.display.HTML object>"
            ]
          },
          "metadata": {},
          "output_type": "display_data"
        },
        {
          "data": {
            "text/html": [],
            "text/plain": [
              "<IPython.core.display.HTML object>"
            ]
          },
          "metadata": {},
          "output_type": "display_data"
        },
        {
          "data": {
            "text/html": [
              "\n",
              "<style>\n",
              "    /* Turns off some styling */\n",
              "    progress {\n",
              "        /* gets rid of default border in Firefox and Opera. */\n",
              "        border: none;\n",
              "        /* Needs to be in here for Safari polyfill so background images work as expected. */\n",
              "        background-size: auto;\n",
              "    }\n",
              "    progress:not([value]), progress:not([value])::-webkit-progress-bar {\n",
              "        background: repeating-linear-gradient(45deg, #7e7e7e, #7e7e7e 10px, #5c5c5c 10px, #5c5c5c 20px);\n",
              "    }\n",
              "    .progress-bar-interrupted, .progress-bar-interrupted::-webkit-progress-bar {\n",
              "        background: #F44336;\n",
              "    }\n",
              "</style>\n"
            ],
            "text/plain": [
              "<IPython.core.display.HTML object>"
            ]
          },
          "metadata": {},
          "output_type": "display_data"
        },
        {
          "data": {
            "text/html": [],
            "text/plain": [
              "<IPython.core.display.HTML object>"
            ]
          },
          "metadata": {},
          "output_type": "display_data"
        },
        {
          "data": {
            "text/html": [
              "\n",
              "<style>\n",
              "    /* Turns off some styling */\n",
              "    progress {\n",
              "        /* gets rid of default border in Firefox and Opera. */\n",
              "        border: none;\n",
              "        /* Needs to be in here for Safari polyfill so background images work as expected. */\n",
              "        background-size: auto;\n",
              "    }\n",
              "    progress:not([value]), progress:not([value])::-webkit-progress-bar {\n",
              "        background: repeating-linear-gradient(45deg, #7e7e7e, #7e7e7e 10px, #5c5c5c 10px, #5c5c5c 20px);\n",
              "    }\n",
              "    .progress-bar-interrupted, .progress-bar-interrupted::-webkit-progress-bar {\n",
              "        background: #F44336;\n",
              "    }\n",
              "</style>\n"
            ],
            "text/plain": [
              "<IPython.core.display.HTML object>"
            ]
          },
          "metadata": {},
          "output_type": "display_data"
        },
        {
          "data": {
            "text/html": [],
            "text/plain": [
              "<IPython.core.display.HTML object>"
            ]
          },
          "metadata": {},
          "output_type": "display_data"
        },
        {
          "data": {
            "text/html": [
              "\n",
              "<style>\n",
              "    /* Turns off some styling */\n",
              "    progress {\n",
              "        /* gets rid of default border in Firefox and Opera. */\n",
              "        border: none;\n",
              "        /* Needs to be in here for Safari polyfill so background images work as expected. */\n",
              "        background-size: auto;\n",
              "    }\n",
              "    progress:not([value]), progress:not([value])::-webkit-progress-bar {\n",
              "        background: repeating-linear-gradient(45deg, #7e7e7e, #7e7e7e 10px, #5c5c5c 10px, #5c5c5c 20px);\n",
              "    }\n",
              "    .progress-bar-interrupted, .progress-bar-interrupted::-webkit-progress-bar {\n",
              "        background: #F44336;\n",
              "    }\n",
              "</style>\n"
            ],
            "text/plain": [
              "<IPython.core.display.HTML object>"
            ]
          },
          "metadata": {},
          "output_type": "display_data"
        },
        {
          "data": {
            "text/html": [],
            "text/plain": [
              "<IPython.core.display.HTML object>"
            ]
          },
          "metadata": {},
          "output_type": "display_data"
        },
        {
          "data": {
            "text/html": [
              "\n",
              "<style>\n",
              "    /* Turns off some styling */\n",
              "    progress {\n",
              "        /* gets rid of default border in Firefox and Opera. */\n",
              "        border: none;\n",
              "        /* Needs to be in here for Safari polyfill so background images work as expected. */\n",
              "        background-size: auto;\n",
              "    }\n",
              "    progress:not([value]), progress:not([value])::-webkit-progress-bar {\n",
              "        background: repeating-linear-gradient(45deg, #7e7e7e, #7e7e7e 10px, #5c5c5c 10px, #5c5c5c 20px);\n",
              "    }\n",
              "    .progress-bar-interrupted, .progress-bar-interrupted::-webkit-progress-bar {\n",
              "        background: #F44336;\n",
              "    }\n",
              "</style>\n"
            ],
            "text/plain": [
              "<IPython.core.display.HTML object>"
            ]
          },
          "metadata": {},
          "output_type": "display_data"
        },
        {
          "data": {
            "text/html": [],
            "text/plain": [
              "<IPython.core.display.HTML object>"
            ]
          },
          "metadata": {},
          "output_type": "display_data"
        },
        {
          "data": {
            "text/html": [
              "\n",
              "<style>\n",
              "    /* Turns off some styling */\n",
              "    progress {\n",
              "        /* gets rid of default border in Firefox and Opera. */\n",
              "        border: none;\n",
              "        /* Needs to be in here for Safari polyfill so background images work as expected. */\n",
              "        background-size: auto;\n",
              "    }\n",
              "    progress:not([value]), progress:not([value])::-webkit-progress-bar {\n",
              "        background: repeating-linear-gradient(45deg, #7e7e7e, #7e7e7e 10px, #5c5c5c 10px, #5c5c5c 20px);\n",
              "    }\n",
              "    .progress-bar-interrupted, .progress-bar-interrupted::-webkit-progress-bar {\n",
              "        background: #F44336;\n",
              "    }\n",
              "</style>\n"
            ],
            "text/plain": [
              "<IPython.core.display.HTML object>"
            ]
          },
          "metadata": {},
          "output_type": "display_data"
        },
        {
          "data": {
            "text/html": [],
            "text/plain": [
              "<IPython.core.display.HTML object>"
            ]
          },
          "metadata": {},
          "output_type": "display_data"
        },
        {
          "data": {
            "text/html": [
              "\n",
              "<style>\n",
              "    /* Turns off some styling */\n",
              "    progress {\n",
              "        /* gets rid of default border in Firefox and Opera. */\n",
              "        border: none;\n",
              "        /* Needs to be in here for Safari polyfill so background images work as expected. */\n",
              "        background-size: auto;\n",
              "    }\n",
              "    progress:not([value]), progress:not([value])::-webkit-progress-bar {\n",
              "        background: repeating-linear-gradient(45deg, #7e7e7e, #7e7e7e 10px, #5c5c5c 10px, #5c5c5c 20px);\n",
              "    }\n",
              "    .progress-bar-interrupted, .progress-bar-interrupted::-webkit-progress-bar {\n",
              "        background: #F44336;\n",
              "    }\n",
              "</style>\n"
            ],
            "text/plain": [
              "<IPython.core.display.HTML object>"
            ]
          },
          "metadata": {},
          "output_type": "display_data"
        },
        {
          "data": {
            "text/html": [],
            "text/plain": [
              "<IPython.core.display.HTML object>"
            ]
          },
          "metadata": {},
          "output_type": "display_data"
        },
        {
          "data": {
            "text/html": [
              "\n",
              "<style>\n",
              "    /* Turns off some styling */\n",
              "    progress {\n",
              "        /* gets rid of default border in Firefox and Opera. */\n",
              "        border: none;\n",
              "        /* Needs to be in here for Safari polyfill so background images work as expected. */\n",
              "        background-size: auto;\n",
              "    }\n",
              "    progress:not([value]), progress:not([value])::-webkit-progress-bar {\n",
              "        background: repeating-linear-gradient(45deg, #7e7e7e, #7e7e7e 10px, #5c5c5c 10px, #5c5c5c 20px);\n",
              "    }\n",
              "    .progress-bar-interrupted, .progress-bar-interrupted::-webkit-progress-bar {\n",
              "        background: #F44336;\n",
              "    }\n",
              "</style>\n"
            ],
            "text/plain": [
              "<IPython.core.display.HTML object>"
            ]
          },
          "metadata": {},
          "output_type": "display_data"
        },
        {
          "data": {
            "text/html": [],
            "text/plain": [
              "<IPython.core.display.HTML object>"
            ]
          },
          "metadata": {},
          "output_type": "display_data"
        },
        {
          "data": {
            "text/html": [
              "\n",
              "<style>\n",
              "    /* Turns off some styling */\n",
              "    progress {\n",
              "        /* gets rid of default border in Firefox and Opera. */\n",
              "        border: none;\n",
              "        /* Needs to be in here for Safari polyfill so background images work as expected. */\n",
              "        background-size: auto;\n",
              "    }\n",
              "    progress:not([value]), progress:not([value])::-webkit-progress-bar {\n",
              "        background: repeating-linear-gradient(45deg, #7e7e7e, #7e7e7e 10px, #5c5c5c 10px, #5c5c5c 20px);\n",
              "    }\n",
              "    .progress-bar-interrupted, .progress-bar-interrupted::-webkit-progress-bar {\n",
              "        background: #F44336;\n",
              "    }\n",
              "</style>\n"
            ],
            "text/plain": [
              "<IPython.core.display.HTML object>"
            ]
          },
          "metadata": {},
          "output_type": "display_data"
        },
        {
          "data": {
            "text/html": [],
            "text/plain": [
              "<IPython.core.display.HTML object>"
            ]
          },
          "metadata": {},
          "output_type": "display_data"
        },
        {
          "data": {
            "text/html": [
              "\n",
              "<style>\n",
              "    /* Turns off some styling */\n",
              "    progress {\n",
              "        /* gets rid of default border in Firefox and Opera. */\n",
              "        border: none;\n",
              "        /* Needs to be in here for Safari polyfill so background images work as expected. */\n",
              "        background-size: auto;\n",
              "    }\n",
              "    progress:not([value]), progress:not([value])::-webkit-progress-bar {\n",
              "        background: repeating-linear-gradient(45deg, #7e7e7e, #7e7e7e 10px, #5c5c5c 10px, #5c5c5c 20px);\n",
              "    }\n",
              "    .progress-bar-interrupted, .progress-bar-interrupted::-webkit-progress-bar {\n",
              "        background: #F44336;\n",
              "    }\n",
              "</style>\n"
            ],
            "text/plain": [
              "<IPython.core.display.HTML object>"
            ]
          },
          "metadata": {},
          "output_type": "display_data"
        },
        {
          "data": {
            "text/html": [],
            "text/plain": [
              "<IPython.core.display.HTML object>"
            ]
          },
          "metadata": {},
          "output_type": "display_data"
        },
        {
          "data": {
            "text/html": [
              "\n",
              "<style>\n",
              "    /* Turns off some styling */\n",
              "    progress {\n",
              "        /* gets rid of default border in Firefox and Opera. */\n",
              "        border: none;\n",
              "        /* Needs to be in here for Safari polyfill so background images work as expected. */\n",
              "        background-size: auto;\n",
              "    }\n",
              "    progress:not([value]), progress:not([value])::-webkit-progress-bar {\n",
              "        background: repeating-linear-gradient(45deg, #7e7e7e, #7e7e7e 10px, #5c5c5c 10px, #5c5c5c 20px);\n",
              "    }\n",
              "    .progress-bar-interrupted, .progress-bar-interrupted::-webkit-progress-bar {\n",
              "        background: #F44336;\n",
              "    }\n",
              "</style>\n"
            ],
            "text/plain": [
              "<IPython.core.display.HTML object>"
            ]
          },
          "metadata": {},
          "output_type": "display_data"
        },
        {
          "data": {
            "text/html": [],
            "text/plain": [
              "<IPython.core.display.HTML object>"
            ]
          },
          "metadata": {},
          "output_type": "display_data"
        },
        {
          "data": {
            "text/html": [
              "\n",
              "<style>\n",
              "    /* Turns off some styling */\n",
              "    progress {\n",
              "        /* gets rid of default border in Firefox and Opera. */\n",
              "        border: none;\n",
              "        /* Needs to be in here for Safari polyfill so background images work as expected. */\n",
              "        background-size: auto;\n",
              "    }\n",
              "    progress:not([value]), progress:not([value])::-webkit-progress-bar {\n",
              "        background: repeating-linear-gradient(45deg, #7e7e7e, #7e7e7e 10px, #5c5c5c 10px, #5c5c5c 20px);\n",
              "    }\n",
              "    .progress-bar-interrupted, .progress-bar-interrupted::-webkit-progress-bar {\n",
              "        background: #F44336;\n",
              "    }\n",
              "</style>\n"
            ],
            "text/plain": [
              "<IPython.core.display.HTML object>"
            ]
          },
          "metadata": {},
          "output_type": "display_data"
        },
        {
          "data": {
            "text/html": [],
            "text/plain": [
              "<IPython.core.display.HTML object>"
            ]
          },
          "metadata": {},
          "output_type": "display_data"
        },
        {
          "data": {
            "text/html": [
              "\n",
              "<style>\n",
              "    /* Turns off some styling */\n",
              "    progress {\n",
              "        /* gets rid of default border in Firefox and Opera. */\n",
              "        border: none;\n",
              "        /* Needs to be in here for Safari polyfill so background images work as expected. */\n",
              "        background-size: auto;\n",
              "    }\n",
              "    progress:not([value]), progress:not([value])::-webkit-progress-bar {\n",
              "        background: repeating-linear-gradient(45deg, #7e7e7e, #7e7e7e 10px, #5c5c5c 10px, #5c5c5c 20px);\n",
              "    }\n",
              "    .progress-bar-interrupted, .progress-bar-interrupted::-webkit-progress-bar {\n",
              "        background: #F44336;\n",
              "    }\n",
              "</style>\n"
            ],
            "text/plain": [
              "<IPython.core.display.HTML object>"
            ]
          },
          "metadata": {},
          "output_type": "display_data"
        },
        {
          "data": {
            "text/html": [],
            "text/plain": [
              "<IPython.core.display.HTML object>"
            ]
          },
          "metadata": {},
          "output_type": "display_data"
        },
        {
          "data": {
            "text/html": [
              "\n",
              "<style>\n",
              "    /* Turns off some styling */\n",
              "    progress {\n",
              "        /* gets rid of default border in Firefox and Opera. */\n",
              "        border: none;\n",
              "        /* Needs to be in here for Safari polyfill so background images work as expected. */\n",
              "        background-size: auto;\n",
              "    }\n",
              "    progress:not([value]), progress:not([value])::-webkit-progress-bar {\n",
              "        background: repeating-linear-gradient(45deg, #7e7e7e, #7e7e7e 10px, #5c5c5c 10px, #5c5c5c 20px);\n",
              "    }\n",
              "    .progress-bar-interrupted, .progress-bar-interrupted::-webkit-progress-bar {\n",
              "        background: #F44336;\n",
              "    }\n",
              "</style>\n"
            ],
            "text/plain": [
              "<IPython.core.display.HTML object>"
            ]
          },
          "metadata": {},
          "output_type": "display_data"
        },
        {
          "data": {
            "text/html": [],
            "text/plain": [
              "<IPython.core.display.HTML object>"
            ]
          },
          "metadata": {},
          "output_type": "display_data"
        },
        {
          "data": {
            "text/html": [
              "\n",
              "<style>\n",
              "    /* Turns off some styling */\n",
              "    progress {\n",
              "        /* gets rid of default border in Firefox and Opera. */\n",
              "        border: none;\n",
              "        /* Needs to be in here for Safari polyfill so background images work as expected. */\n",
              "        background-size: auto;\n",
              "    }\n",
              "    progress:not([value]), progress:not([value])::-webkit-progress-bar {\n",
              "        background: repeating-linear-gradient(45deg, #7e7e7e, #7e7e7e 10px, #5c5c5c 10px, #5c5c5c 20px);\n",
              "    }\n",
              "    .progress-bar-interrupted, .progress-bar-interrupted::-webkit-progress-bar {\n",
              "        background: #F44336;\n",
              "    }\n",
              "</style>\n"
            ],
            "text/plain": [
              "<IPython.core.display.HTML object>"
            ]
          },
          "metadata": {},
          "output_type": "display_data"
        },
        {
          "data": {
            "text/html": [],
            "text/plain": [
              "<IPython.core.display.HTML object>"
            ]
          },
          "metadata": {},
          "output_type": "display_data"
        },
        {
          "data": {
            "text/html": [
              "\n",
              "<style>\n",
              "    /* Turns off some styling */\n",
              "    progress {\n",
              "        /* gets rid of default border in Firefox and Opera. */\n",
              "        border: none;\n",
              "        /* Needs to be in here for Safari polyfill so background images work as expected. */\n",
              "        background-size: auto;\n",
              "    }\n",
              "    progress:not([value]), progress:not([value])::-webkit-progress-bar {\n",
              "        background: repeating-linear-gradient(45deg, #7e7e7e, #7e7e7e 10px, #5c5c5c 10px, #5c5c5c 20px);\n",
              "    }\n",
              "    .progress-bar-interrupted, .progress-bar-interrupted::-webkit-progress-bar {\n",
              "        background: #F44336;\n",
              "    }\n",
              "</style>\n"
            ],
            "text/plain": [
              "<IPython.core.display.HTML object>"
            ]
          },
          "metadata": {},
          "output_type": "display_data"
        },
        {
          "data": {
            "text/html": [],
            "text/plain": [
              "<IPython.core.display.HTML object>"
            ]
          },
          "metadata": {},
          "output_type": "display_data"
        },
        {
          "data": {
            "text/html": [
              "\n",
              "<style>\n",
              "    /* Turns off some styling */\n",
              "    progress {\n",
              "        /* gets rid of default border in Firefox and Opera. */\n",
              "        border: none;\n",
              "        /* Needs to be in here for Safari polyfill so background images work as expected. */\n",
              "        background-size: auto;\n",
              "    }\n",
              "    progress:not([value]), progress:not([value])::-webkit-progress-bar {\n",
              "        background: repeating-linear-gradient(45deg, #7e7e7e, #7e7e7e 10px, #5c5c5c 10px, #5c5c5c 20px);\n",
              "    }\n",
              "    .progress-bar-interrupted, .progress-bar-interrupted::-webkit-progress-bar {\n",
              "        background: #F44336;\n",
              "    }\n",
              "</style>\n"
            ],
            "text/plain": [
              "<IPython.core.display.HTML object>"
            ]
          },
          "metadata": {},
          "output_type": "display_data"
        },
        {
          "data": {
            "text/html": [],
            "text/plain": [
              "<IPython.core.display.HTML object>"
            ]
          },
          "metadata": {},
          "output_type": "display_data"
        },
        {
          "data": {
            "text/html": [
              "\n",
              "<style>\n",
              "    /* Turns off some styling */\n",
              "    progress {\n",
              "        /* gets rid of default border in Firefox and Opera. */\n",
              "        border: none;\n",
              "        /* Needs to be in here for Safari polyfill so background images work as expected. */\n",
              "        background-size: auto;\n",
              "    }\n",
              "    progress:not([value]), progress:not([value])::-webkit-progress-bar {\n",
              "        background: repeating-linear-gradient(45deg, #7e7e7e, #7e7e7e 10px, #5c5c5c 10px, #5c5c5c 20px);\n",
              "    }\n",
              "    .progress-bar-interrupted, .progress-bar-interrupted::-webkit-progress-bar {\n",
              "        background: #F44336;\n",
              "    }\n",
              "</style>\n"
            ],
            "text/plain": [
              "<IPython.core.display.HTML object>"
            ]
          },
          "metadata": {},
          "output_type": "display_data"
        },
        {
          "data": {
            "text/html": [],
            "text/plain": [
              "<IPython.core.display.HTML object>"
            ]
          },
          "metadata": {},
          "output_type": "display_data"
        },
        {
          "data": {
            "text/html": [
              "\n",
              "<style>\n",
              "    /* Turns off some styling */\n",
              "    progress {\n",
              "        /* gets rid of default border in Firefox and Opera. */\n",
              "        border: none;\n",
              "        /* Needs to be in here for Safari polyfill so background images work as expected. */\n",
              "        background-size: auto;\n",
              "    }\n",
              "    progress:not([value]), progress:not([value])::-webkit-progress-bar {\n",
              "        background: repeating-linear-gradient(45deg, #7e7e7e, #7e7e7e 10px, #5c5c5c 10px, #5c5c5c 20px);\n",
              "    }\n",
              "    .progress-bar-interrupted, .progress-bar-interrupted::-webkit-progress-bar {\n",
              "        background: #F44336;\n",
              "    }\n",
              "</style>\n"
            ],
            "text/plain": [
              "<IPython.core.display.HTML object>"
            ]
          },
          "metadata": {},
          "output_type": "display_data"
        },
        {
          "data": {
            "text/html": [],
            "text/plain": [
              "<IPython.core.display.HTML object>"
            ]
          },
          "metadata": {},
          "output_type": "display_data"
        },
        {
          "data": {
            "text/html": [
              "\n",
              "<style>\n",
              "    /* Turns off some styling */\n",
              "    progress {\n",
              "        /* gets rid of default border in Firefox and Opera. */\n",
              "        border: none;\n",
              "        /* Needs to be in here for Safari polyfill so background images work as expected. */\n",
              "        background-size: auto;\n",
              "    }\n",
              "    progress:not([value]), progress:not([value])::-webkit-progress-bar {\n",
              "        background: repeating-linear-gradient(45deg, #7e7e7e, #7e7e7e 10px, #5c5c5c 10px, #5c5c5c 20px);\n",
              "    }\n",
              "    .progress-bar-interrupted, .progress-bar-interrupted::-webkit-progress-bar {\n",
              "        background: #F44336;\n",
              "    }\n",
              "</style>\n"
            ],
            "text/plain": [
              "<IPython.core.display.HTML object>"
            ]
          },
          "metadata": {},
          "output_type": "display_data"
        },
        {
          "data": {
            "text/html": [],
            "text/plain": [
              "<IPython.core.display.HTML object>"
            ]
          },
          "metadata": {},
          "output_type": "display_data"
        },
        {
          "data": {
            "text/html": [
              "\n",
              "<style>\n",
              "    /* Turns off some styling */\n",
              "    progress {\n",
              "        /* gets rid of default border in Firefox and Opera. */\n",
              "        border: none;\n",
              "        /* Needs to be in here for Safari polyfill so background images work as expected. */\n",
              "        background-size: auto;\n",
              "    }\n",
              "    progress:not([value]), progress:not([value])::-webkit-progress-bar {\n",
              "        background: repeating-linear-gradient(45deg, #7e7e7e, #7e7e7e 10px, #5c5c5c 10px, #5c5c5c 20px);\n",
              "    }\n",
              "    .progress-bar-interrupted, .progress-bar-interrupted::-webkit-progress-bar {\n",
              "        background: #F44336;\n",
              "    }\n",
              "</style>\n"
            ],
            "text/plain": [
              "<IPython.core.display.HTML object>"
            ]
          },
          "metadata": {},
          "output_type": "display_data"
        },
        {
          "data": {
            "text/html": [],
            "text/plain": [
              "<IPython.core.display.HTML object>"
            ]
          },
          "metadata": {},
          "output_type": "display_data"
        },
        {
          "data": {
            "text/html": [
              "\n",
              "<style>\n",
              "    /* Turns off some styling */\n",
              "    progress {\n",
              "        /* gets rid of default border in Firefox and Opera. */\n",
              "        border: none;\n",
              "        /* Needs to be in here for Safari polyfill so background images work as expected. */\n",
              "        background-size: auto;\n",
              "    }\n",
              "    progress:not([value]), progress:not([value])::-webkit-progress-bar {\n",
              "        background: repeating-linear-gradient(45deg, #7e7e7e, #7e7e7e 10px, #5c5c5c 10px, #5c5c5c 20px);\n",
              "    }\n",
              "    .progress-bar-interrupted, .progress-bar-interrupted::-webkit-progress-bar {\n",
              "        background: #F44336;\n",
              "    }\n",
              "</style>\n"
            ],
            "text/plain": [
              "<IPython.core.display.HTML object>"
            ]
          },
          "metadata": {},
          "output_type": "display_data"
        },
        {
          "data": {
            "text/html": [],
            "text/plain": [
              "<IPython.core.display.HTML object>"
            ]
          },
          "metadata": {},
          "output_type": "display_data"
        },
        {
          "data": {
            "text/html": [
              "\n",
              "<style>\n",
              "    /* Turns off some styling */\n",
              "    progress {\n",
              "        /* gets rid of default border in Firefox and Opera. */\n",
              "        border: none;\n",
              "        /* Needs to be in here for Safari polyfill so background images work as expected. */\n",
              "        background-size: auto;\n",
              "    }\n",
              "    progress:not([value]), progress:not([value])::-webkit-progress-bar {\n",
              "        background: repeating-linear-gradient(45deg, #7e7e7e, #7e7e7e 10px, #5c5c5c 10px, #5c5c5c 20px);\n",
              "    }\n",
              "    .progress-bar-interrupted, .progress-bar-interrupted::-webkit-progress-bar {\n",
              "        background: #F44336;\n",
              "    }\n",
              "</style>\n"
            ],
            "text/plain": [
              "<IPython.core.display.HTML object>"
            ]
          },
          "metadata": {},
          "output_type": "display_data"
        },
        {
          "data": {
            "text/html": [],
            "text/plain": [
              "<IPython.core.display.HTML object>"
            ]
          },
          "metadata": {},
          "output_type": "display_data"
        },
        {
          "data": {
            "text/html": [
              "\n",
              "<style>\n",
              "    /* Turns off some styling */\n",
              "    progress {\n",
              "        /* gets rid of default border in Firefox and Opera. */\n",
              "        border: none;\n",
              "        /* Needs to be in here for Safari polyfill so background images work as expected. */\n",
              "        background-size: auto;\n",
              "    }\n",
              "    progress:not([value]), progress:not([value])::-webkit-progress-bar {\n",
              "        background: repeating-linear-gradient(45deg, #7e7e7e, #7e7e7e 10px, #5c5c5c 10px, #5c5c5c 20px);\n",
              "    }\n",
              "    .progress-bar-interrupted, .progress-bar-interrupted::-webkit-progress-bar {\n",
              "        background: #F44336;\n",
              "    }\n",
              "</style>\n"
            ],
            "text/plain": [
              "<IPython.core.display.HTML object>"
            ]
          },
          "metadata": {},
          "output_type": "display_data"
        },
        {
          "data": {
            "text/html": [],
            "text/plain": [
              "<IPython.core.display.HTML object>"
            ]
          },
          "metadata": {},
          "output_type": "display_data"
        },
        {
          "data": {
            "text/html": [
              "\n",
              "<style>\n",
              "    /* Turns off some styling */\n",
              "    progress {\n",
              "        /* gets rid of default border in Firefox and Opera. */\n",
              "        border: none;\n",
              "        /* Needs to be in here for Safari polyfill so background images work as expected. */\n",
              "        background-size: auto;\n",
              "    }\n",
              "    progress:not([value]), progress:not([value])::-webkit-progress-bar {\n",
              "        background: repeating-linear-gradient(45deg, #7e7e7e, #7e7e7e 10px, #5c5c5c 10px, #5c5c5c 20px);\n",
              "    }\n",
              "    .progress-bar-interrupted, .progress-bar-interrupted::-webkit-progress-bar {\n",
              "        background: #F44336;\n",
              "    }\n",
              "</style>\n"
            ],
            "text/plain": [
              "<IPython.core.display.HTML object>"
            ]
          },
          "metadata": {},
          "output_type": "display_data"
        },
        {
          "data": {
            "text/html": [],
            "text/plain": [
              "<IPython.core.display.HTML object>"
            ]
          },
          "metadata": {},
          "output_type": "display_data"
        },
        {
          "data": {
            "text/html": [
              "\n",
              "<style>\n",
              "    /* Turns off some styling */\n",
              "    progress {\n",
              "        /* gets rid of default border in Firefox and Opera. */\n",
              "        border: none;\n",
              "        /* Needs to be in here for Safari polyfill so background images work as expected. */\n",
              "        background-size: auto;\n",
              "    }\n",
              "    progress:not([value]), progress:not([value])::-webkit-progress-bar {\n",
              "        background: repeating-linear-gradient(45deg, #7e7e7e, #7e7e7e 10px, #5c5c5c 10px, #5c5c5c 20px);\n",
              "    }\n",
              "    .progress-bar-interrupted, .progress-bar-interrupted::-webkit-progress-bar {\n",
              "        background: #F44336;\n",
              "    }\n",
              "</style>\n"
            ],
            "text/plain": [
              "<IPython.core.display.HTML object>"
            ]
          },
          "metadata": {},
          "output_type": "display_data"
        },
        {
          "data": {
            "text/html": [],
            "text/plain": [
              "<IPython.core.display.HTML object>"
            ]
          },
          "metadata": {},
          "output_type": "display_data"
        },
        {
          "data": {
            "text/html": [
              "\n",
              "<style>\n",
              "    /* Turns off some styling */\n",
              "    progress {\n",
              "        /* gets rid of default border in Firefox and Opera. */\n",
              "        border: none;\n",
              "        /* Needs to be in here for Safari polyfill so background images work as expected. */\n",
              "        background-size: auto;\n",
              "    }\n",
              "    progress:not([value]), progress:not([value])::-webkit-progress-bar {\n",
              "        background: repeating-linear-gradient(45deg, #7e7e7e, #7e7e7e 10px, #5c5c5c 10px, #5c5c5c 20px);\n",
              "    }\n",
              "    .progress-bar-interrupted, .progress-bar-interrupted::-webkit-progress-bar {\n",
              "        background: #F44336;\n",
              "    }\n",
              "</style>\n"
            ],
            "text/plain": [
              "<IPython.core.display.HTML object>"
            ]
          },
          "metadata": {},
          "output_type": "display_data"
        },
        {
          "data": {
            "text/html": [],
            "text/plain": [
              "<IPython.core.display.HTML object>"
            ]
          },
          "metadata": {},
          "output_type": "display_data"
        },
        {
          "data": {
            "text/html": [
              "\n",
              "<style>\n",
              "    /* Turns off some styling */\n",
              "    progress {\n",
              "        /* gets rid of default border in Firefox and Opera. */\n",
              "        border: none;\n",
              "        /* Needs to be in here for Safari polyfill so background images work as expected. */\n",
              "        background-size: auto;\n",
              "    }\n",
              "    progress:not([value]), progress:not([value])::-webkit-progress-bar {\n",
              "        background: repeating-linear-gradient(45deg, #7e7e7e, #7e7e7e 10px, #5c5c5c 10px, #5c5c5c 20px);\n",
              "    }\n",
              "    .progress-bar-interrupted, .progress-bar-interrupted::-webkit-progress-bar {\n",
              "        background: #F44336;\n",
              "    }\n",
              "</style>\n"
            ],
            "text/plain": [
              "<IPython.core.display.HTML object>"
            ]
          },
          "metadata": {},
          "output_type": "display_data"
        },
        {
          "data": {
            "text/html": [],
            "text/plain": [
              "<IPython.core.display.HTML object>"
            ]
          },
          "metadata": {},
          "output_type": "display_data"
        },
        {
          "data": {
            "text/html": [
              "\n",
              "<style>\n",
              "    /* Turns off some styling */\n",
              "    progress {\n",
              "        /* gets rid of default border in Firefox and Opera. */\n",
              "        border: none;\n",
              "        /* Needs to be in here for Safari polyfill so background images work as expected. */\n",
              "        background-size: auto;\n",
              "    }\n",
              "    progress:not([value]), progress:not([value])::-webkit-progress-bar {\n",
              "        background: repeating-linear-gradient(45deg, #7e7e7e, #7e7e7e 10px, #5c5c5c 10px, #5c5c5c 20px);\n",
              "    }\n",
              "    .progress-bar-interrupted, .progress-bar-interrupted::-webkit-progress-bar {\n",
              "        background: #F44336;\n",
              "    }\n",
              "</style>\n"
            ],
            "text/plain": [
              "<IPython.core.display.HTML object>"
            ]
          },
          "metadata": {},
          "output_type": "display_data"
        },
        {
          "data": {
            "text/html": [],
            "text/plain": [
              "<IPython.core.display.HTML object>"
            ]
          },
          "metadata": {},
          "output_type": "display_data"
        },
        {
          "data": {
            "text/html": [
              "\n",
              "<style>\n",
              "    /* Turns off some styling */\n",
              "    progress {\n",
              "        /* gets rid of default border in Firefox and Opera. */\n",
              "        border: none;\n",
              "        /* Needs to be in here for Safari polyfill so background images work as expected. */\n",
              "        background-size: auto;\n",
              "    }\n",
              "    progress:not([value]), progress:not([value])::-webkit-progress-bar {\n",
              "        background: repeating-linear-gradient(45deg, #7e7e7e, #7e7e7e 10px, #5c5c5c 10px, #5c5c5c 20px);\n",
              "    }\n",
              "    .progress-bar-interrupted, .progress-bar-interrupted::-webkit-progress-bar {\n",
              "        background: #F44336;\n",
              "    }\n",
              "</style>\n"
            ],
            "text/plain": [
              "<IPython.core.display.HTML object>"
            ]
          },
          "metadata": {},
          "output_type": "display_data"
        },
        {
          "data": {
            "text/html": [],
            "text/plain": [
              "<IPython.core.display.HTML object>"
            ]
          },
          "metadata": {},
          "output_type": "display_data"
        },
        {
          "data": {
            "text/html": [
              "\n",
              "<style>\n",
              "    /* Turns off some styling */\n",
              "    progress {\n",
              "        /* gets rid of default border in Firefox and Opera. */\n",
              "        border: none;\n",
              "        /* Needs to be in here for Safari polyfill so background images work as expected. */\n",
              "        background-size: auto;\n",
              "    }\n",
              "    progress:not([value]), progress:not([value])::-webkit-progress-bar {\n",
              "        background: repeating-linear-gradient(45deg, #7e7e7e, #7e7e7e 10px, #5c5c5c 10px, #5c5c5c 20px);\n",
              "    }\n",
              "    .progress-bar-interrupted, .progress-bar-interrupted::-webkit-progress-bar {\n",
              "        background: #F44336;\n",
              "    }\n",
              "</style>\n"
            ],
            "text/plain": [
              "<IPython.core.display.HTML object>"
            ]
          },
          "metadata": {},
          "output_type": "display_data"
        },
        {
          "data": {
            "text/html": [],
            "text/plain": [
              "<IPython.core.display.HTML object>"
            ]
          },
          "metadata": {},
          "output_type": "display_data"
        },
        {
          "data": {
            "text/html": [
              "\n",
              "<style>\n",
              "    /* Turns off some styling */\n",
              "    progress {\n",
              "        /* gets rid of default border in Firefox and Opera. */\n",
              "        border: none;\n",
              "        /* Needs to be in here for Safari polyfill so background images work as expected. */\n",
              "        background-size: auto;\n",
              "    }\n",
              "    progress:not([value]), progress:not([value])::-webkit-progress-bar {\n",
              "        background: repeating-linear-gradient(45deg, #7e7e7e, #7e7e7e 10px, #5c5c5c 10px, #5c5c5c 20px);\n",
              "    }\n",
              "    .progress-bar-interrupted, .progress-bar-interrupted::-webkit-progress-bar {\n",
              "        background: #F44336;\n",
              "    }\n",
              "</style>\n"
            ],
            "text/plain": [
              "<IPython.core.display.HTML object>"
            ]
          },
          "metadata": {},
          "output_type": "display_data"
        },
        {
          "data": {
            "text/html": [],
            "text/plain": [
              "<IPython.core.display.HTML object>"
            ]
          },
          "metadata": {},
          "output_type": "display_data"
        },
        {
          "data": {
            "text/html": [
              "\n",
              "<style>\n",
              "    /* Turns off some styling */\n",
              "    progress {\n",
              "        /* gets rid of default border in Firefox and Opera. */\n",
              "        border: none;\n",
              "        /* Needs to be in here for Safari polyfill so background images work as expected. */\n",
              "        background-size: auto;\n",
              "    }\n",
              "    progress:not([value]), progress:not([value])::-webkit-progress-bar {\n",
              "        background: repeating-linear-gradient(45deg, #7e7e7e, #7e7e7e 10px, #5c5c5c 10px, #5c5c5c 20px);\n",
              "    }\n",
              "    .progress-bar-interrupted, .progress-bar-interrupted::-webkit-progress-bar {\n",
              "        background: #F44336;\n",
              "    }\n",
              "</style>\n"
            ],
            "text/plain": [
              "<IPython.core.display.HTML object>"
            ]
          },
          "metadata": {},
          "output_type": "display_data"
        },
        {
          "data": {
            "text/html": [],
            "text/plain": [
              "<IPython.core.display.HTML object>"
            ]
          },
          "metadata": {},
          "output_type": "display_data"
        },
        {
          "data": {
            "text/html": [
              "\n",
              "<style>\n",
              "    /* Turns off some styling */\n",
              "    progress {\n",
              "        /* gets rid of default border in Firefox and Opera. */\n",
              "        border: none;\n",
              "        /* Needs to be in here for Safari polyfill so background images work as expected. */\n",
              "        background-size: auto;\n",
              "    }\n",
              "    progress:not([value]), progress:not([value])::-webkit-progress-bar {\n",
              "        background: repeating-linear-gradient(45deg, #7e7e7e, #7e7e7e 10px, #5c5c5c 10px, #5c5c5c 20px);\n",
              "    }\n",
              "    .progress-bar-interrupted, .progress-bar-interrupted::-webkit-progress-bar {\n",
              "        background: #F44336;\n",
              "    }\n",
              "</style>\n"
            ],
            "text/plain": [
              "<IPython.core.display.HTML object>"
            ]
          },
          "metadata": {},
          "output_type": "display_data"
        },
        {
          "data": {
            "text/html": [],
            "text/plain": [
              "<IPython.core.display.HTML object>"
            ]
          },
          "metadata": {},
          "output_type": "display_data"
        },
        {
          "data": {
            "text/html": [
              "\n",
              "<style>\n",
              "    /* Turns off some styling */\n",
              "    progress {\n",
              "        /* gets rid of default border in Firefox and Opera. */\n",
              "        border: none;\n",
              "        /* Needs to be in here for Safari polyfill so background images work as expected. */\n",
              "        background-size: auto;\n",
              "    }\n",
              "    progress:not([value]), progress:not([value])::-webkit-progress-bar {\n",
              "        background: repeating-linear-gradient(45deg, #7e7e7e, #7e7e7e 10px, #5c5c5c 10px, #5c5c5c 20px);\n",
              "    }\n",
              "    .progress-bar-interrupted, .progress-bar-interrupted::-webkit-progress-bar {\n",
              "        background: #F44336;\n",
              "    }\n",
              "</style>\n"
            ],
            "text/plain": [
              "<IPython.core.display.HTML object>"
            ]
          },
          "metadata": {},
          "output_type": "display_data"
        },
        {
          "data": {
            "text/html": [],
            "text/plain": [
              "<IPython.core.display.HTML object>"
            ]
          },
          "metadata": {},
          "output_type": "display_data"
        },
        {
          "data": {
            "text/html": [
              "\n",
              "<style>\n",
              "    /* Turns off some styling */\n",
              "    progress {\n",
              "        /* gets rid of default border in Firefox and Opera. */\n",
              "        border: none;\n",
              "        /* Needs to be in here for Safari polyfill so background images work as expected. */\n",
              "        background-size: auto;\n",
              "    }\n",
              "    progress:not([value]), progress:not([value])::-webkit-progress-bar {\n",
              "        background: repeating-linear-gradient(45deg, #7e7e7e, #7e7e7e 10px, #5c5c5c 10px, #5c5c5c 20px);\n",
              "    }\n",
              "    .progress-bar-interrupted, .progress-bar-interrupted::-webkit-progress-bar {\n",
              "        background: #F44336;\n",
              "    }\n",
              "</style>\n"
            ],
            "text/plain": [
              "<IPython.core.display.HTML object>"
            ]
          },
          "metadata": {},
          "output_type": "display_data"
        },
        {
          "data": {
            "text/html": [],
            "text/plain": [
              "<IPython.core.display.HTML object>"
            ]
          },
          "metadata": {},
          "output_type": "display_data"
        },
        {
          "data": {
            "text/html": [
              "\n",
              "<style>\n",
              "    /* Turns off some styling */\n",
              "    progress {\n",
              "        /* gets rid of default border in Firefox and Opera. */\n",
              "        border: none;\n",
              "        /* Needs to be in here for Safari polyfill so background images work as expected. */\n",
              "        background-size: auto;\n",
              "    }\n",
              "    progress:not([value]), progress:not([value])::-webkit-progress-bar {\n",
              "        background: repeating-linear-gradient(45deg, #7e7e7e, #7e7e7e 10px, #5c5c5c 10px, #5c5c5c 20px);\n",
              "    }\n",
              "    .progress-bar-interrupted, .progress-bar-interrupted::-webkit-progress-bar {\n",
              "        background: #F44336;\n",
              "    }\n",
              "</style>\n"
            ],
            "text/plain": [
              "<IPython.core.display.HTML object>"
            ]
          },
          "metadata": {},
          "output_type": "display_data"
        },
        {
          "data": {
            "text/html": [],
            "text/plain": [
              "<IPython.core.display.HTML object>"
            ]
          },
          "metadata": {},
          "output_type": "display_data"
        },
        {
          "data": {
            "text/html": [
              "\n",
              "<style>\n",
              "    /* Turns off some styling */\n",
              "    progress {\n",
              "        /* gets rid of default border in Firefox and Opera. */\n",
              "        border: none;\n",
              "        /* Needs to be in here for Safari polyfill so background images work as expected. */\n",
              "        background-size: auto;\n",
              "    }\n",
              "    progress:not([value]), progress:not([value])::-webkit-progress-bar {\n",
              "        background: repeating-linear-gradient(45deg, #7e7e7e, #7e7e7e 10px, #5c5c5c 10px, #5c5c5c 20px);\n",
              "    }\n",
              "    .progress-bar-interrupted, .progress-bar-interrupted::-webkit-progress-bar {\n",
              "        background: #F44336;\n",
              "    }\n",
              "</style>\n"
            ],
            "text/plain": [
              "<IPython.core.display.HTML object>"
            ]
          },
          "metadata": {},
          "output_type": "display_data"
        },
        {
          "data": {
            "text/html": [],
            "text/plain": [
              "<IPython.core.display.HTML object>"
            ]
          },
          "metadata": {},
          "output_type": "display_data"
        },
        {
          "data": {
            "text/html": [
              "\n",
              "<style>\n",
              "    /* Turns off some styling */\n",
              "    progress {\n",
              "        /* gets rid of default border in Firefox and Opera. */\n",
              "        border: none;\n",
              "        /* Needs to be in here for Safari polyfill so background images work as expected. */\n",
              "        background-size: auto;\n",
              "    }\n",
              "    progress:not([value]), progress:not([value])::-webkit-progress-bar {\n",
              "        background: repeating-linear-gradient(45deg, #7e7e7e, #7e7e7e 10px, #5c5c5c 10px, #5c5c5c 20px);\n",
              "    }\n",
              "    .progress-bar-interrupted, .progress-bar-interrupted::-webkit-progress-bar {\n",
              "        background: #F44336;\n",
              "    }\n",
              "</style>\n"
            ],
            "text/plain": [
              "<IPython.core.display.HTML object>"
            ]
          },
          "metadata": {},
          "output_type": "display_data"
        },
        {
          "data": {
            "text/html": [],
            "text/plain": [
              "<IPython.core.display.HTML object>"
            ]
          },
          "metadata": {},
          "output_type": "display_data"
        },
        {
          "data": {
            "text/html": [
              "\n",
              "<style>\n",
              "    /* Turns off some styling */\n",
              "    progress {\n",
              "        /* gets rid of default border in Firefox and Opera. */\n",
              "        border: none;\n",
              "        /* Needs to be in here for Safari polyfill so background images work as expected. */\n",
              "        background-size: auto;\n",
              "    }\n",
              "    progress:not([value]), progress:not([value])::-webkit-progress-bar {\n",
              "        background: repeating-linear-gradient(45deg, #7e7e7e, #7e7e7e 10px, #5c5c5c 10px, #5c5c5c 20px);\n",
              "    }\n",
              "    .progress-bar-interrupted, .progress-bar-interrupted::-webkit-progress-bar {\n",
              "        background: #F44336;\n",
              "    }\n",
              "</style>\n"
            ],
            "text/plain": [
              "<IPython.core.display.HTML object>"
            ]
          },
          "metadata": {},
          "output_type": "display_data"
        },
        {
          "data": {
            "text/html": [],
            "text/plain": [
              "<IPython.core.display.HTML object>"
            ]
          },
          "metadata": {},
          "output_type": "display_data"
        },
        {
          "data": {
            "text/html": [
              "\n",
              "<style>\n",
              "    /* Turns off some styling */\n",
              "    progress {\n",
              "        /* gets rid of default border in Firefox and Opera. */\n",
              "        border: none;\n",
              "        /* Needs to be in here for Safari polyfill so background images work as expected. */\n",
              "        background-size: auto;\n",
              "    }\n",
              "    progress:not([value]), progress:not([value])::-webkit-progress-bar {\n",
              "        background: repeating-linear-gradient(45deg, #7e7e7e, #7e7e7e 10px, #5c5c5c 10px, #5c5c5c 20px);\n",
              "    }\n",
              "    .progress-bar-interrupted, .progress-bar-interrupted::-webkit-progress-bar {\n",
              "        background: #F44336;\n",
              "    }\n",
              "</style>\n"
            ],
            "text/plain": [
              "<IPython.core.display.HTML object>"
            ]
          },
          "metadata": {},
          "output_type": "display_data"
        },
        {
          "data": {
            "text/html": [],
            "text/plain": [
              "<IPython.core.display.HTML object>"
            ]
          },
          "metadata": {},
          "output_type": "display_data"
        },
        {
          "data": {
            "text/html": [
              "\n",
              "<style>\n",
              "    /* Turns off some styling */\n",
              "    progress {\n",
              "        /* gets rid of default border in Firefox and Opera. */\n",
              "        border: none;\n",
              "        /* Needs to be in here for Safari polyfill so background images work as expected. */\n",
              "        background-size: auto;\n",
              "    }\n",
              "    progress:not([value]), progress:not([value])::-webkit-progress-bar {\n",
              "        background: repeating-linear-gradient(45deg, #7e7e7e, #7e7e7e 10px, #5c5c5c 10px, #5c5c5c 20px);\n",
              "    }\n",
              "    .progress-bar-interrupted, .progress-bar-interrupted::-webkit-progress-bar {\n",
              "        background: #F44336;\n",
              "    }\n",
              "</style>\n"
            ],
            "text/plain": [
              "<IPython.core.display.HTML object>"
            ]
          },
          "metadata": {},
          "output_type": "display_data"
        },
        {
          "data": {
            "text/html": [],
            "text/plain": [
              "<IPython.core.display.HTML object>"
            ]
          },
          "metadata": {},
          "output_type": "display_data"
        },
        {
          "data": {
            "text/html": [
              "\n",
              "<style>\n",
              "    /* Turns off some styling */\n",
              "    progress {\n",
              "        /* gets rid of default border in Firefox and Opera. */\n",
              "        border: none;\n",
              "        /* Needs to be in here for Safari polyfill so background images work as expected. */\n",
              "        background-size: auto;\n",
              "    }\n",
              "    progress:not([value]), progress:not([value])::-webkit-progress-bar {\n",
              "        background: repeating-linear-gradient(45deg, #7e7e7e, #7e7e7e 10px, #5c5c5c 10px, #5c5c5c 20px);\n",
              "    }\n",
              "    .progress-bar-interrupted, .progress-bar-interrupted::-webkit-progress-bar {\n",
              "        background: #F44336;\n",
              "    }\n",
              "</style>\n"
            ],
            "text/plain": [
              "<IPython.core.display.HTML object>"
            ]
          },
          "metadata": {},
          "output_type": "display_data"
        },
        {
          "data": {
            "text/html": [],
            "text/plain": [
              "<IPython.core.display.HTML object>"
            ]
          },
          "metadata": {},
          "output_type": "display_data"
        },
        {
          "data": {
            "text/html": [
              "\n",
              "<style>\n",
              "    /* Turns off some styling */\n",
              "    progress {\n",
              "        /* gets rid of default border in Firefox and Opera. */\n",
              "        border: none;\n",
              "        /* Needs to be in here for Safari polyfill so background images work as expected. */\n",
              "        background-size: auto;\n",
              "    }\n",
              "    progress:not([value]), progress:not([value])::-webkit-progress-bar {\n",
              "        background: repeating-linear-gradient(45deg, #7e7e7e, #7e7e7e 10px, #5c5c5c 10px, #5c5c5c 20px);\n",
              "    }\n",
              "    .progress-bar-interrupted, .progress-bar-interrupted::-webkit-progress-bar {\n",
              "        background: #F44336;\n",
              "    }\n",
              "</style>\n"
            ],
            "text/plain": [
              "<IPython.core.display.HTML object>"
            ]
          },
          "metadata": {},
          "output_type": "display_data"
        },
        {
          "data": {
            "text/html": [],
            "text/plain": [
              "<IPython.core.display.HTML object>"
            ]
          },
          "metadata": {},
          "output_type": "display_data"
        },
        {
          "data": {
            "text/html": [
              "\n",
              "<style>\n",
              "    /* Turns off some styling */\n",
              "    progress {\n",
              "        /* gets rid of default border in Firefox and Opera. */\n",
              "        border: none;\n",
              "        /* Needs to be in here for Safari polyfill so background images work as expected. */\n",
              "        background-size: auto;\n",
              "    }\n",
              "    progress:not([value]), progress:not([value])::-webkit-progress-bar {\n",
              "        background: repeating-linear-gradient(45deg, #7e7e7e, #7e7e7e 10px, #5c5c5c 10px, #5c5c5c 20px);\n",
              "    }\n",
              "    .progress-bar-interrupted, .progress-bar-interrupted::-webkit-progress-bar {\n",
              "        background: #F44336;\n",
              "    }\n",
              "</style>\n"
            ],
            "text/plain": [
              "<IPython.core.display.HTML object>"
            ]
          },
          "metadata": {},
          "output_type": "display_data"
        },
        {
          "data": {
            "text/html": [],
            "text/plain": [
              "<IPython.core.display.HTML object>"
            ]
          },
          "metadata": {},
          "output_type": "display_data"
        },
        {
          "data": {
            "text/html": [
              "\n",
              "<style>\n",
              "    /* Turns off some styling */\n",
              "    progress {\n",
              "        /* gets rid of default border in Firefox and Opera. */\n",
              "        border: none;\n",
              "        /* Needs to be in here for Safari polyfill so background images work as expected. */\n",
              "        background-size: auto;\n",
              "    }\n",
              "    progress:not([value]), progress:not([value])::-webkit-progress-bar {\n",
              "        background: repeating-linear-gradient(45deg, #7e7e7e, #7e7e7e 10px, #5c5c5c 10px, #5c5c5c 20px);\n",
              "    }\n",
              "    .progress-bar-interrupted, .progress-bar-interrupted::-webkit-progress-bar {\n",
              "        background: #F44336;\n",
              "    }\n",
              "</style>\n"
            ],
            "text/plain": [
              "<IPython.core.display.HTML object>"
            ]
          },
          "metadata": {},
          "output_type": "display_data"
        },
        {
          "data": {
            "text/html": [],
            "text/plain": [
              "<IPython.core.display.HTML object>"
            ]
          },
          "metadata": {},
          "output_type": "display_data"
        },
        {
          "data": {
            "text/html": [
              "\n",
              "<style>\n",
              "    /* Turns off some styling */\n",
              "    progress {\n",
              "        /* gets rid of default border in Firefox and Opera. */\n",
              "        border: none;\n",
              "        /* Needs to be in here for Safari polyfill so background images work as expected. */\n",
              "        background-size: auto;\n",
              "    }\n",
              "    progress:not([value]), progress:not([value])::-webkit-progress-bar {\n",
              "        background: repeating-linear-gradient(45deg, #7e7e7e, #7e7e7e 10px, #5c5c5c 10px, #5c5c5c 20px);\n",
              "    }\n",
              "    .progress-bar-interrupted, .progress-bar-interrupted::-webkit-progress-bar {\n",
              "        background: #F44336;\n",
              "    }\n",
              "</style>\n"
            ],
            "text/plain": [
              "<IPython.core.display.HTML object>"
            ]
          },
          "metadata": {},
          "output_type": "display_data"
        },
        {
          "data": {
            "text/html": [],
            "text/plain": [
              "<IPython.core.display.HTML object>"
            ]
          },
          "metadata": {},
          "output_type": "display_data"
        },
        {
          "data": {
            "text/html": [
              "\n",
              "<style>\n",
              "    /* Turns off some styling */\n",
              "    progress {\n",
              "        /* gets rid of default border in Firefox and Opera. */\n",
              "        border: none;\n",
              "        /* Needs to be in here for Safari polyfill so background images work as expected. */\n",
              "        background-size: auto;\n",
              "    }\n",
              "    progress:not([value]), progress:not([value])::-webkit-progress-bar {\n",
              "        background: repeating-linear-gradient(45deg, #7e7e7e, #7e7e7e 10px, #5c5c5c 10px, #5c5c5c 20px);\n",
              "    }\n",
              "    .progress-bar-interrupted, .progress-bar-interrupted::-webkit-progress-bar {\n",
              "        background: #F44336;\n",
              "    }\n",
              "</style>\n"
            ],
            "text/plain": [
              "<IPython.core.display.HTML object>"
            ]
          },
          "metadata": {},
          "output_type": "display_data"
        },
        {
          "data": {
            "text/html": [],
            "text/plain": [
              "<IPython.core.display.HTML object>"
            ]
          },
          "metadata": {},
          "output_type": "display_data"
        },
        {
          "data": {
            "text/html": [
              "\n",
              "<style>\n",
              "    /* Turns off some styling */\n",
              "    progress {\n",
              "        /* gets rid of default border in Firefox and Opera. */\n",
              "        border: none;\n",
              "        /* Needs to be in here for Safari polyfill so background images work as expected. */\n",
              "        background-size: auto;\n",
              "    }\n",
              "    progress:not([value]), progress:not([value])::-webkit-progress-bar {\n",
              "        background: repeating-linear-gradient(45deg, #7e7e7e, #7e7e7e 10px, #5c5c5c 10px, #5c5c5c 20px);\n",
              "    }\n",
              "    .progress-bar-interrupted, .progress-bar-interrupted::-webkit-progress-bar {\n",
              "        background: #F44336;\n",
              "    }\n",
              "</style>\n"
            ],
            "text/plain": [
              "<IPython.core.display.HTML object>"
            ]
          },
          "metadata": {},
          "output_type": "display_data"
        },
        {
          "data": {
            "text/html": [],
            "text/plain": [
              "<IPython.core.display.HTML object>"
            ]
          },
          "metadata": {},
          "output_type": "display_data"
        },
        {
          "data": {
            "text/html": [
              "\n",
              "<style>\n",
              "    /* Turns off some styling */\n",
              "    progress {\n",
              "        /* gets rid of default border in Firefox and Opera. */\n",
              "        border: none;\n",
              "        /* Needs to be in here for Safari polyfill so background images work as expected. */\n",
              "        background-size: auto;\n",
              "    }\n",
              "    progress:not([value]), progress:not([value])::-webkit-progress-bar {\n",
              "        background: repeating-linear-gradient(45deg, #7e7e7e, #7e7e7e 10px, #5c5c5c 10px, #5c5c5c 20px);\n",
              "    }\n",
              "    .progress-bar-interrupted, .progress-bar-interrupted::-webkit-progress-bar {\n",
              "        background: #F44336;\n",
              "    }\n",
              "</style>\n"
            ],
            "text/plain": [
              "<IPython.core.display.HTML object>"
            ]
          },
          "metadata": {},
          "output_type": "display_data"
        },
        {
          "data": {
            "text/html": [],
            "text/plain": [
              "<IPython.core.display.HTML object>"
            ]
          },
          "metadata": {},
          "output_type": "display_data"
        },
        {
          "data": {
            "text/html": [
              "\n",
              "<style>\n",
              "    /* Turns off some styling */\n",
              "    progress {\n",
              "        /* gets rid of default border in Firefox and Opera. */\n",
              "        border: none;\n",
              "        /* Needs to be in here for Safari polyfill so background images work as expected. */\n",
              "        background-size: auto;\n",
              "    }\n",
              "    progress:not([value]), progress:not([value])::-webkit-progress-bar {\n",
              "        background: repeating-linear-gradient(45deg, #7e7e7e, #7e7e7e 10px, #5c5c5c 10px, #5c5c5c 20px);\n",
              "    }\n",
              "    .progress-bar-interrupted, .progress-bar-interrupted::-webkit-progress-bar {\n",
              "        background: #F44336;\n",
              "    }\n",
              "</style>\n"
            ],
            "text/plain": [
              "<IPython.core.display.HTML object>"
            ]
          },
          "metadata": {},
          "output_type": "display_data"
        },
        {
          "data": {
            "text/html": [],
            "text/plain": [
              "<IPython.core.display.HTML object>"
            ]
          },
          "metadata": {},
          "output_type": "display_data"
        },
        {
          "data": {
            "text/html": [
              "\n",
              "<style>\n",
              "    /* Turns off some styling */\n",
              "    progress {\n",
              "        /* gets rid of default border in Firefox and Opera. */\n",
              "        border: none;\n",
              "        /* Needs to be in here for Safari polyfill so background images work as expected. */\n",
              "        background-size: auto;\n",
              "    }\n",
              "    progress:not([value]), progress:not([value])::-webkit-progress-bar {\n",
              "        background: repeating-linear-gradient(45deg, #7e7e7e, #7e7e7e 10px, #5c5c5c 10px, #5c5c5c 20px);\n",
              "    }\n",
              "    .progress-bar-interrupted, .progress-bar-interrupted::-webkit-progress-bar {\n",
              "        background: #F44336;\n",
              "    }\n",
              "</style>\n"
            ],
            "text/plain": [
              "<IPython.core.display.HTML object>"
            ]
          },
          "metadata": {},
          "output_type": "display_data"
        },
        {
          "data": {
            "text/html": [],
            "text/plain": [
              "<IPython.core.display.HTML object>"
            ]
          },
          "metadata": {},
          "output_type": "display_data"
        },
        {
          "data": {
            "text/html": [
              "\n",
              "<style>\n",
              "    /* Turns off some styling */\n",
              "    progress {\n",
              "        /* gets rid of default border in Firefox and Opera. */\n",
              "        border: none;\n",
              "        /* Needs to be in here for Safari polyfill so background images work as expected. */\n",
              "        background-size: auto;\n",
              "    }\n",
              "    progress:not([value]), progress:not([value])::-webkit-progress-bar {\n",
              "        background: repeating-linear-gradient(45deg, #7e7e7e, #7e7e7e 10px, #5c5c5c 10px, #5c5c5c 20px);\n",
              "    }\n",
              "    .progress-bar-interrupted, .progress-bar-interrupted::-webkit-progress-bar {\n",
              "        background: #F44336;\n",
              "    }\n",
              "</style>\n"
            ],
            "text/plain": [
              "<IPython.core.display.HTML object>"
            ]
          },
          "metadata": {},
          "output_type": "display_data"
        },
        {
          "data": {
            "text/html": [],
            "text/plain": [
              "<IPython.core.display.HTML object>"
            ]
          },
          "metadata": {},
          "output_type": "display_data"
        },
        {
          "data": {
            "text/html": [
              "\n",
              "<style>\n",
              "    /* Turns off some styling */\n",
              "    progress {\n",
              "        /* gets rid of default border in Firefox and Opera. */\n",
              "        border: none;\n",
              "        /* Needs to be in here for Safari polyfill so background images work as expected. */\n",
              "        background-size: auto;\n",
              "    }\n",
              "    progress:not([value]), progress:not([value])::-webkit-progress-bar {\n",
              "        background: repeating-linear-gradient(45deg, #7e7e7e, #7e7e7e 10px, #5c5c5c 10px, #5c5c5c 20px);\n",
              "    }\n",
              "    .progress-bar-interrupted, .progress-bar-interrupted::-webkit-progress-bar {\n",
              "        background: #F44336;\n",
              "    }\n",
              "</style>\n"
            ],
            "text/plain": [
              "<IPython.core.display.HTML object>"
            ]
          },
          "metadata": {},
          "output_type": "display_data"
        },
        {
          "data": {
            "text/html": [],
            "text/plain": [
              "<IPython.core.display.HTML object>"
            ]
          },
          "metadata": {},
          "output_type": "display_data"
        },
        {
          "data": {
            "text/html": [
              "\n",
              "<style>\n",
              "    /* Turns off some styling */\n",
              "    progress {\n",
              "        /* gets rid of default border in Firefox and Opera. */\n",
              "        border: none;\n",
              "        /* Needs to be in here for Safari polyfill so background images work as expected. */\n",
              "        background-size: auto;\n",
              "    }\n",
              "    progress:not([value]), progress:not([value])::-webkit-progress-bar {\n",
              "        background: repeating-linear-gradient(45deg, #7e7e7e, #7e7e7e 10px, #5c5c5c 10px, #5c5c5c 20px);\n",
              "    }\n",
              "    .progress-bar-interrupted, .progress-bar-interrupted::-webkit-progress-bar {\n",
              "        background: #F44336;\n",
              "    }\n",
              "</style>\n"
            ],
            "text/plain": [
              "<IPython.core.display.HTML object>"
            ]
          },
          "metadata": {},
          "output_type": "display_data"
        },
        {
          "data": {
            "text/html": [],
            "text/plain": [
              "<IPython.core.display.HTML object>"
            ]
          },
          "metadata": {},
          "output_type": "display_data"
        },
        {
          "data": {
            "text/html": [
              "\n",
              "<style>\n",
              "    /* Turns off some styling */\n",
              "    progress {\n",
              "        /* gets rid of default border in Firefox and Opera. */\n",
              "        border: none;\n",
              "        /* Needs to be in here for Safari polyfill so background images work as expected. */\n",
              "        background-size: auto;\n",
              "    }\n",
              "    progress:not([value]), progress:not([value])::-webkit-progress-bar {\n",
              "        background: repeating-linear-gradient(45deg, #7e7e7e, #7e7e7e 10px, #5c5c5c 10px, #5c5c5c 20px);\n",
              "    }\n",
              "    .progress-bar-interrupted, .progress-bar-interrupted::-webkit-progress-bar {\n",
              "        background: #F44336;\n",
              "    }\n",
              "</style>\n"
            ],
            "text/plain": [
              "<IPython.core.display.HTML object>"
            ]
          },
          "metadata": {},
          "output_type": "display_data"
        },
        {
          "data": {
            "text/html": [],
            "text/plain": [
              "<IPython.core.display.HTML object>"
            ]
          },
          "metadata": {},
          "output_type": "display_data"
        },
        {
          "data": {
            "text/html": [
              "\n",
              "<style>\n",
              "    /* Turns off some styling */\n",
              "    progress {\n",
              "        /* gets rid of default border in Firefox and Opera. */\n",
              "        border: none;\n",
              "        /* Needs to be in here for Safari polyfill so background images work as expected. */\n",
              "        background-size: auto;\n",
              "    }\n",
              "    progress:not([value]), progress:not([value])::-webkit-progress-bar {\n",
              "        background: repeating-linear-gradient(45deg, #7e7e7e, #7e7e7e 10px, #5c5c5c 10px, #5c5c5c 20px);\n",
              "    }\n",
              "    .progress-bar-interrupted, .progress-bar-interrupted::-webkit-progress-bar {\n",
              "        background: #F44336;\n",
              "    }\n",
              "</style>\n"
            ],
            "text/plain": [
              "<IPython.core.display.HTML object>"
            ]
          },
          "metadata": {},
          "output_type": "display_data"
        },
        {
          "data": {
            "text/html": [],
            "text/plain": [
              "<IPython.core.display.HTML object>"
            ]
          },
          "metadata": {},
          "output_type": "display_data"
        },
        {
          "data": {
            "text/html": [
              "\n",
              "<style>\n",
              "    /* Turns off some styling */\n",
              "    progress {\n",
              "        /* gets rid of default border in Firefox and Opera. */\n",
              "        border: none;\n",
              "        /* Needs to be in here for Safari polyfill so background images work as expected. */\n",
              "        background-size: auto;\n",
              "    }\n",
              "    progress:not([value]), progress:not([value])::-webkit-progress-bar {\n",
              "        background: repeating-linear-gradient(45deg, #7e7e7e, #7e7e7e 10px, #5c5c5c 10px, #5c5c5c 20px);\n",
              "    }\n",
              "    .progress-bar-interrupted, .progress-bar-interrupted::-webkit-progress-bar {\n",
              "        background: #F44336;\n",
              "    }\n",
              "</style>\n"
            ],
            "text/plain": [
              "<IPython.core.display.HTML object>"
            ]
          },
          "metadata": {},
          "output_type": "display_data"
        },
        {
          "data": {
            "text/html": [],
            "text/plain": [
              "<IPython.core.display.HTML object>"
            ]
          },
          "metadata": {},
          "output_type": "display_data"
        },
        {
          "data": {
            "text/html": [
              "\n",
              "<style>\n",
              "    /* Turns off some styling */\n",
              "    progress {\n",
              "        /* gets rid of default border in Firefox and Opera. */\n",
              "        border: none;\n",
              "        /* Needs to be in here for Safari polyfill so background images work as expected. */\n",
              "        background-size: auto;\n",
              "    }\n",
              "    progress:not([value]), progress:not([value])::-webkit-progress-bar {\n",
              "        background: repeating-linear-gradient(45deg, #7e7e7e, #7e7e7e 10px, #5c5c5c 10px, #5c5c5c 20px);\n",
              "    }\n",
              "    .progress-bar-interrupted, .progress-bar-interrupted::-webkit-progress-bar {\n",
              "        background: #F44336;\n",
              "    }\n",
              "</style>\n"
            ],
            "text/plain": [
              "<IPython.core.display.HTML object>"
            ]
          },
          "metadata": {},
          "output_type": "display_data"
        },
        {
          "data": {
            "text/html": [],
            "text/plain": [
              "<IPython.core.display.HTML object>"
            ]
          },
          "metadata": {},
          "output_type": "display_data"
        },
        {
          "data": {
            "text/html": [
              "\n",
              "<style>\n",
              "    /* Turns off some styling */\n",
              "    progress {\n",
              "        /* gets rid of default border in Firefox and Opera. */\n",
              "        border: none;\n",
              "        /* Needs to be in here for Safari polyfill so background images work as expected. */\n",
              "        background-size: auto;\n",
              "    }\n",
              "    progress:not([value]), progress:not([value])::-webkit-progress-bar {\n",
              "        background: repeating-linear-gradient(45deg, #7e7e7e, #7e7e7e 10px, #5c5c5c 10px, #5c5c5c 20px);\n",
              "    }\n",
              "    .progress-bar-interrupted, .progress-bar-interrupted::-webkit-progress-bar {\n",
              "        background: #F44336;\n",
              "    }\n",
              "</style>\n"
            ],
            "text/plain": [
              "<IPython.core.display.HTML object>"
            ]
          },
          "metadata": {},
          "output_type": "display_data"
        },
        {
          "data": {
            "text/html": [],
            "text/plain": [
              "<IPython.core.display.HTML object>"
            ]
          },
          "metadata": {},
          "output_type": "display_data"
        },
        {
          "data": {
            "text/html": [
              "\n",
              "<style>\n",
              "    /* Turns off some styling */\n",
              "    progress {\n",
              "        /* gets rid of default border in Firefox and Opera. */\n",
              "        border: none;\n",
              "        /* Needs to be in here for Safari polyfill so background images work as expected. */\n",
              "        background-size: auto;\n",
              "    }\n",
              "    progress:not([value]), progress:not([value])::-webkit-progress-bar {\n",
              "        background: repeating-linear-gradient(45deg, #7e7e7e, #7e7e7e 10px, #5c5c5c 10px, #5c5c5c 20px);\n",
              "    }\n",
              "    .progress-bar-interrupted, .progress-bar-interrupted::-webkit-progress-bar {\n",
              "        background: #F44336;\n",
              "    }\n",
              "</style>\n"
            ],
            "text/plain": [
              "<IPython.core.display.HTML object>"
            ]
          },
          "metadata": {},
          "output_type": "display_data"
        },
        {
          "data": {
            "text/html": [],
            "text/plain": [
              "<IPython.core.display.HTML object>"
            ]
          },
          "metadata": {},
          "output_type": "display_data"
        },
        {
          "data": {
            "text/html": [
              "\n",
              "<style>\n",
              "    /* Turns off some styling */\n",
              "    progress {\n",
              "        /* gets rid of default border in Firefox and Opera. */\n",
              "        border: none;\n",
              "        /* Needs to be in here for Safari polyfill so background images work as expected. */\n",
              "        background-size: auto;\n",
              "    }\n",
              "    progress:not([value]), progress:not([value])::-webkit-progress-bar {\n",
              "        background: repeating-linear-gradient(45deg, #7e7e7e, #7e7e7e 10px, #5c5c5c 10px, #5c5c5c 20px);\n",
              "    }\n",
              "    .progress-bar-interrupted, .progress-bar-interrupted::-webkit-progress-bar {\n",
              "        background: #F44336;\n",
              "    }\n",
              "</style>\n"
            ],
            "text/plain": [
              "<IPython.core.display.HTML object>"
            ]
          },
          "metadata": {},
          "output_type": "display_data"
        },
        {
          "data": {
            "text/html": [],
            "text/plain": [
              "<IPython.core.display.HTML object>"
            ]
          },
          "metadata": {},
          "output_type": "display_data"
        },
        {
          "data": {
            "text/html": [
              "\n",
              "<style>\n",
              "    /* Turns off some styling */\n",
              "    progress {\n",
              "        /* gets rid of default border in Firefox and Opera. */\n",
              "        border: none;\n",
              "        /* Needs to be in here for Safari polyfill so background images work as expected. */\n",
              "        background-size: auto;\n",
              "    }\n",
              "    progress:not([value]), progress:not([value])::-webkit-progress-bar {\n",
              "        background: repeating-linear-gradient(45deg, #7e7e7e, #7e7e7e 10px, #5c5c5c 10px, #5c5c5c 20px);\n",
              "    }\n",
              "    .progress-bar-interrupted, .progress-bar-interrupted::-webkit-progress-bar {\n",
              "        background: #F44336;\n",
              "    }\n",
              "</style>\n"
            ],
            "text/plain": [
              "<IPython.core.display.HTML object>"
            ]
          },
          "metadata": {},
          "output_type": "display_data"
        },
        {
          "data": {
            "text/html": [],
            "text/plain": [
              "<IPython.core.display.HTML object>"
            ]
          },
          "metadata": {},
          "output_type": "display_data"
        },
        {
          "data": {
            "text/html": [
              "\n",
              "<style>\n",
              "    /* Turns off some styling */\n",
              "    progress {\n",
              "        /* gets rid of default border in Firefox and Opera. */\n",
              "        border: none;\n",
              "        /* Needs to be in here for Safari polyfill so background images work as expected. */\n",
              "        background-size: auto;\n",
              "    }\n",
              "    progress:not([value]), progress:not([value])::-webkit-progress-bar {\n",
              "        background: repeating-linear-gradient(45deg, #7e7e7e, #7e7e7e 10px, #5c5c5c 10px, #5c5c5c 20px);\n",
              "    }\n",
              "    .progress-bar-interrupted, .progress-bar-interrupted::-webkit-progress-bar {\n",
              "        background: #F44336;\n",
              "    }\n",
              "</style>\n"
            ],
            "text/plain": [
              "<IPython.core.display.HTML object>"
            ]
          },
          "metadata": {},
          "output_type": "display_data"
        },
        {
          "data": {
            "text/html": [],
            "text/plain": [
              "<IPython.core.display.HTML object>"
            ]
          },
          "metadata": {},
          "output_type": "display_data"
        },
        {
          "data": {
            "text/html": [
              "\n",
              "<style>\n",
              "    /* Turns off some styling */\n",
              "    progress {\n",
              "        /* gets rid of default border in Firefox and Opera. */\n",
              "        border: none;\n",
              "        /* Needs to be in here for Safari polyfill so background images work as expected. */\n",
              "        background-size: auto;\n",
              "    }\n",
              "    progress:not([value]), progress:not([value])::-webkit-progress-bar {\n",
              "        background: repeating-linear-gradient(45deg, #7e7e7e, #7e7e7e 10px, #5c5c5c 10px, #5c5c5c 20px);\n",
              "    }\n",
              "    .progress-bar-interrupted, .progress-bar-interrupted::-webkit-progress-bar {\n",
              "        background: #F44336;\n",
              "    }\n",
              "</style>\n"
            ],
            "text/plain": [
              "<IPython.core.display.HTML object>"
            ]
          },
          "metadata": {},
          "output_type": "display_data"
        },
        {
          "data": {
            "text/html": [],
            "text/plain": [
              "<IPython.core.display.HTML object>"
            ]
          },
          "metadata": {},
          "output_type": "display_data"
        },
        {
          "data": {
            "text/html": [
              "\n",
              "<style>\n",
              "    /* Turns off some styling */\n",
              "    progress {\n",
              "        /* gets rid of default border in Firefox and Opera. */\n",
              "        border: none;\n",
              "        /* Needs to be in here for Safari polyfill so background images work as expected. */\n",
              "        background-size: auto;\n",
              "    }\n",
              "    progress:not([value]), progress:not([value])::-webkit-progress-bar {\n",
              "        background: repeating-linear-gradient(45deg, #7e7e7e, #7e7e7e 10px, #5c5c5c 10px, #5c5c5c 20px);\n",
              "    }\n",
              "    .progress-bar-interrupted, .progress-bar-interrupted::-webkit-progress-bar {\n",
              "        background: #F44336;\n",
              "    }\n",
              "</style>\n"
            ],
            "text/plain": [
              "<IPython.core.display.HTML object>"
            ]
          },
          "metadata": {},
          "output_type": "display_data"
        },
        {
          "data": {
            "text/html": [],
            "text/plain": [
              "<IPython.core.display.HTML object>"
            ]
          },
          "metadata": {},
          "output_type": "display_data"
        },
        {
          "data": {
            "text/html": [
              "\n",
              "<style>\n",
              "    /* Turns off some styling */\n",
              "    progress {\n",
              "        /* gets rid of default border in Firefox and Opera. */\n",
              "        border: none;\n",
              "        /* Needs to be in here for Safari polyfill so background images work as expected. */\n",
              "        background-size: auto;\n",
              "    }\n",
              "    progress:not([value]), progress:not([value])::-webkit-progress-bar {\n",
              "        background: repeating-linear-gradient(45deg, #7e7e7e, #7e7e7e 10px, #5c5c5c 10px, #5c5c5c 20px);\n",
              "    }\n",
              "    .progress-bar-interrupted, .progress-bar-interrupted::-webkit-progress-bar {\n",
              "        background: #F44336;\n",
              "    }\n",
              "</style>\n"
            ],
            "text/plain": [
              "<IPython.core.display.HTML object>"
            ]
          },
          "metadata": {},
          "output_type": "display_data"
        },
        {
          "data": {
            "text/html": [],
            "text/plain": [
              "<IPython.core.display.HTML object>"
            ]
          },
          "metadata": {},
          "output_type": "display_data"
        },
        {
          "data": {
            "text/html": [
              "\n",
              "<style>\n",
              "    /* Turns off some styling */\n",
              "    progress {\n",
              "        /* gets rid of default border in Firefox and Opera. */\n",
              "        border: none;\n",
              "        /* Needs to be in here for Safari polyfill so background images work as expected. */\n",
              "        background-size: auto;\n",
              "    }\n",
              "    progress:not([value]), progress:not([value])::-webkit-progress-bar {\n",
              "        background: repeating-linear-gradient(45deg, #7e7e7e, #7e7e7e 10px, #5c5c5c 10px, #5c5c5c 20px);\n",
              "    }\n",
              "    .progress-bar-interrupted, .progress-bar-interrupted::-webkit-progress-bar {\n",
              "        background: #F44336;\n",
              "    }\n",
              "</style>\n"
            ],
            "text/plain": [
              "<IPython.core.display.HTML object>"
            ]
          },
          "metadata": {},
          "output_type": "display_data"
        },
        {
          "data": {
            "text/html": [],
            "text/plain": [
              "<IPython.core.display.HTML object>"
            ]
          },
          "metadata": {},
          "output_type": "display_data"
        },
        {
          "data": {
            "text/html": [
              "\n",
              "<style>\n",
              "    /* Turns off some styling */\n",
              "    progress {\n",
              "        /* gets rid of default border in Firefox and Opera. */\n",
              "        border: none;\n",
              "        /* Needs to be in here for Safari polyfill so background images work as expected. */\n",
              "        background-size: auto;\n",
              "    }\n",
              "    progress:not([value]), progress:not([value])::-webkit-progress-bar {\n",
              "        background: repeating-linear-gradient(45deg, #7e7e7e, #7e7e7e 10px, #5c5c5c 10px, #5c5c5c 20px);\n",
              "    }\n",
              "    .progress-bar-interrupted, .progress-bar-interrupted::-webkit-progress-bar {\n",
              "        background: #F44336;\n",
              "    }\n",
              "</style>\n"
            ],
            "text/plain": [
              "<IPython.core.display.HTML object>"
            ]
          },
          "metadata": {},
          "output_type": "display_data"
        },
        {
          "data": {
            "text/html": [],
            "text/plain": [
              "<IPython.core.display.HTML object>"
            ]
          },
          "metadata": {},
          "output_type": "display_data"
        },
        {
          "data": {
            "text/html": [
              "\n",
              "<style>\n",
              "    /* Turns off some styling */\n",
              "    progress {\n",
              "        /* gets rid of default border in Firefox and Opera. */\n",
              "        border: none;\n",
              "        /* Needs to be in here for Safari polyfill so background images work as expected. */\n",
              "        background-size: auto;\n",
              "    }\n",
              "    progress:not([value]), progress:not([value])::-webkit-progress-bar {\n",
              "        background: repeating-linear-gradient(45deg, #7e7e7e, #7e7e7e 10px, #5c5c5c 10px, #5c5c5c 20px);\n",
              "    }\n",
              "    .progress-bar-interrupted, .progress-bar-interrupted::-webkit-progress-bar {\n",
              "        background: #F44336;\n",
              "    }\n",
              "</style>\n"
            ],
            "text/plain": [
              "<IPython.core.display.HTML object>"
            ]
          },
          "metadata": {},
          "output_type": "display_data"
        },
        {
          "data": {
            "text/html": [],
            "text/plain": [
              "<IPython.core.display.HTML object>"
            ]
          },
          "metadata": {},
          "output_type": "display_data"
        },
        {
          "data": {
            "text/html": [
              "\n",
              "<style>\n",
              "    /* Turns off some styling */\n",
              "    progress {\n",
              "        /* gets rid of default border in Firefox and Opera. */\n",
              "        border: none;\n",
              "        /* Needs to be in here for Safari polyfill so background images work as expected. */\n",
              "        background-size: auto;\n",
              "    }\n",
              "    progress:not([value]), progress:not([value])::-webkit-progress-bar {\n",
              "        background: repeating-linear-gradient(45deg, #7e7e7e, #7e7e7e 10px, #5c5c5c 10px, #5c5c5c 20px);\n",
              "    }\n",
              "    .progress-bar-interrupted, .progress-bar-interrupted::-webkit-progress-bar {\n",
              "        background: #F44336;\n",
              "    }\n",
              "</style>\n"
            ],
            "text/plain": [
              "<IPython.core.display.HTML object>"
            ]
          },
          "metadata": {},
          "output_type": "display_data"
        },
        {
          "data": {
            "text/html": [],
            "text/plain": [
              "<IPython.core.display.HTML object>"
            ]
          },
          "metadata": {},
          "output_type": "display_data"
        },
        {
          "data": {
            "text/html": [
              "\n",
              "<style>\n",
              "    /* Turns off some styling */\n",
              "    progress {\n",
              "        /* gets rid of default border in Firefox and Opera. */\n",
              "        border: none;\n",
              "        /* Needs to be in here for Safari polyfill so background images work as expected. */\n",
              "        background-size: auto;\n",
              "    }\n",
              "    progress:not([value]), progress:not([value])::-webkit-progress-bar {\n",
              "        background: repeating-linear-gradient(45deg, #7e7e7e, #7e7e7e 10px, #5c5c5c 10px, #5c5c5c 20px);\n",
              "    }\n",
              "    .progress-bar-interrupted, .progress-bar-interrupted::-webkit-progress-bar {\n",
              "        background: #F44336;\n",
              "    }\n",
              "</style>\n"
            ],
            "text/plain": [
              "<IPython.core.display.HTML object>"
            ]
          },
          "metadata": {},
          "output_type": "display_data"
        },
        {
          "data": {
            "text/html": [],
            "text/plain": [
              "<IPython.core.display.HTML object>"
            ]
          },
          "metadata": {},
          "output_type": "display_data"
        },
        {
          "data": {
            "text/html": [
              "\n",
              "<style>\n",
              "    /* Turns off some styling */\n",
              "    progress {\n",
              "        /* gets rid of default border in Firefox and Opera. */\n",
              "        border: none;\n",
              "        /* Needs to be in here for Safari polyfill so background images work as expected. */\n",
              "        background-size: auto;\n",
              "    }\n",
              "    progress:not([value]), progress:not([value])::-webkit-progress-bar {\n",
              "        background: repeating-linear-gradient(45deg, #7e7e7e, #7e7e7e 10px, #5c5c5c 10px, #5c5c5c 20px);\n",
              "    }\n",
              "    .progress-bar-interrupted, .progress-bar-interrupted::-webkit-progress-bar {\n",
              "        background: #F44336;\n",
              "    }\n",
              "</style>\n"
            ],
            "text/plain": [
              "<IPython.core.display.HTML object>"
            ]
          },
          "metadata": {},
          "output_type": "display_data"
        },
        {
          "data": {
            "text/html": [],
            "text/plain": [
              "<IPython.core.display.HTML object>"
            ]
          },
          "metadata": {},
          "output_type": "display_data"
        },
        {
          "data": {
            "text/html": [
              "\n",
              "<style>\n",
              "    /* Turns off some styling */\n",
              "    progress {\n",
              "        /* gets rid of default border in Firefox and Opera. */\n",
              "        border: none;\n",
              "        /* Needs to be in here for Safari polyfill so background images work as expected. */\n",
              "        background-size: auto;\n",
              "    }\n",
              "    progress:not([value]), progress:not([value])::-webkit-progress-bar {\n",
              "        background: repeating-linear-gradient(45deg, #7e7e7e, #7e7e7e 10px, #5c5c5c 10px, #5c5c5c 20px);\n",
              "    }\n",
              "    .progress-bar-interrupted, .progress-bar-interrupted::-webkit-progress-bar {\n",
              "        background: #F44336;\n",
              "    }\n",
              "</style>\n"
            ],
            "text/plain": [
              "<IPython.core.display.HTML object>"
            ]
          },
          "metadata": {},
          "output_type": "display_data"
        },
        {
          "data": {
            "text/html": [],
            "text/plain": [
              "<IPython.core.display.HTML object>"
            ]
          },
          "metadata": {},
          "output_type": "display_data"
        },
        {
          "data": {
            "text/html": [
              "\n",
              "<style>\n",
              "    /* Turns off some styling */\n",
              "    progress {\n",
              "        /* gets rid of default border in Firefox and Opera. */\n",
              "        border: none;\n",
              "        /* Needs to be in here for Safari polyfill so background images work as expected. */\n",
              "        background-size: auto;\n",
              "    }\n",
              "    progress:not([value]), progress:not([value])::-webkit-progress-bar {\n",
              "        background: repeating-linear-gradient(45deg, #7e7e7e, #7e7e7e 10px, #5c5c5c 10px, #5c5c5c 20px);\n",
              "    }\n",
              "    .progress-bar-interrupted, .progress-bar-interrupted::-webkit-progress-bar {\n",
              "        background: #F44336;\n",
              "    }\n",
              "</style>\n"
            ],
            "text/plain": [
              "<IPython.core.display.HTML object>"
            ]
          },
          "metadata": {},
          "output_type": "display_data"
        },
        {
          "data": {
            "text/html": [],
            "text/plain": [
              "<IPython.core.display.HTML object>"
            ]
          },
          "metadata": {},
          "output_type": "display_data"
        },
        {
          "data": {
            "text/html": [
              "\n",
              "<style>\n",
              "    /* Turns off some styling */\n",
              "    progress {\n",
              "        /* gets rid of default border in Firefox and Opera. */\n",
              "        border: none;\n",
              "        /* Needs to be in here for Safari polyfill so background images work as expected. */\n",
              "        background-size: auto;\n",
              "    }\n",
              "    progress:not([value]), progress:not([value])::-webkit-progress-bar {\n",
              "        background: repeating-linear-gradient(45deg, #7e7e7e, #7e7e7e 10px, #5c5c5c 10px, #5c5c5c 20px);\n",
              "    }\n",
              "    .progress-bar-interrupted, .progress-bar-interrupted::-webkit-progress-bar {\n",
              "        background: #F44336;\n",
              "    }\n",
              "</style>\n"
            ],
            "text/plain": [
              "<IPython.core.display.HTML object>"
            ]
          },
          "metadata": {},
          "output_type": "display_data"
        },
        {
          "data": {
            "text/html": [],
            "text/plain": [
              "<IPython.core.display.HTML object>"
            ]
          },
          "metadata": {},
          "output_type": "display_data"
        },
        {
          "data": {
            "text/html": [
              "\n",
              "<style>\n",
              "    /* Turns off some styling */\n",
              "    progress {\n",
              "        /* gets rid of default border in Firefox and Opera. */\n",
              "        border: none;\n",
              "        /* Needs to be in here for Safari polyfill so background images work as expected. */\n",
              "        background-size: auto;\n",
              "    }\n",
              "    progress:not([value]), progress:not([value])::-webkit-progress-bar {\n",
              "        background: repeating-linear-gradient(45deg, #7e7e7e, #7e7e7e 10px, #5c5c5c 10px, #5c5c5c 20px);\n",
              "    }\n",
              "    .progress-bar-interrupted, .progress-bar-interrupted::-webkit-progress-bar {\n",
              "        background: #F44336;\n",
              "    }\n",
              "</style>\n"
            ],
            "text/plain": [
              "<IPython.core.display.HTML object>"
            ]
          },
          "metadata": {},
          "output_type": "display_data"
        },
        {
          "data": {
            "text/html": [],
            "text/plain": [
              "<IPython.core.display.HTML object>"
            ]
          },
          "metadata": {},
          "output_type": "display_data"
        },
        {
          "data": {
            "text/html": [
              "\n",
              "<style>\n",
              "    /* Turns off some styling */\n",
              "    progress {\n",
              "        /* gets rid of default border in Firefox and Opera. */\n",
              "        border: none;\n",
              "        /* Needs to be in here for Safari polyfill so background images work as expected. */\n",
              "        background-size: auto;\n",
              "    }\n",
              "    progress:not([value]), progress:not([value])::-webkit-progress-bar {\n",
              "        background: repeating-linear-gradient(45deg, #7e7e7e, #7e7e7e 10px, #5c5c5c 10px, #5c5c5c 20px);\n",
              "    }\n",
              "    .progress-bar-interrupted, .progress-bar-interrupted::-webkit-progress-bar {\n",
              "        background: #F44336;\n",
              "    }\n",
              "</style>\n"
            ],
            "text/plain": [
              "<IPython.core.display.HTML object>"
            ]
          },
          "metadata": {},
          "output_type": "display_data"
        },
        {
          "data": {
            "text/html": [],
            "text/plain": [
              "<IPython.core.display.HTML object>"
            ]
          },
          "metadata": {},
          "output_type": "display_data"
        },
        {
          "data": {
            "text/html": [
              "\n",
              "<style>\n",
              "    /* Turns off some styling */\n",
              "    progress {\n",
              "        /* gets rid of default border in Firefox and Opera. */\n",
              "        border: none;\n",
              "        /* Needs to be in here for Safari polyfill so background images work as expected. */\n",
              "        background-size: auto;\n",
              "    }\n",
              "    progress:not([value]), progress:not([value])::-webkit-progress-bar {\n",
              "        background: repeating-linear-gradient(45deg, #7e7e7e, #7e7e7e 10px, #5c5c5c 10px, #5c5c5c 20px);\n",
              "    }\n",
              "    .progress-bar-interrupted, .progress-bar-interrupted::-webkit-progress-bar {\n",
              "        background: #F44336;\n",
              "    }\n",
              "</style>\n"
            ],
            "text/plain": [
              "<IPython.core.display.HTML object>"
            ]
          },
          "metadata": {},
          "output_type": "display_data"
        },
        {
          "data": {
            "text/html": [],
            "text/plain": [
              "<IPython.core.display.HTML object>"
            ]
          },
          "metadata": {},
          "output_type": "display_data"
        },
        {
          "data": {
            "text/html": [
              "\n",
              "<style>\n",
              "    /* Turns off some styling */\n",
              "    progress {\n",
              "        /* gets rid of default border in Firefox and Opera. */\n",
              "        border: none;\n",
              "        /* Needs to be in here for Safari polyfill so background images work as expected. */\n",
              "        background-size: auto;\n",
              "    }\n",
              "    progress:not([value]), progress:not([value])::-webkit-progress-bar {\n",
              "        background: repeating-linear-gradient(45deg, #7e7e7e, #7e7e7e 10px, #5c5c5c 10px, #5c5c5c 20px);\n",
              "    }\n",
              "    .progress-bar-interrupted, .progress-bar-interrupted::-webkit-progress-bar {\n",
              "        background: #F44336;\n",
              "    }\n",
              "</style>\n"
            ],
            "text/plain": [
              "<IPython.core.display.HTML object>"
            ]
          },
          "metadata": {},
          "output_type": "display_data"
        },
        {
          "data": {
            "text/html": [],
            "text/plain": [
              "<IPython.core.display.HTML object>"
            ]
          },
          "metadata": {},
          "output_type": "display_data"
        },
        {
          "data": {
            "text/html": [
              "\n",
              "<style>\n",
              "    /* Turns off some styling */\n",
              "    progress {\n",
              "        /* gets rid of default border in Firefox and Opera. */\n",
              "        border: none;\n",
              "        /* Needs to be in here for Safari polyfill so background images work as expected. */\n",
              "        background-size: auto;\n",
              "    }\n",
              "    progress:not([value]), progress:not([value])::-webkit-progress-bar {\n",
              "        background: repeating-linear-gradient(45deg, #7e7e7e, #7e7e7e 10px, #5c5c5c 10px, #5c5c5c 20px);\n",
              "    }\n",
              "    .progress-bar-interrupted, .progress-bar-interrupted::-webkit-progress-bar {\n",
              "        background: #F44336;\n",
              "    }\n",
              "</style>\n"
            ],
            "text/plain": [
              "<IPython.core.display.HTML object>"
            ]
          },
          "metadata": {},
          "output_type": "display_data"
        },
        {
          "data": {
            "text/html": [],
            "text/plain": [
              "<IPython.core.display.HTML object>"
            ]
          },
          "metadata": {},
          "output_type": "display_data"
        },
        {
          "data": {
            "text/html": [
              "\n",
              "<style>\n",
              "    /* Turns off some styling */\n",
              "    progress {\n",
              "        /* gets rid of default border in Firefox and Opera. */\n",
              "        border: none;\n",
              "        /* Needs to be in here for Safari polyfill so background images work as expected. */\n",
              "        background-size: auto;\n",
              "    }\n",
              "    progress:not([value]), progress:not([value])::-webkit-progress-bar {\n",
              "        background: repeating-linear-gradient(45deg, #7e7e7e, #7e7e7e 10px, #5c5c5c 10px, #5c5c5c 20px);\n",
              "    }\n",
              "    .progress-bar-interrupted, .progress-bar-interrupted::-webkit-progress-bar {\n",
              "        background: #F44336;\n",
              "    }\n",
              "</style>\n"
            ],
            "text/plain": [
              "<IPython.core.display.HTML object>"
            ]
          },
          "metadata": {},
          "output_type": "display_data"
        },
        {
          "data": {
            "text/html": [],
            "text/plain": [
              "<IPython.core.display.HTML object>"
            ]
          },
          "metadata": {},
          "output_type": "display_data"
        },
        {
          "data": {
            "text/html": [
              "\n",
              "<style>\n",
              "    /* Turns off some styling */\n",
              "    progress {\n",
              "        /* gets rid of default border in Firefox and Opera. */\n",
              "        border: none;\n",
              "        /* Needs to be in here for Safari polyfill so background images work as expected. */\n",
              "        background-size: auto;\n",
              "    }\n",
              "    progress:not([value]), progress:not([value])::-webkit-progress-bar {\n",
              "        background: repeating-linear-gradient(45deg, #7e7e7e, #7e7e7e 10px, #5c5c5c 10px, #5c5c5c 20px);\n",
              "    }\n",
              "    .progress-bar-interrupted, .progress-bar-interrupted::-webkit-progress-bar {\n",
              "        background: #F44336;\n",
              "    }\n",
              "</style>\n"
            ],
            "text/plain": [
              "<IPython.core.display.HTML object>"
            ]
          },
          "metadata": {},
          "output_type": "display_data"
        },
        {
          "data": {
            "text/html": [],
            "text/plain": [
              "<IPython.core.display.HTML object>"
            ]
          },
          "metadata": {},
          "output_type": "display_data"
        },
        {
          "data": {
            "text/html": [
              "\n",
              "<style>\n",
              "    /* Turns off some styling */\n",
              "    progress {\n",
              "        /* gets rid of default border in Firefox and Opera. */\n",
              "        border: none;\n",
              "        /* Needs to be in here for Safari polyfill so background images work as expected. */\n",
              "        background-size: auto;\n",
              "    }\n",
              "    progress:not([value]), progress:not([value])::-webkit-progress-bar {\n",
              "        background: repeating-linear-gradient(45deg, #7e7e7e, #7e7e7e 10px, #5c5c5c 10px, #5c5c5c 20px);\n",
              "    }\n",
              "    .progress-bar-interrupted, .progress-bar-interrupted::-webkit-progress-bar {\n",
              "        background: #F44336;\n",
              "    }\n",
              "</style>\n"
            ],
            "text/plain": [
              "<IPython.core.display.HTML object>"
            ]
          },
          "metadata": {},
          "output_type": "display_data"
        },
        {
          "data": {
            "text/html": [],
            "text/plain": [
              "<IPython.core.display.HTML object>"
            ]
          },
          "metadata": {},
          "output_type": "display_data"
        },
        {
          "data": {
            "text/html": [
              "\n",
              "<style>\n",
              "    /* Turns off some styling */\n",
              "    progress {\n",
              "        /* gets rid of default border in Firefox and Opera. */\n",
              "        border: none;\n",
              "        /* Needs to be in here for Safari polyfill so background images work as expected. */\n",
              "        background-size: auto;\n",
              "    }\n",
              "    progress:not([value]), progress:not([value])::-webkit-progress-bar {\n",
              "        background: repeating-linear-gradient(45deg, #7e7e7e, #7e7e7e 10px, #5c5c5c 10px, #5c5c5c 20px);\n",
              "    }\n",
              "    .progress-bar-interrupted, .progress-bar-interrupted::-webkit-progress-bar {\n",
              "        background: #F44336;\n",
              "    }\n",
              "</style>\n"
            ],
            "text/plain": [
              "<IPython.core.display.HTML object>"
            ]
          },
          "metadata": {},
          "output_type": "display_data"
        },
        {
          "data": {
            "text/html": [],
            "text/plain": [
              "<IPython.core.display.HTML object>"
            ]
          },
          "metadata": {},
          "output_type": "display_data"
        },
        {
          "data": {
            "text/html": [
              "\n",
              "<style>\n",
              "    /* Turns off some styling */\n",
              "    progress {\n",
              "        /* gets rid of default border in Firefox and Opera. */\n",
              "        border: none;\n",
              "        /* Needs to be in here for Safari polyfill so background images work as expected. */\n",
              "        background-size: auto;\n",
              "    }\n",
              "    progress:not([value]), progress:not([value])::-webkit-progress-bar {\n",
              "        background: repeating-linear-gradient(45deg, #7e7e7e, #7e7e7e 10px, #5c5c5c 10px, #5c5c5c 20px);\n",
              "    }\n",
              "    .progress-bar-interrupted, .progress-bar-interrupted::-webkit-progress-bar {\n",
              "        background: #F44336;\n",
              "    }\n",
              "</style>\n"
            ],
            "text/plain": [
              "<IPython.core.display.HTML object>"
            ]
          },
          "metadata": {},
          "output_type": "display_data"
        },
        {
          "data": {
            "text/html": [],
            "text/plain": [
              "<IPython.core.display.HTML object>"
            ]
          },
          "metadata": {},
          "output_type": "display_data"
        },
        {
          "data": {
            "text/html": [
              "\n",
              "<style>\n",
              "    /* Turns off some styling */\n",
              "    progress {\n",
              "        /* gets rid of default border in Firefox and Opera. */\n",
              "        border: none;\n",
              "        /* Needs to be in here for Safari polyfill so background images work as expected. */\n",
              "        background-size: auto;\n",
              "    }\n",
              "    progress:not([value]), progress:not([value])::-webkit-progress-bar {\n",
              "        background: repeating-linear-gradient(45deg, #7e7e7e, #7e7e7e 10px, #5c5c5c 10px, #5c5c5c 20px);\n",
              "    }\n",
              "    .progress-bar-interrupted, .progress-bar-interrupted::-webkit-progress-bar {\n",
              "        background: #F44336;\n",
              "    }\n",
              "</style>\n"
            ],
            "text/plain": [
              "<IPython.core.display.HTML object>"
            ]
          },
          "metadata": {},
          "output_type": "display_data"
        },
        {
          "data": {
            "text/html": [],
            "text/plain": [
              "<IPython.core.display.HTML object>"
            ]
          },
          "metadata": {},
          "output_type": "display_data"
        },
        {
          "data": {
            "text/html": [
              "\n",
              "<style>\n",
              "    /* Turns off some styling */\n",
              "    progress {\n",
              "        /* gets rid of default border in Firefox and Opera. */\n",
              "        border: none;\n",
              "        /* Needs to be in here for Safari polyfill so background images work as expected. */\n",
              "        background-size: auto;\n",
              "    }\n",
              "    progress:not([value]), progress:not([value])::-webkit-progress-bar {\n",
              "        background: repeating-linear-gradient(45deg, #7e7e7e, #7e7e7e 10px, #5c5c5c 10px, #5c5c5c 20px);\n",
              "    }\n",
              "    .progress-bar-interrupted, .progress-bar-interrupted::-webkit-progress-bar {\n",
              "        background: #F44336;\n",
              "    }\n",
              "</style>\n"
            ],
            "text/plain": [
              "<IPython.core.display.HTML object>"
            ]
          },
          "metadata": {},
          "output_type": "display_data"
        },
        {
          "data": {
            "text/html": [],
            "text/plain": [
              "<IPython.core.display.HTML object>"
            ]
          },
          "metadata": {},
          "output_type": "display_data"
        },
        {
          "data": {
            "text/html": [
              "\n",
              "<style>\n",
              "    /* Turns off some styling */\n",
              "    progress {\n",
              "        /* gets rid of default border in Firefox and Opera. */\n",
              "        border: none;\n",
              "        /* Needs to be in here for Safari polyfill so background images work as expected. */\n",
              "        background-size: auto;\n",
              "    }\n",
              "    progress:not([value]), progress:not([value])::-webkit-progress-bar {\n",
              "        background: repeating-linear-gradient(45deg, #7e7e7e, #7e7e7e 10px, #5c5c5c 10px, #5c5c5c 20px);\n",
              "    }\n",
              "    .progress-bar-interrupted, .progress-bar-interrupted::-webkit-progress-bar {\n",
              "        background: #F44336;\n",
              "    }\n",
              "</style>\n"
            ],
            "text/plain": [
              "<IPython.core.display.HTML object>"
            ]
          },
          "metadata": {},
          "output_type": "display_data"
        },
        {
          "data": {
            "text/html": [],
            "text/plain": [
              "<IPython.core.display.HTML object>"
            ]
          },
          "metadata": {},
          "output_type": "display_data"
        },
        {
          "data": {
            "text/html": [
              "\n",
              "<style>\n",
              "    /* Turns off some styling */\n",
              "    progress {\n",
              "        /* gets rid of default border in Firefox and Opera. */\n",
              "        border: none;\n",
              "        /* Needs to be in here for Safari polyfill so background images work as expected. */\n",
              "        background-size: auto;\n",
              "    }\n",
              "    progress:not([value]), progress:not([value])::-webkit-progress-bar {\n",
              "        background: repeating-linear-gradient(45deg, #7e7e7e, #7e7e7e 10px, #5c5c5c 10px, #5c5c5c 20px);\n",
              "    }\n",
              "    .progress-bar-interrupted, .progress-bar-interrupted::-webkit-progress-bar {\n",
              "        background: #F44336;\n",
              "    }\n",
              "</style>\n"
            ],
            "text/plain": [
              "<IPython.core.display.HTML object>"
            ]
          },
          "metadata": {},
          "output_type": "display_data"
        },
        {
          "data": {
            "text/html": [],
            "text/plain": [
              "<IPython.core.display.HTML object>"
            ]
          },
          "metadata": {},
          "output_type": "display_data"
        },
        {
          "data": {
            "text/html": [
              "\n",
              "<style>\n",
              "    /* Turns off some styling */\n",
              "    progress {\n",
              "        /* gets rid of default border in Firefox and Opera. */\n",
              "        border: none;\n",
              "        /* Needs to be in here for Safari polyfill so background images work as expected. */\n",
              "        background-size: auto;\n",
              "    }\n",
              "    progress:not([value]), progress:not([value])::-webkit-progress-bar {\n",
              "        background: repeating-linear-gradient(45deg, #7e7e7e, #7e7e7e 10px, #5c5c5c 10px, #5c5c5c 20px);\n",
              "    }\n",
              "    .progress-bar-interrupted, .progress-bar-interrupted::-webkit-progress-bar {\n",
              "        background: #F44336;\n",
              "    }\n",
              "</style>\n"
            ],
            "text/plain": [
              "<IPython.core.display.HTML object>"
            ]
          },
          "metadata": {},
          "output_type": "display_data"
        },
        {
          "data": {
            "text/html": [],
            "text/plain": [
              "<IPython.core.display.HTML object>"
            ]
          },
          "metadata": {},
          "output_type": "display_data"
        },
        {
          "data": {
            "text/html": [
              "\n",
              "<style>\n",
              "    /* Turns off some styling */\n",
              "    progress {\n",
              "        /* gets rid of default border in Firefox and Opera. */\n",
              "        border: none;\n",
              "        /* Needs to be in here for Safari polyfill so background images work as expected. */\n",
              "        background-size: auto;\n",
              "    }\n",
              "    progress:not([value]), progress:not([value])::-webkit-progress-bar {\n",
              "        background: repeating-linear-gradient(45deg, #7e7e7e, #7e7e7e 10px, #5c5c5c 10px, #5c5c5c 20px);\n",
              "    }\n",
              "    .progress-bar-interrupted, .progress-bar-interrupted::-webkit-progress-bar {\n",
              "        background: #F44336;\n",
              "    }\n",
              "</style>\n"
            ],
            "text/plain": [
              "<IPython.core.display.HTML object>"
            ]
          },
          "metadata": {},
          "output_type": "display_data"
        },
        {
          "data": {
            "text/html": [],
            "text/plain": [
              "<IPython.core.display.HTML object>"
            ]
          },
          "metadata": {},
          "output_type": "display_data"
        },
        {
          "data": {
            "text/html": [
              "\n",
              "<style>\n",
              "    /* Turns off some styling */\n",
              "    progress {\n",
              "        /* gets rid of default border in Firefox and Opera. */\n",
              "        border: none;\n",
              "        /* Needs to be in here for Safari polyfill so background images work as expected. */\n",
              "        background-size: auto;\n",
              "    }\n",
              "    progress:not([value]), progress:not([value])::-webkit-progress-bar {\n",
              "        background: repeating-linear-gradient(45deg, #7e7e7e, #7e7e7e 10px, #5c5c5c 10px, #5c5c5c 20px);\n",
              "    }\n",
              "    .progress-bar-interrupted, .progress-bar-interrupted::-webkit-progress-bar {\n",
              "        background: #F44336;\n",
              "    }\n",
              "</style>\n"
            ],
            "text/plain": [
              "<IPython.core.display.HTML object>"
            ]
          },
          "metadata": {},
          "output_type": "display_data"
        },
        {
          "data": {
            "text/html": [],
            "text/plain": [
              "<IPython.core.display.HTML object>"
            ]
          },
          "metadata": {},
          "output_type": "display_data"
        },
        {
          "data": {
            "text/html": [
              "\n",
              "<style>\n",
              "    /* Turns off some styling */\n",
              "    progress {\n",
              "        /* gets rid of default border in Firefox and Opera. */\n",
              "        border: none;\n",
              "        /* Needs to be in here for Safari polyfill so background images work as expected. */\n",
              "        background-size: auto;\n",
              "    }\n",
              "    progress:not([value]), progress:not([value])::-webkit-progress-bar {\n",
              "        background: repeating-linear-gradient(45deg, #7e7e7e, #7e7e7e 10px, #5c5c5c 10px, #5c5c5c 20px);\n",
              "    }\n",
              "    .progress-bar-interrupted, .progress-bar-interrupted::-webkit-progress-bar {\n",
              "        background: #F44336;\n",
              "    }\n",
              "</style>\n"
            ],
            "text/plain": [
              "<IPython.core.display.HTML object>"
            ]
          },
          "metadata": {},
          "output_type": "display_data"
        },
        {
          "data": {
            "text/html": [],
            "text/plain": [
              "<IPython.core.display.HTML object>"
            ]
          },
          "metadata": {},
          "output_type": "display_data"
        },
        {
          "data": {
            "text/html": [
              "\n",
              "<style>\n",
              "    /* Turns off some styling */\n",
              "    progress {\n",
              "        /* gets rid of default border in Firefox and Opera. */\n",
              "        border: none;\n",
              "        /* Needs to be in here for Safari polyfill so background images work as expected. */\n",
              "        background-size: auto;\n",
              "    }\n",
              "    progress:not([value]), progress:not([value])::-webkit-progress-bar {\n",
              "        background: repeating-linear-gradient(45deg, #7e7e7e, #7e7e7e 10px, #5c5c5c 10px, #5c5c5c 20px);\n",
              "    }\n",
              "    .progress-bar-interrupted, .progress-bar-interrupted::-webkit-progress-bar {\n",
              "        background: #F44336;\n",
              "    }\n",
              "</style>\n"
            ],
            "text/plain": [
              "<IPython.core.display.HTML object>"
            ]
          },
          "metadata": {},
          "output_type": "display_data"
        },
        {
          "data": {
            "text/html": [],
            "text/plain": [
              "<IPython.core.display.HTML object>"
            ]
          },
          "metadata": {},
          "output_type": "display_data"
        },
        {
          "data": {
            "text/html": [
              "\n",
              "<style>\n",
              "    /* Turns off some styling */\n",
              "    progress {\n",
              "        /* gets rid of default border in Firefox and Opera. */\n",
              "        border: none;\n",
              "        /* Needs to be in here for Safari polyfill so background images work as expected. */\n",
              "        background-size: auto;\n",
              "    }\n",
              "    progress:not([value]), progress:not([value])::-webkit-progress-bar {\n",
              "        background: repeating-linear-gradient(45deg, #7e7e7e, #7e7e7e 10px, #5c5c5c 10px, #5c5c5c 20px);\n",
              "    }\n",
              "    .progress-bar-interrupted, .progress-bar-interrupted::-webkit-progress-bar {\n",
              "        background: #F44336;\n",
              "    }\n",
              "</style>\n"
            ],
            "text/plain": [
              "<IPython.core.display.HTML object>"
            ]
          },
          "metadata": {},
          "output_type": "display_data"
        },
        {
          "data": {
            "text/html": [],
            "text/plain": [
              "<IPython.core.display.HTML object>"
            ]
          },
          "metadata": {},
          "output_type": "display_data"
        },
        {
          "data": {
            "text/html": [
              "\n",
              "<style>\n",
              "    /* Turns off some styling */\n",
              "    progress {\n",
              "        /* gets rid of default border in Firefox and Opera. */\n",
              "        border: none;\n",
              "        /* Needs to be in here for Safari polyfill so background images work as expected. */\n",
              "        background-size: auto;\n",
              "    }\n",
              "    progress:not([value]), progress:not([value])::-webkit-progress-bar {\n",
              "        background: repeating-linear-gradient(45deg, #7e7e7e, #7e7e7e 10px, #5c5c5c 10px, #5c5c5c 20px);\n",
              "    }\n",
              "    .progress-bar-interrupted, .progress-bar-interrupted::-webkit-progress-bar {\n",
              "        background: #F44336;\n",
              "    }\n",
              "</style>\n"
            ],
            "text/plain": [
              "<IPython.core.display.HTML object>"
            ]
          },
          "metadata": {},
          "output_type": "display_data"
        },
        {
          "data": {
            "text/html": [],
            "text/plain": [
              "<IPython.core.display.HTML object>"
            ]
          },
          "metadata": {},
          "output_type": "display_data"
        },
        {
          "data": {
            "text/html": [
              "\n",
              "<style>\n",
              "    /* Turns off some styling */\n",
              "    progress {\n",
              "        /* gets rid of default border in Firefox and Opera. */\n",
              "        border: none;\n",
              "        /* Needs to be in here for Safari polyfill so background images work as expected. */\n",
              "        background-size: auto;\n",
              "    }\n",
              "    progress:not([value]), progress:not([value])::-webkit-progress-bar {\n",
              "        background: repeating-linear-gradient(45deg, #7e7e7e, #7e7e7e 10px, #5c5c5c 10px, #5c5c5c 20px);\n",
              "    }\n",
              "    .progress-bar-interrupted, .progress-bar-interrupted::-webkit-progress-bar {\n",
              "        background: #F44336;\n",
              "    }\n",
              "</style>\n"
            ],
            "text/plain": [
              "<IPython.core.display.HTML object>"
            ]
          },
          "metadata": {},
          "output_type": "display_data"
        },
        {
          "data": {
            "text/html": [],
            "text/plain": [
              "<IPython.core.display.HTML object>"
            ]
          },
          "metadata": {},
          "output_type": "display_data"
        },
        {
          "data": {
            "text/html": [
              "\n",
              "<style>\n",
              "    /* Turns off some styling */\n",
              "    progress {\n",
              "        /* gets rid of default border in Firefox and Opera. */\n",
              "        border: none;\n",
              "        /* Needs to be in here for Safari polyfill so background images work as expected. */\n",
              "        background-size: auto;\n",
              "    }\n",
              "    progress:not([value]), progress:not([value])::-webkit-progress-bar {\n",
              "        background: repeating-linear-gradient(45deg, #7e7e7e, #7e7e7e 10px, #5c5c5c 10px, #5c5c5c 20px);\n",
              "    }\n",
              "    .progress-bar-interrupted, .progress-bar-interrupted::-webkit-progress-bar {\n",
              "        background: #F44336;\n",
              "    }\n",
              "</style>\n"
            ],
            "text/plain": [
              "<IPython.core.display.HTML object>"
            ]
          },
          "metadata": {},
          "output_type": "display_data"
        },
        {
          "data": {
            "text/html": [],
            "text/plain": [
              "<IPython.core.display.HTML object>"
            ]
          },
          "metadata": {},
          "output_type": "display_data"
        },
        {
          "data": {
            "text/html": [
              "\n",
              "<style>\n",
              "    /* Turns off some styling */\n",
              "    progress {\n",
              "        /* gets rid of default border in Firefox and Opera. */\n",
              "        border: none;\n",
              "        /* Needs to be in here for Safari polyfill so background images work as expected. */\n",
              "        background-size: auto;\n",
              "    }\n",
              "    progress:not([value]), progress:not([value])::-webkit-progress-bar {\n",
              "        background: repeating-linear-gradient(45deg, #7e7e7e, #7e7e7e 10px, #5c5c5c 10px, #5c5c5c 20px);\n",
              "    }\n",
              "    .progress-bar-interrupted, .progress-bar-interrupted::-webkit-progress-bar {\n",
              "        background: #F44336;\n",
              "    }\n",
              "</style>\n"
            ],
            "text/plain": [
              "<IPython.core.display.HTML object>"
            ]
          },
          "metadata": {},
          "output_type": "display_data"
        },
        {
          "data": {
            "text/html": [],
            "text/plain": [
              "<IPython.core.display.HTML object>"
            ]
          },
          "metadata": {},
          "output_type": "display_data"
        },
        {
          "data": {
            "text/html": [
              "\n",
              "<style>\n",
              "    /* Turns off some styling */\n",
              "    progress {\n",
              "        /* gets rid of default border in Firefox and Opera. */\n",
              "        border: none;\n",
              "        /* Needs to be in here for Safari polyfill so background images work as expected. */\n",
              "        background-size: auto;\n",
              "    }\n",
              "    progress:not([value]), progress:not([value])::-webkit-progress-bar {\n",
              "        background: repeating-linear-gradient(45deg, #7e7e7e, #7e7e7e 10px, #5c5c5c 10px, #5c5c5c 20px);\n",
              "    }\n",
              "    .progress-bar-interrupted, .progress-bar-interrupted::-webkit-progress-bar {\n",
              "        background: #F44336;\n",
              "    }\n",
              "</style>\n"
            ],
            "text/plain": [
              "<IPython.core.display.HTML object>"
            ]
          },
          "metadata": {},
          "output_type": "display_data"
        },
        {
          "data": {
            "text/html": [],
            "text/plain": [
              "<IPython.core.display.HTML object>"
            ]
          },
          "metadata": {},
          "output_type": "display_data"
        },
        {
          "data": {
            "text/html": [
              "\n",
              "<style>\n",
              "    /* Turns off some styling */\n",
              "    progress {\n",
              "        /* gets rid of default border in Firefox and Opera. */\n",
              "        border: none;\n",
              "        /* Needs to be in here for Safari polyfill so background images work as expected. */\n",
              "        background-size: auto;\n",
              "    }\n",
              "    progress:not([value]), progress:not([value])::-webkit-progress-bar {\n",
              "        background: repeating-linear-gradient(45deg, #7e7e7e, #7e7e7e 10px, #5c5c5c 10px, #5c5c5c 20px);\n",
              "    }\n",
              "    .progress-bar-interrupted, .progress-bar-interrupted::-webkit-progress-bar {\n",
              "        background: #F44336;\n",
              "    }\n",
              "</style>\n"
            ],
            "text/plain": [
              "<IPython.core.display.HTML object>"
            ]
          },
          "metadata": {},
          "output_type": "display_data"
        },
        {
          "data": {
            "text/html": [],
            "text/plain": [
              "<IPython.core.display.HTML object>"
            ]
          },
          "metadata": {},
          "output_type": "display_data"
        },
        {
          "data": {
            "text/html": [
              "\n",
              "<style>\n",
              "    /* Turns off some styling */\n",
              "    progress {\n",
              "        /* gets rid of default border in Firefox and Opera. */\n",
              "        border: none;\n",
              "        /* Needs to be in here for Safari polyfill so background images work as expected. */\n",
              "        background-size: auto;\n",
              "    }\n",
              "    progress:not([value]), progress:not([value])::-webkit-progress-bar {\n",
              "        background: repeating-linear-gradient(45deg, #7e7e7e, #7e7e7e 10px, #5c5c5c 10px, #5c5c5c 20px);\n",
              "    }\n",
              "    .progress-bar-interrupted, .progress-bar-interrupted::-webkit-progress-bar {\n",
              "        background: #F44336;\n",
              "    }\n",
              "</style>\n"
            ],
            "text/plain": [
              "<IPython.core.display.HTML object>"
            ]
          },
          "metadata": {},
          "output_type": "display_data"
        },
        {
          "data": {
            "text/html": [],
            "text/plain": [
              "<IPython.core.display.HTML object>"
            ]
          },
          "metadata": {},
          "output_type": "display_data"
        },
        {
          "data": {
            "text/html": [
              "\n",
              "<style>\n",
              "    /* Turns off some styling */\n",
              "    progress {\n",
              "        /* gets rid of default border in Firefox and Opera. */\n",
              "        border: none;\n",
              "        /* Needs to be in here for Safari polyfill so background images work as expected. */\n",
              "        background-size: auto;\n",
              "    }\n",
              "    progress:not([value]), progress:not([value])::-webkit-progress-bar {\n",
              "        background: repeating-linear-gradient(45deg, #7e7e7e, #7e7e7e 10px, #5c5c5c 10px, #5c5c5c 20px);\n",
              "    }\n",
              "    .progress-bar-interrupted, .progress-bar-interrupted::-webkit-progress-bar {\n",
              "        background: #F44336;\n",
              "    }\n",
              "</style>\n"
            ],
            "text/plain": [
              "<IPython.core.display.HTML object>"
            ]
          },
          "metadata": {},
          "output_type": "display_data"
        },
        {
          "data": {
            "text/html": [],
            "text/plain": [
              "<IPython.core.display.HTML object>"
            ]
          },
          "metadata": {},
          "output_type": "display_data"
        },
        {
          "data": {
            "text/html": [
              "\n",
              "<style>\n",
              "    /* Turns off some styling */\n",
              "    progress {\n",
              "        /* gets rid of default border in Firefox and Opera. */\n",
              "        border: none;\n",
              "        /* Needs to be in here for Safari polyfill so background images work as expected. */\n",
              "        background-size: auto;\n",
              "    }\n",
              "    progress:not([value]), progress:not([value])::-webkit-progress-bar {\n",
              "        background: repeating-linear-gradient(45deg, #7e7e7e, #7e7e7e 10px, #5c5c5c 10px, #5c5c5c 20px);\n",
              "    }\n",
              "    .progress-bar-interrupted, .progress-bar-interrupted::-webkit-progress-bar {\n",
              "        background: #F44336;\n",
              "    }\n",
              "</style>\n"
            ],
            "text/plain": [
              "<IPython.core.display.HTML object>"
            ]
          },
          "metadata": {},
          "output_type": "display_data"
        },
        {
          "data": {
            "text/html": [],
            "text/plain": [
              "<IPython.core.display.HTML object>"
            ]
          },
          "metadata": {},
          "output_type": "display_data"
        },
        {
          "data": {
            "text/html": [
              "\n",
              "<style>\n",
              "    /* Turns off some styling */\n",
              "    progress {\n",
              "        /* gets rid of default border in Firefox and Opera. */\n",
              "        border: none;\n",
              "        /* Needs to be in here for Safari polyfill so background images work as expected. */\n",
              "        background-size: auto;\n",
              "    }\n",
              "    progress:not([value]), progress:not([value])::-webkit-progress-bar {\n",
              "        background: repeating-linear-gradient(45deg, #7e7e7e, #7e7e7e 10px, #5c5c5c 10px, #5c5c5c 20px);\n",
              "    }\n",
              "    .progress-bar-interrupted, .progress-bar-interrupted::-webkit-progress-bar {\n",
              "        background: #F44336;\n",
              "    }\n",
              "</style>\n"
            ],
            "text/plain": [
              "<IPython.core.display.HTML object>"
            ]
          },
          "metadata": {},
          "output_type": "display_data"
        },
        {
          "data": {
            "text/html": [],
            "text/plain": [
              "<IPython.core.display.HTML object>"
            ]
          },
          "metadata": {},
          "output_type": "display_data"
        },
        {
          "data": {
            "text/html": [
              "\n",
              "<style>\n",
              "    /* Turns off some styling */\n",
              "    progress {\n",
              "        /* gets rid of default border in Firefox and Opera. */\n",
              "        border: none;\n",
              "        /* Needs to be in here for Safari polyfill so background images work as expected. */\n",
              "        background-size: auto;\n",
              "    }\n",
              "    progress:not([value]), progress:not([value])::-webkit-progress-bar {\n",
              "        background: repeating-linear-gradient(45deg, #7e7e7e, #7e7e7e 10px, #5c5c5c 10px, #5c5c5c 20px);\n",
              "    }\n",
              "    .progress-bar-interrupted, .progress-bar-interrupted::-webkit-progress-bar {\n",
              "        background: #F44336;\n",
              "    }\n",
              "</style>\n"
            ],
            "text/plain": [
              "<IPython.core.display.HTML object>"
            ]
          },
          "metadata": {},
          "output_type": "display_data"
        },
        {
          "data": {
            "text/html": [],
            "text/plain": [
              "<IPython.core.display.HTML object>"
            ]
          },
          "metadata": {},
          "output_type": "display_data"
        },
        {
          "data": {
            "text/html": [
              "\n",
              "<style>\n",
              "    /* Turns off some styling */\n",
              "    progress {\n",
              "        /* gets rid of default border in Firefox and Opera. */\n",
              "        border: none;\n",
              "        /* Needs to be in here for Safari polyfill so background images work as expected. */\n",
              "        background-size: auto;\n",
              "    }\n",
              "    progress:not([value]), progress:not([value])::-webkit-progress-bar {\n",
              "        background: repeating-linear-gradient(45deg, #7e7e7e, #7e7e7e 10px, #5c5c5c 10px, #5c5c5c 20px);\n",
              "    }\n",
              "    .progress-bar-interrupted, .progress-bar-interrupted::-webkit-progress-bar {\n",
              "        background: #F44336;\n",
              "    }\n",
              "</style>\n"
            ],
            "text/plain": [
              "<IPython.core.display.HTML object>"
            ]
          },
          "metadata": {},
          "output_type": "display_data"
        },
        {
          "data": {
            "text/html": [],
            "text/plain": [
              "<IPython.core.display.HTML object>"
            ]
          },
          "metadata": {},
          "output_type": "display_data"
        },
        {
          "data": {
            "text/html": [
              "\n",
              "<style>\n",
              "    /* Turns off some styling */\n",
              "    progress {\n",
              "        /* gets rid of default border in Firefox and Opera. */\n",
              "        border: none;\n",
              "        /* Needs to be in here for Safari polyfill so background images work as expected. */\n",
              "        background-size: auto;\n",
              "    }\n",
              "    progress:not([value]), progress:not([value])::-webkit-progress-bar {\n",
              "        background: repeating-linear-gradient(45deg, #7e7e7e, #7e7e7e 10px, #5c5c5c 10px, #5c5c5c 20px);\n",
              "    }\n",
              "    .progress-bar-interrupted, .progress-bar-interrupted::-webkit-progress-bar {\n",
              "        background: #F44336;\n",
              "    }\n",
              "</style>\n"
            ],
            "text/plain": [
              "<IPython.core.display.HTML object>"
            ]
          },
          "metadata": {},
          "output_type": "display_data"
        },
        {
          "data": {
            "text/html": [],
            "text/plain": [
              "<IPython.core.display.HTML object>"
            ]
          },
          "metadata": {},
          "output_type": "display_data"
        },
        {
          "data": {
            "text/html": [
              "\n",
              "<style>\n",
              "    /* Turns off some styling */\n",
              "    progress {\n",
              "        /* gets rid of default border in Firefox and Opera. */\n",
              "        border: none;\n",
              "        /* Needs to be in here for Safari polyfill so background images work as expected. */\n",
              "        background-size: auto;\n",
              "    }\n",
              "    progress:not([value]), progress:not([value])::-webkit-progress-bar {\n",
              "        background: repeating-linear-gradient(45deg, #7e7e7e, #7e7e7e 10px, #5c5c5c 10px, #5c5c5c 20px);\n",
              "    }\n",
              "    .progress-bar-interrupted, .progress-bar-interrupted::-webkit-progress-bar {\n",
              "        background: #F44336;\n",
              "    }\n",
              "</style>\n"
            ],
            "text/plain": [
              "<IPython.core.display.HTML object>"
            ]
          },
          "metadata": {},
          "output_type": "display_data"
        },
        {
          "data": {
            "text/html": [],
            "text/plain": [
              "<IPython.core.display.HTML object>"
            ]
          },
          "metadata": {},
          "output_type": "display_data"
        },
        {
          "data": {
            "text/html": [
              "\n",
              "<style>\n",
              "    /* Turns off some styling */\n",
              "    progress {\n",
              "        /* gets rid of default border in Firefox and Opera. */\n",
              "        border: none;\n",
              "        /* Needs to be in here for Safari polyfill so background images work as expected. */\n",
              "        background-size: auto;\n",
              "    }\n",
              "    progress:not([value]), progress:not([value])::-webkit-progress-bar {\n",
              "        background: repeating-linear-gradient(45deg, #7e7e7e, #7e7e7e 10px, #5c5c5c 10px, #5c5c5c 20px);\n",
              "    }\n",
              "    .progress-bar-interrupted, .progress-bar-interrupted::-webkit-progress-bar {\n",
              "        background: #F44336;\n",
              "    }\n",
              "</style>\n"
            ],
            "text/plain": [
              "<IPython.core.display.HTML object>"
            ]
          },
          "metadata": {},
          "output_type": "display_data"
        },
        {
          "data": {
            "text/html": [],
            "text/plain": [
              "<IPython.core.display.HTML object>"
            ]
          },
          "metadata": {},
          "output_type": "display_data"
        },
        {
          "data": {
            "text/html": [
              "\n",
              "<style>\n",
              "    /* Turns off some styling */\n",
              "    progress {\n",
              "        /* gets rid of default border in Firefox and Opera. */\n",
              "        border: none;\n",
              "        /* Needs to be in here for Safari polyfill so background images work as expected. */\n",
              "        background-size: auto;\n",
              "    }\n",
              "    progress:not([value]), progress:not([value])::-webkit-progress-bar {\n",
              "        background: repeating-linear-gradient(45deg, #7e7e7e, #7e7e7e 10px, #5c5c5c 10px, #5c5c5c 20px);\n",
              "    }\n",
              "    .progress-bar-interrupted, .progress-bar-interrupted::-webkit-progress-bar {\n",
              "        background: #F44336;\n",
              "    }\n",
              "</style>\n"
            ],
            "text/plain": [
              "<IPython.core.display.HTML object>"
            ]
          },
          "metadata": {},
          "output_type": "display_data"
        },
        {
          "data": {
            "text/html": [],
            "text/plain": [
              "<IPython.core.display.HTML object>"
            ]
          },
          "metadata": {},
          "output_type": "display_data"
        },
        {
          "data": {
            "text/html": [
              "\n",
              "<style>\n",
              "    /* Turns off some styling */\n",
              "    progress {\n",
              "        /* gets rid of default border in Firefox and Opera. */\n",
              "        border: none;\n",
              "        /* Needs to be in here for Safari polyfill so background images work as expected. */\n",
              "        background-size: auto;\n",
              "    }\n",
              "    progress:not([value]), progress:not([value])::-webkit-progress-bar {\n",
              "        background: repeating-linear-gradient(45deg, #7e7e7e, #7e7e7e 10px, #5c5c5c 10px, #5c5c5c 20px);\n",
              "    }\n",
              "    .progress-bar-interrupted, .progress-bar-interrupted::-webkit-progress-bar {\n",
              "        background: #F44336;\n",
              "    }\n",
              "</style>\n"
            ],
            "text/plain": [
              "<IPython.core.display.HTML object>"
            ]
          },
          "metadata": {},
          "output_type": "display_data"
        },
        {
          "data": {
            "text/html": [],
            "text/plain": [
              "<IPython.core.display.HTML object>"
            ]
          },
          "metadata": {},
          "output_type": "display_data"
        },
        {
          "data": {
            "text/html": [
              "\n",
              "<style>\n",
              "    /* Turns off some styling */\n",
              "    progress {\n",
              "        /* gets rid of default border in Firefox and Opera. */\n",
              "        border: none;\n",
              "        /* Needs to be in here for Safari polyfill so background images work as expected. */\n",
              "        background-size: auto;\n",
              "    }\n",
              "    progress:not([value]), progress:not([value])::-webkit-progress-bar {\n",
              "        background: repeating-linear-gradient(45deg, #7e7e7e, #7e7e7e 10px, #5c5c5c 10px, #5c5c5c 20px);\n",
              "    }\n",
              "    .progress-bar-interrupted, .progress-bar-interrupted::-webkit-progress-bar {\n",
              "        background: #F44336;\n",
              "    }\n",
              "</style>\n"
            ],
            "text/plain": [
              "<IPython.core.display.HTML object>"
            ]
          },
          "metadata": {},
          "output_type": "display_data"
        },
        {
          "data": {
            "text/html": [],
            "text/plain": [
              "<IPython.core.display.HTML object>"
            ]
          },
          "metadata": {},
          "output_type": "display_data"
        },
        {
          "data": {
            "text/html": [
              "\n",
              "<style>\n",
              "    /* Turns off some styling */\n",
              "    progress {\n",
              "        /* gets rid of default border in Firefox and Opera. */\n",
              "        border: none;\n",
              "        /* Needs to be in here for Safari polyfill so background images work as expected. */\n",
              "        background-size: auto;\n",
              "    }\n",
              "    progress:not([value]), progress:not([value])::-webkit-progress-bar {\n",
              "        background: repeating-linear-gradient(45deg, #7e7e7e, #7e7e7e 10px, #5c5c5c 10px, #5c5c5c 20px);\n",
              "    }\n",
              "    .progress-bar-interrupted, .progress-bar-interrupted::-webkit-progress-bar {\n",
              "        background: #F44336;\n",
              "    }\n",
              "</style>\n"
            ],
            "text/plain": [
              "<IPython.core.display.HTML object>"
            ]
          },
          "metadata": {},
          "output_type": "display_data"
        },
        {
          "data": {
            "text/html": [],
            "text/plain": [
              "<IPython.core.display.HTML object>"
            ]
          },
          "metadata": {},
          "output_type": "display_data"
        },
        {
          "data": {
            "text/html": [
              "\n",
              "<style>\n",
              "    /* Turns off some styling */\n",
              "    progress {\n",
              "        /* gets rid of default border in Firefox and Opera. */\n",
              "        border: none;\n",
              "        /* Needs to be in here for Safari polyfill so background images work as expected. */\n",
              "        background-size: auto;\n",
              "    }\n",
              "    progress:not([value]), progress:not([value])::-webkit-progress-bar {\n",
              "        background: repeating-linear-gradient(45deg, #7e7e7e, #7e7e7e 10px, #5c5c5c 10px, #5c5c5c 20px);\n",
              "    }\n",
              "    .progress-bar-interrupted, .progress-bar-interrupted::-webkit-progress-bar {\n",
              "        background: #F44336;\n",
              "    }\n",
              "</style>\n"
            ],
            "text/plain": [
              "<IPython.core.display.HTML object>"
            ]
          },
          "metadata": {},
          "output_type": "display_data"
        },
        {
          "data": {
            "text/html": [],
            "text/plain": [
              "<IPython.core.display.HTML object>"
            ]
          },
          "metadata": {},
          "output_type": "display_data"
        },
        {
          "data": {
            "text/html": [
              "\n",
              "<style>\n",
              "    /* Turns off some styling */\n",
              "    progress {\n",
              "        /* gets rid of default border in Firefox and Opera. */\n",
              "        border: none;\n",
              "        /* Needs to be in here for Safari polyfill so background images work as expected. */\n",
              "        background-size: auto;\n",
              "    }\n",
              "    progress:not([value]), progress:not([value])::-webkit-progress-bar {\n",
              "        background: repeating-linear-gradient(45deg, #7e7e7e, #7e7e7e 10px, #5c5c5c 10px, #5c5c5c 20px);\n",
              "    }\n",
              "    .progress-bar-interrupted, .progress-bar-interrupted::-webkit-progress-bar {\n",
              "        background: #F44336;\n",
              "    }\n",
              "</style>\n"
            ],
            "text/plain": [
              "<IPython.core.display.HTML object>"
            ]
          },
          "metadata": {},
          "output_type": "display_data"
        },
        {
          "data": {
            "text/html": [],
            "text/plain": [
              "<IPython.core.display.HTML object>"
            ]
          },
          "metadata": {},
          "output_type": "display_data"
        },
        {
          "data": {
            "text/html": [
              "\n",
              "<style>\n",
              "    /* Turns off some styling */\n",
              "    progress {\n",
              "        /* gets rid of default border in Firefox and Opera. */\n",
              "        border: none;\n",
              "        /* Needs to be in here for Safari polyfill so background images work as expected. */\n",
              "        background-size: auto;\n",
              "    }\n",
              "    progress:not([value]), progress:not([value])::-webkit-progress-bar {\n",
              "        background: repeating-linear-gradient(45deg, #7e7e7e, #7e7e7e 10px, #5c5c5c 10px, #5c5c5c 20px);\n",
              "    }\n",
              "    .progress-bar-interrupted, .progress-bar-interrupted::-webkit-progress-bar {\n",
              "        background: #F44336;\n",
              "    }\n",
              "</style>\n"
            ],
            "text/plain": [
              "<IPython.core.display.HTML object>"
            ]
          },
          "metadata": {},
          "output_type": "display_data"
        },
        {
          "data": {
            "text/html": [],
            "text/plain": [
              "<IPython.core.display.HTML object>"
            ]
          },
          "metadata": {},
          "output_type": "display_data"
        },
        {
          "data": {
            "text/html": [
              "\n",
              "<style>\n",
              "    /* Turns off some styling */\n",
              "    progress {\n",
              "        /* gets rid of default border in Firefox and Opera. */\n",
              "        border: none;\n",
              "        /* Needs to be in here for Safari polyfill so background images work as expected. */\n",
              "        background-size: auto;\n",
              "    }\n",
              "    progress:not([value]), progress:not([value])::-webkit-progress-bar {\n",
              "        background: repeating-linear-gradient(45deg, #7e7e7e, #7e7e7e 10px, #5c5c5c 10px, #5c5c5c 20px);\n",
              "    }\n",
              "    .progress-bar-interrupted, .progress-bar-interrupted::-webkit-progress-bar {\n",
              "        background: #F44336;\n",
              "    }\n",
              "</style>\n"
            ],
            "text/plain": [
              "<IPython.core.display.HTML object>"
            ]
          },
          "metadata": {},
          "output_type": "display_data"
        },
        {
          "data": {
            "text/html": [],
            "text/plain": [
              "<IPython.core.display.HTML object>"
            ]
          },
          "metadata": {},
          "output_type": "display_data"
        },
        {
          "data": {
            "text/html": [
              "\n",
              "<style>\n",
              "    /* Turns off some styling */\n",
              "    progress {\n",
              "        /* gets rid of default border in Firefox and Opera. */\n",
              "        border: none;\n",
              "        /* Needs to be in here for Safari polyfill so background images work as expected. */\n",
              "        background-size: auto;\n",
              "    }\n",
              "    progress:not([value]), progress:not([value])::-webkit-progress-bar {\n",
              "        background: repeating-linear-gradient(45deg, #7e7e7e, #7e7e7e 10px, #5c5c5c 10px, #5c5c5c 20px);\n",
              "    }\n",
              "    .progress-bar-interrupted, .progress-bar-interrupted::-webkit-progress-bar {\n",
              "        background: #F44336;\n",
              "    }\n",
              "</style>\n"
            ],
            "text/plain": [
              "<IPython.core.display.HTML object>"
            ]
          },
          "metadata": {},
          "output_type": "display_data"
        },
        {
          "data": {
            "text/html": [],
            "text/plain": [
              "<IPython.core.display.HTML object>"
            ]
          },
          "metadata": {},
          "output_type": "display_data"
        },
        {
          "data": {
            "text/html": [
              "\n",
              "<style>\n",
              "    /* Turns off some styling */\n",
              "    progress {\n",
              "        /* gets rid of default border in Firefox and Opera. */\n",
              "        border: none;\n",
              "        /* Needs to be in here for Safari polyfill so background images work as expected. */\n",
              "        background-size: auto;\n",
              "    }\n",
              "    progress:not([value]), progress:not([value])::-webkit-progress-bar {\n",
              "        background: repeating-linear-gradient(45deg, #7e7e7e, #7e7e7e 10px, #5c5c5c 10px, #5c5c5c 20px);\n",
              "    }\n",
              "    .progress-bar-interrupted, .progress-bar-interrupted::-webkit-progress-bar {\n",
              "        background: #F44336;\n",
              "    }\n",
              "</style>\n"
            ],
            "text/plain": [
              "<IPython.core.display.HTML object>"
            ]
          },
          "metadata": {},
          "output_type": "display_data"
        },
        {
          "data": {
            "text/html": [],
            "text/plain": [
              "<IPython.core.display.HTML object>"
            ]
          },
          "metadata": {},
          "output_type": "display_data"
        },
        {
          "data": {
            "text/html": [
              "\n",
              "<style>\n",
              "    /* Turns off some styling */\n",
              "    progress {\n",
              "        /* gets rid of default border in Firefox and Opera. */\n",
              "        border: none;\n",
              "        /* Needs to be in here for Safari polyfill so background images work as expected. */\n",
              "        background-size: auto;\n",
              "    }\n",
              "    progress:not([value]), progress:not([value])::-webkit-progress-bar {\n",
              "        background: repeating-linear-gradient(45deg, #7e7e7e, #7e7e7e 10px, #5c5c5c 10px, #5c5c5c 20px);\n",
              "    }\n",
              "    .progress-bar-interrupted, .progress-bar-interrupted::-webkit-progress-bar {\n",
              "        background: #F44336;\n",
              "    }\n",
              "</style>\n"
            ],
            "text/plain": [
              "<IPython.core.display.HTML object>"
            ]
          },
          "metadata": {},
          "output_type": "display_data"
        },
        {
          "data": {
            "text/html": [],
            "text/plain": [
              "<IPython.core.display.HTML object>"
            ]
          },
          "metadata": {},
          "output_type": "display_data"
        },
        {
          "data": {
            "text/html": [
              "\n",
              "<style>\n",
              "    /* Turns off some styling */\n",
              "    progress {\n",
              "        /* gets rid of default border in Firefox and Opera. */\n",
              "        border: none;\n",
              "        /* Needs to be in here for Safari polyfill so background images work as expected. */\n",
              "        background-size: auto;\n",
              "    }\n",
              "    progress:not([value]), progress:not([value])::-webkit-progress-bar {\n",
              "        background: repeating-linear-gradient(45deg, #7e7e7e, #7e7e7e 10px, #5c5c5c 10px, #5c5c5c 20px);\n",
              "    }\n",
              "    .progress-bar-interrupted, .progress-bar-interrupted::-webkit-progress-bar {\n",
              "        background: #F44336;\n",
              "    }\n",
              "</style>\n"
            ],
            "text/plain": [
              "<IPython.core.display.HTML object>"
            ]
          },
          "metadata": {},
          "output_type": "display_data"
        },
        {
          "data": {
            "text/html": [],
            "text/plain": [
              "<IPython.core.display.HTML object>"
            ]
          },
          "metadata": {},
          "output_type": "display_data"
        },
        {
          "data": {
            "text/html": [
              "\n",
              "<style>\n",
              "    /* Turns off some styling */\n",
              "    progress {\n",
              "        /* gets rid of default border in Firefox and Opera. */\n",
              "        border: none;\n",
              "        /* Needs to be in here for Safari polyfill so background images work as expected. */\n",
              "        background-size: auto;\n",
              "    }\n",
              "    progress:not([value]), progress:not([value])::-webkit-progress-bar {\n",
              "        background: repeating-linear-gradient(45deg, #7e7e7e, #7e7e7e 10px, #5c5c5c 10px, #5c5c5c 20px);\n",
              "    }\n",
              "    .progress-bar-interrupted, .progress-bar-interrupted::-webkit-progress-bar {\n",
              "        background: #F44336;\n",
              "    }\n",
              "</style>\n"
            ],
            "text/plain": [
              "<IPython.core.display.HTML object>"
            ]
          },
          "metadata": {},
          "output_type": "display_data"
        },
        {
          "data": {
            "text/html": [],
            "text/plain": [
              "<IPython.core.display.HTML object>"
            ]
          },
          "metadata": {},
          "output_type": "display_data"
        },
        {
          "data": {
            "text/html": [
              "\n",
              "<style>\n",
              "    /* Turns off some styling */\n",
              "    progress {\n",
              "        /* gets rid of default border in Firefox and Opera. */\n",
              "        border: none;\n",
              "        /* Needs to be in here for Safari polyfill so background images work as expected. */\n",
              "        background-size: auto;\n",
              "    }\n",
              "    progress:not([value]), progress:not([value])::-webkit-progress-bar {\n",
              "        background: repeating-linear-gradient(45deg, #7e7e7e, #7e7e7e 10px, #5c5c5c 10px, #5c5c5c 20px);\n",
              "    }\n",
              "    .progress-bar-interrupted, .progress-bar-interrupted::-webkit-progress-bar {\n",
              "        background: #F44336;\n",
              "    }\n",
              "</style>\n"
            ],
            "text/plain": [
              "<IPython.core.display.HTML object>"
            ]
          },
          "metadata": {},
          "output_type": "display_data"
        },
        {
          "data": {
            "text/html": [],
            "text/plain": [
              "<IPython.core.display.HTML object>"
            ]
          },
          "metadata": {},
          "output_type": "display_data"
        },
        {
          "data": {
            "text/html": [
              "\n",
              "<style>\n",
              "    /* Turns off some styling */\n",
              "    progress {\n",
              "        /* gets rid of default border in Firefox and Opera. */\n",
              "        border: none;\n",
              "        /* Needs to be in here for Safari polyfill so background images work as expected. */\n",
              "        background-size: auto;\n",
              "    }\n",
              "    progress:not([value]), progress:not([value])::-webkit-progress-bar {\n",
              "        background: repeating-linear-gradient(45deg, #7e7e7e, #7e7e7e 10px, #5c5c5c 10px, #5c5c5c 20px);\n",
              "    }\n",
              "    .progress-bar-interrupted, .progress-bar-interrupted::-webkit-progress-bar {\n",
              "        background: #F44336;\n",
              "    }\n",
              "</style>\n"
            ],
            "text/plain": [
              "<IPython.core.display.HTML object>"
            ]
          },
          "metadata": {},
          "output_type": "display_data"
        },
        {
          "data": {
            "text/html": [],
            "text/plain": [
              "<IPython.core.display.HTML object>"
            ]
          },
          "metadata": {},
          "output_type": "display_data"
        },
        {
          "data": {
            "text/html": [
              "\n",
              "<style>\n",
              "    /* Turns off some styling */\n",
              "    progress {\n",
              "        /* gets rid of default border in Firefox and Opera. */\n",
              "        border: none;\n",
              "        /* Needs to be in here for Safari polyfill so background images work as expected. */\n",
              "        background-size: auto;\n",
              "    }\n",
              "    progress:not([value]), progress:not([value])::-webkit-progress-bar {\n",
              "        background: repeating-linear-gradient(45deg, #7e7e7e, #7e7e7e 10px, #5c5c5c 10px, #5c5c5c 20px);\n",
              "    }\n",
              "    .progress-bar-interrupted, .progress-bar-interrupted::-webkit-progress-bar {\n",
              "        background: #F44336;\n",
              "    }\n",
              "</style>\n"
            ],
            "text/plain": [
              "<IPython.core.display.HTML object>"
            ]
          },
          "metadata": {},
          "output_type": "display_data"
        },
        {
          "data": {
            "text/html": [],
            "text/plain": [
              "<IPython.core.display.HTML object>"
            ]
          },
          "metadata": {},
          "output_type": "display_data"
        },
        {
          "data": {
            "text/html": [
              "\n",
              "<style>\n",
              "    /* Turns off some styling */\n",
              "    progress {\n",
              "        /* gets rid of default border in Firefox and Opera. */\n",
              "        border: none;\n",
              "        /* Needs to be in here for Safari polyfill so background images work as expected. */\n",
              "        background-size: auto;\n",
              "    }\n",
              "    progress:not([value]), progress:not([value])::-webkit-progress-bar {\n",
              "        background: repeating-linear-gradient(45deg, #7e7e7e, #7e7e7e 10px, #5c5c5c 10px, #5c5c5c 20px);\n",
              "    }\n",
              "    .progress-bar-interrupted, .progress-bar-interrupted::-webkit-progress-bar {\n",
              "        background: #F44336;\n",
              "    }\n",
              "</style>\n"
            ],
            "text/plain": [
              "<IPython.core.display.HTML object>"
            ]
          },
          "metadata": {},
          "output_type": "display_data"
        },
        {
          "data": {
            "text/html": [],
            "text/plain": [
              "<IPython.core.display.HTML object>"
            ]
          },
          "metadata": {},
          "output_type": "display_data"
        },
        {
          "data": {
            "text/html": [
              "\n",
              "<style>\n",
              "    /* Turns off some styling */\n",
              "    progress {\n",
              "        /* gets rid of default border in Firefox and Opera. */\n",
              "        border: none;\n",
              "        /* Needs to be in here for Safari polyfill so background images work as expected. */\n",
              "        background-size: auto;\n",
              "    }\n",
              "    progress:not([value]), progress:not([value])::-webkit-progress-bar {\n",
              "        background: repeating-linear-gradient(45deg, #7e7e7e, #7e7e7e 10px, #5c5c5c 10px, #5c5c5c 20px);\n",
              "    }\n",
              "    .progress-bar-interrupted, .progress-bar-interrupted::-webkit-progress-bar {\n",
              "        background: #F44336;\n",
              "    }\n",
              "</style>\n"
            ],
            "text/plain": [
              "<IPython.core.display.HTML object>"
            ]
          },
          "metadata": {},
          "output_type": "display_data"
        },
        {
          "data": {
            "text/html": [],
            "text/plain": [
              "<IPython.core.display.HTML object>"
            ]
          },
          "metadata": {},
          "output_type": "display_data"
        },
        {
          "data": {
            "text/html": [
              "\n",
              "<style>\n",
              "    /* Turns off some styling */\n",
              "    progress {\n",
              "        /* gets rid of default border in Firefox and Opera. */\n",
              "        border: none;\n",
              "        /* Needs to be in here for Safari polyfill so background images work as expected. */\n",
              "        background-size: auto;\n",
              "    }\n",
              "    progress:not([value]), progress:not([value])::-webkit-progress-bar {\n",
              "        background: repeating-linear-gradient(45deg, #7e7e7e, #7e7e7e 10px, #5c5c5c 10px, #5c5c5c 20px);\n",
              "    }\n",
              "    .progress-bar-interrupted, .progress-bar-interrupted::-webkit-progress-bar {\n",
              "        background: #F44336;\n",
              "    }\n",
              "</style>\n"
            ],
            "text/plain": [
              "<IPython.core.display.HTML object>"
            ]
          },
          "metadata": {},
          "output_type": "display_data"
        },
        {
          "data": {
            "text/html": [],
            "text/plain": [
              "<IPython.core.display.HTML object>"
            ]
          },
          "metadata": {},
          "output_type": "display_data"
        },
        {
          "data": {
            "text/html": [
              "\n",
              "<style>\n",
              "    /* Turns off some styling */\n",
              "    progress {\n",
              "        /* gets rid of default border in Firefox and Opera. */\n",
              "        border: none;\n",
              "        /* Needs to be in here for Safari polyfill so background images work as expected. */\n",
              "        background-size: auto;\n",
              "    }\n",
              "    progress:not([value]), progress:not([value])::-webkit-progress-bar {\n",
              "        background: repeating-linear-gradient(45deg, #7e7e7e, #7e7e7e 10px, #5c5c5c 10px, #5c5c5c 20px);\n",
              "    }\n",
              "    .progress-bar-interrupted, .progress-bar-interrupted::-webkit-progress-bar {\n",
              "        background: #F44336;\n",
              "    }\n",
              "</style>\n"
            ],
            "text/plain": [
              "<IPython.core.display.HTML object>"
            ]
          },
          "metadata": {},
          "output_type": "display_data"
        },
        {
          "data": {
            "text/html": [],
            "text/plain": [
              "<IPython.core.display.HTML object>"
            ]
          },
          "metadata": {},
          "output_type": "display_data"
        },
        {
          "data": {
            "text/html": [
              "\n",
              "<style>\n",
              "    /* Turns off some styling */\n",
              "    progress {\n",
              "        /* gets rid of default border in Firefox and Opera. */\n",
              "        border: none;\n",
              "        /* Needs to be in here for Safari polyfill so background images work as expected. */\n",
              "        background-size: auto;\n",
              "    }\n",
              "    progress:not([value]), progress:not([value])::-webkit-progress-bar {\n",
              "        background: repeating-linear-gradient(45deg, #7e7e7e, #7e7e7e 10px, #5c5c5c 10px, #5c5c5c 20px);\n",
              "    }\n",
              "    .progress-bar-interrupted, .progress-bar-interrupted::-webkit-progress-bar {\n",
              "        background: #F44336;\n",
              "    }\n",
              "</style>\n"
            ],
            "text/plain": [
              "<IPython.core.display.HTML object>"
            ]
          },
          "metadata": {},
          "output_type": "display_data"
        },
        {
          "data": {
            "text/html": [],
            "text/plain": [
              "<IPython.core.display.HTML object>"
            ]
          },
          "metadata": {},
          "output_type": "display_data"
        },
        {
          "data": {
            "text/html": [
              "\n",
              "<style>\n",
              "    /* Turns off some styling */\n",
              "    progress {\n",
              "        /* gets rid of default border in Firefox and Opera. */\n",
              "        border: none;\n",
              "        /* Needs to be in here for Safari polyfill so background images work as expected. */\n",
              "        background-size: auto;\n",
              "    }\n",
              "    progress:not([value]), progress:not([value])::-webkit-progress-bar {\n",
              "        background: repeating-linear-gradient(45deg, #7e7e7e, #7e7e7e 10px, #5c5c5c 10px, #5c5c5c 20px);\n",
              "    }\n",
              "    .progress-bar-interrupted, .progress-bar-interrupted::-webkit-progress-bar {\n",
              "        background: #F44336;\n",
              "    }\n",
              "</style>\n"
            ],
            "text/plain": [
              "<IPython.core.display.HTML object>"
            ]
          },
          "metadata": {},
          "output_type": "display_data"
        },
        {
          "data": {
            "text/html": [],
            "text/plain": [
              "<IPython.core.display.HTML object>"
            ]
          },
          "metadata": {},
          "output_type": "display_data"
        },
        {
          "data": {
            "text/html": [
              "\n",
              "<style>\n",
              "    /* Turns off some styling */\n",
              "    progress {\n",
              "        /* gets rid of default border in Firefox and Opera. */\n",
              "        border: none;\n",
              "        /* Needs to be in here for Safari polyfill so background images work as expected. */\n",
              "        background-size: auto;\n",
              "    }\n",
              "    progress:not([value]), progress:not([value])::-webkit-progress-bar {\n",
              "        background: repeating-linear-gradient(45deg, #7e7e7e, #7e7e7e 10px, #5c5c5c 10px, #5c5c5c 20px);\n",
              "    }\n",
              "    .progress-bar-interrupted, .progress-bar-interrupted::-webkit-progress-bar {\n",
              "        background: #F44336;\n",
              "    }\n",
              "</style>\n"
            ],
            "text/plain": [
              "<IPython.core.display.HTML object>"
            ]
          },
          "metadata": {},
          "output_type": "display_data"
        },
        {
          "data": {
            "text/html": [],
            "text/plain": [
              "<IPython.core.display.HTML object>"
            ]
          },
          "metadata": {},
          "output_type": "display_data"
        },
        {
          "data": {
            "text/html": [
              "\n",
              "<style>\n",
              "    /* Turns off some styling */\n",
              "    progress {\n",
              "        /* gets rid of default border in Firefox and Opera. */\n",
              "        border: none;\n",
              "        /* Needs to be in here for Safari polyfill so background images work as expected. */\n",
              "        background-size: auto;\n",
              "    }\n",
              "    progress:not([value]), progress:not([value])::-webkit-progress-bar {\n",
              "        background: repeating-linear-gradient(45deg, #7e7e7e, #7e7e7e 10px, #5c5c5c 10px, #5c5c5c 20px);\n",
              "    }\n",
              "    .progress-bar-interrupted, .progress-bar-interrupted::-webkit-progress-bar {\n",
              "        background: #F44336;\n",
              "    }\n",
              "</style>\n"
            ],
            "text/plain": [
              "<IPython.core.display.HTML object>"
            ]
          },
          "metadata": {},
          "output_type": "display_data"
        },
        {
          "data": {
            "text/html": [],
            "text/plain": [
              "<IPython.core.display.HTML object>"
            ]
          },
          "metadata": {},
          "output_type": "display_data"
        },
        {
          "data": {
            "text/html": [
              "\n",
              "<style>\n",
              "    /* Turns off some styling */\n",
              "    progress {\n",
              "        /* gets rid of default border in Firefox and Opera. */\n",
              "        border: none;\n",
              "        /* Needs to be in here for Safari polyfill so background images work as expected. */\n",
              "        background-size: auto;\n",
              "    }\n",
              "    progress:not([value]), progress:not([value])::-webkit-progress-bar {\n",
              "        background: repeating-linear-gradient(45deg, #7e7e7e, #7e7e7e 10px, #5c5c5c 10px, #5c5c5c 20px);\n",
              "    }\n",
              "    .progress-bar-interrupted, .progress-bar-interrupted::-webkit-progress-bar {\n",
              "        background: #F44336;\n",
              "    }\n",
              "</style>\n"
            ],
            "text/plain": [
              "<IPython.core.display.HTML object>"
            ]
          },
          "metadata": {},
          "output_type": "display_data"
        },
        {
          "data": {
            "text/html": [],
            "text/plain": [
              "<IPython.core.display.HTML object>"
            ]
          },
          "metadata": {},
          "output_type": "display_data"
        },
        {
          "data": {
            "text/html": [
              "\n",
              "<style>\n",
              "    /* Turns off some styling */\n",
              "    progress {\n",
              "        /* gets rid of default border in Firefox and Opera. */\n",
              "        border: none;\n",
              "        /* Needs to be in here for Safari polyfill so background images work as expected. */\n",
              "        background-size: auto;\n",
              "    }\n",
              "    progress:not([value]), progress:not([value])::-webkit-progress-bar {\n",
              "        background: repeating-linear-gradient(45deg, #7e7e7e, #7e7e7e 10px, #5c5c5c 10px, #5c5c5c 20px);\n",
              "    }\n",
              "    .progress-bar-interrupted, .progress-bar-interrupted::-webkit-progress-bar {\n",
              "        background: #F44336;\n",
              "    }\n",
              "</style>\n"
            ],
            "text/plain": [
              "<IPython.core.display.HTML object>"
            ]
          },
          "metadata": {},
          "output_type": "display_data"
        },
        {
          "data": {
            "text/html": [],
            "text/plain": [
              "<IPython.core.display.HTML object>"
            ]
          },
          "metadata": {},
          "output_type": "display_data"
        },
        {
          "data": {
            "text/html": [
              "\n",
              "<style>\n",
              "    /* Turns off some styling */\n",
              "    progress {\n",
              "        /* gets rid of default border in Firefox and Opera. */\n",
              "        border: none;\n",
              "        /* Needs to be in here for Safari polyfill so background images work as expected. */\n",
              "        background-size: auto;\n",
              "    }\n",
              "    progress:not([value]), progress:not([value])::-webkit-progress-bar {\n",
              "        background: repeating-linear-gradient(45deg, #7e7e7e, #7e7e7e 10px, #5c5c5c 10px, #5c5c5c 20px);\n",
              "    }\n",
              "    .progress-bar-interrupted, .progress-bar-interrupted::-webkit-progress-bar {\n",
              "        background: #F44336;\n",
              "    }\n",
              "</style>\n"
            ],
            "text/plain": [
              "<IPython.core.display.HTML object>"
            ]
          },
          "metadata": {},
          "output_type": "display_data"
        },
        {
          "data": {
            "text/html": [],
            "text/plain": [
              "<IPython.core.display.HTML object>"
            ]
          },
          "metadata": {},
          "output_type": "display_data"
        },
        {
          "data": {
            "text/html": [
              "\n",
              "<style>\n",
              "    /* Turns off some styling */\n",
              "    progress {\n",
              "        /* gets rid of default border in Firefox and Opera. */\n",
              "        border: none;\n",
              "        /* Needs to be in here for Safari polyfill so background images work as expected. */\n",
              "        background-size: auto;\n",
              "    }\n",
              "    progress:not([value]), progress:not([value])::-webkit-progress-bar {\n",
              "        background: repeating-linear-gradient(45deg, #7e7e7e, #7e7e7e 10px, #5c5c5c 10px, #5c5c5c 20px);\n",
              "    }\n",
              "    .progress-bar-interrupted, .progress-bar-interrupted::-webkit-progress-bar {\n",
              "        background: #F44336;\n",
              "    }\n",
              "</style>\n"
            ],
            "text/plain": [
              "<IPython.core.display.HTML object>"
            ]
          },
          "metadata": {},
          "output_type": "display_data"
        },
        {
          "data": {
            "text/html": [],
            "text/plain": [
              "<IPython.core.display.HTML object>"
            ]
          },
          "metadata": {},
          "output_type": "display_data"
        },
        {
          "data": {
            "text/html": [
              "\n",
              "<style>\n",
              "    /* Turns off some styling */\n",
              "    progress {\n",
              "        /* gets rid of default border in Firefox and Opera. */\n",
              "        border: none;\n",
              "        /* Needs to be in here for Safari polyfill so background images work as expected. */\n",
              "        background-size: auto;\n",
              "    }\n",
              "    progress:not([value]), progress:not([value])::-webkit-progress-bar {\n",
              "        background: repeating-linear-gradient(45deg, #7e7e7e, #7e7e7e 10px, #5c5c5c 10px, #5c5c5c 20px);\n",
              "    }\n",
              "    .progress-bar-interrupted, .progress-bar-interrupted::-webkit-progress-bar {\n",
              "        background: #F44336;\n",
              "    }\n",
              "</style>\n"
            ],
            "text/plain": [
              "<IPython.core.display.HTML object>"
            ]
          },
          "metadata": {},
          "output_type": "display_data"
        },
        {
          "data": {
            "text/html": [],
            "text/plain": [
              "<IPython.core.display.HTML object>"
            ]
          },
          "metadata": {},
          "output_type": "display_data"
        },
        {
          "data": {
            "text/html": [
              "\n",
              "<style>\n",
              "    /* Turns off some styling */\n",
              "    progress {\n",
              "        /* gets rid of default border in Firefox and Opera. */\n",
              "        border: none;\n",
              "        /* Needs to be in here for Safari polyfill so background images work as expected. */\n",
              "        background-size: auto;\n",
              "    }\n",
              "    progress:not([value]), progress:not([value])::-webkit-progress-bar {\n",
              "        background: repeating-linear-gradient(45deg, #7e7e7e, #7e7e7e 10px, #5c5c5c 10px, #5c5c5c 20px);\n",
              "    }\n",
              "    .progress-bar-interrupted, .progress-bar-interrupted::-webkit-progress-bar {\n",
              "        background: #F44336;\n",
              "    }\n",
              "</style>\n"
            ],
            "text/plain": [
              "<IPython.core.display.HTML object>"
            ]
          },
          "metadata": {},
          "output_type": "display_data"
        },
        {
          "data": {
            "text/html": [],
            "text/plain": [
              "<IPython.core.display.HTML object>"
            ]
          },
          "metadata": {},
          "output_type": "display_data"
        },
        {
          "data": {
            "text/html": [
              "\n",
              "<style>\n",
              "    /* Turns off some styling */\n",
              "    progress {\n",
              "        /* gets rid of default border in Firefox and Opera. */\n",
              "        border: none;\n",
              "        /* Needs to be in here for Safari polyfill so background images work as expected. */\n",
              "        background-size: auto;\n",
              "    }\n",
              "    progress:not([value]), progress:not([value])::-webkit-progress-bar {\n",
              "        background: repeating-linear-gradient(45deg, #7e7e7e, #7e7e7e 10px, #5c5c5c 10px, #5c5c5c 20px);\n",
              "    }\n",
              "    .progress-bar-interrupted, .progress-bar-interrupted::-webkit-progress-bar {\n",
              "        background: #F44336;\n",
              "    }\n",
              "</style>\n"
            ],
            "text/plain": [
              "<IPython.core.display.HTML object>"
            ]
          },
          "metadata": {},
          "output_type": "display_data"
        },
        {
          "data": {
            "text/html": [],
            "text/plain": [
              "<IPython.core.display.HTML object>"
            ]
          },
          "metadata": {},
          "output_type": "display_data"
        },
        {
          "data": {
            "text/html": [
              "\n",
              "<style>\n",
              "    /* Turns off some styling */\n",
              "    progress {\n",
              "        /* gets rid of default border in Firefox and Opera. */\n",
              "        border: none;\n",
              "        /* Needs to be in here for Safari polyfill so background images work as expected. */\n",
              "        background-size: auto;\n",
              "    }\n",
              "    progress:not([value]), progress:not([value])::-webkit-progress-bar {\n",
              "        background: repeating-linear-gradient(45deg, #7e7e7e, #7e7e7e 10px, #5c5c5c 10px, #5c5c5c 20px);\n",
              "    }\n",
              "    .progress-bar-interrupted, .progress-bar-interrupted::-webkit-progress-bar {\n",
              "        background: #F44336;\n",
              "    }\n",
              "</style>\n"
            ],
            "text/plain": [
              "<IPython.core.display.HTML object>"
            ]
          },
          "metadata": {},
          "output_type": "display_data"
        },
        {
          "data": {
            "text/html": [],
            "text/plain": [
              "<IPython.core.display.HTML object>"
            ]
          },
          "metadata": {},
          "output_type": "display_data"
        },
        {
          "data": {
            "text/html": [
              "\n",
              "<style>\n",
              "    /* Turns off some styling */\n",
              "    progress {\n",
              "        /* gets rid of default border in Firefox and Opera. */\n",
              "        border: none;\n",
              "        /* Needs to be in here for Safari polyfill so background images work as expected. */\n",
              "        background-size: auto;\n",
              "    }\n",
              "    progress:not([value]), progress:not([value])::-webkit-progress-bar {\n",
              "        background: repeating-linear-gradient(45deg, #7e7e7e, #7e7e7e 10px, #5c5c5c 10px, #5c5c5c 20px);\n",
              "    }\n",
              "    .progress-bar-interrupted, .progress-bar-interrupted::-webkit-progress-bar {\n",
              "        background: #F44336;\n",
              "    }\n",
              "</style>\n"
            ],
            "text/plain": [
              "<IPython.core.display.HTML object>"
            ]
          },
          "metadata": {},
          "output_type": "display_data"
        },
        {
          "data": {
            "text/html": [],
            "text/plain": [
              "<IPython.core.display.HTML object>"
            ]
          },
          "metadata": {},
          "output_type": "display_data"
        },
        {
          "data": {
            "text/html": [
              "\n",
              "<style>\n",
              "    /* Turns off some styling */\n",
              "    progress {\n",
              "        /* gets rid of default border in Firefox and Opera. */\n",
              "        border: none;\n",
              "        /* Needs to be in here for Safari polyfill so background images work as expected. */\n",
              "        background-size: auto;\n",
              "    }\n",
              "    progress:not([value]), progress:not([value])::-webkit-progress-bar {\n",
              "        background: repeating-linear-gradient(45deg, #7e7e7e, #7e7e7e 10px, #5c5c5c 10px, #5c5c5c 20px);\n",
              "    }\n",
              "    .progress-bar-interrupted, .progress-bar-interrupted::-webkit-progress-bar {\n",
              "        background: #F44336;\n",
              "    }\n",
              "</style>\n"
            ],
            "text/plain": [
              "<IPython.core.display.HTML object>"
            ]
          },
          "metadata": {},
          "output_type": "display_data"
        },
        {
          "data": {
            "text/html": [],
            "text/plain": [
              "<IPython.core.display.HTML object>"
            ]
          },
          "metadata": {},
          "output_type": "display_data"
        },
        {
          "data": {
            "text/html": [
              "\n",
              "<style>\n",
              "    /* Turns off some styling */\n",
              "    progress {\n",
              "        /* gets rid of default border in Firefox and Opera. */\n",
              "        border: none;\n",
              "        /* Needs to be in here for Safari polyfill so background images work as expected. */\n",
              "        background-size: auto;\n",
              "    }\n",
              "    progress:not([value]), progress:not([value])::-webkit-progress-bar {\n",
              "        background: repeating-linear-gradient(45deg, #7e7e7e, #7e7e7e 10px, #5c5c5c 10px, #5c5c5c 20px);\n",
              "    }\n",
              "    .progress-bar-interrupted, .progress-bar-interrupted::-webkit-progress-bar {\n",
              "        background: #F44336;\n",
              "    }\n",
              "</style>\n"
            ],
            "text/plain": [
              "<IPython.core.display.HTML object>"
            ]
          },
          "metadata": {},
          "output_type": "display_data"
        },
        {
          "data": {
            "text/html": [],
            "text/plain": [
              "<IPython.core.display.HTML object>"
            ]
          },
          "metadata": {},
          "output_type": "display_data"
        },
        {
          "data": {
            "text/html": [
              "\n",
              "<style>\n",
              "    /* Turns off some styling */\n",
              "    progress {\n",
              "        /* gets rid of default border in Firefox and Opera. */\n",
              "        border: none;\n",
              "        /* Needs to be in here for Safari polyfill so background images work as expected. */\n",
              "        background-size: auto;\n",
              "    }\n",
              "    progress:not([value]), progress:not([value])::-webkit-progress-bar {\n",
              "        background: repeating-linear-gradient(45deg, #7e7e7e, #7e7e7e 10px, #5c5c5c 10px, #5c5c5c 20px);\n",
              "    }\n",
              "    .progress-bar-interrupted, .progress-bar-interrupted::-webkit-progress-bar {\n",
              "        background: #F44336;\n",
              "    }\n",
              "</style>\n"
            ],
            "text/plain": [
              "<IPython.core.display.HTML object>"
            ]
          },
          "metadata": {},
          "output_type": "display_data"
        },
        {
          "data": {
            "text/html": [],
            "text/plain": [
              "<IPython.core.display.HTML object>"
            ]
          },
          "metadata": {},
          "output_type": "display_data"
        },
        {
          "data": {
            "text/html": [
              "\n",
              "<style>\n",
              "    /* Turns off some styling */\n",
              "    progress {\n",
              "        /* gets rid of default border in Firefox and Opera. */\n",
              "        border: none;\n",
              "        /* Needs to be in here for Safari polyfill so background images work as expected. */\n",
              "        background-size: auto;\n",
              "    }\n",
              "    progress:not([value]), progress:not([value])::-webkit-progress-bar {\n",
              "        background: repeating-linear-gradient(45deg, #7e7e7e, #7e7e7e 10px, #5c5c5c 10px, #5c5c5c 20px);\n",
              "    }\n",
              "    .progress-bar-interrupted, .progress-bar-interrupted::-webkit-progress-bar {\n",
              "        background: #F44336;\n",
              "    }\n",
              "</style>\n"
            ],
            "text/plain": [
              "<IPython.core.display.HTML object>"
            ]
          },
          "metadata": {},
          "output_type": "display_data"
        },
        {
          "data": {
            "text/html": [],
            "text/plain": [
              "<IPython.core.display.HTML object>"
            ]
          },
          "metadata": {},
          "output_type": "display_data"
        },
        {
          "data": {
            "text/html": [
              "\n",
              "<style>\n",
              "    /* Turns off some styling */\n",
              "    progress {\n",
              "        /* gets rid of default border in Firefox and Opera. */\n",
              "        border: none;\n",
              "        /* Needs to be in here for Safari polyfill so background images work as expected. */\n",
              "        background-size: auto;\n",
              "    }\n",
              "    progress:not([value]), progress:not([value])::-webkit-progress-bar {\n",
              "        background: repeating-linear-gradient(45deg, #7e7e7e, #7e7e7e 10px, #5c5c5c 10px, #5c5c5c 20px);\n",
              "    }\n",
              "    .progress-bar-interrupted, .progress-bar-interrupted::-webkit-progress-bar {\n",
              "        background: #F44336;\n",
              "    }\n",
              "</style>\n"
            ],
            "text/plain": [
              "<IPython.core.display.HTML object>"
            ]
          },
          "metadata": {},
          "output_type": "display_data"
        },
        {
          "data": {
            "text/html": [],
            "text/plain": [
              "<IPython.core.display.HTML object>"
            ]
          },
          "metadata": {},
          "output_type": "display_data"
        },
        {
          "data": {
            "text/html": [
              "\n",
              "<style>\n",
              "    /* Turns off some styling */\n",
              "    progress {\n",
              "        /* gets rid of default border in Firefox and Opera. */\n",
              "        border: none;\n",
              "        /* Needs to be in here for Safari polyfill so background images work as expected. */\n",
              "        background-size: auto;\n",
              "    }\n",
              "    progress:not([value]), progress:not([value])::-webkit-progress-bar {\n",
              "        background: repeating-linear-gradient(45deg, #7e7e7e, #7e7e7e 10px, #5c5c5c 10px, #5c5c5c 20px);\n",
              "    }\n",
              "    .progress-bar-interrupted, .progress-bar-interrupted::-webkit-progress-bar {\n",
              "        background: #F44336;\n",
              "    }\n",
              "</style>\n"
            ],
            "text/plain": [
              "<IPython.core.display.HTML object>"
            ]
          },
          "metadata": {},
          "output_type": "display_data"
        },
        {
          "data": {
            "text/html": [],
            "text/plain": [
              "<IPython.core.display.HTML object>"
            ]
          },
          "metadata": {},
          "output_type": "display_data"
        },
        {
          "data": {
            "text/html": [
              "\n",
              "<style>\n",
              "    /* Turns off some styling */\n",
              "    progress {\n",
              "        /* gets rid of default border in Firefox and Opera. */\n",
              "        border: none;\n",
              "        /* Needs to be in here for Safari polyfill so background images work as expected. */\n",
              "        background-size: auto;\n",
              "    }\n",
              "    progress:not([value]), progress:not([value])::-webkit-progress-bar {\n",
              "        background: repeating-linear-gradient(45deg, #7e7e7e, #7e7e7e 10px, #5c5c5c 10px, #5c5c5c 20px);\n",
              "    }\n",
              "    .progress-bar-interrupted, .progress-bar-interrupted::-webkit-progress-bar {\n",
              "        background: #F44336;\n",
              "    }\n",
              "</style>\n"
            ],
            "text/plain": [
              "<IPython.core.display.HTML object>"
            ]
          },
          "metadata": {},
          "output_type": "display_data"
        },
        {
          "data": {
            "text/html": [],
            "text/plain": [
              "<IPython.core.display.HTML object>"
            ]
          },
          "metadata": {},
          "output_type": "display_data"
        },
        {
          "data": {
            "text/html": [
              "\n",
              "<style>\n",
              "    /* Turns off some styling */\n",
              "    progress {\n",
              "        /* gets rid of default border in Firefox and Opera. */\n",
              "        border: none;\n",
              "        /* Needs to be in here for Safari polyfill so background images work as expected. */\n",
              "        background-size: auto;\n",
              "    }\n",
              "    progress:not([value]), progress:not([value])::-webkit-progress-bar {\n",
              "        background: repeating-linear-gradient(45deg, #7e7e7e, #7e7e7e 10px, #5c5c5c 10px, #5c5c5c 20px);\n",
              "    }\n",
              "    .progress-bar-interrupted, .progress-bar-interrupted::-webkit-progress-bar {\n",
              "        background: #F44336;\n",
              "    }\n",
              "</style>\n"
            ],
            "text/plain": [
              "<IPython.core.display.HTML object>"
            ]
          },
          "metadata": {},
          "output_type": "display_data"
        },
        {
          "data": {
            "text/html": [],
            "text/plain": [
              "<IPython.core.display.HTML object>"
            ]
          },
          "metadata": {},
          "output_type": "display_data"
        },
        {
          "data": {
            "text/html": [
              "\n",
              "<style>\n",
              "    /* Turns off some styling */\n",
              "    progress {\n",
              "        /* gets rid of default border in Firefox and Opera. */\n",
              "        border: none;\n",
              "        /* Needs to be in here for Safari polyfill so background images work as expected. */\n",
              "        background-size: auto;\n",
              "    }\n",
              "    progress:not([value]), progress:not([value])::-webkit-progress-bar {\n",
              "        background: repeating-linear-gradient(45deg, #7e7e7e, #7e7e7e 10px, #5c5c5c 10px, #5c5c5c 20px);\n",
              "    }\n",
              "    .progress-bar-interrupted, .progress-bar-interrupted::-webkit-progress-bar {\n",
              "        background: #F44336;\n",
              "    }\n",
              "</style>\n"
            ],
            "text/plain": [
              "<IPython.core.display.HTML object>"
            ]
          },
          "metadata": {},
          "output_type": "display_data"
        },
        {
          "data": {
            "text/html": [],
            "text/plain": [
              "<IPython.core.display.HTML object>"
            ]
          },
          "metadata": {},
          "output_type": "display_data"
        },
        {
          "data": {
            "text/html": [
              "\n",
              "<style>\n",
              "    /* Turns off some styling */\n",
              "    progress {\n",
              "        /* gets rid of default border in Firefox and Opera. */\n",
              "        border: none;\n",
              "        /* Needs to be in here for Safari polyfill so background images work as expected. */\n",
              "        background-size: auto;\n",
              "    }\n",
              "    progress:not([value]), progress:not([value])::-webkit-progress-bar {\n",
              "        background: repeating-linear-gradient(45deg, #7e7e7e, #7e7e7e 10px, #5c5c5c 10px, #5c5c5c 20px);\n",
              "    }\n",
              "    .progress-bar-interrupted, .progress-bar-interrupted::-webkit-progress-bar {\n",
              "        background: #F44336;\n",
              "    }\n",
              "</style>\n"
            ],
            "text/plain": [
              "<IPython.core.display.HTML object>"
            ]
          },
          "metadata": {},
          "output_type": "display_data"
        },
        {
          "data": {
            "text/html": [],
            "text/plain": [
              "<IPython.core.display.HTML object>"
            ]
          },
          "metadata": {},
          "output_type": "display_data"
        },
        {
          "data": {
            "text/html": [
              "\n",
              "<style>\n",
              "    /* Turns off some styling */\n",
              "    progress {\n",
              "        /* gets rid of default border in Firefox and Opera. */\n",
              "        border: none;\n",
              "        /* Needs to be in here for Safari polyfill so background images work as expected. */\n",
              "        background-size: auto;\n",
              "    }\n",
              "    progress:not([value]), progress:not([value])::-webkit-progress-bar {\n",
              "        background: repeating-linear-gradient(45deg, #7e7e7e, #7e7e7e 10px, #5c5c5c 10px, #5c5c5c 20px);\n",
              "    }\n",
              "    .progress-bar-interrupted, .progress-bar-interrupted::-webkit-progress-bar {\n",
              "        background: #F44336;\n",
              "    }\n",
              "</style>\n"
            ],
            "text/plain": [
              "<IPython.core.display.HTML object>"
            ]
          },
          "metadata": {},
          "output_type": "display_data"
        },
        {
          "data": {
            "text/html": [],
            "text/plain": [
              "<IPython.core.display.HTML object>"
            ]
          },
          "metadata": {},
          "output_type": "display_data"
        },
        {
          "data": {
            "text/html": [
              "\n",
              "<style>\n",
              "    /* Turns off some styling */\n",
              "    progress {\n",
              "        /* gets rid of default border in Firefox and Opera. */\n",
              "        border: none;\n",
              "        /* Needs to be in here for Safari polyfill so background images work as expected. */\n",
              "        background-size: auto;\n",
              "    }\n",
              "    progress:not([value]), progress:not([value])::-webkit-progress-bar {\n",
              "        background: repeating-linear-gradient(45deg, #7e7e7e, #7e7e7e 10px, #5c5c5c 10px, #5c5c5c 20px);\n",
              "    }\n",
              "    .progress-bar-interrupted, .progress-bar-interrupted::-webkit-progress-bar {\n",
              "        background: #F44336;\n",
              "    }\n",
              "</style>\n"
            ],
            "text/plain": [
              "<IPython.core.display.HTML object>"
            ]
          },
          "metadata": {},
          "output_type": "display_data"
        },
        {
          "data": {
            "text/html": [],
            "text/plain": [
              "<IPython.core.display.HTML object>"
            ]
          },
          "metadata": {},
          "output_type": "display_data"
        },
        {
          "data": {
            "text/html": [
              "\n",
              "<style>\n",
              "    /* Turns off some styling */\n",
              "    progress {\n",
              "        /* gets rid of default border in Firefox and Opera. */\n",
              "        border: none;\n",
              "        /* Needs to be in here for Safari polyfill so background images work as expected. */\n",
              "        background-size: auto;\n",
              "    }\n",
              "    progress:not([value]), progress:not([value])::-webkit-progress-bar {\n",
              "        background: repeating-linear-gradient(45deg, #7e7e7e, #7e7e7e 10px, #5c5c5c 10px, #5c5c5c 20px);\n",
              "    }\n",
              "    .progress-bar-interrupted, .progress-bar-interrupted::-webkit-progress-bar {\n",
              "        background: #F44336;\n",
              "    }\n",
              "</style>\n"
            ],
            "text/plain": [
              "<IPython.core.display.HTML object>"
            ]
          },
          "metadata": {},
          "output_type": "display_data"
        },
        {
          "data": {
            "text/html": [],
            "text/plain": [
              "<IPython.core.display.HTML object>"
            ]
          },
          "metadata": {},
          "output_type": "display_data"
        },
        {
          "data": {
            "text/html": [
              "\n",
              "<style>\n",
              "    /* Turns off some styling */\n",
              "    progress {\n",
              "        /* gets rid of default border in Firefox and Opera. */\n",
              "        border: none;\n",
              "        /* Needs to be in here for Safari polyfill so background images work as expected. */\n",
              "        background-size: auto;\n",
              "    }\n",
              "    progress:not([value]), progress:not([value])::-webkit-progress-bar {\n",
              "        background: repeating-linear-gradient(45deg, #7e7e7e, #7e7e7e 10px, #5c5c5c 10px, #5c5c5c 20px);\n",
              "    }\n",
              "    .progress-bar-interrupted, .progress-bar-interrupted::-webkit-progress-bar {\n",
              "        background: #F44336;\n",
              "    }\n",
              "</style>\n"
            ],
            "text/plain": [
              "<IPython.core.display.HTML object>"
            ]
          },
          "metadata": {},
          "output_type": "display_data"
        },
        {
          "data": {
            "text/html": [],
            "text/plain": [
              "<IPython.core.display.HTML object>"
            ]
          },
          "metadata": {},
          "output_type": "display_data"
        },
        {
          "data": {
            "text/html": [
              "\n",
              "<style>\n",
              "    /* Turns off some styling */\n",
              "    progress {\n",
              "        /* gets rid of default border in Firefox and Opera. */\n",
              "        border: none;\n",
              "        /* Needs to be in here for Safari polyfill so background images work as expected. */\n",
              "        background-size: auto;\n",
              "    }\n",
              "    progress:not([value]), progress:not([value])::-webkit-progress-bar {\n",
              "        background: repeating-linear-gradient(45deg, #7e7e7e, #7e7e7e 10px, #5c5c5c 10px, #5c5c5c 20px);\n",
              "    }\n",
              "    .progress-bar-interrupted, .progress-bar-interrupted::-webkit-progress-bar {\n",
              "        background: #F44336;\n",
              "    }\n",
              "</style>\n"
            ],
            "text/plain": [
              "<IPython.core.display.HTML object>"
            ]
          },
          "metadata": {},
          "output_type": "display_data"
        },
        {
          "data": {
            "text/html": [],
            "text/plain": [
              "<IPython.core.display.HTML object>"
            ]
          },
          "metadata": {},
          "output_type": "display_data"
        },
        {
          "data": {
            "text/html": [
              "\n",
              "<style>\n",
              "    /* Turns off some styling */\n",
              "    progress {\n",
              "        /* gets rid of default border in Firefox and Opera. */\n",
              "        border: none;\n",
              "        /* Needs to be in here for Safari polyfill so background images work as expected. */\n",
              "        background-size: auto;\n",
              "    }\n",
              "    progress:not([value]), progress:not([value])::-webkit-progress-bar {\n",
              "        background: repeating-linear-gradient(45deg, #7e7e7e, #7e7e7e 10px, #5c5c5c 10px, #5c5c5c 20px);\n",
              "    }\n",
              "    .progress-bar-interrupted, .progress-bar-interrupted::-webkit-progress-bar {\n",
              "        background: #F44336;\n",
              "    }\n",
              "</style>\n"
            ],
            "text/plain": [
              "<IPython.core.display.HTML object>"
            ]
          },
          "metadata": {},
          "output_type": "display_data"
        },
        {
          "data": {
            "text/html": [],
            "text/plain": [
              "<IPython.core.display.HTML object>"
            ]
          },
          "metadata": {},
          "output_type": "display_data"
        },
        {
          "data": {
            "text/html": [
              "\n",
              "<style>\n",
              "    /* Turns off some styling */\n",
              "    progress {\n",
              "        /* gets rid of default border in Firefox and Opera. */\n",
              "        border: none;\n",
              "        /* Needs to be in here for Safari polyfill so background images work as expected. */\n",
              "        background-size: auto;\n",
              "    }\n",
              "    progress:not([value]), progress:not([value])::-webkit-progress-bar {\n",
              "        background: repeating-linear-gradient(45deg, #7e7e7e, #7e7e7e 10px, #5c5c5c 10px, #5c5c5c 20px);\n",
              "    }\n",
              "    .progress-bar-interrupted, .progress-bar-interrupted::-webkit-progress-bar {\n",
              "        background: #F44336;\n",
              "    }\n",
              "</style>\n"
            ],
            "text/plain": [
              "<IPython.core.display.HTML object>"
            ]
          },
          "metadata": {},
          "output_type": "display_data"
        },
        {
          "data": {
            "text/html": [],
            "text/plain": [
              "<IPython.core.display.HTML object>"
            ]
          },
          "metadata": {},
          "output_type": "display_data"
        },
        {
          "data": {
            "text/html": [
              "\n",
              "<style>\n",
              "    /* Turns off some styling */\n",
              "    progress {\n",
              "        /* gets rid of default border in Firefox and Opera. */\n",
              "        border: none;\n",
              "        /* Needs to be in here for Safari polyfill so background images work as expected. */\n",
              "        background-size: auto;\n",
              "    }\n",
              "    progress:not([value]), progress:not([value])::-webkit-progress-bar {\n",
              "        background: repeating-linear-gradient(45deg, #7e7e7e, #7e7e7e 10px, #5c5c5c 10px, #5c5c5c 20px);\n",
              "    }\n",
              "    .progress-bar-interrupted, .progress-bar-interrupted::-webkit-progress-bar {\n",
              "        background: #F44336;\n",
              "    }\n",
              "</style>\n"
            ],
            "text/plain": [
              "<IPython.core.display.HTML object>"
            ]
          },
          "metadata": {},
          "output_type": "display_data"
        },
        {
          "data": {
            "text/html": [],
            "text/plain": [
              "<IPython.core.display.HTML object>"
            ]
          },
          "metadata": {},
          "output_type": "display_data"
        },
        {
          "data": {
            "text/html": [
              "\n",
              "<style>\n",
              "    /* Turns off some styling */\n",
              "    progress {\n",
              "        /* gets rid of default border in Firefox and Opera. */\n",
              "        border: none;\n",
              "        /* Needs to be in here for Safari polyfill so background images work as expected. */\n",
              "        background-size: auto;\n",
              "    }\n",
              "    progress:not([value]), progress:not([value])::-webkit-progress-bar {\n",
              "        background: repeating-linear-gradient(45deg, #7e7e7e, #7e7e7e 10px, #5c5c5c 10px, #5c5c5c 20px);\n",
              "    }\n",
              "    .progress-bar-interrupted, .progress-bar-interrupted::-webkit-progress-bar {\n",
              "        background: #F44336;\n",
              "    }\n",
              "</style>\n"
            ],
            "text/plain": [
              "<IPython.core.display.HTML object>"
            ]
          },
          "metadata": {},
          "output_type": "display_data"
        },
        {
          "data": {
            "text/html": [],
            "text/plain": [
              "<IPython.core.display.HTML object>"
            ]
          },
          "metadata": {},
          "output_type": "display_data"
        },
        {
          "data": {
            "text/html": [
              "\n",
              "<style>\n",
              "    /* Turns off some styling */\n",
              "    progress {\n",
              "        /* gets rid of default border in Firefox and Opera. */\n",
              "        border: none;\n",
              "        /* Needs to be in here for Safari polyfill so background images work as expected. */\n",
              "        background-size: auto;\n",
              "    }\n",
              "    progress:not([value]), progress:not([value])::-webkit-progress-bar {\n",
              "        background: repeating-linear-gradient(45deg, #7e7e7e, #7e7e7e 10px, #5c5c5c 10px, #5c5c5c 20px);\n",
              "    }\n",
              "    .progress-bar-interrupted, .progress-bar-interrupted::-webkit-progress-bar {\n",
              "        background: #F44336;\n",
              "    }\n",
              "</style>\n"
            ],
            "text/plain": [
              "<IPython.core.display.HTML object>"
            ]
          },
          "metadata": {},
          "output_type": "display_data"
        },
        {
          "data": {
            "text/html": [],
            "text/plain": [
              "<IPython.core.display.HTML object>"
            ]
          },
          "metadata": {},
          "output_type": "display_data"
        },
        {
          "data": {
            "text/html": [
              "\n",
              "<style>\n",
              "    /* Turns off some styling */\n",
              "    progress {\n",
              "        /* gets rid of default border in Firefox and Opera. */\n",
              "        border: none;\n",
              "        /* Needs to be in here for Safari polyfill so background images work as expected. */\n",
              "        background-size: auto;\n",
              "    }\n",
              "    progress:not([value]), progress:not([value])::-webkit-progress-bar {\n",
              "        background: repeating-linear-gradient(45deg, #7e7e7e, #7e7e7e 10px, #5c5c5c 10px, #5c5c5c 20px);\n",
              "    }\n",
              "    .progress-bar-interrupted, .progress-bar-interrupted::-webkit-progress-bar {\n",
              "        background: #F44336;\n",
              "    }\n",
              "</style>\n"
            ],
            "text/plain": [
              "<IPython.core.display.HTML object>"
            ]
          },
          "metadata": {},
          "output_type": "display_data"
        },
        {
          "data": {
            "text/html": [],
            "text/plain": [
              "<IPython.core.display.HTML object>"
            ]
          },
          "metadata": {},
          "output_type": "display_data"
        },
        {
          "data": {
            "text/html": [
              "\n",
              "<style>\n",
              "    /* Turns off some styling */\n",
              "    progress {\n",
              "        /* gets rid of default border in Firefox and Opera. */\n",
              "        border: none;\n",
              "        /* Needs to be in here for Safari polyfill so background images work as expected. */\n",
              "        background-size: auto;\n",
              "    }\n",
              "    progress:not([value]), progress:not([value])::-webkit-progress-bar {\n",
              "        background: repeating-linear-gradient(45deg, #7e7e7e, #7e7e7e 10px, #5c5c5c 10px, #5c5c5c 20px);\n",
              "    }\n",
              "    .progress-bar-interrupted, .progress-bar-interrupted::-webkit-progress-bar {\n",
              "        background: #F44336;\n",
              "    }\n",
              "</style>\n"
            ],
            "text/plain": [
              "<IPython.core.display.HTML object>"
            ]
          },
          "metadata": {},
          "output_type": "display_data"
        },
        {
          "data": {
            "text/html": [],
            "text/plain": [
              "<IPython.core.display.HTML object>"
            ]
          },
          "metadata": {},
          "output_type": "display_data"
        },
        {
          "data": {
            "text/html": [
              "\n",
              "<style>\n",
              "    /* Turns off some styling */\n",
              "    progress {\n",
              "        /* gets rid of default border in Firefox and Opera. */\n",
              "        border: none;\n",
              "        /* Needs to be in here for Safari polyfill so background images work as expected. */\n",
              "        background-size: auto;\n",
              "    }\n",
              "    progress:not([value]), progress:not([value])::-webkit-progress-bar {\n",
              "        background: repeating-linear-gradient(45deg, #7e7e7e, #7e7e7e 10px, #5c5c5c 10px, #5c5c5c 20px);\n",
              "    }\n",
              "    .progress-bar-interrupted, .progress-bar-interrupted::-webkit-progress-bar {\n",
              "        background: #F44336;\n",
              "    }\n",
              "</style>\n"
            ],
            "text/plain": [
              "<IPython.core.display.HTML object>"
            ]
          },
          "metadata": {},
          "output_type": "display_data"
        },
        {
          "data": {
            "text/html": [],
            "text/plain": [
              "<IPython.core.display.HTML object>"
            ]
          },
          "metadata": {},
          "output_type": "display_data"
        },
        {
          "data": {
            "text/html": [
              "\n",
              "<style>\n",
              "    /* Turns off some styling */\n",
              "    progress {\n",
              "        /* gets rid of default border in Firefox and Opera. */\n",
              "        border: none;\n",
              "        /* Needs to be in here for Safari polyfill so background images work as expected. */\n",
              "        background-size: auto;\n",
              "    }\n",
              "    progress:not([value]), progress:not([value])::-webkit-progress-bar {\n",
              "        background: repeating-linear-gradient(45deg, #7e7e7e, #7e7e7e 10px, #5c5c5c 10px, #5c5c5c 20px);\n",
              "    }\n",
              "    .progress-bar-interrupted, .progress-bar-interrupted::-webkit-progress-bar {\n",
              "        background: #F44336;\n",
              "    }\n",
              "</style>\n"
            ],
            "text/plain": [
              "<IPython.core.display.HTML object>"
            ]
          },
          "metadata": {},
          "output_type": "display_data"
        },
        {
          "data": {
            "text/html": [],
            "text/plain": [
              "<IPython.core.display.HTML object>"
            ]
          },
          "metadata": {},
          "output_type": "display_data"
        },
        {
          "data": {
            "text/html": [
              "\n",
              "<style>\n",
              "    /* Turns off some styling */\n",
              "    progress {\n",
              "        /* gets rid of default border in Firefox and Opera. */\n",
              "        border: none;\n",
              "        /* Needs to be in here for Safari polyfill so background images work as expected. */\n",
              "        background-size: auto;\n",
              "    }\n",
              "    progress:not([value]), progress:not([value])::-webkit-progress-bar {\n",
              "        background: repeating-linear-gradient(45deg, #7e7e7e, #7e7e7e 10px, #5c5c5c 10px, #5c5c5c 20px);\n",
              "    }\n",
              "    .progress-bar-interrupted, .progress-bar-interrupted::-webkit-progress-bar {\n",
              "        background: #F44336;\n",
              "    }\n",
              "</style>\n"
            ],
            "text/plain": [
              "<IPython.core.display.HTML object>"
            ]
          },
          "metadata": {},
          "output_type": "display_data"
        },
        {
          "data": {
            "text/html": [],
            "text/plain": [
              "<IPython.core.display.HTML object>"
            ]
          },
          "metadata": {},
          "output_type": "display_data"
        },
        {
          "data": {
            "text/html": [
              "\n",
              "<style>\n",
              "    /* Turns off some styling */\n",
              "    progress {\n",
              "        /* gets rid of default border in Firefox and Opera. */\n",
              "        border: none;\n",
              "        /* Needs to be in here for Safari polyfill so background images work as expected. */\n",
              "        background-size: auto;\n",
              "    }\n",
              "    progress:not([value]), progress:not([value])::-webkit-progress-bar {\n",
              "        background: repeating-linear-gradient(45deg, #7e7e7e, #7e7e7e 10px, #5c5c5c 10px, #5c5c5c 20px);\n",
              "    }\n",
              "    .progress-bar-interrupted, .progress-bar-interrupted::-webkit-progress-bar {\n",
              "        background: #F44336;\n",
              "    }\n",
              "</style>\n"
            ],
            "text/plain": [
              "<IPython.core.display.HTML object>"
            ]
          },
          "metadata": {},
          "output_type": "display_data"
        },
        {
          "data": {
            "text/html": [],
            "text/plain": [
              "<IPython.core.display.HTML object>"
            ]
          },
          "metadata": {},
          "output_type": "display_data"
        },
        {
          "data": {
            "text/html": [
              "\n",
              "<style>\n",
              "    /* Turns off some styling */\n",
              "    progress {\n",
              "        /* gets rid of default border in Firefox and Opera. */\n",
              "        border: none;\n",
              "        /* Needs to be in here for Safari polyfill so background images work as expected. */\n",
              "        background-size: auto;\n",
              "    }\n",
              "    progress:not([value]), progress:not([value])::-webkit-progress-bar {\n",
              "        background: repeating-linear-gradient(45deg, #7e7e7e, #7e7e7e 10px, #5c5c5c 10px, #5c5c5c 20px);\n",
              "    }\n",
              "    .progress-bar-interrupted, .progress-bar-interrupted::-webkit-progress-bar {\n",
              "        background: #F44336;\n",
              "    }\n",
              "</style>\n"
            ],
            "text/plain": [
              "<IPython.core.display.HTML object>"
            ]
          },
          "metadata": {},
          "output_type": "display_data"
        },
        {
          "data": {
            "text/html": [],
            "text/plain": [
              "<IPython.core.display.HTML object>"
            ]
          },
          "metadata": {},
          "output_type": "display_data"
        },
        {
          "data": {
            "text/html": [
              "\n",
              "<style>\n",
              "    /* Turns off some styling */\n",
              "    progress {\n",
              "        /* gets rid of default border in Firefox and Opera. */\n",
              "        border: none;\n",
              "        /* Needs to be in here for Safari polyfill so background images work as expected. */\n",
              "        background-size: auto;\n",
              "    }\n",
              "    progress:not([value]), progress:not([value])::-webkit-progress-bar {\n",
              "        background: repeating-linear-gradient(45deg, #7e7e7e, #7e7e7e 10px, #5c5c5c 10px, #5c5c5c 20px);\n",
              "    }\n",
              "    .progress-bar-interrupted, .progress-bar-interrupted::-webkit-progress-bar {\n",
              "        background: #F44336;\n",
              "    }\n",
              "</style>\n"
            ],
            "text/plain": [
              "<IPython.core.display.HTML object>"
            ]
          },
          "metadata": {},
          "output_type": "display_data"
        },
        {
          "data": {
            "text/html": [],
            "text/plain": [
              "<IPython.core.display.HTML object>"
            ]
          },
          "metadata": {},
          "output_type": "display_data"
        },
        {
          "data": {
            "text/html": [
              "\n",
              "<style>\n",
              "    /* Turns off some styling */\n",
              "    progress {\n",
              "        /* gets rid of default border in Firefox and Opera. */\n",
              "        border: none;\n",
              "        /* Needs to be in here for Safari polyfill so background images work as expected. */\n",
              "        background-size: auto;\n",
              "    }\n",
              "    progress:not([value]), progress:not([value])::-webkit-progress-bar {\n",
              "        background: repeating-linear-gradient(45deg, #7e7e7e, #7e7e7e 10px, #5c5c5c 10px, #5c5c5c 20px);\n",
              "    }\n",
              "    .progress-bar-interrupted, .progress-bar-interrupted::-webkit-progress-bar {\n",
              "        background: #F44336;\n",
              "    }\n",
              "</style>\n"
            ],
            "text/plain": [
              "<IPython.core.display.HTML object>"
            ]
          },
          "metadata": {},
          "output_type": "display_data"
        },
        {
          "data": {
            "text/html": [],
            "text/plain": [
              "<IPython.core.display.HTML object>"
            ]
          },
          "metadata": {},
          "output_type": "display_data"
        },
        {
          "data": {
            "text/html": [
              "\n",
              "<style>\n",
              "    /* Turns off some styling */\n",
              "    progress {\n",
              "        /* gets rid of default border in Firefox and Opera. */\n",
              "        border: none;\n",
              "        /* Needs to be in here for Safari polyfill so background images work as expected. */\n",
              "        background-size: auto;\n",
              "    }\n",
              "    progress:not([value]), progress:not([value])::-webkit-progress-bar {\n",
              "        background: repeating-linear-gradient(45deg, #7e7e7e, #7e7e7e 10px, #5c5c5c 10px, #5c5c5c 20px);\n",
              "    }\n",
              "    .progress-bar-interrupted, .progress-bar-interrupted::-webkit-progress-bar {\n",
              "        background: #F44336;\n",
              "    }\n",
              "</style>\n"
            ],
            "text/plain": [
              "<IPython.core.display.HTML object>"
            ]
          },
          "metadata": {},
          "output_type": "display_data"
        },
        {
          "data": {
            "text/html": [],
            "text/plain": [
              "<IPython.core.display.HTML object>"
            ]
          },
          "metadata": {},
          "output_type": "display_data"
        },
        {
          "data": {
            "text/html": [
              "\n",
              "<style>\n",
              "    /* Turns off some styling */\n",
              "    progress {\n",
              "        /* gets rid of default border in Firefox and Opera. */\n",
              "        border: none;\n",
              "        /* Needs to be in here for Safari polyfill so background images work as expected. */\n",
              "        background-size: auto;\n",
              "    }\n",
              "    progress:not([value]), progress:not([value])::-webkit-progress-bar {\n",
              "        background: repeating-linear-gradient(45deg, #7e7e7e, #7e7e7e 10px, #5c5c5c 10px, #5c5c5c 20px);\n",
              "    }\n",
              "    .progress-bar-interrupted, .progress-bar-interrupted::-webkit-progress-bar {\n",
              "        background: #F44336;\n",
              "    }\n",
              "</style>\n"
            ],
            "text/plain": [
              "<IPython.core.display.HTML object>"
            ]
          },
          "metadata": {},
          "output_type": "display_data"
        },
        {
          "data": {
            "text/html": [],
            "text/plain": [
              "<IPython.core.display.HTML object>"
            ]
          },
          "metadata": {},
          "output_type": "display_data"
        },
        {
          "data": {
            "text/html": [
              "\n",
              "<style>\n",
              "    /* Turns off some styling */\n",
              "    progress {\n",
              "        /* gets rid of default border in Firefox and Opera. */\n",
              "        border: none;\n",
              "        /* Needs to be in here for Safari polyfill so background images work as expected. */\n",
              "        background-size: auto;\n",
              "    }\n",
              "    progress:not([value]), progress:not([value])::-webkit-progress-bar {\n",
              "        background: repeating-linear-gradient(45deg, #7e7e7e, #7e7e7e 10px, #5c5c5c 10px, #5c5c5c 20px);\n",
              "    }\n",
              "    .progress-bar-interrupted, .progress-bar-interrupted::-webkit-progress-bar {\n",
              "        background: #F44336;\n",
              "    }\n",
              "</style>\n"
            ],
            "text/plain": [
              "<IPython.core.display.HTML object>"
            ]
          },
          "metadata": {},
          "output_type": "display_data"
        },
        {
          "data": {
            "text/html": [],
            "text/plain": [
              "<IPython.core.display.HTML object>"
            ]
          },
          "metadata": {},
          "output_type": "display_data"
        },
        {
          "data": {
            "text/html": [
              "\n",
              "<style>\n",
              "    /* Turns off some styling */\n",
              "    progress {\n",
              "        /* gets rid of default border in Firefox and Opera. */\n",
              "        border: none;\n",
              "        /* Needs to be in here for Safari polyfill so background images work as expected. */\n",
              "        background-size: auto;\n",
              "    }\n",
              "    progress:not([value]), progress:not([value])::-webkit-progress-bar {\n",
              "        background: repeating-linear-gradient(45deg, #7e7e7e, #7e7e7e 10px, #5c5c5c 10px, #5c5c5c 20px);\n",
              "    }\n",
              "    .progress-bar-interrupted, .progress-bar-interrupted::-webkit-progress-bar {\n",
              "        background: #F44336;\n",
              "    }\n",
              "</style>\n"
            ],
            "text/plain": [
              "<IPython.core.display.HTML object>"
            ]
          },
          "metadata": {},
          "output_type": "display_data"
        },
        {
          "data": {
            "text/html": [],
            "text/plain": [
              "<IPython.core.display.HTML object>"
            ]
          },
          "metadata": {},
          "output_type": "display_data"
        },
        {
          "data": {
            "text/html": [
              "\n",
              "<style>\n",
              "    /* Turns off some styling */\n",
              "    progress {\n",
              "        /* gets rid of default border in Firefox and Opera. */\n",
              "        border: none;\n",
              "        /* Needs to be in here for Safari polyfill so background images work as expected. */\n",
              "        background-size: auto;\n",
              "    }\n",
              "    progress:not([value]), progress:not([value])::-webkit-progress-bar {\n",
              "        background: repeating-linear-gradient(45deg, #7e7e7e, #7e7e7e 10px, #5c5c5c 10px, #5c5c5c 20px);\n",
              "    }\n",
              "    .progress-bar-interrupted, .progress-bar-interrupted::-webkit-progress-bar {\n",
              "        background: #F44336;\n",
              "    }\n",
              "</style>\n"
            ],
            "text/plain": [
              "<IPython.core.display.HTML object>"
            ]
          },
          "metadata": {},
          "output_type": "display_data"
        },
        {
          "data": {
            "text/html": [],
            "text/plain": [
              "<IPython.core.display.HTML object>"
            ]
          },
          "metadata": {},
          "output_type": "display_data"
        },
        {
          "data": {
            "text/html": [
              "\n",
              "<style>\n",
              "    /* Turns off some styling */\n",
              "    progress {\n",
              "        /* gets rid of default border in Firefox and Opera. */\n",
              "        border: none;\n",
              "        /* Needs to be in here for Safari polyfill so background images work as expected. */\n",
              "        background-size: auto;\n",
              "    }\n",
              "    progress:not([value]), progress:not([value])::-webkit-progress-bar {\n",
              "        background: repeating-linear-gradient(45deg, #7e7e7e, #7e7e7e 10px, #5c5c5c 10px, #5c5c5c 20px);\n",
              "    }\n",
              "    .progress-bar-interrupted, .progress-bar-interrupted::-webkit-progress-bar {\n",
              "        background: #F44336;\n",
              "    }\n",
              "</style>\n"
            ],
            "text/plain": [
              "<IPython.core.display.HTML object>"
            ]
          },
          "metadata": {},
          "output_type": "display_data"
        },
        {
          "data": {
            "text/html": [],
            "text/plain": [
              "<IPython.core.display.HTML object>"
            ]
          },
          "metadata": {},
          "output_type": "display_data"
        },
        {
          "data": {
            "text/html": [
              "\n",
              "<style>\n",
              "    /* Turns off some styling */\n",
              "    progress {\n",
              "        /* gets rid of default border in Firefox and Opera. */\n",
              "        border: none;\n",
              "        /* Needs to be in here for Safari polyfill so background images work as expected. */\n",
              "        background-size: auto;\n",
              "    }\n",
              "    progress:not([value]), progress:not([value])::-webkit-progress-bar {\n",
              "        background: repeating-linear-gradient(45deg, #7e7e7e, #7e7e7e 10px, #5c5c5c 10px, #5c5c5c 20px);\n",
              "    }\n",
              "    .progress-bar-interrupted, .progress-bar-interrupted::-webkit-progress-bar {\n",
              "        background: #F44336;\n",
              "    }\n",
              "</style>\n"
            ],
            "text/plain": [
              "<IPython.core.display.HTML object>"
            ]
          },
          "metadata": {},
          "output_type": "display_data"
        },
        {
          "data": {
            "text/html": [],
            "text/plain": [
              "<IPython.core.display.HTML object>"
            ]
          },
          "metadata": {},
          "output_type": "display_data"
        },
        {
          "data": {
            "text/html": [
              "\n",
              "<style>\n",
              "    /* Turns off some styling */\n",
              "    progress {\n",
              "        /* gets rid of default border in Firefox and Opera. */\n",
              "        border: none;\n",
              "        /* Needs to be in here for Safari polyfill so background images work as expected. */\n",
              "        background-size: auto;\n",
              "    }\n",
              "    progress:not([value]), progress:not([value])::-webkit-progress-bar {\n",
              "        background: repeating-linear-gradient(45deg, #7e7e7e, #7e7e7e 10px, #5c5c5c 10px, #5c5c5c 20px);\n",
              "    }\n",
              "    .progress-bar-interrupted, .progress-bar-interrupted::-webkit-progress-bar {\n",
              "        background: #F44336;\n",
              "    }\n",
              "</style>\n"
            ],
            "text/plain": [
              "<IPython.core.display.HTML object>"
            ]
          },
          "metadata": {},
          "output_type": "display_data"
        },
        {
          "data": {
            "text/html": [],
            "text/plain": [
              "<IPython.core.display.HTML object>"
            ]
          },
          "metadata": {},
          "output_type": "display_data"
        },
        {
          "data": {
            "text/html": [
              "\n",
              "<style>\n",
              "    /* Turns off some styling */\n",
              "    progress {\n",
              "        /* gets rid of default border in Firefox and Opera. */\n",
              "        border: none;\n",
              "        /* Needs to be in here for Safari polyfill so background images work as expected. */\n",
              "        background-size: auto;\n",
              "    }\n",
              "    progress:not([value]), progress:not([value])::-webkit-progress-bar {\n",
              "        background: repeating-linear-gradient(45deg, #7e7e7e, #7e7e7e 10px, #5c5c5c 10px, #5c5c5c 20px);\n",
              "    }\n",
              "    .progress-bar-interrupted, .progress-bar-interrupted::-webkit-progress-bar {\n",
              "        background: #F44336;\n",
              "    }\n",
              "</style>\n"
            ],
            "text/plain": [
              "<IPython.core.display.HTML object>"
            ]
          },
          "metadata": {},
          "output_type": "display_data"
        },
        {
          "data": {
            "text/html": [],
            "text/plain": [
              "<IPython.core.display.HTML object>"
            ]
          },
          "metadata": {},
          "output_type": "display_data"
        },
        {
          "data": {
            "text/html": [
              "\n",
              "<style>\n",
              "    /* Turns off some styling */\n",
              "    progress {\n",
              "        /* gets rid of default border in Firefox and Opera. */\n",
              "        border: none;\n",
              "        /* Needs to be in here for Safari polyfill so background images work as expected. */\n",
              "        background-size: auto;\n",
              "    }\n",
              "    progress:not([value]), progress:not([value])::-webkit-progress-bar {\n",
              "        background: repeating-linear-gradient(45deg, #7e7e7e, #7e7e7e 10px, #5c5c5c 10px, #5c5c5c 20px);\n",
              "    }\n",
              "    .progress-bar-interrupted, .progress-bar-interrupted::-webkit-progress-bar {\n",
              "        background: #F44336;\n",
              "    }\n",
              "</style>\n"
            ],
            "text/plain": [
              "<IPython.core.display.HTML object>"
            ]
          },
          "metadata": {},
          "output_type": "display_data"
        },
        {
          "data": {
            "text/html": [],
            "text/plain": [
              "<IPython.core.display.HTML object>"
            ]
          },
          "metadata": {},
          "output_type": "display_data"
        },
        {
          "data": {
            "text/html": [
              "\n",
              "<style>\n",
              "    /* Turns off some styling */\n",
              "    progress {\n",
              "        /* gets rid of default border in Firefox and Opera. */\n",
              "        border: none;\n",
              "        /* Needs to be in here for Safari polyfill so background images work as expected. */\n",
              "        background-size: auto;\n",
              "    }\n",
              "    progress:not([value]), progress:not([value])::-webkit-progress-bar {\n",
              "        background: repeating-linear-gradient(45deg, #7e7e7e, #7e7e7e 10px, #5c5c5c 10px, #5c5c5c 20px);\n",
              "    }\n",
              "    .progress-bar-interrupted, .progress-bar-interrupted::-webkit-progress-bar {\n",
              "        background: #F44336;\n",
              "    }\n",
              "</style>\n"
            ],
            "text/plain": [
              "<IPython.core.display.HTML object>"
            ]
          },
          "metadata": {},
          "output_type": "display_data"
        },
        {
          "data": {
            "text/html": [],
            "text/plain": [
              "<IPython.core.display.HTML object>"
            ]
          },
          "metadata": {},
          "output_type": "display_data"
        },
        {
          "data": {
            "text/html": [
              "\n",
              "<style>\n",
              "    /* Turns off some styling */\n",
              "    progress {\n",
              "        /* gets rid of default border in Firefox and Opera. */\n",
              "        border: none;\n",
              "        /* Needs to be in here for Safari polyfill so background images work as expected. */\n",
              "        background-size: auto;\n",
              "    }\n",
              "    progress:not([value]), progress:not([value])::-webkit-progress-bar {\n",
              "        background: repeating-linear-gradient(45deg, #7e7e7e, #7e7e7e 10px, #5c5c5c 10px, #5c5c5c 20px);\n",
              "    }\n",
              "    .progress-bar-interrupted, .progress-bar-interrupted::-webkit-progress-bar {\n",
              "        background: #F44336;\n",
              "    }\n",
              "</style>\n"
            ],
            "text/plain": [
              "<IPython.core.display.HTML object>"
            ]
          },
          "metadata": {},
          "output_type": "display_data"
        },
        {
          "data": {
            "text/html": [],
            "text/plain": [
              "<IPython.core.display.HTML object>"
            ]
          },
          "metadata": {},
          "output_type": "display_data"
        },
        {
          "data": {
            "text/html": [
              "\n",
              "<style>\n",
              "    /* Turns off some styling */\n",
              "    progress {\n",
              "        /* gets rid of default border in Firefox and Opera. */\n",
              "        border: none;\n",
              "        /* Needs to be in here for Safari polyfill so background images work as expected. */\n",
              "        background-size: auto;\n",
              "    }\n",
              "    progress:not([value]), progress:not([value])::-webkit-progress-bar {\n",
              "        background: repeating-linear-gradient(45deg, #7e7e7e, #7e7e7e 10px, #5c5c5c 10px, #5c5c5c 20px);\n",
              "    }\n",
              "    .progress-bar-interrupted, .progress-bar-interrupted::-webkit-progress-bar {\n",
              "        background: #F44336;\n",
              "    }\n",
              "</style>\n"
            ],
            "text/plain": [
              "<IPython.core.display.HTML object>"
            ]
          },
          "metadata": {},
          "output_type": "display_data"
        },
        {
          "data": {
            "text/html": [],
            "text/plain": [
              "<IPython.core.display.HTML object>"
            ]
          },
          "metadata": {},
          "output_type": "display_data"
        },
        {
          "data": {
            "text/html": [
              "\n",
              "<style>\n",
              "    /* Turns off some styling */\n",
              "    progress {\n",
              "        /* gets rid of default border in Firefox and Opera. */\n",
              "        border: none;\n",
              "        /* Needs to be in here for Safari polyfill so background images work as expected. */\n",
              "        background-size: auto;\n",
              "    }\n",
              "    progress:not([value]), progress:not([value])::-webkit-progress-bar {\n",
              "        background: repeating-linear-gradient(45deg, #7e7e7e, #7e7e7e 10px, #5c5c5c 10px, #5c5c5c 20px);\n",
              "    }\n",
              "    .progress-bar-interrupted, .progress-bar-interrupted::-webkit-progress-bar {\n",
              "        background: #F44336;\n",
              "    }\n",
              "</style>\n"
            ],
            "text/plain": [
              "<IPython.core.display.HTML object>"
            ]
          },
          "metadata": {},
          "output_type": "display_data"
        },
        {
          "data": {
            "text/html": [],
            "text/plain": [
              "<IPython.core.display.HTML object>"
            ]
          },
          "metadata": {},
          "output_type": "display_data"
        },
        {
          "data": {
            "text/html": [
              "\n",
              "<style>\n",
              "    /* Turns off some styling */\n",
              "    progress {\n",
              "        /* gets rid of default border in Firefox and Opera. */\n",
              "        border: none;\n",
              "        /* Needs to be in here for Safari polyfill so background images work as expected. */\n",
              "        background-size: auto;\n",
              "    }\n",
              "    progress:not([value]), progress:not([value])::-webkit-progress-bar {\n",
              "        background: repeating-linear-gradient(45deg, #7e7e7e, #7e7e7e 10px, #5c5c5c 10px, #5c5c5c 20px);\n",
              "    }\n",
              "    .progress-bar-interrupted, .progress-bar-interrupted::-webkit-progress-bar {\n",
              "        background: #F44336;\n",
              "    }\n",
              "</style>\n"
            ],
            "text/plain": [
              "<IPython.core.display.HTML object>"
            ]
          },
          "metadata": {},
          "output_type": "display_data"
        },
        {
          "data": {
            "text/html": [],
            "text/plain": [
              "<IPython.core.display.HTML object>"
            ]
          },
          "metadata": {},
          "output_type": "display_data"
        },
        {
          "data": {
            "text/html": [
              "\n",
              "<style>\n",
              "    /* Turns off some styling */\n",
              "    progress {\n",
              "        /* gets rid of default border in Firefox and Opera. */\n",
              "        border: none;\n",
              "        /* Needs to be in here for Safari polyfill so background images work as expected. */\n",
              "        background-size: auto;\n",
              "    }\n",
              "    progress:not([value]), progress:not([value])::-webkit-progress-bar {\n",
              "        background: repeating-linear-gradient(45deg, #7e7e7e, #7e7e7e 10px, #5c5c5c 10px, #5c5c5c 20px);\n",
              "    }\n",
              "    .progress-bar-interrupted, .progress-bar-interrupted::-webkit-progress-bar {\n",
              "        background: #F44336;\n",
              "    }\n",
              "</style>\n"
            ],
            "text/plain": [
              "<IPython.core.display.HTML object>"
            ]
          },
          "metadata": {},
          "output_type": "display_data"
        },
        {
          "data": {
            "text/html": [],
            "text/plain": [
              "<IPython.core.display.HTML object>"
            ]
          },
          "metadata": {},
          "output_type": "display_data"
        },
        {
          "data": {
            "text/html": [
              "\n",
              "<style>\n",
              "    /* Turns off some styling */\n",
              "    progress {\n",
              "        /* gets rid of default border in Firefox and Opera. */\n",
              "        border: none;\n",
              "        /* Needs to be in here for Safari polyfill so background images work as expected. */\n",
              "        background-size: auto;\n",
              "    }\n",
              "    progress:not([value]), progress:not([value])::-webkit-progress-bar {\n",
              "        background: repeating-linear-gradient(45deg, #7e7e7e, #7e7e7e 10px, #5c5c5c 10px, #5c5c5c 20px);\n",
              "    }\n",
              "    .progress-bar-interrupted, .progress-bar-interrupted::-webkit-progress-bar {\n",
              "        background: #F44336;\n",
              "    }\n",
              "</style>\n"
            ],
            "text/plain": [
              "<IPython.core.display.HTML object>"
            ]
          },
          "metadata": {},
          "output_type": "display_data"
        },
        {
          "data": {
            "text/html": [],
            "text/plain": [
              "<IPython.core.display.HTML object>"
            ]
          },
          "metadata": {},
          "output_type": "display_data"
        },
        {
          "data": {
            "text/html": [
              "\n",
              "<style>\n",
              "    /* Turns off some styling */\n",
              "    progress {\n",
              "        /* gets rid of default border in Firefox and Opera. */\n",
              "        border: none;\n",
              "        /* Needs to be in here for Safari polyfill so background images work as expected. */\n",
              "        background-size: auto;\n",
              "    }\n",
              "    progress:not([value]), progress:not([value])::-webkit-progress-bar {\n",
              "        background: repeating-linear-gradient(45deg, #7e7e7e, #7e7e7e 10px, #5c5c5c 10px, #5c5c5c 20px);\n",
              "    }\n",
              "    .progress-bar-interrupted, .progress-bar-interrupted::-webkit-progress-bar {\n",
              "        background: #F44336;\n",
              "    }\n",
              "</style>\n"
            ],
            "text/plain": [
              "<IPython.core.display.HTML object>"
            ]
          },
          "metadata": {},
          "output_type": "display_data"
        },
        {
          "data": {
            "text/html": [],
            "text/plain": [
              "<IPython.core.display.HTML object>"
            ]
          },
          "metadata": {},
          "output_type": "display_data"
        },
        {
          "data": {
            "text/html": [
              "\n",
              "<style>\n",
              "    /* Turns off some styling */\n",
              "    progress {\n",
              "        /* gets rid of default border in Firefox and Opera. */\n",
              "        border: none;\n",
              "        /* Needs to be in here for Safari polyfill so background images work as expected. */\n",
              "        background-size: auto;\n",
              "    }\n",
              "    progress:not([value]), progress:not([value])::-webkit-progress-bar {\n",
              "        background: repeating-linear-gradient(45deg, #7e7e7e, #7e7e7e 10px, #5c5c5c 10px, #5c5c5c 20px);\n",
              "    }\n",
              "    .progress-bar-interrupted, .progress-bar-interrupted::-webkit-progress-bar {\n",
              "        background: #F44336;\n",
              "    }\n",
              "</style>\n"
            ],
            "text/plain": [
              "<IPython.core.display.HTML object>"
            ]
          },
          "metadata": {},
          "output_type": "display_data"
        },
        {
          "data": {
            "text/html": [],
            "text/plain": [
              "<IPython.core.display.HTML object>"
            ]
          },
          "metadata": {},
          "output_type": "display_data"
        }
      ],
      "source": [
        "# run a prediction model by learn.predict\n",
        "y_pred = df['text'].head(200).apply(lambda x: learn.predict(x)[0])"
      ]
    },
    {
      "cell_type": "code",
      "execution_count": null,
      "metadata": {
        "colab": {
          "base_uri": "https://localhost:8080/"
        },
        "id": "K1s8f-46dViG",
        "outputId": "1a152056-c3da-4366-becb-ba0a2a472a0d"
      },
      "outputs": [
        {
          "name": "stdout",
          "output_type": "stream",
          "text": [
            "accuracy = 0.84\n"
          ]
        }
      ],
      "source": [
        "# calculate evaluation metric\n",
        "  # we use accuracy as the evaluation metric\n",
        "acc = (y_true == y_pred).sum() / len(y_true)\n",
        "print('accuracy =', acc)"
      ]
    }
  ],
  "metadata": {
    "accelerator": "GPU",
    "colab": {
      "provenance": [],
      "toc_visible": true
    },
    "gpuClass": "standard",
    "kernelspec": {
      "display_name": "Python 3",
      "name": "python3"
    },
    "language_info": {
      "codemirror_mode": {
        "name": "ipython",
        "version": 3
      },
      "file_extension": ".py",
      "mimetype": "text/x-python",
      "name": "python",
      "nbconvert_exporter": "python",
      "pygments_lexer": "ipython3",
      "version": "3.9.2"
    }
  },
  "nbformat": 4,
  "nbformat_minor": 0
}
