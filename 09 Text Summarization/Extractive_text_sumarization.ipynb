{
  "cells": [
    {
      "cell_type": "markdown",
      "metadata": {
        "id": "HFApbDmmb-fq"
      },
      "source": [
        "# Text summarization using TextRank"
      ]
    },
    {
      "cell_type": "markdown",
      "metadata": {
        "id": "3iXDS7rnMInt"
      },
      "source": [
        "![image.png](data:image/png;base64,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)"
      ]
    },
    {
      "cell_type": "markdown",
      "metadata": {
        "id": "OWd1hDBjMiAs"
      },
      "source": [
        "For this tutorial, we will perform extractive text summarization following the flow above, and the step are as follow; <br>\n",
        "1) combining text from all articles to a single text <br>\n",
        "2) spliting text into sentences <br>\n",
        "3) extracting sentence embedding <br>\n",
        "4) Measuring sentence similarity and creating the matrix  <br>\n",
        "5) Converting similarity matrix into Graph representation  <br>\n",
        "6) Rank sentence importance by similarity score"
      ]
    },
    {
      "cell_type": "markdown",
      "metadata": {
        "id": "y1fiLgYacEuo"
      },
      "source": [
        "## import dependency"
      ]
    },
    {
      "cell_type": "code",
      "execution_count": 1,
      "metadata": {
        "id": "5wit90DncIZO"
      },
      "outputs": [],
      "source": [
        "import re\n",
        "import nltk\n",
        "import numpy as np\n",
        "import pandas as pd\n",
        "from tqdm import tqdm\n",
        "import networkx as nx\n",
        "from sklearn.metrics.pairwise import cosine_similarity"
      ]
    },
    {
      "cell_type": "code",
      "execution_count": 2,
      "metadata": {
        "colab": {
          "base_uri": "https://localhost:8080/"
        },
        "id": "TeMI-K3kJ0HL",
        "outputId": "660bdda6-c400-4e9a-b463-397c88d2b1eb"
      },
      "outputs": [
        {
          "name": "stderr",
          "output_type": "stream",
          "text": [
            "[nltk_data] Downloading package punkt to\n",
            "[nltk_data]     C:\\Users\\Renan\\AppData\\Roaming\\nltk_data...\n",
            "[nltk_data]   Package punkt is already up-to-date!\n",
            "[nltk_data] Downloading package stopwords to\n",
            "[nltk_data]     C:\\Users\\Renan\\AppData\\Roaming\\nltk_data...\n",
            "[nltk_data]   Unzipping corpora\\stopwords.zip.\n"
          ]
        },
        {
          "data": {
            "text/plain": [
              "True"
            ]
          },
          "execution_count": 2,
          "metadata": {},
          "output_type": "execute_result"
        }
      ],
      "source": [
        "nltk.download('punkt') # one time execution\n",
        "nltk.download('stopwords') # stopword"
      ]
    },
    {
      "cell_type": "code",
      "execution_count": 3,
      "metadata": {
        "id": "zG1LhXrXJ3JC"
      },
      "outputs": [],
      "source": [
        "from nltk.tokenize import sent_tokenize\n",
        "from nltk.corpus import stopwords"
      ]
    },
    {
      "cell_type": "markdown",
      "metadata": {
        "id": "br11gFYXdTRd"
      },
      "source": [
        "## data use\n",
        "we going to use abstract of my publication as the example for extractive text summarization"
      ]
    },
    {
      "cell_type": "code",
      "execution_count": null,
      "metadata": {
        "id": "LR13FQROGG8U"
      },
      "outputs": [],
      "source": [
        "# # zombie apocalypse in Bangkok\n",
        "# data = '''\n",
        "# The bustling city of Bangkok, Thailand, was known for its vibrant street life, spicy cuisine, and rich culture. But one fateful day, everything changed. Reports of a strange virus spreading rapidly began to surface, and soon, Bangkok found itself in the grip of a zombie apocalypse.\n",
        "# The virus spread like wildfire, turning ordinary citizens into bloodthirsty creatures. Streets that were once filled with people now became overrun with hordes of the undead, hungry for human flesh. Panic and chaos ensued as the city descended into madness.\n",
        "# Amidst the chaos, a small group of survivors banded together to fight for their lives. Among them was Kai, a former soldier who had experience in combat. He quickly took charge, leading the group through the zombie-infested streets, scavenging for supplies and seeking shelter.\n",
        "# The survivors faced numerous challenges. They encountered swarms of zombies at every turn, and had to use their wits and skills to outsmart and outrun them. They also faced conflicts within the group, as tensions ran high and resources became scarce. But they persevered, determined to survive in this new world.\n",
        "# As they moved through the city, they encountered both friends and foes. They found a group of survivors holed up in an abandoned shopping mall, led by a tough woman named Nisa. Together, they formed an alliance and worked to fortify their stronghold, fending off wave after wave of zombie attacks.\n",
        "# However, not all survivors were friendly. They encountered ruthless scavengers who would stop at nothing to take what little supplies they had. They also had to be on guard against other survivors who had succumbed to the virus and turned into zombies themselves.\n",
        "# As time passed, the survivors grew weary, both physically and mentally. They had lost loved ones to the zombies, and the constant threat of death weighed heavily on them. But they also found moments of hope and camaraderie, as they shared stories, memories, and dreams of a world free from the undead.\n",
        "# Kai and Nisa, in particular, developed a close bond as they worked together to keep the group safe. They found solace in each other's company, finding brief moments of respite from the horrors of the zombie-infested city.\n",
        "# With each passing day, the group became more skilled in dealing with the undead. They learned to move silently, use weapons effectively, and strategize their movements. They also discovered hidden pockets of survivors who had managed to survive in the midst of the chaos, and joined forces to increase their chances of survival.\n",
        "# One day, they heard rumors of a safe haven outside the city, where a group of scientists were working on a cure for the virus. With renewed hope, they embarked on a perilous journey, battling hordes of zombies and overcoming obstacles along the way.\n",
        "# Finally, after weeks of grueling travel, they reached the supposed safe haven. But what they found was a deserted lab, overrun by zombies. It seemed that the scientists had failed in their quest for a cure.\n",
        "# Heartbroken and disillusioned, the group was on the verge of giving up. But Kai, Nisa, and a few others refused to accept defeat. They decided to stay and continue the fight, knowing that they were the last hope for humanity's survival.\n",
        "# And so, the group of survivors remained in Bangkok, fighting tirelessly against the zombie horde, never giving up hope. They knew that the road ahead would be difficult, but they were determined to make a stand and reclaim their city from the undead. For in the midst of darkness, they had found a flicker of hope, and they would fight until their last breath to ensure that humanity would prevail.\n",
        "# And so, the story of Bangkok Undead continues, as the survivors battle the zombies, confront their fears, and fight for their survival in the post-apocalyptic city of Bangkok. They became skilled in their tactics, using their knowledge of the city's layout and landmarks to their advantage. They created traps, barricades, and improvised weapons to fend off the relentless onslaught of the undead.\n",
        "# Kai and Nisa's bond grew stronger as they faced numerous challenges together. They relied on each other for support and encouragement, and their friendship blossomed into something deeper. Despite the constant danger, they found solace in each other's presence, finding moments of tenderness amidst the chaos.\n",
        "# One day, while scavenging for supplies in an abandoned hospital, they stumbled upon a group of survivors who were in desperate need of help. Among them was a doctor named Dr. Somsak, who revealed that he had been working on a potential cure for the virus before his lab was overrun by zombies. He had managed to escape with some crucial research data, and he believed that he could continue his work with the help of the group.\n",
        "# Kai, Nisa, and the others agreed to assist Dr. Somsak in his research, seeing it as a glimmer of hope in the bleakness of their situation. They battled their way through the city, gathering resources and fending off zombies to protect the doctor and his research.\n",
        "# As they worked tirelessly to find a cure, they faced setbacks and sacrifices. Some of their fellow survivors fell victim to the virus, and they mourned their losses. They also had to contend with other groups of survivors who saw the potential cure as a means to gain power and control in the new world.\n",
        "# Amidst the chaos, Kai and Nisa's relationship deepened, and they found comfort and strength in each other's presence. They leaned on each other during moments of doubt and fear, finding solace in their shared mission to save humanity.\n",
        "# After weeks of tireless effort, Dr. Somsak finally made a breakthrough. He synthesized a potential cure using the data he had salvaged, and the group eagerly tested it on a small group of infected individuals. Miraculously, it worked, and the infected individuals began to show signs of recovery.\n",
        "# Hope spread among the survivors, and they mobilized to administer the cure to as many infected individuals as possible. They battled their way through hordes of zombies to reach different parts of the city, delivering the cure and saving lives.\n",
        "# But their mission was not without sacrifices. In the final battle to deliver the cure to a heavily guarded area, Nisa was bitten by a zombie while protecting Dr. Somsak. With tears in their eyes, Kai and Nisa shared a heartfelt farewell, knowing that Nisa had to stay behind to ensure the cure was delivered.\n",
        "# With Nisa's sacrifice, the cure was successfully delivered to the remaining survivors in Bangkok. The virus was contained, and the city slowly began to rebuild. Dr. Somsak continued his research, determined to find a permanent cure, and Kai led the survivors in rebuilding their city and society.\n",
        "# In the aftermath of the zombie apocalypse, Kai found solace in honoring Nisa's memory by creating a safe haven for survivors, where they could live in harmony and rebuild their lives. He also continued to work alongside Dr. Somsak, assisting in his research and tirelessly searching for a permanent cure.\n",
        "# Years later, Bangkok had risen from the ashes, a testament to the resilience and strength of its people. The city was no longer plagued by the undead, and life had returned to a semblance of normalcy. Kai, now a respected leader in the community, looked back on their journey with a mixture of sadness and pride.\n",
        "# He often visited Nisa's grave, paying his respects to the brave woman who had sacrificed everything for the greater good. He knew that her memory would live on, cherished by those who had survived the ordeal. Kai had found purpose in the post-apocalyptic world, and he was determined to ensure that Nisa's sacrifice was not in vain.\n",
        "# As the years passed, Dr. Somsak's research bore fruit, and he finally developed a permanent cure for the virus that had turned Bangkok into a living nightmare. With the cure in hand, Kai and Dr. Somsak organized a massive campaign to distribute it to other parts of the world that were still grappling with the zombie apocalypse.\n",
        "# Their efforts were met with success, and the cure proved to be effective in eradicating the virus. The world slowly began to recover from the devastating epidemic, and Bangkok became a symbol of resilience and hope in the face of adversity.\n",
        "# In the end, Kai and Nisa's journey had not only saved their city but had also helped humanity overcome one of its darkest chapters. They were remembered as heroes who had fought selflessly for the survival of their fellow humans, and their legacy lived on in the stories of those who had witnessed their bravery.\n",
        "# Kai, now an old man, watched as Bangkok thrived once again, with new generations of survivors rebuilding the city and creating a brighter future. He took solace in knowing that Nisa's sacrifice had not been in vain and that their journey had brought about positive change in the world.\n",
        "# As he sat by Nisa's grave one last time, he whispered his thanks to her for being his guiding light in the darkness of the zombie apocalypse. With a heavy heart but a sense of fulfillment, Kai bid farewell to the city that had been his home, knowing that his memories of the journey and the people he had lost would forever be etched in his heart.\n",
        "# In the end, the story of the zombie apocalypse in Bangkok, Thailand, was not just about survival and fighting off the undead. It was about the enduring power of hope, resilience, and the unwavering spirit of humanity in the face of overwhelming challenges. It was a tale of love, sacrifice, and the unbreakable bond of friendship that could blossom even in the midst of chaos. And it was a story of heroes who rose above their fears and selflessly fought for the greater good, leaving a legacy that would inspire generations to come.\n",
        "# '''\n",
        "# df = pd.DataFrame([data], columns = ['article_text'])"
      ]
    },
    {
      "cell_type": "code",
      "execution_count": 4,
      "metadata": {
        "id": "woTMI5NrMlec"
      },
      "outputs": [],
      "source": [
        "# zombie apocalypse in Bangkok\n",
        "data = '''\n",
        "This past week, two of Thailand's largest cities, Bangkok and Chiang Mai,\n",
        "earned the ignominious privilege of being among the 10 cities of the world\n",
        "with the worst air quality during that period. The Ministry of Public\n",
        "Health has blamed air pollution for causing 200,000 hospital admissions\n",
        "in the past week alone.\n",
        "Air pollution is one of Thailand's largest killers, more than obesity,\n",
        "smoking, and even Covid-19. It accounted for over 50,000 premature\n",
        "deaths in 2021, reducing average life expectancy by two years. Further,\n",
        "there is widespread public concern that air pollution will reduce one of the\n",
        "country's main sources of income, tourism, in places like Chiang Mai.\n",
        "However, despite these grim statistics, this year's air pollution menace and\n",
        "the government's ham-fisted response seems like deja vu. During the first\n",
        "few months of every year, the level of air pollution spikes to hazardous\n",
        "levels and smog covers the skies.\n",
        "Every year the government responds by proclaiming a ban on forest fires\n",
        "(but inadequately enforcing this ban), asking people to wear masks and\n",
        "stay indoors, spraying water (which doesn't do much), unhelpfully and\n",
        "incorrectly blaming smallholder farmers, and expressing grave concern\n",
        "about the problem.\n",
        "But every year the government fails to address the underlying drivers of\n",
        "the problem. Prime Minister Prayut Chan-o-cha has halted three draft\n",
        "laws related to air pollution.\n",
        "There was hope the recently-elected Bangkok governor Chadchart\n",
        "Sittipunt would do more to address air pollution at least within Bangkok's\n",
        "jurisdiction. Yet his actions so far have been limited.\n",
        "The government's actions, however, are not surprising if you look at all of\n",
        "the major parties' platforms for the upcoming election. None has\n",
        "prioritised air pollution, called for wide-ranging reforms, or made air\n",
        "pollution a major part of their campaign.\n",
        "The Thailand Development Research Institute says that of their 87 major\n",
        "policy promises, only three are environmentally-related. While more data\n",
        "on the sources of pollution would be helpful, it is clear that what the\n",
        "current government has been doing since 2014 (not to mention the actions\n",
        "of previous governments) has not worked.\n",
        "We know there are three major sources of air pollution in the country:\n",
        "transport, industry, and agriculture, and that pollution is worse in winter\n",
        "months when there is an upsurge in agricultural burning and a\n",
        "temperature inversion resulting in less wind and rain to disperse\n",
        "pollutants.\n",
        "How much any of these three sources contributes to the total amount\n",
        "varies from month to month and by location. For example, transport and\n",
        "industry emissions comprise a much larger share of total emissions in\n",
        "Bangkok than in Chiang Mai, where the vast majority (up to 90%) of\n",
        "emissions come from agriculture.\n",
        "Countries who have been able to reduce air pollution show us that while\n",
        "this is a wickedly difficult problem to solve, it is not impossible and there\n",
        "are policy solutions out there which could reduce pollutant levels and\n",
        "improve health nationwide. So, let's look at each of three sources.\n",
        "1. Transport: In Bangkok, vehicular emissions are high due to the presence\n",
        "of many older, high-polluting vehicles, together with a drastic increase in\n",
        "the number of cars in recent years. To reverse these trends, the\n",
        "government could initiate something like the USA's \"cash for clunkers\"\n",
        "programme, which provides incentives for citizens to replace older, more\n",
        "polluting cars with newer, cleaner, and more fuel-efficient ones.\n",
        "A number of cities not only have designated bus lanes but also switched\n",
        "their fleets to new vehicles powered by electricity or natural gas. Both\n",
        "policies could incentivise the public to use public buses more. Finally,\n",
        "cities like Singapore and London were able to significantly reduce their air\n",
        "pollution and traffic congestion by introducing congestion pricing\n",
        "schemes.\n",
        "2. Industry: Thailand has no emissions inventory database to record\n",
        "industrial emissions, despite having around 140,000 polluting factories. A\n",
        "head of a local NGO told me: \"Since there are no emissions inventories\n",
        "from factories, we're working blind.\" Further, in 2019, the National\n",
        "Legislative Assembly revised the Factory Act 1992 so that only industrial\n",
        "companies with more than 50 employees and machinery exceeding 50\n",
        "horsepower are subject to monitoring for waste discharge and anti-\n",
        "pollution measures, including air pollution.\n",
        "Additionally, the authority to fine major polluters rests with the\n",
        "Department of Industrial Works (DIW) under the Ministry of Industry but\n",
        "this creates a conflict of interest since DIW's mandate is to expand\n",
        "industrial growth without any curbs. Thailand needs a law that requires\n",
        "polluting factories to disclose their emissions, such as United States'\n",
        "Toxics Release Inventory and the European Pollutant Release and\n",
        "Transfer Register. This new law would make factory permits for operation\n",
        "dependent upon lowering their emissions.\n",
        "3. Agriculture: While most hotspots of biomass burning that cause\n",
        "pollution inside Thailand are in fact outside its boundaries, a large\n",
        "percentage still occurs within Thailand, particularly stemming from maize,\n",
        "sugarcane, and rice harvesting. Thai agribusinesses have a high degree of\n",
        "culpability for burning in neighbouring countries, such as Laos and\n",
        "Myanmar, due to their investments and introduction of contract farming\n",
        "schemes there.\n",
        "However, no information has been released on which companies are\n",
        "responsible for the burning and no government has ever held these\n",
        "agribusinesses accountable or penalised them for the burning. A good\n",
        "example Thailand could follow is Singapore's 2014 Transboundary Haze\n",
        "Pollution Act that targets the business sector by imposing fines on\n",
        "companies with operations in neighbouring countries found to contribute\n",
        "to haze pollution within Singapore's borders.\n",
        "Moreover, the government could insist upon stringent product standards,\n",
        "such as no burnt sugarcane, and could help farmers by subsiding the\n",
        "purchase of harvesting machines and introducing other cleaner\n",
        "production methods.\n",
        "Overall, while legislation can never be a single silver bullet solution, no\n",
        "country that has achieved cleaner air quality has done so without first\n",
        "having sensible air pollution policies in place. For example, the USA, UK,\n",
        "and Singapore have all passed Clean Air Acts.\n",
        "The citizen-driven proposed \"Thai Clean Air Act\" Act provides the tools to\n",
        "address the underlying causes that have so far impeded the resolution of\n",
        "this public health crisis.\n",
        "The bill adopts a rights-based approach that establishes the public's right\n",
        "to clean air and by doing so concurrently creates an obligation of the state\n",
        "to protect this right.\n",
        "Finally, it includes economic incentives to push current major polluters to\n",
        "reduce their emissions.\n",
        "We hope that all parties will show that they truly care about the health and\n",
        "lives of the people and will seek to adopt these policies and enact the\n",
        "citizen-led Thai Clean Air Act.\n",
        "Other countries have successfully improved their air quality, so why not\n",
        "Thailand too?\n",
        "Danny Marks is an Assistant Professor of Environmental Politics and\n",
        "Policy at Dublin City University. Weenarin Lulitanonda is a co-founder of\n",
        "the Thailand Clean Air Network.\n",
        "'''\n",
        "df = pd.DataFrame([data], columns = ['article_text'])"
      ]
    },
    {
      "cell_type": "markdown",
      "metadata": {
        "id": "unu74GWFE4h0"
      },
      "source": [
        "Now we have 2 options – we can either summarize each article individually, or we can generate a single summary for all the articles. For our purpose, we will go ahead with the latter."
      ]
    },
    {
      "cell_type": "code",
      "execution_count": 5,
      "metadata": {
        "colab": {
          "base_uri": "https://localhost:8080/"
        },
        "id": "_AYuEdZIJBZR",
        "outputId": "4eff4335-bd03-40d9-8a4d-2e72f1e7f546"
      },
      "outputs": [
        {
          "data": {
            "text/plain": [
              "[\"\\nThis past week, two of Thailand's largest cities, Bangkok and Chiang Mai,\\nearned the ignominious privilege of being among the 10 cities of the world\\nwith the worst air quality during that period.\",\n",
              " 'The Ministry of Public\\nHealth has blamed air pollution for causing 200,000 hospital admissions\\nin the past week alone.',\n",
              " \"Air pollution is one of Thailand's largest killers, more than obesity,\\nsmoking, and even Covid-19.\",\n",
              " 'It accounted for over 50,000 premature\\ndeaths in 2021, reducing average life expectancy by two years.',\n",
              " \"Further,\\nthere is widespread public concern that air pollution will reduce one of the\\ncountry's main sources of income, tourism, in places like Chiang Mai.\"]"
            ]
          },
          "execution_count": 5,
          "metadata": {},
          "output_type": "execute_result"
        }
      ],
      "source": [
        "# split to sentence using sent_tokenzie from NLTK\n",
        "sentences = []\n",
        "for s in df['article_text']:\n",
        "  sentences.append(sent_tokenize(s))\n",
        "\n",
        "# we going to use summary for all the articles\n",
        "sentences = [y for x in sentences for y in x]\n",
        "sentences[:5]"
      ]
    },
    {
      "cell_type": "markdown",
      "metadata": {
        "id": "1QzsexKeH-fI"
      },
      "source": [
        "## text preprocessing"
      ]
    },
    {
      "cell_type": "code",
      "execution_count": 6,
      "metadata": {
        "colab": {
          "base_uri": "https://localhost:8080/"
        },
        "id": "wiKOx8LMIBba",
        "outputId": "cc5c3b1f-63f9-4c09-d770-c98d890c0f23"
      },
      "outputs": [
        {
          "name": "stderr",
          "output_type": "stream",
          "text": [
            "C:\\Users\\Renan\\AppData\\Local\\Temp/ipykernel_19164/2272252541.py:2: FutureWarning: The default value of regex will change from True to False in a future version.\n",
            "  clean_sentences = pd.Series(sentences).str.replace(\"[^a-zA-Z]\", \" \")\n"
          ]
        }
      ],
      "source": [
        "# remove punctuations, numbers and special characters\n",
        "clean_sentences = pd.Series(sentences).str.replace(\"[^a-zA-Z]\", \" \")\n",
        "\n",
        "# make alphabets lowercase\n",
        "clean_sentences = [s.lower() for s in clean_sentences]\n",
        "\n",
        "# remove stopword\n",
        "stop_words = stopwords.words('english')\n",
        "def remove_stopwords(sen):\n",
        "    sen_new = \" \".join([i for i in sen if i not in stop_words])\n",
        "    return sen_new\n",
        "clean_sentences = [remove_stopwords(r.split()) for r in clean_sentences]"
      ]
    },
    {
      "cell_type": "code",
      "execution_count": 7,
      "metadata": {
        "colab": {
          "base_uri": "https://localhost:8080/"
        },
        "id": "gn6TZAjbBA4v",
        "outputId": "5ae218f8-c9b9-461f-e15e-f5a74af427fa"
      },
      "outputs": [
        {
          "name": "stdout",
          "output_type": "stream",
          "text": [
            "there are 49 sentences in total\n"
          ]
        }
      ],
      "source": [
        "print('there are {} sentences in total'.format(len(clean_sentences)))"
      ]
    },
    {
      "cell_type": "markdown",
      "metadata": {
        "id": "ChQ0xL7oKLp-"
      },
      "source": [
        "## download word embedding\n",
        "we going to use GloVe for this example, easy and fast.\n",
        "the smallest GloVe is GloVe 6B, which pre-trained from Wikipedia 2014 + Gigaword 5 data."
      ]
    },
    {
      "cell_type": "code",
      "execution_count": null,
      "metadata": {
        "colab": {
          "background_save": true,
          "base_uri": "https://localhost:8080/"
        },
        "id": "7sNt8sB7CTuK",
        "outputId": "4298ce23-a6fc-49c9-dc8a-c8ac488e48d3"
      },
      "outputs": [
        {
          "name": "stdout",
          "output_type": "stream",
          "text": [
            "--2023-04-17 10:54:01--  http://nlp.stanford.edu/data/glove.6B.zip\n",
            "Resolving nlp.stanford.edu (nlp.stanford.edu)... 171.64.67.140\n",
            "Connecting to nlp.stanford.edu (nlp.stanford.edu)|171.64.67.140|:80... connected.\n",
            "HTTP request sent, awaiting response... 302 Found\n",
            "Location: https://nlp.stanford.edu/data/glove.6B.zip [following]\n",
            "--2023-04-17 10:54:01--  https://nlp.stanford.edu/data/glove.6B.zip\n",
            "Connecting to nlp.stanford.edu (nlp.stanford.edu)|171.64.67.140|:443... connected.\n",
            "HTTP request sent, awaiting response... 301 Moved Permanently\n",
            "Location: https://downloads.cs.stanford.edu/nlp/data/glove.6B.zip [following]\n",
            "--2023-04-17 10:54:01--  https://downloads.cs.stanford.edu/nlp/data/glove.6B.zip\n",
            "Resolving downloads.cs.stanford.edu (downloads.cs.stanford.edu)... 171.64.64.22\n",
            "Connecting to downloads.cs.stanford.edu (downloads.cs.stanford.edu)|171.64.64.22|:443... connected.\n",
            "HTTP request sent, awaiting response... 200 OK\n",
            "Length: 862182613 (822M) [application/zip]\n",
            "Saving to: ‘glove.6B.zip’\n",
            "\n",
            "glove.6B.zip        100%[===================>] 822.24M  5.06MB/s    in 2m 39s  \n",
            "\n",
            "2023-04-17 10:56:40 (5.18 MB/s) - ‘glove.6B.zip’ saved [862182613/862182613]\n",
            "\n",
            "Archive:  glove.6B.zip\n",
            "  inflating: glove.6B.50d.txt        \n",
            "  inflating: glove.6B.100d.txt       \n",
            "  inflating: glove.6B.200d.txt       \n",
            "  inflating: glove.6B.300d.txt       \n"
          ]
        }
      ],
      "source": [
        "# download and save in base directory \"./content\"\n",
        "!wget http://nlp.stanford.edu/data/glove.6B.zip\n",
        "!unzip glove*.zip"
      ]
    },
    {
      "cell_type": "code",
      "execution_count": null,
      "metadata": {
        "colab": {
          "background_save": true
        },
        "id": "0Rw_LN8WCjlO"
      },
      "outputs": [],
      "source": [
        "# extract word embedding\n",
        "word_embeddings = {}\n",
        "f = open('glove.6B.50d.txt', encoding='utf-8')\n",
        "for line in f:\n",
        "    values = line.split()\n",
        "    word = values[0]\n",
        "    coefs = np.asarray(values[1:], dtype='float32')\n",
        "    word_embeddings[word] = coefs\n",
        "f.close()"
      ]
    },
    {
      "cell_type": "markdown",
      "metadata": {
        "id": "ck-mQY_vCnH1"
      },
      "source": [
        "Now, let’s create vectors for our sentences. We will first fetch vectors (each of size 50 elements) for the constituent words in a sentence and then take mean/average of those vectors to arrive at a consolidated vector for the sentence."
      ]
    },
    {
      "cell_type": "code",
      "execution_count": null,
      "metadata": {
        "colab": {
          "background_save": true
        },
        "id": "ShvEjQNMCoMy",
        "outputId": "d2b76f86-495c-4031-ea70-0f288b6cd5af"
      },
      "outputs": [
        {
          "name": "stdout",
          "output_type": "stream",
          "text": [
            "vocab size = 400000\n",
            "embedding size = 50\n",
            "example of embedding [ 0.66607   2.2092   -0.15292   0.34692  -1.8368   -0.81784   0.8726\n",
            "  0.80948  -1.3956    1.2007    0.25333  -0.44946  -1.0853   -0.011536\n",
            "  1.0377    1.0257    1.1277   -0.21588   1.2153    0.12909  -0.010597\n",
            " -0.42282  -0.33579   1.8913   -1.4262    1.6416    0.12845   0.61189\n",
            "  0.24282   0.98357   0.23489  -0.18351  -0.47299  -0.16427  -0.62525\n",
            " -0.40838   0.24943   0.56006   1.7835   -0.28373   0.687    -1.3044\n",
            "  0.54067   0.50199  -0.12665  -0.11332   0.21023  -0.97524   1.1494\n",
            " -0.090858]\n"
          ]
        }
      ],
      "source": [
        "# how embedding look like?\n",
        "print('vocab size =', len(word_embeddings))\n",
        "print('embedding size =', len(word_embeddings['tenis']))\n",
        "print('example of embedding', word_embeddings['tenis'])"
      ]
    },
    {
      "cell_type": "markdown",
      "metadata": {
        "id": "eGVS_xSXKiXI"
      },
      "source": [
        "Now, let’s create vectors for our sentences. We will first fetch vectors (each of size 50 elements) for the constituent words in a sentence and then take mean/average of those vectors to arrive at a consolidated vector for the sentence."
      ]
    },
    {
      "cell_type": "code",
      "execution_count": null,
      "metadata": {
        "colab": {
          "background_save": true
        },
        "id": "q6XzyVB2Kcgs"
      },
      "outputs": [],
      "source": [
        "sentence_vectors = []\n",
        "for i in clean_sentences:\n",
        "  if len(i) != 0:\n",
        "    v = sum([word_embeddings.get(w, np.zeros((50,))) for w in i.split()])/(len(i.split())+0.001)\n",
        "  else:\n",
        "    v = np.zeros((50,))\n",
        "  sentence_vectors.append(v)"
      ]
    },
    {
      "cell_type": "code",
      "execution_count": null,
      "metadata": {
        "colab": {
          "background_save": true
        },
        "id": "sjYISQocKs-F",
        "outputId": "6aee49eb-3ba5-4d1f-a429-97531ea934c8"
      },
      "outputs": [
        {
          "name": "stdout",
          "output_type": "stream",
          "text": [
            "here the embedding vector of the sentence\n",
            "past week two thailand largest cities bangkok chiang mai earned ignominious privilege among cities world worst air quality period\n"
          ]
        },
        {
          "data": {
            "text/plain": [
              "array([ 1.88579038e-01,  1.28828689e-01, -1.04574241e-01,  3.01646918e-01,\n",
              "       -5.15026040e-02, -3.67156982e-01, -2.56754428e-01, -3.52997109e-02,\n",
              "       -5.36073297e-02, -2.41221935e-02,  2.64090998e-03, -4.16342229e-01,\n",
              "       -1.30403087e-01, -7.06423223e-02,  3.55493903e-01, -1.71291512e-02,\n",
              "       -2.24654928e-01, -5.31137213e-02, -4.34946924e-01,  1.58552945e-01,\n",
              "        1.57910392e-01, -5.80644049e-02, -7.12970868e-02, -1.18494615e-01,\n",
              "       -1.65762886e-01, -1.11322510e+00, -2.61359513e-01, -2.43392184e-01,\n",
              "       -6.75022453e-02,  1.50378615e-01,  2.64601707e+00,  5.22093832e-01,\n",
              "        1.38535693e-01, -7.43473396e-02,  5.21013178e-02,  3.26196998e-02,\n",
              "       -1.38617709e-01,  9.31374729e-02, -3.23298156e-01,  8.29593688e-02,\n",
              "       -6.14290476e-01,  1.40548587e-01,  3.45821083e-01,  1.90478992e-02,\n",
              "       -8.17981437e-02,  6.74424767e-02, -3.24199438e-01, -5.40144220e-02,\n",
              "       -2.02068370e-02, -3.46838832e-01], dtype=float32)"
            ]
          },
          "execution_count": 13,
          "metadata": {},
          "output_type": "execute_result"
        }
      ],
      "source": [
        "print('here the embedding vector of the sentence')\n",
        "print(clean_sentences[0])\n",
        "sentence_vectors[0]"
      ]
    },
    {
      "cell_type": "markdown",
      "metadata": {
        "id": "-pIyr4RUOVrN"
      },
      "source": [
        "## similarity matrix preparation\n",
        "\n",
        "The next step is to find similarities between the sentences, we will use the cosine similarity."
      ]
    },
    {
      "cell_type": "code",
      "execution_count": null,
      "metadata": {
        "colab": {
          "background_save": true
        },
        "id": "pHXXFUjvKx6f",
        "outputId": "048857ee-740e-4e48-d93d-3c9d5f1809c8"
      },
      "outputs": [
        {
          "name": "stderr",
          "output_type": "stream",
          "text": [
            "100%|██████████| 48/48 [00:00<00:00, 75.25it/s]"
          ]
        },
        {
          "name": "stdout",
          "output_type": "stream",
          "text": [
            "(49, 49)\n",
            "[[0.         0.8506934  0.83806737 0.79258883 0.91175169 0.84740466]\n",
            " [0.8506934  0.         0.89499087 0.80582833 0.92168283 0.86203289]\n",
            " [0.83806737 0.89499087 0.         0.82208637 0.90928238 0.85933903]\n",
            " [0.79258883 0.80582833 0.82208637 0.         0.78714222 0.73432535]\n",
            " [0.91175169 0.92168283 0.90928238 0.78714222 0.         0.8868562 ]\n",
            " [0.84740466 0.86203289 0.85933903 0.73432535 0.8868562  0.        ]]\n"
          ]
        },
        {
          "name": "stderr",
          "output_type": "stream",
          "text": [
            "\n"
          ]
        }
      ],
      "source": [
        "# create an empty similarity matrix for sentence paired.\n",
        "  # zero matrix of dimensions (n * n) where n = number of sentences\n",
        "sim_mat = np.zeros([len(sentences), len(sentences)])\n",
        "\n",
        "# compute cosine sim and put in the matrix\n",
        "for i in tqdm(range(len(sentences)-1)):\n",
        "  for j in range(len(sentences)-1):\n",
        "    if i != j:\n",
        "      sim_mat[i][j] = cosine_similarity(sentence_vectors[i].reshape(1,50), sentence_vectors[j].reshape(1,50))[0,0]\n",
        "      \n",
        "print(sim_mat.shape)\n",
        "print(sim_mat[0:6,0:6])"
      ]
    },
    {
      "cell_type": "markdown",
      "metadata": {
        "id": "XNR0OljG4Vnb"
      },
      "source": [
        "## convert similarity matrix into a graph\n",
        "let’s convert the similarity matrix sim_mat into a graph.\n",
        "The nodes of this graph will represent the sentences (in blue) and the edges will represent the similarity scores between the sentences (in red)"
      ]
    },
    {
      "cell_type": "markdown",
      "metadata": {
        "id": "TFliQe6BKDEJ"
      },
      "source": [
        "![image.png](data:image/png;base64,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)"
      ]
    },
    {
      "cell_type": "code",
      "execution_count": null,
      "metadata": {
        "colab": {
          "background_save": true
        },
        "id": "6WRqcGko4E5T"
      },
      "outputs": [],
      "source": [
        "# create graph representation by sim_mat\n",
        "  # sentence as node, sim scoryye as link\n",
        "nx_graph = nx.from_numpy_array(sim_mat)\n",
        "# calculate TextRank score by pagerank\n",
        "scores = nx.pagerank(nx_graph)"
      ]
    },
    {
      "cell_type": "markdown",
      "metadata": {
        "id": "5AcWESXw6zzl"
      },
      "source": [
        "## summary extraction\n",
        "extract the top N sentences based on their rankings for summary generation."
      ]
    },
    {
      "cell_type": "code",
      "execution_count": null,
      "metadata": {
        "colab": {
          "background_save": true
        },
        "id": "BFdoIJT36282"
      },
      "outputs": [],
      "source": [
        "ranked_sentences = sorted(((scores[i],s) for i,s in enumerate(sentences)), reverse=True)"
      ]
    },
    {
      "cell_type": "code",
      "execution_count": null,
      "metadata": {
        "colab": {
          "background_save": true
        },
        "id": "ZG8_EHSuQpP2",
        "outputId": "9b34ead0-8e45-49a4-ed25-77af7b0c33c0"
      },
      "outputs": [
        {
          "data": {
            "text/plain": [
              "[(0.02298091933799598,\n",
              "  \"Further,\\nthere is widespread public concern that air pollution will reduce one of the\\ncountry's main sources of income, tourism, in places like Chiang Mai.\"),\n",
              " (0.022927749437721696,\n",
              "  'None has\\nprioritised air pollution, called for wide-ranging reforms, or made air\\npollution a major part of their campaign.'),\n",
              " (0.02289849492747717,\n",
              "  'While more data\\non the sources of pollution would be helpful, it is clear that what the\\ncurrent government has been doing since 2014 (not to mention the actions\\nof previous governments) has not worked.'),\n",
              " (0.022834929922051328,\n",
              "  'The citizen-driven proposed \"Thai Clean Air Act\" Act provides the tools to\\naddress the underlying causes that have so far impeded the resolution of\\nthis public health crisis.'),\n",
              " (0.022778536012741234,\n",
              "  'Countries who have been able to reduce air pollution show us that while\\nthis is a wickedly difficult problem to solve, it is not impossible and there\\nare policy solutions out there which could reduce pollutant levels and\\nimprove health nationwide.'),\n",
              " (0.022749809219015725,\n",
              "  'This new law would make factory permits for operation\\ndependent upon lowering their emissions.'),\n",
              " (0.022736397565818404,\n",
              "  \"A good\\nexample Thailand could follow is Singapore's 2014 Transboundary Haze\\nPollution Act that targets the business sector by imposing fines on\\ncompanies with operations in neighbouring countries found to contribute\\nto haze pollution within Singapore's borders.\"),\n",
              " (0.02263626103776927,\n",
              "  'Overall, while legislation can never be a single silver bullet solution, no\\ncountry that has achieved cleaner air quality has done so without first\\nhaving sensible air pollution policies in place.'),\n",
              " (0.022558031105686147,\n",
              "  'Transport: In Bangkok, vehicular emissions are high due to the presence\\nof many older, high-polluting vehicles, together with a drastic increase in\\nthe number of cars in recent years.'),\n",
              " (0.022517059304368967,\n",
              "  'For example, transport and\\nindustry emissions comprise a much larger share of total emissions in\\nBangkok than in Chiang Mai, where the vast majority (up to 90%) of\\nemissions come from agriculture.'),\n",
              " (0.02240312437520743,\n",
              "  'Further, in 2019, the National\\nLegislative Assembly revised the Factory Act 1992 so that only industrial\\ncompanies with more than 50 employees and machinery exceeding 50\\nhorsepower are subject to monitoring for waste discharge and anti-\\npollution measures, including air pollution.'),\n",
              " (0.022289150715903552,\n",
              "  'We know there are three major sources of air pollution in the country:\\ntransport, industry, and agriculture, and that pollution is worse in winter\\nmonths when there is an upsurge in agricultural burning and a\\ntemperature inversion resulting in less wind and rain to disperse\\npollutants.'),\n",
              " (0.02223790157582871,\n",
              "  \"Additionally, the authority to fine major polluters rests with the\\nDepartment of Industrial Works (DIW) under the Ministry of Industry but\\nthis creates a conflict of interest since DIW's mandate is to expand\\nindustrial growth without any curbs.\"),\n",
              " (0.02221033232322874,\n",
              "  \"Thailand needs a law that requires\\npolluting factories to disclose their emissions, such as United States'\\nToxics Release Inventory and the European Pollutant Release and\\nTransfer Register.\"),\n",
              " (0.022173800995316656,\n",
              "  'But every year the government fails to address the underlying drivers of\\nthe problem.'),\n",
              " (0.022164382873530356,\n",
              "  'The Ministry of Public\\nHealth has blamed air pollution for causing 200,000 hospital admissions\\nin the past week alone.'),\n",
              " (0.022150743955641213,\n",
              "  'Finally,\\ncities like Singapore and London were able to significantly reduce their air\\npollution and traffic congestion by introducing congestion pricing\\nschemes.'),\n",
              " (0.02213947913988335,\n",
              "  'To reverse these trends, the\\ngovernment could initiate something like the USA\\'s \"cash for clunkers\"\\nprogramme, which provides incentives for citizens to replace older, more\\npolluting cars with newer, cleaner, and more fuel-efficient ones.'),\n",
              " (0.022137811718857064,\n",
              "  'However, no information has been released on which companies are\\nresponsible for the burning and no government has ever held these\\nagribusinesses accountable or penalised them for the burning.'),\n",
              " (0.02210000947557198,\n",
              "  'The Thailand Development Research Institute says that of their 87 major\\npolicy promises, only three are environmentally-related.'),\n",
              " (0.022094632104189625,\n",
              "  'We hope that all parties will show that they truly care about the health and\\nlives of the people and will seek to adopt these policies and enact the\\ncitizen-led Thai Clean Air Act.'),\n",
              " (0.022086536010374178,\n",
              "  'Moreover, the government could insist upon stringent product standards,\\nsuch as no burnt sugarcane, and could help farmers by subsiding the\\npurchase of harvesting machines and introducing other cleaner\\nproduction methods.'),\n",
              " (0.022067594801392372,\n",
              "  'A\\nhead of a local NGO told me: \"Since there are no emissions inventories\\nfrom factories, we\\'re working blind.\"'),\n",
              " (0.022049503629784487,\n",
              "  \"Air pollution is one of Thailand's largest killers, more than obesity,\\nsmoking, and even Covid-19.\"),\n",
              " (0.022026537275795552,\n",
              "  \"There was hope the recently-elected Bangkok governor Chadchart\\nSittipunt would do more to address air pollution at least within Bangkok's\\njurisdiction.\"),\n",
              " (0.02199855773680722,\n",
              "  'Finally, it includes economic incentives to push current major polluters to\\nreduce their emissions.'),\n",
              " (0.021977241007926702, 'Yet his actions so far have been limited.'),\n",
              " (0.021927806104771637,\n",
              "  'Other countries have successfully improved their air quality, so why not\\nThailand too?'),\n",
              " (0.021765045505249332,\n",
              "  'Both\\npolicies could incentivise the public to use public buses more.'),\n",
              " (0.02173828074688053,\n",
              "  'Thai agribusinesses have a high degree of\\nculpability for burning in neighbouring countries, such as Laos and\\nMyanmar, due to their investments and introduction of contract farming\\nschemes there.'),\n",
              " (0.02172889841210103,\n",
              "  'How much any of these three sources contributes to the total amount\\nvaries from month to month and by location.'),\n",
              " (0.02170046393758874,\n",
              "  'During the first\\nfew months of every year, the level of air pollution spikes to hazardous\\nlevels and smog covers the skies.'),\n",
              " (0.021668042845331144,\n",
              "  'For example, the USA, UK,\\nand Singapore have all passed Clean Air Acts.'),\n",
              " (0.02161907948600518,\n",
              "  \"The government's actions, however, are not surprising if you look at all of\\nthe major parties' platforms for the upcoming election.\"),\n",
              " (0.021604216624915525,\n",
              "  \"Every year the government responds by proclaiming a ban on forest fires\\n(but inadequately enforcing this ban), asking people to wear masks and\\nstay indoors, spraying water (which doesn't do much), unhelpfully and\\nincorrectly blaming smallholder farmers, and expressing grave concern\\nabout the problem.\"),\n",
              " (0.021598905520899207,\n",
              "  \"The bill adopts a rights-based approach that establishes the public's right\\nto clean air and by doing so concurrently creates an obligation of the state\\nto protect this right.\"),\n",
              " (0.02158939826900002,\n",
              "  \"However, despite these grim statistics, this year's air pollution menace and\\nthe government's ham-fisted response seems like deja vu.\"),\n",
              " (0.021506169103205026,\n",
              "  'Industry: Thailand has no emissions inventory database to record\\nindustrial emissions, despite having around 140,000 polluting factories.'),\n",
              " (0.02147392110693478,\n",
              "  'Agriculture: While most hotspots of biomass burning that cause\\npollution inside Thailand are in fact outside its boundaries, a large\\npercentage still occurs within Thailand, particularly stemming from maize,\\nsugarcane, and rice harvesting.'),\n",
              " (0.021431146570453273,\n",
              "  \"\\nThis past week, two of Thailand's largest cities, Bangkok and Chiang Mai,\\nearned the ignominious privilege of being among the 10 cities of the world\\nwith the worst air quality during that period.\"),\n",
              " (0.021400183087530646,\n",
              "  'Prime Minister Prayut Chan-o-cha has halted three draft\\nlaws related to air pollution.'),\n",
              " (0.02110770771755737, \"So, let's look at each of three sources.\"),\n",
              " (0.020865288810981576,\n",
              "  'A number of cities not only have designated bus lanes but also switched\\ntheir fleets to new vehicles powered by electricity or natural gas.'),\n",
              " (0.019958222100199548,\n",
              "  'It accounted for over 50,000 premature\\ndeaths in 2021, reducing average life expectancy by two years.'),\n",
              " (0.018232214417288527,\n",
              "  'Danny Marks is an Assistant Professor of Environmental Politics and\\nPolicy at Dublin City University.'),\n",
              " (0.0032898705118054434,\n",
              "  'Weenarin Lulitanonda is a co-founder of\\nthe Thailand Clean Air Network.'),\n",
              " (0.0032898705118054434, '3.'),\n",
              " (0.0032898705118054434, '2.'),\n",
              " (0.0032898705118054434, '1.')]"
            ]
          },
          "execution_count": 17,
          "metadata": {},
          "output_type": "execute_result"
        }
      ],
      "source": [
        "ranked_sentences"
      ]
    },
    {
      "cell_type": "code",
      "execution_count": null,
      "metadata": {
        "colab": {
          "background_save": true
        },
        "id": "EzilZ91V6-CZ",
        "outputId": "7d5e01b9-c92f-4cca-9889-abcdc2e4ccc0"
      },
      "outputs": [
        {
          "name": "stdout",
          "output_type": "stream",
          "text": [
            "Further,\n",
            "there is widespread public concern that air pollution will reduce one of the\n",
            "country's main sources of income, tourism, in places like Chiang Mai.\n",
            "\n",
            "None has\n",
            "prioritised air pollution, called for wide-ranging reforms, or made air\n",
            "pollution a major part of their campaign.\n",
            "\n",
            "While more data\n",
            "on the sources of pollution would be helpful, it is clear that what the\n",
            "current government has been doing since 2014 (not to mention the actions\n",
            "of previous governments) has not worked.\n",
            "\n",
            "The citizen-driven proposed \"Thai Clean Air Act\" Act provides the tools to\n",
            "address the underlying causes that have so far impeded the resolution of\n",
            "this public health crisis.\n",
            "\n",
            "Countries who have been able to reduce air pollution show us that while\n",
            "this is a wickedly difficult problem to solve, it is not impossible and there\n",
            "are policy solutions out there which could reduce pollutant levels and\n",
            "improve health nationwide.\n",
            "\n"
          ]
        }
      ],
      "source": [
        "# Extract top 5 sentences as the summary\n",
        "for i in range(5):\n",
        "  print(ranked_sentences[i][1] + '\\n')"
      ]
    },
    {
      "cell_type": "markdown",
      "metadata": {
        "id": "u8eNN8cqMloA"
      },
      "source": [
        "# other summarization algorithms"
      ]
    },
    {
      "cell_type": "code",
      "execution_count": null,
      "metadata": {
        "colab": {
          "background_save": true
        },
        "id": "ayziBLnJMnw9",
        "outputId": "92decfeb-c8b3-4c68-ea2f-31a74cdb70dd"
      },
      "outputs": [
        {
          "name": "stdout",
          "output_type": "stream",
          "text": [
            "Looking in indexes: https://pypi.org/simple, https://us-python.pkg.dev/colab-wheels/public/simple/\n",
            "Collecting sumy\n",
            "  Downloading sumy-0.11.0-py2.py3-none-any.whl (97 kB)\n",
            "\u001b[2K     \u001b[90m━━━━━━━━━━━━━━━━━━━━━━━━━━━━━━━━━━━━━━━━\u001b[0m \u001b[32m97.3/97.3 kB\u001b[0m \u001b[31m5.4 MB/s\u001b[0m eta \u001b[36m0:00:00\u001b[0m\n",
            "\u001b[?25hCollecting breadability>=0.1.20\n",
            "  Downloading breadability-0.1.20.tar.gz (32 kB)\n",
            "  Preparing metadata (setup.py) ... \u001b[?25l\u001b[?25hdone\n",
            "Requirement already satisfied: nltk>=3.0.2 in /usr/local/lib/python3.9/dist-packages (from sumy) (3.8.1)\n",
            "Requirement already satisfied: requests>=2.7.0 in /usr/local/lib/python3.9/dist-packages (from sumy) (2.27.1)\n",
            "Collecting docopt<0.7,>=0.6.1\n",
            "  Downloading docopt-0.6.2.tar.gz (25 kB)\n",
            "  Preparing metadata (setup.py) ... \u001b[?25l\u001b[?25hdone\n",
            "Collecting pycountry>=18.2.23\n",
            "  Downloading pycountry-22.3.5.tar.gz (10.1 MB)\n",
            "\u001b[2K     \u001b[90m━━━━━━━━━━━━━━━━━━━━━━━━━━━━━━━━━━━━━━━━\u001b[0m \u001b[32m10.1/10.1 MB\u001b[0m \u001b[31m60.3 MB/s\u001b[0m eta \u001b[36m0:00:00\u001b[0m\n",
            "\u001b[?25h  Installing build dependencies ... \u001b[?25l\u001b[?25hdone\n",
            "  Getting requirements to build wheel ... \u001b[?25l\u001b[?25hdone\n",
            "  Preparing metadata (pyproject.toml) ... \u001b[?25l\u001b[?25hdone\n",
            "Requirement already satisfied: chardet in /usr/local/lib/python3.9/dist-packages (from breadability>=0.1.20->sumy) (4.0.0)\n",
            "Requirement already satisfied: lxml>=2.0 in /usr/local/lib/python3.9/dist-packages (from breadability>=0.1.20->sumy) (4.9.2)\n",
            "Requirement already satisfied: regex>=2021.8.3 in /usr/local/lib/python3.9/dist-packages (from nltk>=3.0.2->sumy) (2022.10.31)\n",
            "Requirement already satisfied: joblib in /usr/local/lib/python3.9/dist-packages (from nltk>=3.0.2->sumy) (1.2.0)\n",
            "Requirement already satisfied: tqdm in /usr/local/lib/python3.9/dist-packages (from nltk>=3.0.2->sumy) (4.65.0)\n",
            "Requirement already satisfied: click in /usr/local/lib/python3.9/dist-packages (from nltk>=3.0.2->sumy) (8.1.3)\n",
            "Requirement already satisfied: setuptools in /usr/local/lib/python3.9/dist-packages (from pycountry>=18.2.23->sumy) (67.6.1)\n",
            "Requirement already satisfied: certifi>=2017.4.17 in /usr/local/lib/python3.9/dist-packages (from requests>=2.7.0->sumy) (2022.12.7)\n",
            "Requirement already satisfied: idna<4,>=2.5 in /usr/local/lib/python3.9/dist-packages (from requests>=2.7.0->sumy) (3.4)\n",
            "Requirement already satisfied: urllib3<1.27,>=1.21.1 in /usr/local/lib/python3.9/dist-packages (from requests>=2.7.0->sumy) (1.26.15)\n",
            "Requirement already satisfied: charset-normalizer~=2.0.0 in /usr/local/lib/python3.9/dist-packages (from requests>=2.7.0->sumy) (2.0.12)\n",
            "Building wheels for collected packages: breadability, docopt, pycountry\n",
            "  Building wheel for breadability (setup.py) ... \u001b[?25l\u001b[?25hdone\n",
            "  Created wheel for breadability: filename=breadability-0.1.20-py2.py3-none-any.whl size=21708 sha256=1b1f13355265667e91b43410d12c8542a5be04301991ca8e8887f8e324f49174\n",
            "  Stored in directory: /root/.cache/pip/wheels/ba/9f/70/7795228568b81b57a8932755938da9fb1f291b0576752604aa\n",
            "  Building wheel for docopt (setup.py) ... \u001b[?25l\u001b[?25hdone\n",
            "  Created wheel for docopt: filename=docopt-0.6.2-py2.py3-none-any.whl size=13721 sha256=13201386bf47fb03aa4af8d4baf585096b9b206d174a61aba86d4bebf6af20a5\n",
            "  Stored in directory: /root/.cache/pip/wheels/70/4a/46/1309fc853b8d395e60bafaf1b6df7845bdd82c95fd59dd8d2b\n",
            "  Building wheel for pycountry (pyproject.toml) ... \u001b[?25l\u001b[?25hdone\n",
            "  Created wheel for pycountry: filename=pycountry-22.3.5-py2.py3-none-any.whl size=10681847 sha256=f23ae28c65a165f5fff51e7fbf89adfee55d2ee25f58f7e37b6aa30b8373b449\n",
            "  Stored in directory: /root/.cache/pip/wheels/47/15/92/e6dc85fcb0686c82e1edbcfdf80cfe4808c058813fed0baa8f\n",
            "Successfully built breadability docopt pycountry\n",
            "Installing collected packages: docopt, pycountry, breadability, sumy\n",
            "Successfully installed breadability-0.1.20 docopt-0.6.2 pycountry-22.3.5 sumy-0.11.0\n"
          ]
        }
      ],
      "source": [
        "!pip install sumy"
      ]
    },
    {
      "cell_type": "code",
      "execution_count": null,
      "metadata": {
        "colab": {
          "background_save": true
        },
        "id": "Fe1_zHAtMobr"
      },
      "outputs": [],
      "source": [
        "import sumy"
      ]
    },
    {
      "cell_type": "code",
      "execution_count": null,
      "metadata": {
        "colab": {
          "background_save": true
        },
        "id": "i0n11uMnMr3w"
      },
      "outputs": [],
      "source": [
        "# Importing the parser and tokenizer\n",
        "from sumy.parsers.plaintext import PlaintextParser\n",
        "from sumy.nlp.tokenizers import Tokenizer"
      ]
    },
    {
      "cell_type": "markdown",
      "metadata": {
        "id": "2b9_EM4vaj4w"
      },
      "source": [
        "## LexRank algorithm"
      ]
    },
    {
      "cell_type": "code",
      "execution_count": null,
      "metadata": {
        "colab": {
          "background_save": true
        },
        "id": "DKl1xyjpMuM_"
      },
      "outputs": [],
      "source": [
        "# Import the LexRank summarizer\n",
        "from sumy.summarizers.lex_rank import LexRankSummarizer\n",
        "# Initializing the parser\n",
        "my_data = PlaintextParser.from_string(data,Tokenizer('english'))"
      ]
    },
    {
      "cell_type": "code",
      "execution_count": null,
      "metadata": {
        "colab": {
          "background_save": true
        },
        "id": "xV0T7SE0M82R",
        "outputId": "45afabe2-4428-4b64-87a9-82945cc4d222"
      },
      "outputs": [
        {
          "name": "stdout",
          "output_type": "stream",
          "text": [
            "But every year the government fails to address the underlying drivers of the problem.\n",
            "We know there are three major sources of air pollution in the country: transport, industry, and agriculture, and that pollution is worse in winter months when there is an upsurge in agricultural burning and a temperature inversion resulting in less wind and rain to disperse pollutants.\n",
            "Industry: Thailand has no emissions inventory database to record industrial emissions, despite having around 140,000 polluting factories.\n",
            "However, no information has been released on which companies are responsible for the burning and no government has ever held these agribusinesses accountable or penalised them for the burning.\n",
            "The citizen-driven proposed \"Thai Clean Air Act\" Act provides the tools to address the underlying causes that have so far impeded the resolution of this public health crisis.\n"
          ]
        }
      ],
      "source": [
        "# Creating a summary of 3 sentences.\n",
        "lex_rank_summarizer = LexRankSummarizer()\n",
        "lexrank_summary = lex_rank_summarizer(my_data.document,sentences_count=5)\n",
        "\n",
        "# Printing the summary\n",
        "for sentence in lexrank_summary:\n",
        "  print(sentence)"
      ]
    },
    {
      "cell_type": "markdown",
      "metadata": {
        "id": "GpD83zfQaTTB"
      },
      "source": [
        "## latent semantic analysis (LSA)"
      ]
    },
    {
      "cell_type": "code",
      "execution_count": null,
      "metadata": {
        "colab": {
          "background_save": true
        },
        "id": "aluYJVTIaZes"
      },
      "outputs": [],
      "source": [
        "# Import the LSA summarizer\n",
        "from sumy.summarizers.lsa import LsaSummarizer\n",
        "# Initializing the parser\n",
        "my_data = PlaintextParser.from_string(data,Tokenizer('english'))"
      ]
    },
    {
      "cell_type": "code",
      "execution_count": null,
      "metadata": {
        "colab": {
          "background_save": true
        },
        "id": "M5ZDK3XQa2az",
        "outputId": "32841e68-5e94-4994-a910-fa4e7e9926a7"
      },
      "outputs": [
        {
          "name": "stdout",
          "output_type": "stream",
          "text": [
            "However, despite these grim statistics, this year's air pollution menace and the government's ham-fisted response seems like deja vu.\n",
            "The Thailand Development Research Institute says that of their 87 major policy promises, only three are environmentally-related.\n",
            "Countries who have been able to reduce air pollution show us that while this is a wickedly difficult problem to solve, it is not impossible and there are policy solutions out there which could reduce pollutant levels and improve health nationwide.\n",
            "A number of cities not only have designated bus lanes but also switched their fleets to new vehicles powered by electricity or natural gas.\n",
            "Further, in 2019, the National Legislative Assembly revised the Factory Act 1992 so that only industrial companies with more than 50 employees and machinery exceeding 50 horsepower are subject to monitoring for waste discharge and anti- pollution measures, including air pollution.\n"
          ]
        }
      ],
      "source": [
        "# creating the summarizer\n",
        "lsa_summarizer=LsaSummarizer()\n",
        "lsa_summary= lsa_summarizer(my_data.document,5)\n",
        "\n",
        "# Printing the summary\n",
        "for sentence in lsa_summary:\n",
        "    print(sentence)"
      ]
    },
    {
      "cell_type": "markdown",
      "metadata": {
        "id": "afWVctBTbn9U"
      },
      "source": [
        "## Luhn"
      ]
    },
    {
      "cell_type": "code",
      "execution_count": null,
      "metadata": {
        "colab": {
          "background_save": true
        },
        "id": "oTwCRoxobp7J"
      },
      "outputs": [],
      "source": [
        "# Import the summarizer\n",
        "from sumy.summarizers.luhn import LuhnSummarizer\n",
        "# Initializing the parser\n",
        "my_data = PlaintextParser.from_string(data,Tokenizer('english'))"
      ]
    },
    {
      "cell_type": "code",
      "execution_count": null,
      "metadata": {
        "colab": {
          "background_save": true
        },
        "id": "dRUkXMkGdYLU",
        "outputId": "716c71f4-e2a7-481c-cecd-42359ee4dafe"
      },
      "outputs": [
        {
          "name": "stdout",
          "output_type": "stream",
          "text": [
            "This past week, two of Thailand's largest cities, Bangkok and Chiang Mai, earned the ignominious privilege of being among the 10 cities of the world with the worst air quality during that period.\n",
            "While more data on the sources of pollution would be helpful, it is clear that what the current government has been doing since 2014 (not to mention the actions of previous governments) has not worked.\n",
            "We know there are three major sources of air pollution in the country: transport, industry, and agriculture, and that pollution is worse in winter months when there is an upsurge in agricultural burning and a temperature inversion resulting in less wind and rain to disperse pollutants.\n",
            "Countries who have been able to reduce air pollution show us that while this is a wickedly difficult problem to solve, it is not impossible and there are policy solutions out there which could reduce pollutant levels and improve health nationwide.\n",
            "We hope that all parties will show that they truly care about the health and lives of the people and will seek to adopt these policies and enact the citizen-led Thai Clean Air Act.\n"
          ]
        }
      ],
      "source": [
        "#  Creating the summarizer\n",
        "luhn_summarizer=LuhnSummarizer()\n",
        "luhn_summary=luhn_summarizer(my_data.document,sentences_count=5)\n",
        "\n",
        "# Printing the summary\n",
        "for sentence in luhn_summary:\n",
        "  print(sentence)"
      ]
    },
    {
      "cell_type": "markdown",
      "metadata": {
        "id": "hPP_S-erdhik"
      },
      "source": [
        "## KL"
      ]
    },
    {
      "cell_type": "code",
      "execution_count": null,
      "metadata": {
        "colab": {
          "background_save": true
        },
        "id": "JTcncRAGdZrg"
      },
      "outputs": [],
      "source": [
        "# Import the summarizer\n",
        "from sumy.summarizers.kl import KLSummarizer\n",
        "my_data = PlaintextParser.from_string(data,Tokenizer('english'))"
      ]
    },
    {
      "cell_type": "code",
      "execution_count": null,
      "metadata": {
        "colab": {
          "background_save": true
        },
        "id": "EmNpGbV_dsjO",
        "outputId": "b1b72db1-dd1b-4323-c282-8ec0b3c7e44a"
      },
      "outputs": [
        {
          "name": "stdout",
          "output_type": "stream",
          "text": [
            "Prime Minister Prayut Chan-o-cha has halted three draft laws related to air pollution.\n",
            "Countries who have been able to reduce air pollution show us that while this is a wickedly difficult problem to solve, it is not impossible and there are policy solutions out there which could reduce pollutant levels and improve health nationwide.\n",
            "Finally, cities like Singapore and London were able to significantly reduce their air pollution and traffic congestion by introducing congestion pricing schemes.\n",
            "Industry: Thailand has no emissions inventory database to record industrial emissions, despite having around 140,000 polluting factories.\n",
            "Finally, it includes economic incentives to push current major polluters to reduce their emissions.\n"
          ]
        }
      ],
      "source": [
        "# Instantiating the  KLSummarizer\n",
        "kl_summarizer=KLSummarizer()\n",
        "kl_summary=kl_summarizer(my_data.document,sentences_count=5)\n",
        "\n",
        "# Printing the summary\n",
        "for sentence in kl_summary:\n",
        "    print(sentence)"
      ]
    }
  ],
  "metadata": {
    "accelerator": "GPU",
    "colab": {
      "provenance": []
    },
    "gpuClass": "standard",
    "kernelspec": {
      "display_name": "Python 3",
      "name": "python3"
    },
    "language_info": {
      "codemirror_mode": {
        "name": "ipython",
        "version": 3
      },
      "file_extension": ".py",
      "mimetype": "text/x-python",
      "name": "python",
      "nbconvert_exporter": "python",
      "pygments_lexer": "ipython3",
      "version": "3.9.2"
    }
  },
  "nbformat": 4,
  "nbformat_minor": 0
}
