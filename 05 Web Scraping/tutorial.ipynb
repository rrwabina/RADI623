{
 "cells": [
  {
   "cell_type": "code",
   "execution_count": 1,
   "metadata": {},
   "outputs": [],
   "source": [
    "import snscrape.modules.twitter as sntwitter\n",
    "import pandas as pd\n",
    "from datetime import date \n",
    "from tqdm import tqdm, tqdm_pandas \n",
    "import emoji \n",
    "tqdm.pandas()\n",
    "\n",
    "import warnings \n",
    "warnings.filterwarnings('ignore')"
   ]
  },
  {
   "cell_type": "code",
   "execution_count": 2,
   "metadata": {},
   "outputs": [],
   "source": [
    "# ntweets = 1000\n",
    "# tweets  = []\n",
    "\n",
    "# # for i, tweet in sntwitter.TwitterSearchScraper('cannabis since: 2010-02-02 until: 2022-02-02').get_items():\n",
    "# for i, tweet in tqdm(enumerate(sntwitter.TwitterSearchScraper('Cannabis Policy since: 2022-06-01 until: 2022-07-01').get_items():\n",
    "#     if i > ntweets:\n",
    "#         break \n",
    "#     tweets.append([tweet.date, tweet.id, tweet.content, tweet.username])\n",
    "# df = pd.DataFrame(tweets, columns = ['Datetime', 'Tweet ID', 'Text', 'Username'])"
   ]
  },
  {
   "cell_type": "code",
   "execution_count": 57,
   "metadata": {},
   "outputs": [],
   "source": [
    "ntweets = 100\n",
    "tweets  = []\n",
    "query = 'lang:en'\n",
    "for i,tweet in enumerate(sntwitter.TwitterSearchScraper('COVID-19 Thailand since:2022-06-01 until:2023-01-01 lang:en').get_items()):\n",
    "    if i > ntweets:\n",
    "        break\n",
    "    tweets.append([tweet.date, tweet.id, tweet.content, tweet.user.username, tweet.place])\n",
    "df = pd.DataFrame(tweets, columns = ['Datetime', 'Tweet Id', 'Text', 'Username', 'Location'])"
   ]
  },
  {
   "cell_type": "code",
   "execution_count": 56,
   "metadata": {},
   "outputs": [],
   "source": [
    "import pickle \n",
    "\n",
    "ntweets = 100\n",
    "tweets  = []\n",
    "query = 'lang:en'\n",
    "for i,tweet in enumerate(sntwitter.TwitterSearchScraper('COVID-19 Thailand since:2022-06-01 until:2023-01-01 lang:en').get_items()):\n",
    "    if i > ntweets:\n",
    "        break\n",
    "    tweets.append(tweet)\n",
    "with open('tweets.pkl', 'wb') as f:\n",
    "    pickle.dump(tweets, f)\n",
    "\n",
    "with open('tweets.pkl', 'rb') as f:\n",
    "    tweets = pickle.load(f)"
   ]
  },
  {
   "cell_type": "code",
   "execution_count": 76,
   "metadata": {},
   "outputs": [
    {
     "name": "stderr",
     "output_type": "stream",
     "text": [
      "100%|██████████| 101/101 [00:00<00:00, 33623.68it/s]\n"
     ]
    },
    {
     "name": "stdout",
     "output_type": "stream",
     "text": [
      "@MSuppasit It’s hard this year. I‘ve been with COVID-19 in China. Now that China is open, many people are infected with the virus. I hope we can get better soon and then go to Thailand to see you soon\n"
     ]
    },
    {
     "name": "stderr",
     "output_type": "stream",
     "text": [
      "100%|██████████| 101/101 [00:00<00:00, 95540.08it/s]\n"
     ]
    },
    {
     "name": "stdout",
     "output_type": "stream",
     "text": [
      "@MSuppasit It’s hard this year. I‘ve been with COVID-19 in China. Now that China is open, many people are infected with the virus. I hope we can get better soon and then go to Thailand to see you soon\n"
     ]
    },
    {
     "name": "stderr",
     "output_type": "stream",
     "text": [
      "100%|██████████| 101/101 [00:00<00:00, 50745.65it/s]\n"
     ]
    },
    {
     "name": "stdout",
     "output_type": "stream",
     "text": [
      "@MSuppasit It’s hard this year. I‘ve been with COVID-19 in China. Now that China is open, many people are infected with the virus. I hope we can get better soon and then go to Thailand to see you soon\n"
     ]
    },
    {
     "name": "stderr",
     "output_type": "stream",
     "text": [
      "100%|██████████| 101/101 [00:00<00:00, 50443.52it/s]\n"
     ]
    },
    {
     "name": "stdout",
     "output_type": "stream",
     "text": [
      "@MSuppasit It’s hard this year. I‘ve been with COVID-19 in China. Now that China is open, many people are infected with the virus. I hope we can get better soon and then go to Thailand to see you soon\n"
     ]
    },
    {
     "name": "stderr",
     "output_type": "stream",
     "text": [
      "100%|██████████| 101/101 [00:00<00:00, 8418.45it/s]"
     ]
    },
    {
     "name": "stdout",
     "output_type": "stream",
     "text": [
      "@MSuppasit It’s hard this year. I‘ve been with COVID-19 in China. Now that China is open, many people are infected with the virus. I hope we can get better soon and then go to Thailand to see you soon\n"
     ]
    },
    {
     "name": "stderr",
     "output_type": "stream",
     "text": [
      "\n"
     ]
    }
   ],
   "source": [
    "import string \n",
    "import re \n",
    "\n",
    "df['tweets'] = df['Text'].  progress_apply(lambda x: re.sub(r'http\\S+', '', x))\n",
    "print(df.loc[10, 'tweets'])\n",
    "df['tweets'] = df['Text'].  progress_apply(lambda x: x.replace('\\n', ''))\n",
    "print(df.loc[10, 'tweets'])\n",
    "df[\"plain\"]  = df[\"tweets\"].progress_apply(lambda x: re.sub(\"#[^\\x00-\\x7F]+\", \"\", x).strip())\n",
    "print(df.loc[10, 'plain'])\n",
    "df['hashtag'] = df['tweets'].progress_apply(lambda x: ', '.join(re.findall('#[aA-zZ]+', x)))\n",
    "print(df.loc[10, 'plain'])\n",
    "df[\"plain\"] = df[\"plain\"].progress_apply(lambda x: emoji.replace_emoji(x, replace = \"\"))\n",
    "print(df.loc[10, 'plain'])"
   ]
  },
  {
   "cell_type": "code",
   "execution_count": 54,
   "metadata": {},
   "outputs": [
    {
     "data": {
      "text/plain": [
       "'INDIGO INDIA HEALTH MINISTER SAYS COVID19 TEST MADE MANDATORY FOR FLYERS FROM CHINA HONG KONG JAPAN SOUTH KOREA SINGAPORE THAILAND FROM JAN 1 2023 RTRS'"
      ]
     },
     "execution_count": 54,
     "metadata": {},
     "output_type": "execute_result"
    }
   ],
   "source": [
    "text = text.translate(str.maketrans('', '', string.punctuation))\n",
    "text = re.sub(r'\\s+', ' ', text).strip()\n",
    "text"
   ]
  },
  {
   "attachments": {},
   "cell_type": "markdown",
   "metadata": {},
   "source": [
    "## Web Scraping"
   ]
  },
  {
   "cell_type": "code",
   "execution_count": 123,
   "metadata": {},
   "outputs": [
    {
     "name": "stdout",
     "output_type": "stream",
     "text": [
      "\n",
      "\n",
      "<!DOCTYPE html>\n",
      "<html\n",
      "    xmlns:og=\"http://ogp.me/ns#\"\n",
      "    xmlns:fb=\"http://www.facebook.com/2008/fbml\">\n",
      "    <head>\n",
      "         \n",
      "\n",
      "        <meta charset=\"utf-8\">\n",
      "\n",
      "\n",
      "\n",
      "\n",
      "        <script type=\"text/javascript\">var IMDbTimer={starttime: new Date().getTime(),pt:'java'};</script>\n",
      "\n",
      "<script>\n",
      "    if (typeof uet == 'function') {\n",
      "      uet(\"bb\", \"LoadTitle\", {wb: 1});\n",
      "    }\n",
      "</script>\n",
      "  <script>(function(t){ (t.events = t.events || {})[\"csm_head_pre_title\"] = new Date().getTime(); })(IMDbTimer);</script>\n",
      "      \n"
     ]
    }
   ],
   "source": [
    "from requests import get\n",
    "\n",
    "url = \"https://www.imdb.com/search/title/?release_date=2017-01-01,2023-01-01&view=advanced\"\n",
    "response = get(url)\n",
    "print(response.text[:500])"
   ]
  },
  {
   "cell_type": "code",
   "execution_count": 134,
   "metadata": {},
   "outputs": [
    {
     "data": {
      "text/plain": [
       "'(2022)'"
      ]
     },
     "execution_count": 134,
     "metadata": {},
     "output_type": "execute_result"
    }
   ],
   "source": [
    "from bs4 import BeautifulSoup\n",
    "\n",
    "html_soup = BeautifulSoup(response.text, 'html.parser')\n",
    "movie_containers = html_soup.find_all('div', class_ = 'lister-item mode-advanced')\n",
    "first_movie = movie_containers[0]\n",
    "first_movie.h3.a.text\n",
    "\n",
    "first_year = first_movie.h3.find('span', class_ = 'lister-item-year text-muted unbold')\n",
    "first_year = first_year.text\n",
    "rating     = first_movie.strong.text"
   ]
  },
  {
   "cell_type": "code",
   "execution_count": 147,
   "metadata": {},
   "outputs": [
    {
     "data": {
      "text/html": [
       "<div>\n",
       "<style scoped>\n",
       "    .dataframe tbody tr th:only-of-type {\n",
       "        vertical-align: middle;\n",
       "    }\n",
       "\n",
       "    .dataframe tbody tr th {\n",
       "        vertical-align: top;\n",
       "    }\n",
       "\n",
       "    .dataframe thead th {\n",
       "        text-align: right;\n",
       "    }\n",
       "</style>\n",
       "<table border=\"1\" class=\"dataframe\">\n",
       "  <thead>\n",
       "    <tr style=\"text-align: right;\">\n",
       "      <th></th>\n",
       "      <th>movie</th>\n",
       "      <th>year</th>\n",
       "      <th>imdb</th>\n",
       "      <th>genres</th>\n",
       "    </tr>\n",
       "  </thead>\n",
       "  <tbody>\n",
       "    <tr>\n",
       "      <th>4</th>\n",
       "      <td>Ted Lasso</td>\n",
       "      <td>(2020– )</td>\n",
       "      <td>8.8</td>\n",
       "      <td>\\nComedy, Drama, Sport</td>\n",
       "    </tr>\n",
       "    <tr>\n",
       "      <th>23</th>\n",
       "      <td>Succession</td>\n",
       "      <td>(2018–2023)</td>\n",
       "      <td>8.8</td>\n",
       "      <td>\\nDrama</td>\n",
       "    </tr>\n",
       "    <tr>\n",
       "      <th>1</th>\n",
       "      <td>The Mandalorian</td>\n",
       "      <td>(2019– )</td>\n",
       "      <td>8.7</td>\n",
       "      <td>\\nAction, Adventure, Fantasy</td>\n",
       "    </tr>\n",
       "    <tr>\n",
       "      <th>48</th>\n",
       "      <td>1883</td>\n",
       "      <td>(2021–2022)</td>\n",
       "      <td>8.7</td>\n",
       "      <td>\\nDrama, Western</td>\n",
       "    </tr>\n",
       "    <tr>\n",
       "      <th>39</th>\n",
       "      <td>The Boys</td>\n",
       "      <td>(2019– )</td>\n",
       "      <td>8.7</td>\n",
       "      <td>\\nAction, Comedy, Crime</td>\n",
       "    </tr>\n",
       "  </tbody>\n",
       "</table>\n",
       "</div>"
      ],
      "text/plain": [
       "              movie         year  imdb  \\\n",
       "4         Ted Lasso     (2020– )   8.8   \n",
       "23       Succession  (2018–2023)   8.8   \n",
       "1   The Mandalorian     (2019– )   8.7   \n",
       "48             1883  (2021–2022)   8.7   \n",
       "39         The Boys     (2019– )   8.7   \n",
       "\n",
       "                                      genres  \n",
       "4         \\nComedy, Drama, Sport              \n",
       "23                       \\nDrama              \n",
       "1   \\nAction, Adventure, Fantasy              \n",
       "48              \\nDrama, Western              \n",
       "39       \\nAction, Comedy, Crime              "
      ]
     },
     "execution_count": 147,
     "metadata": {},
     "output_type": "execute_result"
    }
   ],
   "source": [
    "names, years, genres, imdb_ratings = [], [], [], []\n",
    "for container in movie_containers:\n",
    "  name = container.h3.a.text\n",
    "  names.append(name)\n",
    "  year = container.h3.find('span', class_ = 'lister-item-year').text\n",
    "  years.append(year)\n",
    "  genre = container.find('span', attrs = {'class': 'genre'}).text\n",
    "  genres.append(genre)\n",
    "  imdb = float(container.strong.text)\n",
    "  imdb_ratings.append(imdb)\n",
    "\n",
    "import pandas as pd\n",
    "\n",
    "test_df = pd.DataFrame({'movie': names,\n",
    "                        'year': years,\n",
    "                        'imdb': imdb_ratings,\n",
    "                        'genres': genres})\n",
    "test_df['imdb'] = test_df['imdb'].astype('float')\n",
    "test_df.sort_values(by = 'imdb', ascending = False).head()"
   ]
  },
  {
   "cell_type": "code",
   "execution_count": 156,
   "metadata": {},
   "outputs": [],
   "source": [
    "from time import sleep \n",
    "from random import randint \n",
    "\n",
    "headers = {\"Accept-Language\": \"en-US, en;q=0.5\"}\n",
    "pages = [str(i) for i in range(1,5)]\n",
    "years_url = [str(i) for i in range(2000,2018)]\n",
    "\n",
    "names = []\n",
    "years = []\n",
    "imdb_ratings = []\n",
    "genres = []\n",
    "\n",
    "for year_url in years_url:\n",
    "  for page in pages:\n",
    "    response = get('http://www.imdb.com/search/title?release_date={}&sort=num_votes,desc&page = {}' .format(year_url, page), headers = headers)\n",
    "\n",
    "    sleep(randint(1, 5))\n",
    "\n",
    "    page_html = BeautifulSoup(response.text, 'html.parser')\n",
    "    mv_containers = page_html.find_all('div', class_ = 'lister-item mode-advanced')\n",
    "    \n",
    "    for container in movie_containers:\n",
    "        name = container.h3.a.text\n",
    "        names.append(name)\n",
    "\n",
    "        year = container.h3.find('span', class_ = 'lister-item-year').text\n",
    "        years.append(year)\n",
    "\n",
    "        genre = container.find('span', attrs = {'class': 'genre'}).text\n",
    "        genres.append(genre)\n",
    "\n",
    "        imdb = float(container.strong.text)\n",
    "        imdb_ratings.append(imdb)"
   ]
  },
  {
   "cell_type": "code",
   "execution_count": 157,
   "metadata": {},
   "outputs": [
    {
     "data": {
      "text/html": [
       "<div>\n",
       "<style scoped>\n",
       "    .dataframe tbody tr th:only-of-type {\n",
       "        vertical-align: middle;\n",
       "    }\n",
       "\n",
       "    .dataframe tbody tr th {\n",
       "        vertical-align: top;\n",
       "    }\n",
       "\n",
       "    .dataframe thead th {\n",
       "        text-align: right;\n",
       "    }\n",
       "</style>\n",
       "<table border=\"1\" class=\"dataframe\">\n",
       "  <thead>\n",
       "    <tr style=\"text-align: right;\">\n",
       "      <th></th>\n",
       "      <th>movie</th>\n",
       "      <th>year</th>\n",
       "      <th>imdb</th>\n",
       "      <th>genres</th>\n",
       "    </tr>\n",
       "  </thead>\n",
       "  <tbody>\n",
       "    <tr>\n",
       "      <th>0</th>\n",
       "      <td>Everything Everywhere All at Once</td>\n",
       "      <td>(2022)</td>\n",
       "      <td>7.9</td>\n",
       "      <td>\\nAction, Adventure, Comedy</td>\n",
       "    </tr>\n",
       "    <tr>\n",
       "      <th>1</th>\n",
       "      <td>The Mandalorian</td>\n",
       "      <td>(2019– )</td>\n",
       "      <td>8.7</td>\n",
       "      <td>\\nAction, Adventure, Fantasy</td>\n",
       "    </tr>\n",
       "    <tr>\n",
       "      <th>2</th>\n",
       "      <td>The Whale</td>\n",
       "      <td>(2022)</td>\n",
       "      <td>7.8</td>\n",
       "      <td>\\nDrama</td>\n",
       "    </tr>\n",
       "    <tr>\n",
       "      <th>3</th>\n",
       "      <td>You</td>\n",
       "      <td>(2018– )</td>\n",
       "      <td>7.7</td>\n",
       "      <td>\\nCrime, Drama, Romance</td>\n",
       "    </tr>\n",
       "    <tr>\n",
       "      <th>4</th>\n",
       "      <td>Ted Lasso</td>\n",
       "      <td>(2020– )</td>\n",
       "      <td>8.8</td>\n",
       "      <td>\\nComedy, Drama, Sport</td>\n",
       "    </tr>\n",
       "    <tr>\n",
       "      <th>...</th>\n",
       "      <td>...</td>\n",
       "      <td>...</td>\n",
       "      <td>...</td>\n",
       "      <td>...</td>\n",
       "    </tr>\n",
       "    <tr>\n",
       "      <th>3595</th>\n",
       "      <td>An Irish Goodbye</td>\n",
       "      <td>(2022)</td>\n",
       "      <td>7.2</td>\n",
       "      <td>\\nShort, Comedy, Drama</td>\n",
       "    </tr>\n",
       "    <tr>\n",
       "      <th>3596</th>\n",
       "      <td>Glass Onion</td>\n",
       "      <td>(2022)</td>\n",
       "      <td>7.2</td>\n",
       "      <td>\\nComedy, Crime, Drama</td>\n",
       "    </tr>\n",
       "    <tr>\n",
       "      <th>3597</th>\n",
       "      <td>The Rookie</td>\n",
       "      <td>(2018– )</td>\n",
       "      <td>8.0</td>\n",
       "      <td>\\nAction, Crime, Drama</td>\n",
       "    </tr>\n",
       "    <tr>\n",
       "      <th>3598</th>\n",
       "      <td>1883</td>\n",
       "      <td>(2021–2022)</td>\n",
       "      <td>8.7</td>\n",
       "      <td>\\nDrama, Western</td>\n",
       "    </tr>\n",
       "    <tr>\n",
       "      <th>3599</th>\n",
       "      <td>Star Wars: The Bad Batch</td>\n",
       "      <td>(2021– )</td>\n",
       "      <td>7.8</td>\n",
       "      <td>\\nAnimation, Action, Adventure</td>\n",
       "    </tr>\n",
       "  </tbody>\n",
       "</table>\n",
       "<p>3600 rows × 4 columns</p>\n",
       "</div>"
      ],
      "text/plain": [
       "                                  movie         year  imdb  \\\n",
       "0     Everything Everywhere All at Once       (2022)   7.9   \n",
       "1                       The Mandalorian     (2019– )   8.7   \n",
       "2                             The Whale       (2022)   7.8   \n",
       "3                                   You     (2018– )   7.7   \n",
       "4                             Ted Lasso     (2020– )   8.8   \n",
       "...                                 ...          ...   ...   \n",
       "3595                   An Irish Goodbye       (2022)   7.2   \n",
       "3596                        Glass Onion       (2022)   7.2   \n",
       "3597                         The Rookie     (2018– )   8.0   \n",
       "3598                               1883  (2021–2022)   8.7   \n",
       "3599           Star Wars: The Bad Batch     (2021– )   7.8   \n",
       "\n",
       "                                          genres  \n",
       "0        \\nAction, Adventure, Comedy              \n",
       "1       \\nAction, Adventure, Fantasy              \n",
       "2                            \\nDrama              \n",
       "3            \\nCrime, Drama, Romance              \n",
       "4             \\nComedy, Drama, Sport              \n",
       "...                                          ...  \n",
       "3595          \\nShort, Comedy, Drama              \n",
       "3596          \\nComedy, Crime, Drama              \n",
       "3597          \\nAction, Crime, Drama              \n",
       "3598                \\nDrama, Western              \n",
       "3599  \\nAnimation, Action, Adventure              \n",
       "\n",
       "[3600 rows x 4 columns]"
      ]
     },
     "execution_count": 157,
     "metadata": {},
     "output_type": "execute_result"
    }
   ],
   "source": [
    "df = pd.DataFrame({ 'movie': names,\n",
    "                    'year': years,\n",
    "                    'imdb': imdb_ratings,\n",
    "                    'genres': genres})\n",
    "df"
   ]
  },
  {
   "cell_type": "code",
   "execution_count": 125,
   "metadata": {},
   "outputs": [
    {
     "name": "stdout",
     "output_type": "stream",
     "text": [
      "<!DOCTYPE html>\n",
      "<!--[if lt IE 7]>      <html lang=\"en-us\" class=\"no-js lt-ie9 lt-ie8 lt-ie7\"> <![endif]-->\n",
      "<!--[if IE 7]>         <html lang=\"en-us\" class=\"no-js lt-ie9 lt-ie8\"> <![endif]-->\n",
      "<!--[if IE 8]>         <html lang=\"en-us\" class=\"no-js lt-ie9\"> <![endif]-->\n",
      "<!--[if gt IE 8]><!-->\n",
      "<html class=\"no-js\" lang=\"en-us\">\n",
      " <!--<![endif]-->\n",
      " <head>\n",
      "  <title>\n",
      "   All products | Books to Scrape - Sandbox\n",
      "  </title>\n",
      "  <meta content=\"text/html; charset=utf-8\" http-equiv=\"content-type\"/>\n",
      "  <meta content=\"24th Jun 2016 09:29\" name=\"created\"/>\n",
      "  <meta content=\"\" name=\"description\"/>\n",
      "  <meta content=\"width=device-width\" name=\"viewport\"/>\n",
      "  <meta content=\"NOARCHIVE,NOCACHE\" name=\"robots\"/>\n",
      "  <!-- Le HTML5 shim, for IE6-8 support of HTML elements -->\n",
      "  <!--[if lt IE 9]>\n",
      "        <script src=\"//html5shim.googlecode.com/svn/trunk/html5.js\"></script>\n",
      "        <![endif]-->\n",
      "  <link href=\"static/oscar/favicon.ico\" rel=\"shortcut icon\"/>\n",
      "  <link href=\"static/oscar/css/styles.css\" rel=\"stylesheet\" type=\"tex\n"
     ]
    }
   ],
   "source": [
    "from bs4 import BeautifulSoup\n",
    "import requests\n",
    "\n",
    "# I used the requests module to get the HTML of the website's main page\n",
    "main_url = \"http://books.toscrape.com/index.html\"\n",
    "result = requests.get(main_url)\n",
    "\n",
    "# I used this to make it more readable\n",
    "soup = BeautifulSoup(result.text, 'html.parser')\n",
    "print(soup.prettify()[:1000])\n",
    "\n",
    "# I defined a function geturl to request and parse a HTML web page\n",
    "def geturl(url):\n",
    "    result = requests.get(url)\n",
    "    soup = BeautifulSoup(result.text, 'html.parser')\n",
    "    return(soup)"
   ]
  }
 ],
 "metadata": {
  "kernelspec": {
   "display_name": "Python 3",
   "language": "python",
   "name": "python3"
  },
  "language_info": {
   "codemirror_mode": {
    "name": "ipython",
    "version": 3
   },
   "file_extension": ".py",
   "mimetype": "text/x-python",
   "name": "python",
   "nbconvert_exporter": "python",
   "pygments_lexer": "ipython3",
   "version": "3.9.2"
  },
  "orig_nbformat": 4
 },
 "nbformat": 4,
 "nbformat_minor": 2
}
